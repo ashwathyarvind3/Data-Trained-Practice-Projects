{
 "cells": [
  {
   "cell_type": "markdown",
   "metadata": {},
   "source": [
    "# AVACADO DATASET"
   ]
  },
  {
   "cell_type": "code",
   "execution_count": 109,
   "metadata": {},
   "outputs": [],
   "source": [
    "#importing the libraries\n",
    "import pandas as pd\n",
    "import numpy as np\n",
    "import matplotlib.pyplot as plt\n",
    "import seaborn as sns"
   ]
  },
  {
   "cell_type": "code",
   "execution_count": 110,
   "metadata": {},
   "outputs": [
    {
     "data": {
      "text/html": [
       "<div>\n",
       "<style scoped>\n",
       "    .dataframe tbody tr th:only-of-type {\n",
       "        vertical-align: middle;\n",
       "    }\n",
       "\n",
       "    .dataframe tbody tr th {\n",
       "        vertical-align: top;\n",
       "    }\n",
       "\n",
       "    .dataframe thead th {\n",
       "        text-align: right;\n",
       "    }\n",
       "</style>\n",
       "<table border=\"1\" class=\"dataframe\">\n",
       "  <thead>\n",
       "    <tr style=\"text-align: right;\">\n",
       "      <th></th>\n",
       "      <th>S.NO</th>\n",
       "      <th>Date</th>\n",
       "      <th>AveragePrice</th>\n",
       "      <th>Total Volume</th>\n",
       "      <th>4046</th>\n",
       "      <th>4225</th>\n",
       "      <th>4770</th>\n",
       "      <th>Total Bags</th>\n",
       "      <th>Small Bags</th>\n",
       "      <th>Large Bags</th>\n",
       "      <th>XLarge Bags</th>\n",
       "      <th>type</th>\n",
       "      <th>year</th>\n",
       "      <th>region</th>\n",
       "    </tr>\n",
       "  </thead>\n",
       "  <tbody>\n",
       "    <tr>\n",
       "      <th>0</th>\n",
       "      <td>0</td>\n",
       "      <td>2015-12-27</td>\n",
       "      <td>1.33</td>\n",
       "      <td>64236.62</td>\n",
       "      <td>1036.74</td>\n",
       "      <td>54454.85</td>\n",
       "      <td>48.16</td>\n",
       "      <td>8696.87</td>\n",
       "      <td>8603.62</td>\n",
       "      <td>93.25</td>\n",
       "      <td>0.00</td>\n",
       "      <td>conventional</td>\n",
       "      <td>2015</td>\n",
       "      <td>Albany</td>\n",
       "    </tr>\n",
       "    <tr>\n",
       "      <th>1</th>\n",
       "      <td>1</td>\n",
       "      <td>2015-12-20</td>\n",
       "      <td>1.35</td>\n",
       "      <td>54876.98</td>\n",
       "      <td>674.28</td>\n",
       "      <td>44638.81</td>\n",
       "      <td>58.33</td>\n",
       "      <td>9505.56</td>\n",
       "      <td>9408.07</td>\n",
       "      <td>97.49</td>\n",
       "      <td>0.00</td>\n",
       "      <td>conventional</td>\n",
       "      <td>2015</td>\n",
       "      <td>Albany</td>\n",
       "    </tr>\n",
       "    <tr>\n",
       "      <th>2</th>\n",
       "      <td>2</td>\n",
       "      <td>2015-12-13</td>\n",
       "      <td>0.93</td>\n",
       "      <td>118220.22</td>\n",
       "      <td>794.70</td>\n",
       "      <td>109149.67</td>\n",
       "      <td>130.50</td>\n",
       "      <td>8145.35</td>\n",
       "      <td>8042.21</td>\n",
       "      <td>103.14</td>\n",
       "      <td>0.00</td>\n",
       "      <td>conventional</td>\n",
       "      <td>2015</td>\n",
       "      <td>Albany</td>\n",
       "    </tr>\n",
       "    <tr>\n",
       "      <th>3</th>\n",
       "      <td>3</td>\n",
       "      <td>2015-06-12</td>\n",
       "      <td>1.08</td>\n",
       "      <td>78992.15</td>\n",
       "      <td>1132.00</td>\n",
       "      <td>71976.41</td>\n",
       "      <td>72.58</td>\n",
       "      <td>5811.16</td>\n",
       "      <td>5677.40</td>\n",
       "      <td>133.76</td>\n",
       "      <td>0.00</td>\n",
       "      <td>conventional</td>\n",
       "      <td>2015</td>\n",
       "      <td>Albany</td>\n",
       "    </tr>\n",
       "    <tr>\n",
       "      <th>4</th>\n",
       "      <td>4</td>\n",
       "      <td>2015-11-29</td>\n",
       "      <td>1.28</td>\n",
       "      <td>51039.60</td>\n",
       "      <td>941.48</td>\n",
       "      <td>43838.39</td>\n",
       "      <td>75.78</td>\n",
       "      <td>6183.95</td>\n",
       "      <td>5986.26</td>\n",
       "      <td>197.69</td>\n",
       "      <td>0.00</td>\n",
       "      <td>conventional</td>\n",
       "      <td>2015</td>\n",
       "      <td>Albany</td>\n",
       "    </tr>\n",
       "    <tr>\n",
       "      <th>...</th>\n",
       "      <td>...</td>\n",
       "      <td>...</td>\n",
       "      <td>...</td>\n",
       "      <td>...</td>\n",
       "      <td>...</td>\n",
       "      <td>...</td>\n",
       "      <td>...</td>\n",
       "      <td>...</td>\n",
       "      <td>...</td>\n",
       "      <td>...</td>\n",
       "      <td>...</td>\n",
       "      <td>...</td>\n",
       "      <td>...</td>\n",
       "      <td>...</td>\n",
       "    </tr>\n",
       "    <tr>\n",
       "      <th>1512</th>\n",
       "      <td>10</td>\n",
       "      <td>2016-10-16</td>\n",
       "      <td>1.39</td>\n",
       "      <td>190846.01</td>\n",
       "      <td>57529.11</td>\n",
       "      <td>56366.66</td>\n",
       "      <td>17531.78</td>\n",
       "      <td>59418.46</td>\n",
       "      <td>48823.53</td>\n",
       "      <td>10354.65</td>\n",
       "      <td>240.28</td>\n",
       "      <td>conventional</td>\n",
       "      <td>2016</td>\n",
       "      <td>Charlotte</td>\n",
       "    </tr>\n",
       "    <tr>\n",
       "      <th>1513</th>\n",
       "      <td>11</td>\n",
       "      <td>2016-09-10</td>\n",
       "      <td>1.51</td>\n",
       "      <td>178235.75</td>\n",
       "      <td>43325.87</td>\n",
       "      <td>52189.61</td>\n",
       "      <td>19419.57</td>\n",
       "      <td>63300.70</td>\n",
       "      <td>54704.14</td>\n",
       "      <td>8596.56</td>\n",
       "      <td>0.00</td>\n",
       "      <td>conventional</td>\n",
       "      <td>2016</td>\n",
       "      <td>Charlotte</td>\n",
       "    </tr>\n",
       "    <tr>\n",
       "      <th>1514</th>\n",
       "      <td>12</td>\n",
       "      <td>2016-02-10</td>\n",
       "      <td>1.48</td>\n",
       "      <td>178410.82</td>\n",
       "      <td>46364.75</td>\n",
       "      <td>52893.38</td>\n",
       "      <td>16736.92</td>\n",
       "      <td>62415.77</td>\n",
       "      <td>53332.61</td>\n",
       "      <td>8258.16</td>\n",
       "      <td>825.00</td>\n",
       "      <td>conventional</td>\n",
       "      <td>2016</td>\n",
       "      <td>Charlotte</td>\n",
       "    </tr>\n",
       "    <tr>\n",
       "      <th>1515</th>\n",
       "      <td>13</td>\n",
       "      <td>2016-09-25</td>\n",
       "      <td>1.47</td>\n",
       "      <td>189131.52</td>\n",
       "      <td>54110.79</td>\n",
       "      <td>53593.58</td>\n",
       "      <td>17495.42</td>\n",
       "      <td>63931.73</td>\n",
       "      <td>55653.47</td>\n",
       "      <td>8278.26</td>\n",
       "      <td>0.00</td>\n",
       "      <td>conventional</td>\n",
       "      <td>2016</td>\n",
       "      <td>Charlotte</td>\n",
       "    </tr>\n",
       "    <tr>\n",
       "      <th>1516</th>\n",
       "      <td>14</td>\n",
       "      <td>2016-09-18</td>\n",
       "      <td>1.43</td>\n",
       "      <td>182978.30</td>\n",
       "      <td>43116.41</td>\n",
       "      <td>54193.42</td>\n",
       "      <td>16563.91</td>\n",
       "      <td>69104.56</td>\n",
       "      <td>57456.21</td>\n",
       "      <td>11648.35</td>\n",
       "      <td>0.00</td>\n",
       "      <td>conventional</td>\n",
       "      <td>2016</td>\n",
       "      <td>Charlotte</td>\n",
       "    </tr>\n",
       "  </tbody>\n",
       "</table>\n",
       "<p>1517 rows × 14 columns</p>\n",
       "</div>"
      ],
      "text/plain": [
       "      S.NO       Date  AveragePrice  Total Volume      4046       4225  \\\n",
       "0        0 2015-12-27          1.33      64236.62   1036.74   54454.85   \n",
       "1        1 2015-12-20          1.35      54876.98    674.28   44638.81   \n",
       "2        2 2015-12-13          0.93     118220.22    794.70  109149.67   \n",
       "3        3 2015-06-12          1.08      78992.15   1132.00   71976.41   \n",
       "4        4 2015-11-29          1.28      51039.60    941.48   43838.39   \n",
       "...    ...        ...           ...           ...       ...        ...   \n",
       "1512    10 2016-10-16          1.39     190846.01  57529.11   56366.66   \n",
       "1513    11 2016-09-10          1.51     178235.75  43325.87   52189.61   \n",
       "1514    12 2016-02-10          1.48     178410.82  46364.75   52893.38   \n",
       "1515    13 2016-09-25          1.47     189131.52  54110.79   53593.58   \n",
       "1516    14 2016-09-18          1.43     182978.30  43116.41   54193.42   \n",
       "\n",
       "          4770  Total Bags  Small Bags  Large Bags  XLarge Bags          type  \\\n",
       "0        48.16     8696.87     8603.62       93.25         0.00  conventional   \n",
       "1        58.33     9505.56     9408.07       97.49         0.00  conventional   \n",
       "2       130.50     8145.35     8042.21      103.14         0.00  conventional   \n",
       "3        72.58     5811.16     5677.40      133.76         0.00  conventional   \n",
       "4        75.78     6183.95     5986.26      197.69         0.00  conventional   \n",
       "...        ...         ...         ...         ...          ...           ...   \n",
       "1512  17531.78    59418.46    48823.53    10354.65       240.28  conventional   \n",
       "1513  19419.57    63300.70    54704.14     8596.56         0.00  conventional   \n",
       "1514  16736.92    62415.77    53332.61     8258.16       825.00  conventional   \n",
       "1515  17495.42    63931.73    55653.47     8278.26         0.00  conventional   \n",
       "1516  16563.91    69104.56    57456.21    11648.35         0.00  conventional   \n",
       "\n",
       "      year     region  \n",
       "0     2015     Albany  \n",
       "1     2015     Albany  \n",
       "2     2015     Albany  \n",
       "3     2015     Albany  \n",
       "4     2015     Albany  \n",
       "...    ...        ...  \n",
       "1512  2016  Charlotte  \n",
       "1513  2016  Charlotte  \n",
       "1514  2016  Charlotte  \n",
       "1515  2016  Charlotte  \n",
       "1516  2016  Charlotte  \n",
       "\n",
       "[1517 rows x 14 columns]"
      ]
     },
     "execution_count": 110,
     "metadata": {},
     "output_type": "execute_result"
    }
   ],
   "source": [
    "#importing/reading the csv file and using parse_dates \n",
    "df=pd.read_csv('avacado.csv',parse_dates=[\"Date\"])\n",
    "df"
   ]
  },
  {
   "cell_type": "code",
   "execution_count": 111,
   "metadata": {},
   "outputs": [
    {
     "name": "stdout",
     "output_type": "stream",
     "text": [
      "<class 'pandas.core.frame.DataFrame'>\n",
      "RangeIndex: 1517 entries, 0 to 1516\n",
      "Data columns (total 14 columns):\n",
      " #   Column        Non-Null Count  Dtype         \n",
      "---  ------        --------------  -----         \n",
      " 0   S.NO          1517 non-null   int64         \n",
      " 1   Date          1517 non-null   datetime64[ns]\n",
      " 2   AveragePrice  1517 non-null   float64       \n",
      " 3   Total Volume  1517 non-null   float64       \n",
      " 4   4046          1517 non-null   float64       \n",
      " 5   4225          1517 non-null   float64       \n",
      " 6   4770          1517 non-null   float64       \n",
      " 7   Total Bags    1517 non-null   float64       \n",
      " 8   Small Bags    1517 non-null   float64       \n",
      " 9   Large Bags    1517 non-null   float64       \n",
      " 10  XLarge Bags   1517 non-null   float64       \n",
      " 11  type          1517 non-null   object        \n",
      " 12  year          1517 non-null   int64         \n",
      " 13  region        1517 non-null   object        \n",
      "dtypes: datetime64[ns](1), float64(9), int64(2), object(2)\n",
      "memory usage: 166.0+ KB\n"
     ]
    }
   ],
   "source": [
    "df.info()"
   ]
  },
  {
   "cell_type": "code",
   "execution_count": 112,
   "metadata": {
    "scrolled": true
   },
   "outputs": [
    {
     "data": {
      "text/html": [
       "<div>\n",
       "<style scoped>\n",
       "    .dataframe tbody tr th:only-of-type {\n",
       "        vertical-align: middle;\n",
       "    }\n",
       "\n",
       "    .dataframe tbody tr th {\n",
       "        vertical-align: top;\n",
       "    }\n",
       "\n",
       "    .dataframe thead th {\n",
       "        text-align: right;\n",
       "    }\n",
       "</style>\n",
       "<table border=\"1\" class=\"dataframe\">\n",
       "  <thead>\n",
       "    <tr style=\"text-align: right;\">\n",
       "      <th></th>\n",
       "      <th>S.NO</th>\n",
       "      <th>AveragePrice</th>\n",
       "      <th>Total Volume</th>\n",
       "      <th>4046</th>\n",
       "      <th>4225</th>\n",
       "      <th>4770</th>\n",
       "      <th>Total Bags</th>\n",
       "      <th>Small Bags</th>\n",
       "      <th>Large Bags</th>\n",
       "      <th>XLarge Bags</th>\n",
       "      <th>year</th>\n",
       "    </tr>\n",
       "  </thead>\n",
       "  <tbody>\n",
       "    <tr>\n",
       "      <th>count</th>\n",
       "      <td>1517.000000</td>\n",
       "      <td>1517.000000</td>\n",
       "      <td>1.517000e+03</td>\n",
       "      <td>1.517000e+03</td>\n",
       "      <td>1.517000e+03</td>\n",
       "      <td>1.517000e+03</td>\n",
       "      <td>1.517000e+03</td>\n",
       "      <td>1.517000e+03</td>\n",
       "      <td>1.517000e+03</td>\n",
       "      <td>1517.000000</td>\n",
       "      <td>1517.000000</td>\n",
       "    </tr>\n",
       "    <tr>\n",
       "      <th>mean</th>\n",
       "      <td>26.995386</td>\n",
       "      <td>1.074990</td>\n",
       "      <td>1.601879e+06</td>\n",
       "      <td>6.464387e+05</td>\n",
       "      <td>6.114375e+05</td>\n",
       "      <td>5.040550e+04</td>\n",
       "      <td>2.935974e+05</td>\n",
       "      <td>2.487736e+05</td>\n",
       "      <td>4.264205e+04</td>\n",
       "      <td>2181.771074</td>\n",
       "      <td>2015.162821</td>\n",
       "    </tr>\n",
       "    <tr>\n",
       "      <th>std</th>\n",
       "      <td>14.848287</td>\n",
       "      <td>0.188891</td>\n",
       "      <td>4.433143e+06</td>\n",
       "      <td>1.947614e+06</td>\n",
       "      <td>1.672906e+06</td>\n",
       "      <td>1.377812e+05</td>\n",
       "      <td>7.579765e+05</td>\n",
       "      <td>6.474765e+05</td>\n",
       "      <td>1.182157e+05</td>\n",
       "      <td>7455.712144</td>\n",
       "      <td>0.369324</td>\n",
       "    </tr>\n",
       "    <tr>\n",
       "      <th>min</th>\n",
       "      <td>0.000000</td>\n",
       "      <td>0.490000</td>\n",
       "      <td>3.875074e+04</td>\n",
       "      <td>4.677200e+02</td>\n",
       "      <td>1.783770e+03</td>\n",
       "      <td>0.000000e+00</td>\n",
       "      <td>3.311770e+03</td>\n",
       "      <td>3.311770e+03</td>\n",
       "      <td>0.000000e+00</td>\n",
       "      <td>0.000000</td>\n",
       "      <td>2015.000000</td>\n",
       "    </tr>\n",
       "    <tr>\n",
       "      <th>25%</th>\n",
       "      <td>14.000000</td>\n",
       "      <td>0.980000</td>\n",
       "      <td>1.474700e+05</td>\n",
       "      <td>2.040034e+04</td>\n",
       "      <td>4.147606e+04</td>\n",
       "      <td>9.112500e+02</td>\n",
       "      <td>3.620689e+04</td>\n",
       "      <td>2.972722e+04</td>\n",
       "      <td>5.407400e+02</td>\n",
       "      <td>0.000000</td>\n",
       "      <td>2015.000000</td>\n",
       "    </tr>\n",
       "    <tr>\n",
       "      <th>50%</th>\n",
       "      <td>29.000000</td>\n",
       "      <td>1.080000</td>\n",
       "      <td>4.027919e+05</td>\n",
       "      <td>8.175117e+04</td>\n",
       "      <td>1.186649e+05</td>\n",
       "      <td>7.688170e+03</td>\n",
       "      <td>7.397906e+04</td>\n",
       "      <td>6.237569e+04</td>\n",
       "      <td>5.044350e+03</td>\n",
       "      <td>0.000000</td>\n",
       "      <td>2015.000000</td>\n",
       "    </tr>\n",
       "    <tr>\n",
       "      <th>75%</th>\n",
       "      <td>39.000000</td>\n",
       "      <td>1.190000</td>\n",
       "      <td>9.819751e+05</td>\n",
       "      <td>3.775785e+05</td>\n",
       "      <td>4.851503e+05</td>\n",
       "      <td>2.916730e+04</td>\n",
       "      <td>1.576097e+05</td>\n",
       "      <td>1.461994e+05</td>\n",
       "      <td>2.926767e+04</td>\n",
       "      <td>401.480000</td>\n",
       "      <td>2015.000000</td>\n",
       "    </tr>\n",
       "    <tr>\n",
       "      <th>max</th>\n",
       "      <td>51.000000</td>\n",
       "      <td>1.680000</td>\n",
       "      <td>4.465546e+07</td>\n",
       "      <td>1.893304e+07</td>\n",
       "      <td>1.895648e+07</td>\n",
       "      <td>1.381516e+06</td>\n",
       "      <td>6.736304e+06</td>\n",
       "      <td>5.893642e+06</td>\n",
       "      <td>1.121076e+06</td>\n",
       "      <td>108072.790000</td>\n",
       "      <td>2016.000000</td>\n",
       "    </tr>\n",
       "  </tbody>\n",
       "</table>\n",
       "</div>"
      ],
      "text/plain": [
       "              S.NO  AveragePrice  Total Volume          4046          4225  \\\n",
       "count  1517.000000   1517.000000  1.517000e+03  1.517000e+03  1.517000e+03   \n",
       "mean     26.995386      1.074990  1.601879e+06  6.464387e+05  6.114375e+05   \n",
       "std      14.848287      0.188891  4.433143e+06  1.947614e+06  1.672906e+06   \n",
       "min       0.000000      0.490000  3.875074e+04  4.677200e+02  1.783770e+03   \n",
       "25%      14.000000      0.980000  1.474700e+05  2.040034e+04  4.147606e+04   \n",
       "50%      29.000000      1.080000  4.027919e+05  8.175117e+04  1.186649e+05   \n",
       "75%      39.000000      1.190000  9.819751e+05  3.775785e+05  4.851503e+05   \n",
       "max      51.000000      1.680000  4.465546e+07  1.893304e+07  1.895648e+07   \n",
       "\n",
       "               4770    Total Bags    Small Bags    Large Bags    XLarge Bags  \\\n",
       "count  1.517000e+03  1.517000e+03  1.517000e+03  1.517000e+03    1517.000000   \n",
       "mean   5.040550e+04  2.935974e+05  2.487736e+05  4.264205e+04    2181.771074   \n",
       "std    1.377812e+05  7.579765e+05  6.474765e+05  1.182157e+05    7455.712144   \n",
       "min    0.000000e+00  3.311770e+03  3.311770e+03  0.000000e+00       0.000000   \n",
       "25%    9.112500e+02  3.620689e+04  2.972722e+04  5.407400e+02       0.000000   \n",
       "50%    7.688170e+03  7.397906e+04  6.237569e+04  5.044350e+03       0.000000   \n",
       "75%    2.916730e+04  1.576097e+05  1.461994e+05  2.926767e+04     401.480000   \n",
       "max    1.381516e+06  6.736304e+06  5.893642e+06  1.121076e+06  108072.790000   \n",
       "\n",
       "              year  \n",
       "count  1517.000000  \n",
       "mean   2015.162821  \n",
       "std       0.369324  \n",
       "min    2015.000000  \n",
       "25%    2015.000000  \n",
       "50%    2015.000000  \n",
       "75%    2015.000000  \n",
       "max    2016.000000  "
      ]
     },
     "execution_count": 112,
     "metadata": {},
     "output_type": "execute_result"
    }
   ],
   "source": [
    "#checking statistical summary of the dataset\n",
    "df.describe()"
   ]
  },
  {
   "cell_type": "code",
   "execution_count": 113,
   "metadata": {},
   "outputs": [
    {
     "data": {
      "text/plain": [
       "(1517, 14)"
      ]
     },
     "execution_count": 113,
     "metadata": {},
     "output_type": "execute_result"
    }
   ],
   "source": [
    "#checking shape\n",
    "df.shape"
   ]
  },
  {
   "cell_type": "code",
   "execution_count": 114,
   "metadata": {
    "scrolled": true
   },
   "outputs": [
    {
     "data": {
      "text/plain": [
       "Index(['S.NO', 'Date', 'AveragePrice', 'Total Volume', '4046', '4225', '4770',\n",
       "       'Total Bags', 'Small Bags', 'Large Bags', 'XLarge Bags', 'type', 'year',\n",
       "       'region'],\n",
       "      dtype='object')"
      ]
     },
     "execution_count": 114,
     "metadata": {},
     "output_type": "execute_result"
    }
   ],
   "source": [
    "#checking all the columns names\n",
    "df.columns"
   ]
  },
  {
   "cell_type": "code",
   "execution_count": 115,
   "metadata": {},
   "outputs": [
    {
     "data": {
      "text/plain": [
       "<bound method IndexOpsMixin.value_counts of 0          Albany\n",
       "1          Albany\n",
       "2          Albany\n",
       "3          Albany\n",
       "4          Albany\n",
       "          ...    \n",
       "1512    Charlotte\n",
       "1513    Charlotte\n",
       "1514    Charlotte\n",
       "1515    Charlotte\n",
       "1516    Charlotte\n",
       "Name: region, Length: 1517, dtype: object>"
      ]
     },
     "execution_count": 115,
     "metadata": {},
     "output_type": "execute_result"
    }
   ],
   "source": [
    "df['region'].value_counts"
   ]
  },
  {
   "cell_type": "code",
   "execution_count": 116,
   "metadata": {},
   "outputs": [
    {
     "data": {
      "text/plain": [
       "array(['Albany', 'Atlanta', 'BaltimoreWashington', 'Boise', 'Boston',\n",
       "       'BuffaloRochester', 'California', 'Charlotte', 'Chicago',\n",
       "       'Columbus', 'DallasFtWorth', 'Denver', 'Detroit', 'GrandRapids',\n",
       "       'GreatLakes', 'HarrisburgScranton', 'HartfordSpringfield',\n",
       "       'Houston', 'Indianapolis', 'Jacksonville', 'LasVegas',\n",
       "       'LosAngeles', 'Louisville', 'MiamiFtLauderdale', 'Midsouth',\n",
       "       'Nashville', 'NewYork', 'Northeast', 'NorthernNewEngland',\n",
       "       'Orlando', 'Philadelphia', 'PhoenixTucson', 'Pittsburgh', 'Plains',\n",
       "       'Portland', 'RaleighGreensboro', 'RichmondNorfolk', 'Roanoke',\n",
       "       'SanDiego', 'SanFrancisco', 'Seattle', 'SouthCarolina',\n",
       "       'SouthCentral', 'Southeast', 'Spokane', 'StLouis', 'Syracuse',\n",
       "       'Tampa', 'TotalUS', 'West', 'WestTexNewMexico'], dtype=object)"
      ]
     },
     "execution_count": 116,
     "metadata": {},
     "output_type": "execute_result"
    }
   ],
   "source": [
    "#checking all the unique values in attribute region\n",
    "df['region'].unique()"
   ]
  },
  {
   "cell_type": "code",
   "execution_count": 117,
   "metadata": {},
   "outputs": [
    {
     "data": {
      "text/plain": [
       "S.NO                     int64\n",
       "Date            datetime64[ns]\n",
       "AveragePrice           float64\n",
       "Total Volume           float64\n",
       "4046                   float64\n",
       "4225                   float64\n",
       "4770                   float64\n",
       "Total Bags             float64\n",
       "Small Bags             float64\n",
       "Large Bags             float64\n",
       "XLarge Bags            float64\n",
       "type                    object\n",
       "year                     int64\n",
       "region                  object\n",
       "dtype: object"
      ]
     },
     "execution_count": 117,
     "metadata": {},
     "output_type": "execute_result"
    }
   ],
   "source": [
    "#checking datatypes of all attributes\n",
    "df.dtypes"
   ]
  },
  {
   "cell_type": "code",
   "execution_count": 118,
   "metadata": {},
   "outputs": [
    {
     "data": {
      "text/plain": [
       "S.NO            0\n",
       "Date            0\n",
       "AveragePrice    0\n",
       "Total Volume    0\n",
       "4046            0\n",
       "4225            0\n",
       "4770            0\n",
       "Total Bags      0\n",
       "Small Bags      0\n",
       "Large Bags      0\n",
       "XLarge Bags     0\n",
       "type            0\n",
       "year            0\n",
       "region          0\n",
       "dtype: int64"
      ]
     },
     "execution_count": 118,
     "metadata": {},
     "output_type": "execute_result"
    }
   ],
   "source": [
    "#checking null values and there are none\n",
    "df.isnull().sum()"
   ]
  },
  {
   "cell_type": "code",
   "execution_count": 119,
   "metadata": {
    "scrolled": true
   },
   "outputs": [
    {
     "data": {
      "text/plain": [
       "<matplotlib.axes._subplots.AxesSubplot at 0x226e538af40>"
      ]
     },
     "execution_count": 119,
     "metadata": {},
     "output_type": "execute_result"
    },
    {
     "data": {
      "image/png": "[encoded data removed]",
      "text/plain": [
       "<Figure size 432x288 with 2 Axes>"
      ]
     },
     "metadata": {
      "needs_background": "light"
     },
     "output_type": "display_data"
    }
   ],
   "source": [
    "#checking null values using heatmap\n",
    "sns.heatmap(df.isnull())"
   ]
  },
  {
   "cell_type": "markdown",
   "metadata": {},
   "source": [
    "Data Visualization"
   ]
  },
  {
   "cell_type": "code",
   "execution_count": 120,
   "metadata": {
    "scrolled": true
   },
   "outputs": [
    {
     "data": {
      "image/png": "[encoded data removed]",
      "text/plain": [
       "<Figure size 432x288 with 1 Axes>"
      ]
     },
     "metadata": {
      "needs_background": "light"
     },
     "output_type": "display_data"
    }
   ],
   "source": [
    "sns.lineplot(x='Total Volume',y='AveragePrice',data=df)\n",
    "plt.show()\n"
   ]
  },
  {
   "cell_type": "code",
   "execution_count": 121,
   "metadata": {},
   "outputs": [
    {
     "data": {
      "text/plain": [
       "<matplotlib.axes._subplots.AxesSubplot at 0x226e027ff40>"
      ]
     },
     "execution_count": 121,
     "metadata": {},
     "output_type": "execute_result"
    },
    {
     "data": {
      "image/png": "[encoded data removed]",
      "text/plain": [
       "<Figure size 432x288 with 1 Axes>"
      ]
     },
     "metadata": {
      "needs_background": "light"
     },
     "output_type": "display_data"
    }
   ],
   "source": [
    "sns.countplot(df['type']) #there is only one type-\"conventional\""
   ]
  },
  {
   "cell_type": "code",
   "execution_count": 122,
   "metadata": {},
   "outputs": [
    {
     "data": {
      "text/plain": [
       "<matplotlib.axes._subplots.AxesSubplot at 0x226dcdfaaf0>"
      ]
     },
     "execution_count": 122,
     "metadata": {},
     "output_type": "execute_result"
    },
    {
     "data": {
      "image/png": "[encoded data removed]",
      "text/plain": [
       "<Figure size 432x288 with 1 Axes>"
      ]
     },
     "metadata": {
      "needs_background": "light"
     },
     "output_type": "display_data"
    }
   ],
   "source": [
    "sns.countplot(df['year'])"
   ]
  },
  {
   "cell_type": "code",
   "execution_count": 123,
   "metadata": {},
   "outputs": [
    {
     "data": {
      "text/plain": [
       "<matplotlib.axes._subplots.AxesSubplot at 0x226e02760a0>"
      ]
     },
     "execution_count": 123,
     "metadata": {},
     "output_type": "execute_result"
    },
    {
     "data": {
      "image/png": "[encoded data removed]",
      "text/plain": [
       "<Figure size 432x288 with 1 Axes>"
      ]
     },
     "metadata": {
      "needs_background": "light"
     },
     "output_type": "display_data"
    }
   ],
   "source": [
    "sns.scatterplot(data=df,y='AveragePrice',x='Small Bags')"
   ]
  },
  {
   "cell_type": "code",
   "execution_count": 124,
   "metadata": {},
   "outputs": [
    {
     "data": {
      "text/plain": [
       "<matplotlib.axes._subplots.AxesSubplot at 0x226e74ff640>"
      ]
     },
     "execution_count": 124,
     "metadata": {},
     "output_type": "execute_result"
    },
    {
     "data": {
      "image/png": "[encoded data removed]",
      "text/plain": [
       "<Figure size 432x288 with 1 Axes>"
      ]
     },
     "metadata": {
      "needs_background": "light"
     },
     "output_type": "display_data"
    }
   ],
   "source": [
    "sns.scatterplot(data=df,y='AveragePrice',x='Large Bags')"
   ]
  },
  {
   "cell_type": "code",
   "execution_count": 125,
   "metadata": {},
   "outputs": [
    {
     "data": {
      "text/plain": [
       "<matplotlib.axes._subplots.AxesSubplot at 0x226e7554850>"
      ]
     },
     "execution_count": 125,
     "metadata": {},
     "output_type": "execute_result"
    },
    {
     "data": {
      "image/png": "[encoded data removed]",
      "text/plain": [
       "<Figure size 432x288 with 1 Axes>"
      ]
     },
     "metadata": {
      "needs_background": "light"
     },
     "output_type": "display_data"
    }
   ],
   "source": [
    "sns.scatterplot(data=df,y='AveragePrice',x='XLarge Bags')"
   ]
  },
  {
   "cell_type": "code",
   "execution_count": 126,
   "metadata": {},
   "outputs": [
    {
     "data": {
      "text/plain": [
       "<matplotlib.axes._subplots.AxesSubplot at 0x226e759f490>"
      ]
     },
     "execution_count": 126,
     "metadata": {},
     "output_type": "execute_result"
    },
    {
     "data": {
      "image/png": "[encoded data removed]",
      "text/plain": [
       "<Figure size 432x288 with 1 Axes>"
      ]
     },
     "metadata": {
      "needs_background": "light"
     },
     "output_type": "display_data"
    }
   ],
   "source": [
    "sns.scatterplot(data=df,y='AveragePrice',x='4046')"
   ]
  },
  {
   "cell_type": "code",
   "execution_count": 127,
   "metadata": {},
   "outputs": [
    {
     "data": {
      "image/png": "[encoded data removed]",
      "text/plain": [
       "<Figure size 720x1440 with 1 Axes>"
      ]
     },
     "metadata": {
      "needs_background": "light"
     },
     "output_type": "display_data"
    }
   ],
   "source": [
    "plt.figure(figsize=(10,20))\n",
    "sns.barplot(data=df,y='region',x='AveragePrice') #checking the price for each region\n",
    "plt.show()"
   ]
  },
  {
   "cell_type": "code",
   "execution_count": 128,
   "metadata": {
    "scrolled": true
   },
   "outputs": [
    {
     "data": {
      "image/png": "[encoded data removed]",
      "text/plain": [
       "<Figure size 421.5x360 with 1 Axes>"
      ]
     },
     "metadata": {
      "needs_background": "light"
     },
     "output_type": "display_data"
    }
   ],
   "source": [
    "sns.catplot(data=df,y='region',x='AveragePrice',hue='year',kind='bar')\n",
    "plt.show()"
   ]
  },
  {
   "cell_type": "code",
   "execution_count": null,
   "metadata": {},
   "outputs": [],
   "source": [
    "#Creating a new dataframe df_date to check the relation between month,year and day to the average price and region"
   ]
  },
  {
   "cell_type": "code",
   "execution_count": 129,
   "metadata": {},
   "outputs": [],
   "source": [
    "df_date=pd.DataFrame()\n",
    "df_date['month']=df['Date'].dt.month_name()\n",
    "df_date['year']=df['Date'].dt.year\n",
    "df_date['day']=df['Date'].dt.day_name()\n",
    "df_date['AveragePrice']=df['AveragePrice']\n",
    "df_date['region']=df['region']"
   ]
  },
  {
   "cell_type": "code",
   "execution_count": 130,
   "metadata": {},
   "outputs": [
    {
     "data": {
      "text/html": [
       "<div>\n",
       "<style scoped>\n",
       "    .dataframe tbody tr th:only-of-type {\n",
       "        vertical-align: middle;\n",
       "    }\n",
       "\n",
       "    .dataframe tbody tr th {\n",
       "        vertical-align: top;\n",
       "    }\n",
       "\n",
       "    .dataframe thead th {\n",
       "        text-align: right;\n",
       "    }\n",
       "</style>\n",
       "<table border=\"1\" class=\"dataframe\">\n",
       "  <thead>\n",
       "    <tr style=\"text-align: right;\">\n",
       "      <th></th>\n",
       "      <th>month</th>\n",
       "      <th>year</th>\n",
       "      <th>day</th>\n",
       "      <th>AveragePrice</th>\n",
       "      <th>region</th>\n",
       "    </tr>\n",
       "  </thead>\n",
       "  <tbody>\n",
       "    <tr>\n",
       "      <th>0</th>\n",
       "      <td>December</td>\n",
       "      <td>2015</td>\n",
       "      <td>Sunday</td>\n",
       "      <td>1.33</td>\n",
       "      <td>Albany</td>\n",
       "    </tr>\n",
       "    <tr>\n",
       "      <th>1</th>\n",
       "      <td>December</td>\n",
       "      <td>2015</td>\n",
       "      <td>Sunday</td>\n",
       "      <td>1.35</td>\n",
       "      <td>Albany</td>\n",
       "    </tr>\n",
       "    <tr>\n",
       "      <th>2</th>\n",
       "      <td>December</td>\n",
       "      <td>2015</td>\n",
       "      <td>Sunday</td>\n",
       "      <td>0.93</td>\n",
       "      <td>Albany</td>\n",
       "    </tr>\n",
       "    <tr>\n",
       "      <th>3</th>\n",
       "      <td>June</td>\n",
       "      <td>2015</td>\n",
       "      <td>Friday</td>\n",
       "      <td>1.08</td>\n",
       "      <td>Albany</td>\n",
       "    </tr>\n",
       "    <tr>\n",
       "      <th>4</th>\n",
       "      <td>November</td>\n",
       "      <td>2015</td>\n",
       "      <td>Sunday</td>\n",
       "      <td>1.28</td>\n",
       "      <td>Albany</td>\n",
       "    </tr>\n",
       "    <tr>\n",
       "      <th>...</th>\n",
       "      <td>...</td>\n",
       "      <td>...</td>\n",
       "      <td>...</td>\n",
       "      <td>...</td>\n",
       "      <td>...</td>\n",
       "    </tr>\n",
       "    <tr>\n",
       "      <th>1512</th>\n",
       "      <td>October</td>\n",
       "      <td>2016</td>\n",
       "      <td>Sunday</td>\n",
       "      <td>1.39</td>\n",
       "      <td>Charlotte</td>\n",
       "    </tr>\n",
       "    <tr>\n",
       "      <th>1513</th>\n",
       "      <td>September</td>\n",
       "      <td>2016</td>\n",
       "      <td>Saturday</td>\n",
       "      <td>1.51</td>\n",
       "      <td>Charlotte</td>\n",
       "    </tr>\n",
       "    <tr>\n",
       "      <th>1514</th>\n",
       "      <td>February</td>\n",
       "      <td>2016</td>\n",
       "      <td>Wednesday</td>\n",
       "      <td>1.48</td>\n",
       "      <td>Charlotte</td>\n",
       "    </tr>\n",
       "    <tr>\n",
       "      <th>1515</th>\n",
       "      <td>September</td>\n",
       "      <td>2016</td>\n",
       "      <td>Sunday</td>\n",
       "      <td>1.47</td>\n",
       "      <td>Charlotte</td>\n",
       "    </tr>\n",
       "    <tr>\n",
       "      <th>1516</th>\n",
       "      <td>September</td>\n",
       "      <td>2016</td>\n",
       "      <td>Sunday</td>\n",
       "      <td>1.43</td>\n",
       "      <td>Charlotte</td>\n",
       "    </tr>\n",
       "  </tbody>\n",
       "</table>\n",
       "<p>1517 rows × 5 columns</p>\n",
       "</div>"
      ],
      "text/plain": [
       "          month  year        day  AveragePrice     region\n",
       "0      December  2015     Sunday          1.33     Albany\n",
       "1      December  2015     Sunday          1.35     Albany\n",
       "2      December  2015     Sunday          0.93     Albany\n",
       "3          June  2015     Friday          1.08     Albany\n",
       "4      November  2015     Sunday          1.28     Albany\n",
       "...         ...   ...        ...           ...        ...\n",
       "1512    October  2016     Sunday          1.39  Charlotte\n",
       "1513  September  2016   Saturday          1.51  Charlotte\n",
       "1514   February  2016  Wednesday          1.48  Charlotte\n",
       "1515  September  2016     Sunday          1.47  Charlotte\n",
       "1516  September  2016     Sunday          1.43  Charlotte\n",
       "\n",
       "[1517 rows x 5 columns]"
      ]
     },
     "execution_count": 130,
     "metadata": {},
     "output_type": "execute_result"
    }
   ],
   "source": [
    "df_date"
   ]
  },
  {
   "cell_type": "code",
   "execution_count": 131,
   "metadata": {},
   "outputs": [
    {
     "data": {
      "image/png": "[encoded data removed]",
      "text/plain": [
       "<Figure size 432x288 with 1 Axes>"
      ]
     },
     "metadata": {
      "needs_background": "light"
     },
     "output_type": "display_data"
    }
   ],
   "source": [
    "#there's not much impact of month on price\n",
    "sns.barplot(data=df_date,y='month',x='AveragePrice')\n",
    "plt.show()"
   ]
  },
  {
   "cell_type": "code",
   "execution_count": 132,
   "metadata": {},
   "outputs": [
    {
     "data": {
      "image/png": "[encoded data removed]",
      "text/plain": [
       "<Figure size 432x288 with 1 Axes>"
      ]
     },
     "metadata": {
      "needs_background": "light"
     },
     "output_type": "display_data"
    }
   ],
   "source": [
    "#there's not much impact of day on price (slight increase on saturday)\n",
    "sns.barplot(data=df_date,y='day',x='AveragePrice')\n",
    "plt.show()"
   ]
  },
  {
   "cell_type": "code",
   "execution_count": 133,
   "metadata": {},
   "outputs": [
    {
     "data": {
      "text/html": [
       "<div>\n",
       "<style scoped>\n",
       "    .dataframe tbody tr th:only-of-type {\n",
       "        vertical-align: middle;\n",
       "    }\n",
       "\n",
       "    .dataframe tbody tr th {\n",
       "        vertical-align: top;\n",
       "    }\n",
       "\n",
       "    .dataframe thead th {\n",
       "        text-align: right;\n",
       "    }\n",
       "</style>\n",
       "<table border=\"1\" class=\"dataframe\">\n",
       "  <thead>\n",
       "    <tr style=\"text-align: right;\">\n",
       "      <th></th>\n",
       "      <th>Date</th>\n",
       "      <th>AveragePrice</th>\n",
       "      <th>Total Volume</th>\n",
       "      <th>4046</th>\n",
       "      <th>4225</th>\n",
       "      <th>4770</th>\n",
       "      <th>Total Bags</th>\n",
       "      <th>Small Bags</th>\n",
       "      <th>Large Bags</th>\n",
       "      <th>XLarge Bags</th>\n",
       "      <th>type</th>\n",
       "      <th>year</th>\n",
       "      <th>region</th>\n",
       "    </tr>\n",
       "  </thead>\n",
       "  <tbody>\n",
       "    <tr>\n",
       "      <th>0</th>\n",
       "      <td>2015-12-27</td>\n",
       "      <td>1.33</td>\n",
       "      <td>64236.62</td>\n",
       "      <td>1036.74</td>\n",
       "      <td>54454.85</td>\n",
       "      <td>48.16</td>\n",
       "      <td>8696.87</td>\n",
       "      <td>8603.62</td>\n",
       "      <td>93.25</td>\n",
       "      <td>0.00</td>\n",
       "      <td>conventional</td>\n",
       "      <td>2015</td>\n",
       "      <td>Albany</td>\n",
       "    </tr>\n",
       "    <tr>\n",
       "      <th>1</th>\n",
       "      <td>2015-12-20</td>\n",
       "      <td>1.35</td>\n",
       "      <td>54876.98</td>\n",
       "      <td>674.28</td>\n",
       "      <td>44638.81</td>\n",
       "      <td>58.33</td>\n",
       "      <td>9505.56</td>\n",
       "      <td>9408.07</td>\n",
       "      <td>97.49</td>\n",
       "      <td>0.00</td>\n",
       "      <td>conventional</td>\n",
       "      <td>2015</td>\n",
       "      <td>Albany</td>\n",
       "    </tr>\n",
       "    <tr>\n",
       "      <th>2</th>\n",
       "      <td>2015-12-13</td>\n",
       "      <td>0.93</td>\n",
       "      <td>118220.22</td>\n",
       "      <td>794.70</td>\n",
       "      <td>109149.67</td>\n",
       "      <td>130.50</td>\n",
       "      <td>8145.35</td>\n",
       "      <td>8042.21</td>\n",
       "      <td>103.14</td>\n",
       "      <td>0.00</td>\n",
       "      <td>conventional</td>\n",
       "      <td>2015</td>\n",
       "      <td>Albany</td>\n",
       "    </tr>\n",
       "    <tr>\n",
       "      <th>3</th>\n",
       "      <td>2015-06-12</td>\n",
       "      <td>1.08</td>\n",
       "      <td>78992.15</td>\n",
       "      <td>1132.00</td>\n",
       "      <td>71976.41</td>\n",
       "      <td>72.58</td>\n",
       "      <td>5811.16</td>\n",
       "      <td>5677.40</td>\n",
       "      <td>133.76</td>\n",
       "      <td>0.00</td>\n",
       "      <td>conventional</td>\n",
       "      <td>2015</td>\n",
       "      <td>Albany</td>\n",
       "    </tr>\n",
       "    <tr>\n",
       "      <th>4</th>\n",
       "      <td>2015-11-29</td>\n",
       "      <td>1.28</td>\n",
       "      <td>51039.60</td>\n",
       "      <td>941.48</td>\n",
       "      <td>43838.39</td>\n",
       "      <td>75.78</td>\n",
       "      <td>6183.95</td>\n",
       "      <td>5986.26</td>\n",
       "      <td>197.69</td>\n",
       "      <td>0.00</td>\n",
       "      <td>conventional</td>\n",
       "      <td>2015</td>\n",
       "      <td>Albany</td>\n",
       "    </tr>\n",
       "    <tr>\n",
       "      <th>...</th>\n",
       "      <td>...</td>\n",
       "      <td>...</td>\n",
       "      <td>...</td>\n",
       "      <td>...</td>\n",
       "      <td>...</td>\n",
       "      <td>...</td>\n",
       "      <td>...</td>\n",
       "      <td>...</td>\n",
       "      <td>...</td>\n",
       "      <td>...</td>\n",
       "      <td>...</td>\n",
       "      <td>...</td>\n",
       "      <td>...</td>\n",
       "    </tr>\n",
       "    <tr>\n",
       "      <th>1512</th>\n",
       "      <td>2016-10-16</td>\n",
       "      <td>1.39</td>\n",
       "      <td>190846.01</td>\n",
       "      <td>57529.11</td>\n",
       "      <td>56366.66</td>\n",
       "      <td>17531.78</td>\n",
       "      <td>59418.46</td>\n",
       "      <td>48823.53</td>\n",
       "      <td>10354.65</td>\n",
       "      <td>240.28</td>\n",
       "      <td>conventional</td>\n",
       "      <td>2016</td>\n",
       "      <td>Charlotte</td>\n",
       "    </tr>\n",
       "    <tr>\n",
       "      <th>1513</th>\n",
       "      <td>2016-09-10</td>\n",
       "      <td>1.51</td>\n",
       "      <td>178235.75</td>\n",
       "      <td>43325.87</td>\n",
       "      <td>52189.61</td>\n",
       "      <td>19419.57</td>\n",
       "      <td>63300.70</td>\n",
       "      <td>54704.14</td>\n",
       "      <td>8596.56</td>\n",
       "      <td>0.00</td>\n",
       "      <td>conventional</td>\n",
       "      <td>2016</td>\n",
       "      <td>Charlotte</td>\n",
       "    </tr>\n",
       "    <tr>\n",
       "      <th>1514</th>\n",
       "      <td>2016-02-10</td>\n",
       "      <td>1.48</td>\n",
       "      <td>178410.82</td>\n",
       "      <td>46364.75</td>\n",
       "      <td>52893.38</td>\n",
       "      <td>16736.92</td>\n",
       "      <td>62415.77</td>\n",
       "      <td>53332.61</td>\n",
       "      <td>8258.16</td>\n",
       "      <td>825.00</td>\n",
       "      <td>conventional</td>\n",
       "      <td>2016</td>\n",
       "      <td>Charlotte</td>\n",
       "    </tr>\n",
       "    <tr>\n",
       "      <th>1515</th>\n",
       "      <td>2016-09-25</td>\n",
       "      <td>1.47</td>\n",
       "      <td>189131.52</td>\n",
       "      <td>54110.79</td>\n",
       "      <td>53593.58</td>\n",
       "      <td>17495.42</td>\n",
       "      <td>63931.73</td>\n",
       "      <td>55653.47</td>\n",
       "      <td>8278.26</td>\n",
       "      <td>0.00</td>\n",
       "      <td>conventional</td>\n",
       "      <td>2016</td>\n",
       "      <td>Charlotte</td>\n",
       "    </tr>\n",
       "    <tr>\n",
       "      <th>1516</th>\n",
       "      <td>2016-09-18</td>\n",
       "      <td>1.43</td>\n",
       "      <td>182978.30</td>\n",
       "      <td>43116.41</td>\n",
       "      <td>54193.42</td>\n",
       "      <td>16563.91</td>\n",
       "      <td>69104.56</td>\n",
       "      <td>57456.21</td>\n",
       "      <td>11648.35</td>\n",
       "      <td>0.00</td>\n",
       "      <td>conventional</td>\n",
       "      <td>2016</td>\n",
       "      <td>Charlotte</td>\n",
       "    </tr>\n",
       "  </tbody>\n",
       "</table>\n",
       "<p>1517 rows × 13 columns</p>\n",
       "</div>"
      ],
      "text/plain": [
       "           Date  AveragePrice  Total Volume      4046       4225      4770  \\\n",
       "0    2015-12-27          1.33      64236.62   1036.74   54454.85     48.16   \n",
       "1    2015-12-20          1.35      54876.98    674.28   44638.81     58.33   \n",
       "2    2015-12-13          0.93     118220.22    794.70  109149.67    130.50   \n",
       "3    2015-06-12          1.08      78992.15   1132.00   71976.41     72.58   \n",
       "4    2015-11-29          1.28      51039.60    941.48   43838.39     75.78   \n",
       "...         ...           ...           ...       ...        ...       ...   \n",
       "1512 2016-10-16          1.39     190846.01  57529.11   56366.66  17531.78   \n",
       "1513 2016-09-10          1.51     178235.75  43325.87   52189.61  19419.57   \n",
       "1514 2016-02-10          1.48     178410.82  46364.75   52893.38  16736.92   \n",
       "1515 2016-09-25          1.47     189131.52  54110.79   53593.58  17495.42   \n",
       "1516 2016-09-18          1.43     182978.30  43116.41   54193.42  16563.91   \n",
       "\n",
       "      Total Bags  Small Bags  Large Bags  XLarge Bags          type  year  \\\n",
       "0        8696.87     8603.62       93.25         0.00  conventional  2015   \n",
       "1        9505.56     9408.07       97.49         0.00  conventional  2015   \n",
       "2        8145.35     8042.21      103.14         0.00  conventional  2015   \n",
       "3        5811.16     5677.40      133.76         0.00  conventional  2015   \n",
       "4        6183.95     5986.26      197.69         0.00  conventional  2015   \n",
       "...          ...         ...         ...          ...           ...   ...   \n",
       "1512    59418.46    48823.53    10354.65       240.28  conventional  2016   \n",
       "1513    63300.70    54704.14     8596.56         0.00  conventional  2016   \n",
       "1514    62415.77    53332.61     8258.16       825.00  conventional  2016   \n",
       "1515    63931.73    55653.47     8278.26         0.00  conventional  2016   \n",
       "1516    69104.56    57456.21    11648.35         0.00  conventional  2016   \n",
       "\n",
       "         region  \n",
       "0        Albany  \n",
       "1        Albany  \n",
       "2        Albany  \n",
       "3        Albany  \n",
       "4        Albany  \n",
       "...         ...  \n",
       "1512  Charlotte  \n",
       "1513  Charlotte  \n",
       "1514  Charlotte  \n",
       "1515  Charlotte  \n",
       "1516  Charlotte  \n",
       "\n",
       "[1517 rows x 13 columns]"
      ]
     },
     "execution_count": 133,
     "metadata": {},
     "output_type": "execute_result"
    }
   ],
   "source": [
    "df.drop(['S.NO'],axis=1,inplace=True)\n",
    "df"
   ]
  },
  {
   "cell_type": "code",
   "execution_count": 134,
   "metadata": {},
   "outputs": [
    {
     "data": {
      "text/html": [
       "<div>\n",
       "<style scoped>\n",
       "    .dataframe tbody tr th:only-of-type {\n",
       "        vertical-align: middle;\n",
       "    }\n",
       "\n",
       "    .dataframe tbody tr th {\n",
       "        vertical-align: top;\n",
       "    }\n",
       "\n",
       "    .dataframe thead th {\n",
       "        text-align: right;\n",
       "    }\n",
       "</style>\n",
       "<table border=\"1\" class=\"dataframe\">\n",
       "  <thead>\n",
       "    <tr style=\"text-align: right;\">\n",
       "      <th></th>\n",
       "      <th>AveragePrice</th>\n",
       "      <th>Total Volume</th>\n",
       "      <th>4046</th>\n",
       "      <th>4225</th>\n",
       "      <th>4770</th>\n",
       "      <th>Total Bags</th>\n",
       "      <th>Small Bags</th>\n",
       "      <th>Large Bags</th>\n",
       "      <th>XLarge Bags</th>\n",
       "      <th>year</th>\n",
       "    </tr>\n",
       "  </thead>\n",
       "  <tbody>\n",
       "    <tr>\n",
       "      <th>AveragePrice</th>\n",
       "      <td>1.000000</td>\n",
       "      <td>-0.140470</td>\n",
       "      <td>-0.190096</td>\n",
       "      <td>-0.092084</td>\n",
       "      <td>-0.100567</td>\n",
       "      <td>-0.111597</td>\n",
       "      <td>-0.097682</td>\n",
       "      <td>-0.177480</td>\n",
       "      <td>-0.048284</td>\n",
       "      <td>0.178683</td>\n",
       "    </tr>\n",
       "    <tr>\n",
       "      <th>Total Volume</th>\n",
       "      <td>-0.140470</td>\n",
       "      <td>1.000000</td>\n",
       "      <td>0.985568</td>\n",
       "      <td>0.987154</td>\n",
       "      <td>0.934347</td>\n",
       "      <td>0.967689</td>\n",
       "      <td>0.960642</td>\n",
       "      <td>0.910226</td>\n",
       "      <td>0.521717</td>\n",
       "      <td>-0.004189</td>\n",
       "    </tr>\n",
       "    <tr>\n",
       "      <th>4046</th>\n",
       "      <td>-0.190096</td>\n",
       "      <td>0.985568</td>\n",
       "      <td>1.000000</td>\n",
       "      <td>0.951952</td>\n",
       "      <td>0.898570</td>\n",
       "      <td>0.930395</td>\n",
       "      <td>0.922278</td>\n",
       "      <td>0.884229</td>\n",
       "      <td>0.474063</td>\n",
       "      <td>-0.040439</td>\n",
       "    </tr>\n",
       "    <tr>\n",
       "      <th>4225</th>\n",
       "      <td>-0.092084</td>\n",
       "      <td>0.987154</td>\n",
       "      <td>0.951952</td>\n",
       "      <td>1.000000</td>\n",
       "      <td>0.927757</td>\n",
       "      <td>0.951779</td>\n",
       "      <td>0.943988</td>\n",
       "      <td>0.900496</td>\n",
       "      <td>0.504718</td>\n",
       "      <td>-0.007254</td>\n",
       "    </tr>\n",
       "    <tr>\n",
       "      <th>4770</th>\n",
       "      <td>-0.100567</td>\n",
       "      <td>0.934347</td>\n",
       "      <td>0.898570</td>\n",
       "      <td>0.927757</td>\n",
       "      <td>1.000000</td>\n",
       "      <td>0.926405</td>\n",
       "      <td>0.923607</td>\n",
       "      <td>0.840523</td>\n",
       "      <td>0.646053</td>\n",
       "      <td>0.029222</td>\n",
       "    </tr>\n",
       "    <tr>\n",
       "      <th>Total Bags</th>\n",
       "      <td>-0.111597</td>\n",
       "      <td>0.967689</td>\n",
       "      <td>0.930395</td>\n",
       "      <td>0.951779</td>\n",
       "      <td>0.926405</td>\n",
       "      <td>1.000000</td>\n",
       "      <td>0.997341</td>\n",
       "      <td>0.911336</td>\n",
       "      <td>0.601856</td>\n",
       "      <td>0.090108</td>\n",
       "    </tr>\n",
       "    <tr>\n",
       "      <th>Small Bags</th>\n",
       "      <td>-0.097682</td>\n",
       "      <td>0.960642</td>\n",
       "      <td>0.922278</td>\n",
       "      <td>0.943988</td>\n",
       "      <td>0.923607</td>\n",
       "      <td>0.997341</td>\n",
       "      <td>1.000000</td>\n",
       "      <td>0.879131</td>\n",
       "      <td>0.611300</td>\n",
       "      <td>0.106382</td>\n",
       "    </tr>\n",
       "    <tr>\n",
       "      <th>Large Bags</th>\n",
       "      <td>-0.177480</td>\n",
       "      <td>0.910226</td>\n",
       "      <td>0.884229</td>\n",
       "      <td>0.900496</td>\n",
       "      <td>0.840523</td>\n",
       "      <td>0.911336</td>\n",
       "      <td>0.879131</td>\n",
       "      <td>1.000000</td>\n",
       "      <td>0.447779</td>\n",
       "      <td>-0.018678</td>\n",
       "    </tr>\n",
       "    <tr>\n",
       "      <th>XLarge Bags</th>\n",
       "      <td>-0.048284</td>\n",
       "      <td>0.521717</td>\n",
       "      <td>0.474063</td>\n",
       "      <td>0.504718</td>\n",
       "      <td>0.646053</td>\n",
       "      <td>0.601856</td>\n",
       "      <td>0.611300</td>\n",
       "      <td>0.447779</td>\n",
       "      <td>1.000000</td>\n",
       "      <td>0.218342</td>\n",
       "    </tr>\n",
       "    <tr>\n",
       "      <th>year</th>\n",
       "      <td>0.178683</td>\n",
       "      <td>-0.004189</td>\n",
       "      <td>-0.040439</td>\n",
       "      <td>-0.007254</td>\n",
       "      <td>0.029222</td>\n",
       "      <td>0.090108</td>\n",
       "      <td>0.106382</td>\n",
       "      <td>-0.018678</td>\n",
       "      <td>0.218342</td>\n",
       "      <td>1.000000</td>\n",
       "    </tr>\n",
       "  </tbody>\n",
       "</table>\n",
       "</div>"
      ],
      "text/plain": [
       "              AveragePrice  Total Volume      4046      4225      4770  \\\n",
       "AveragePrice      1.000000     -0.140470 -0.190096 -0.092084 -0.100567   \n",
       "Total Volume     -0.140470      1.000000  0.985568  0.987154  0.934347   \n",
       "4046             -0.190096      0.985568  1.000000  0.951952  0.898570   \n",
       "4225             -0.092084      0.987154  0.951952  1.000000  0.927757   \n",
       "4770             -0.100567      0.934347  0.898570  0.927757  1.000000   \n",
       "Total Bags       -0.111597      0.967689  0.930395  0.951779  0.926405   \n",
       "Small Bags       -0.097682      0.960642  0.922278  0.943988  0.923607   \n",
       "Large Bags       -0.177480      0.910226  0.884229  0.900496  0.840523   \n",
       "XLarge Bags      -0.048284      0.521717  0.474063  0.504718  0.646053   \n",
       "year              0.178683     -0.004189 -0.040439 -0.007254  0.029222   \n",
       "\n",
       "              Total Bags  Small Bags  Large Bags  XLarge Bags      year  \n",
       "AveragePrice   -0.111597   -0.097682   -0.177480    -0.048284  0.178683  \n",
       "Total Volume    0.967689    0.960642    0.910226     0.521717 -0.004189  \n",
       "4046            0.930395    0.922278    0.884229     0.474063 -0.040439  \n",
       "4225            0.951779    0.943988    0.900496     0.504718 -0.007254  \n",
       "4770            0.926405    0.923607    0.840523     0.646053  0.029222  \n",
       "Total Bags      1.000000    0.997341    0.911336     0.601856  0.090108  \n",
       "Small Bags      0.997341    1.000000    0.879131     0.611300  0.106382  \n",
       "Large Bags      0.911336    0.879131    1.000000     0.447779 -0.018678  \n",
       "XLarge Bags     0.601856    0.611300    0.447779     1.000000  0.218342  \n",
       "year            0.090108    0.106382   -0.018678     0.218342  1.000000  "
      ]
     },
     "execution_count": 134,
     "metadata": {},
     "output_type": "execute_result"
    }
   ],
   "source": [
    "df.corr() #checking the correlation between attributres"
   ]
  },
  {
   "cell_type": "code",
   "execution_count": 135,
   "metadata": {},
   "outputs": [
    {
     "data": {
      "text/plain": [
       "<matplotlib.axes._subplots.AxesSubplot at 0x226e7762e80>"
      ]
     },
     "execution_count": 135,
     "metadata": {},
     "output_type": "execute_result"
    },
    {
     "data": {
      "image/png": "[encoded data removed]",
      "text/plain": [
       "<Figure size 720x432 with 2 Axes>"
      ]
     },
     "metadata": {
      "needs_background": "light"
     },
     "output_type": "display_data"
    }
   ],
   "source": [
    "plt.figure(figsize=(10,6))\n",
    "sns.heatmap(df.corr(),annot=True) #checking the correlation between attributres through heatmap"
   ]
  },
  {
   "cell_type": "code",
   "execution_count": null,
   "metadata": {},
   "outputs": [],
   "source": [
    "#Almost all attributes are least correlated with AveragePrice"
   ]
  },
  {
   "cell_type": "markdown",
   "metadata": {},
   "source": [
    "Checking the outliers with the help of boxplot "
   ]
  },
  {
   "cell_type": "code",
   "execution_count": 137,
   "metadata": {},
   "outputs": [
    {
     "data": {
      "text/plain": [
       "<matplotlib.axes._subplots.AxesSubplot at 0x226e7a032b0>"
      ]
     },
     "execution_count": 137,
     "metadata": {},
     "output_type": "execute_result"
    },
    {
     "data": {
      "image/png": "[encoded data removed]",
      "text/plain": [
       "<Figure size 432x288 with 1 Axes>"
      ]
     },
     "metadata": {
      "needs_background": "light"
     },
     "output_type": "display_data"
    }
   ],
   "source": [
    "df['AveragePrice'].plot.box()"
   ]
  },
  {
   "cell_type": "code",
   "execution_count": 138,
   "metadata": {},
   "outputs": [
    {
     "data": {
      "text/plain": [
       "<matplotlib.axes._subplots.AxesSubplot at 0x226e7a6e250>"
      ]
     },
     "execution_count": 138,
     "metadata": {},
     "output_type": "execute_result"
    },
    {
     "data": {
      "image/png": "[encoded data removed]",
      "text/plain": [
       "<Figure size 432x288 with 1 Axes>"
      ]
     },
     "metadata": {
      "needs_background": "light"
     },
     "output_type": "display_data"
    }
   ],
   "source": [
    "df['Total Volume'].plot.box()"
   ]
  },
  {
   "cell_type": "code",
   "execution_count": 139,
   "metadata": {},
   "outputs": [
    {
     "data": {
      "text/plain": [
       "<matplotlib.axes._subplots.AxesSubplot at 0x226e7ac7160>"
      ]
     },
     "execution_count": 139,
     "metadata": {},
     "output_type": "execute_result"
    },
    {
     "data": {
      "image/png": "[encoded data removed]",
      "text/plain": [
       "<Figure size 432x288 with 1 Axes>"
      ]
     },
     "metadata": {
      "needs_background": "light"
     },
     "output_type": "display_data"
    }
   ],
   "source": [
    "df['4046'].plot.box()"
   ]
  },
  {
   "cell_type": "code",
   "execution_count": 140,
   "metadata": {},
   "outputs": [
    {
     "data": {
      "text/plain": [
       "<matplotlib.axes._subplots.AxesSubplot at 0x226e7b1d460>"
      ]
     },
     "execution_count": 140,
     "metadata": {},
     "output_type": "execute_result"
    },
    {
     "data": {
      "image/png": "[encoded data removed]",
      "text/plain": [
       "<Figure size 432x288 with 1 Axes>"
      ]
     },
     "metadata": {
      "needs_background": "light"
     },
     "output_type": "display_data"
    }
   ],
   "source": [
    "df['4225'].plot.box()"
   ]
  },
  {
   "cell_type": "code",
   "execution_count": 141,
   "metadata": {},
   "outputs": [
    {
     "data": {
      "text/plain": [
       "<matplotlib.axes._subplots.AxesSubplot at 0x226e7b67bb0>"
      ]
     },
     "execution_count": 141,
     "metadata": {},
     "output_type": "execute_result"
    },
    {
     "data": {
      "image/png": "[encoded data removed]",
      "text/plain": [
       "<Figure size 432x288 with 1 Axes>"
      ]
     },
     "metadata": {
      "needs_background": "light"
     },
     "output_type": "display_data"
    }
   ],
   "source": [
    "df['4770'].plot.box()"
   ]
  },
  {
   "cell_type": "code",
   "execution_count": 142,
   "metadata": {},
   "outputs": [
    {
     "data": {
      "text/plain": [
       "<matplotlib.axes._subplots.AxesSubplot at 0x226e7c13df0>"
      ]
     },
     "execution_count": 142,
     "metadata": {},
     "output_type": "execute_result"
    },
    {
     "data": {
      "image/png": "[encoded data removed]",
      "text/plain": [
       "<Figure size 432x288 with 1 Axes>"
      ]
     },
     "metadata": {
      "needs_background": "light"
     },
     "output_type": "display_data"
    }
   ],
   "source": [
    "df['Total Bags'].plot.box()"
   ]
  },
  {
   "cell_type": "code",
   "execution_count": 143,
   "metadata": {},
   "outputs": [
    {
     "data": {
      "text/plain": [
       "<matplotlib.axes._subplots.AxesSubplot at 0x226e7c6fd60>"
      ]
     },
     "execution_count": 143,
     "metadata": {},
     "output_type": "execute_result"
    },
    {
     "data": {
      "image/png": "[encoded data removed]",
      "text/plain": [
       "<Figure size 432x288 with 1 Axes>"
      ]
     },
     "metadata": {
      "needs_background": "light"
     },
     "output_type": "display_data"
    }
   ],
   "source": [
    "df['Small Bags'].plot.box()"
   ]
  },
  {
   "cell_type": "code",
   "execution_count": 144,
   "metadata": {},
   "outputs": [
    {
     "data": {
      "text/plain": [
       "<matplotlib.axes._subplots.AxesSubplot at 0x226e7674f70>"
      ]
     },
     "execution_count": 144,
     "metadata": {},
     "output_type": "execute_result"
    },
    {
     "data": {
      "image/png": "[encoded data removed]",
      "text/plain": [
       "<Figure size 432x288 with 1 Axes>"
      ]
     },
     "metadata": {
      "needs_background": "light"
     },
     "output_type": "display_data"
    }
   ],
   "source": [
    "df['Large Bags'].plot.box()"
   ]
  },
  {
   "cell_type": "code",
   "execution_count": 145,
   "metadata": {},
   "outputs": [
    {
     "data": {
      "text/plain": [
       "<matplotlib.axes._subplots.AxesSubplot at 0x226e7610d60>"
      ]
     },
     "execution_count": 145,
     "metadata": {},
     "output_type": "execute_result"
    },
    {
     "data": {
      "image/png": "[encoded data removed]",
      "text/plain": [
       "<Figure size 432x288 with 1 Axes>"
      ]
     },
     "metadata": {
      "needs_background": "light"
     },
     "output_type": "display_data"
    }
   ],
   "source": [
    "df['XLarge Bags'].plot.box()"
   ]
  },
  {
   "cell_type": "code",
   "execution_count": 147,
   "metadata": {},
   "outputs": [],
   "source": [
    "#Encoding the attributes\n",
    "from sklearn.preprocessing import LabelEncoder\n",
    "le=LabelEncoder() \n",
    "list1=['type','region']\n",
    "for val in list1:\n",
    "    df[val]=le.fit_transform(df[val].astype(str))"
   ]
  },
  {
   "cell_type": "code",
   "execution_count": 148,
   "metadata": {
    "scrolled": false
   },
   "outputs": [
    {
     "data": {
      "text/html": [
       "<div>\n",
       "<style scoped>\n",
       "    .dataframe tbody tr th:only-of-type {\n",
       "        vertical-align: middle;\n",
       "    }\n",
       "\n",
       "    .dataframe tbody tr th {\n",
       "        vertical-align: top;\n",
       "    }\n",
       "\n",
       "    .dataframe thead th {\n",
       "        text-align: right;\n",
       "    }\n",
       "</style>\n",
       "<table border=\"1\" class=\"dataframe\">\n",
       "  <thead>\n",
       "    <tr style=\"text-align: right;\">\n",
       "      <th></th>\n",
       "      <th>AveragePrice</th>\n",
       "      <th>Total Volume</th>\n",
       "      <th>4046</th>\n",
       "      <th>4225</th>\n",
       "      <th>4770</th>\n",
       "      <th>Total Bags</th>\n",
       "      <th>Small Bags</th>\n",
       "      <th>Large Bags</th>\n",
       "      <th>XLarge Bags</th>\n",
       "      <th>type</th>\n",
       "      <th>year</th>\n",
       "      <th>region</th>\n",
       "    </tr>\n",
       "  </thead>\n",
       "  <tbody>\n",
       "    <tr>\n",
       "      <th>0</th>\n",
       "      <td>1.33</td>\n",
       "      <td>64236.62</td>\n",
       "      <td>1036.74</td>\n",
       "      <td>54454.85</td>\n",
       "      <td>48.16</td>\n",
       "      <td>8696.87</td>\n",
       "      <td>8603.62</td>\n",
       "      <td>93.25</td>\n",
       "      <td>0.00</td>\n",
       "      <td>0</td>\n",
       "      <td>2015</td>\n",
       "      <td>0</td>\n",
       "    </tr>\n",
       "    <tr>\n",
       "      <th>1</th>\n",
       "      <td>1.35</td>\n",
       "      <td>54876.98</td>\n",
       "      <td>674.28</td>\n",
       "      <td>44638.81</td>\n",
       "      <td>58.33</td>\n",
       "      <td>9505.56</td>\n",
       "      <td>9408.07</td>\n",
       "      <td>97.49</td>\n",
       "      <td>0.00</td>\n",
       "      <td>0</td>\n",
       "      <td>2015</td>\n",
       "      <td>0</td>\n",
       "    </tr>\n",
       "    <tr>\n",
       "      <th>2</th>\n",
       "      <td>0.93</td>\n",
       "      <td>118220.22</td>\n",
       "      <td>794.70</td>\n",
       "      <td>109149.67</td>\n",
       "      <td>130.50</td>\n",
       "      <td>8145.35</td>\n",
       "      <td>8042.21</td>\n",
       "      <td>103.14</td>\n",
       "      <td>0.00</td>\n",
       "      <td>0</td>\n",
       "      <td>2015</td>\n",
       "      <td>0</td>\n",
       "    </tr>\n",
       "    <tr>\n",
       "      <th>3</th>\n",
       "      <td>1.08</td>\n",
       "      <td>78992.15</td>\n",
       "      <td>1132.00</td>\n",
       "      <td>71976.41</td>\n",
       "      <td>72.58</td>\n",
       "      <td>5811.16</td>\n",
       "      <td>5677.40</td>\n",
       "      <td>133.76</td>\n",
       "      <td>0.00</td>\n",
       "      <td>0</td>\n",
       "      <td>2015</td>\n",
       "      <td>0</td>\n",
       "    </tr>\n",
       "    <tr>\n",
       "      <th>4</th>\n",
       "      <td>1.28</td>\n",
       "      <td>51039.60</td>\n",
       "      <td>941.48</td>\n",
       "      <td>43838.39</td>\n",
       "      <td>75.78</td>\n",
       "      <td>6183.95</td>\n",
       "      <td>5986.26</td>\n",
       "      <td>197.69</td>\n",
       "      <td>0.00</td>\n",
       "      <td>0</td>\n",
       "      <td>2015</td>\n",
       "      <td>0</td>\n",
       "    </tr>\n",
       "    <tr>\n",
       "      <th>...</th>\n",
       "      <td>...</td>\n",
       "      <td>...</td>\n",
       "      <td>...</td>\n",
       "      <td>...</td>\n",
       "      <td>...</td>\n",
       "      <td>...</td>\n",
       "      <td>...</td>\n",
       "      <td>...</td>\n",
       "      <td>...</td>\n",
       "      <td>...</td>\n",
       "      <td>...</td>\n",
       "      <td>...</td>\n",
       "    </tr>\n",
       "    <tr>\n",
       "      <th>1512</th>\n",
       "      <td>1.39</td>\n",
       "      <td>190846.01</td>\n",
       "      <td>57529.11</td>\n",
       "      <td>56366.66</td>\n",
       "      <td>17531.78</td>\n",
       "      <td>59418.46</td>\n",
       "      <td>48823.53</td>\n",
       "      <td>10354.65</td>\n",
       "      <td>240.28</td>\n",
       "      <td>0</td>\n",
       "      <td>2016</td>\n",
       "      <td>7</td>\n",
       "    </tr>\n",
       "    <tr>\n",
       "      <th>1513</th>\n",
       "      <td>1.51</td>\n",
       "      <td>178235.75</td>\n",
       "      <td>43325.87</td>\n",
       "      <td>52189.61</td>\n",
       "      <td>19419.57</td>\n",
       "      <td>63300.70</td>\n",
       "      <td>54704.14</td>\n",
       "      <td>8596.56</td>\n",
       "      <td>0.00</td>\n",
       "      <td>0</td>\n",
       "      <td>2016</td>\n",
       "      <td>7</td>\n",
       "    </tr>\n",
       "    <tr>\n",
       "      <th>1514</th>\n",
       "      <td>1.48</td>\n",
       "      <td>178410.82</td>\n",
       "      <td>46364.75</td>\n",
       "      <td>52893.38</td>\n",
       "      <td>16736.92</td>\n",
       "      <td>62415.77</td>\n",
       "      <td>53332.61</td>\n",
       "      <td>8258.16</td>\n",
       "      <td>825.00</td>\n",
       "      <td>0</td>\n",
       "      <td>2016</td>\n",
       "      <td>7</td>\n",
       "    </tr>\n",
       "    <tr>\n",
       "      <th>1515</th>\n",
       "      <td>1.47</td>\n",
       "      <td>189131.52</td>\n",
       "      <td>54110.79</td>\n",
       "      <td>53593.58</td>\n",
       "      <td>17495.42</td>\n",
       "      <td>63931.73</td>\n",
       "      <td>55653.47</td>\n",
       "      <td>8278.26</td>\n",
       "      <td>0.00</td>\n",
       "      <td>0</td>\n",
       "      <td>2016</td>\n",
       "      <td>7</td>\n",
       "    </tr>\n",
       "    <tr>\n",
       "      <th>1516</th>\n",
       "      <td>1.43</td>\n",
       "      <td>182978.30</td>\n",
       "      <td>43116.41</td>\n",
       "      <td>54193.42</td>\n",
       "      <td>16563.91</td>\n",
       "      <td>69104.56</td>\n",
       "      <td>57456.21</td>\n",
       "      <td>11648.35</td>\n",
       "      <td>0.00</td>\n",
       "      <td>0</td>\n",
       "      <td>2016</td>\n",
       "      <td>7</td>\n",
       "    </tr>\n",
       "  </tbody>\n",
       "</table>\n",
       "<p>1517 rows × 12 columns</p>\n",
       "</div>"
      ],
      "text/plain": [
       "      AveragePrice  Total Volume      4046       4225      4770  Total Bags  \\\n",
       "0             1.33      64236.62   1036.74   54454.85     48.16     8696.87   \n",
       "1             1.35      54876.98    674.28   44638.81     58.33     9505.56   \n",
       "2             0.93     118220.22    794.70  109149.67    130.50     8145.35   \n",
       "3             1.08      78992.15   1132.00   71976.41     72.58     5811.16   \n",
       "4             1.28      51039.60    941.48   43838.39     75.78     6183.95   \n",
       "...            ...           ...       ...        ...       ...         ...   \n",
       "1512          1.39     190846.01  57529.11   56366.66  17531.78    59418.46   \n",
       "1513          1.51     178235.75  43325.87   52189.61  19419.57    63300.70   \n",
       "1514          1.48     178410.82  46364.75   52893.38  16736.92    62415.77   \n",
       "1515          1.47     189131.52  54110.79   53593.58  17495.42    63931.73   \n",
       "1516          1.43     182978.30  43116.41   54193.42  16563.91    69104.56   \n",
       "\n",
       "      Small Bags  Large Bags  XLarge Bags  type  year  region  \n",
       "0        8603.62       93.25         0.00     0  2015       0  \n",
       "1        9408.07       97.49         0.00     0  2015       0  \n",
       "2        8042.21      103.14         0.00     0  2015       0  \n",
       "3        5677.40      133.76         0.00     0  2015       0  \n",
       "4        5986.26      197.69         0.00     0  2015       0  \n",
       "...          ...         ...          ...   ...   ...     ...  \n",
       "1512    48823.53    10354.65       240.28     0  2016       7  \n",
       "1513    54704.14     8596.56         0.00     0  2016       7  \n",
       "1514    53332.61     8258.16       825.00     0  2016       7  \n",
       "1515    55653.47     8278.26         0.00     0  2016       7  \n",
       "1516    57456.21    11648.35         0.00     0  2016       7  \n",
       "\n",
       "[1517 rows x 12 columns]"
      ]
     },
     "execution_count": 148,
     "metadata": {},
     "output_type": "execute_result"
    }
   ],
   "source": [
    "df.drop(['Date'],axis=1,inplace=True) #Dropping the column Date\n",
    "df"
   ]
  },
  {
   "cell_type": "code",
   "execution_count": 149,
   "metadata": {},
   "outputs": [],
   "source": [
    "df.drop(['type'],axis=1,inplace=True) #Dropping type column since it had only one type and didnt have much impact"
   ]
  },
  {
   "cell_type": "code",
   "execution_count": 150,
   "metadata": {},
   "outputs": [
    {
     "data": {
      "text/plain": [
       "array([[1.35048079, 0.34696593, 0.33149016, ..., 0.29272731, 0.44100815,\n",
       "        1.3143384 ],\n",
       "       [1.45639674, 0.34907791, 0.33167633, ..., 0.29272731, 0.44100815,\n",
       "        1.3143384 ],\n",
       "       [0.76783831, 0.33478463, 0.33161448, ..., 0.29272731, 0.44100815,\n",
       "        1.3143384 ],\n",
       "       ...,\n",
       "       [2.14485045, 0.32120275, 0.30820887, ..., 0.1820374 , 2.26753179,\n",
       "        0.88028586],\n",
       "       [2.09189247, 0.31878364, 0.30423037, ..., 0.29272731, 2.26753179,\n",
       "        0.88028586],\n",
       "       [1.88006056, 0.3201721 , 0.30987728, ..., 0.29272731, 2.26753179,\n",
       "        0.88028586]])"
      ]
     },
     "execution_count": 150,
     "metadata": {},
     "output_type": "execute_result"
    }
   ],
   "source": [
    "#checking outliers\n",
    "from scipy.stats import zscore\n",
    "z=np.abs(zscore(df))\n",
    "z"
   ]
  },
  {
   "cell_type": "code",
   "execution_count": 151,
   "metadata": {},
   "outputs": [
    {
     "name": "stdout",
     "output_type": "stream",
     "text": [
      "(array([ 398,  401,  409,  412,  412,  760, 1016, 1017, 1059, 1182, 1182,\n",
      "       1182, 1182, 1182, 1182, 1182, 1182, 1183, 1183, 1183, 1183, 1183,\n",
      "       1183, 1183, 1184, 1184, 1184, 1184, 1184, 1184, 1184, 1184, 1185,\n",
      "       1185, 1185, 1185, 1185, 1185, 1185, 1186, 1186, 1186, 1186, 1186,\n",
      "       1186, 1186, 1187, 1187, 1187, 1187, 1187, 1187, 1187, 1187, 1188,\n",
      "       1188, 1188, 1188, 1188, 1188, 1188, 1189, 1189, 1189, 1189, 1189,\n",
      "       1189, 1189, 1189, 1190, 1190, 1190, 1190, 1190, 1190, 1190, 1190,\n",
      "       1191, 1191, 1191, 1191, 1191, 1191, 1191, 1191, 1192, 1192, 1192,\n",
      "       1192, 1192, 1192, 1192, 1193, 1193, 1193, 1193, 1193, 1193, 1193,\n",
      "       1194, 1194, 1194, 1194, 1194, 1194, 1194, 1195, 1195, 1195, 1195,\n",
      "       1195, 1195, 1195, 1195, 1196, 1196, 1196, 1196, 1196, 1196, 1196,\n",
      "       1197, 1197, 1197, 1197, 1197, 1197, 1197, 1198, 1198, 1198, 1198,\n",
      "       1198, 1198, 1198, 1198, 1199, 1199, 1199, 1199, 1199, 1199, 1199,\n",
      "       1200, 1200, 1200, 1200, 1200, 1200, 1200, 1201, 1201, 1201, 1201,\n",
      "       1201, 1201, 1201, 1202, 1202, 1202, 1202, 1202, 1202, 1202, 1202,\n",
      "       1203, 1203, 1203, 1203, 1203, 1203, 1203, 1204, 1204, 1204, 1204,\n",
      "       1204, 1204, 1204, 1205, 1205, 1205, 1205, 1205, 1205, 1205, 1206,\n",
      "       1206, 1206, 1206, 1206, 1206, 1206, 1207, 1208, 1209, 1210, 1212,\n",
      "       1213, 1215, 1216, 1217, 1218, 1222, 1411, 1450, 1451, 1452, 1453,\n",
      "       1454, 1455, 1456, 1457, 1457, 1458, 1459, 1460, 1461, 1462, 1463,\n",
      "       1464, 1465, 1466, 1467, 1468, 1469, 1470, 1471, 1472, 1473, 1474,\n",
      "       1475, 1476, 1477, 1478, 1479, 1480, 1481, 1483, 1483, 1484, 1495,\n",
      "       1496, 1496], dtype=int64), array([8, 8, 8, 4, 8, 0, 8, 8, 7, 1, 2, 3, 4, 5, 6, 7, 8, 1, 2, 3, 4, 5,\n",
      "       6, 7, 1, 2, 3, 4, 5, 6, 7, 8, 1, 2, 3, 4, 5, 6, 7, 1, 2, 3, 4, 5,\n",
      "       6, 7, 1, 2, 3, 4, 5, 6, 7, 8, 1, 2, 3, 4, 5, 6, 7, 1, 2, 3, 4, 5,\n",
      "       6, 7, 8, 1, 2, 3, 4, 5, 6, 7, 8, 1, 2, 3, 4, 5, 6, 7, 8, 1, 2, 3,\n",
      "       4, 5, 6, 7, 1, 2, 3, 4, 5, 6, 7, 1, 2, 3, 4, 5, 6, 7, 1, 2, 3, 4,\n",
      "       5, 6, 7, 8, 1, 2, 3, 4, 5, 6, 7, 1, 2, 3, 4, 5, 6, 7, 1, 2, 3, 4,\n",
      "       5, 6, 7, 8, 1, 2, 3, 4, 5, 6, 7, 1, 2, 3, 4, 5, 6, 7, 1, 2, 3, 4,\n",
      "       5, 6, 7, 1, 2, 3, 4, 5, 6, 7, 8, 1, 2, 3, 4, 5, 6, 7, 1, 2, 3, 4,\n",
      "       5, 6, 7, 1, 2, 3, 4, 5, 6, 7, 1, 2, 3, 4, 5, 6, 7, 7, 7, 7, 7, 7,\n",
      "       7, 7, 7, 7, 7, 7, 0, 8, 8, 8, 8, 8, 8, 8, 0, 8, 0, 8, 8, 8, 8, 8,\n",
      "       8, 8, 8, 8, 8, 8, 8, 8, 8, 8, 8, 8, 8, 8, 8, 8, 8, 8, 7, 8, 7, 6,\n",
      "       5, 6], dtype=int64))\n"
     ]
    }
   ],
   "source": [
    "threshold=3\n",
    "print(np.where(z>3))"
   ]
  },
  {
   "cell_type": "code",
   "execution_count": 152,
   "metadata": {},
   "outputs": [
    {
     "data": {
      "text/html": [
       "<div>\n",
       "<style scoped>\n",
       "    .dataframe tbody tr th:only-of-type {\n",
       "        vertical-align: middle;\n",
       "    }\n",
       "\n",
       "    .dataframe tbody tr th {\n",
       "        vertical-align: top;\n",
       "    }\n",
       "\n",
       "    .dataframe thead th {\n",
       "        text-align: right;\n",
       "    }\n",
       "</style>\n",
       "<table border=\"1\" class=\"dataframe\">\n",
       "  <thead>\n",
       "    <tr style=\"text-align: right;\">\n",
       "      <th></th>\n",
       "      <th>AveragePrice</th>\n",
       "      <th>Total Volume</th>\n",
       "      <th>4046</th>\n",
       "      <th>4225</th>\n",
       "      <th>4770</th>\n",
       "      <th>Total Bags</th>\n",
       "      <th>Small Bags</th>\n",
       "      <th>Large Bags</th>\n",
       "      <th>XLarge Bags</th>\n",
       "      <th>year</th>\n",
       "      <th>region</th>\n",
       "    </tr>\n",
       "  </thead>\n",
       "  <tbody>\n",
       "    <tr>\n",
       "      <th>0</th>\n",
       "      <td>1.33</td>\n",
       "      <td>64236.62</td>\n",
       "      <td>1036.74</td>\n",
       "      <td>54454.85</td>\n",
       "      <td>48.16</td>\n",
       "      <td>8696.87</td>\n",
       "      <td>8603.62</td>\n",
       "      <td>93.25</td>\n",
       "      <td>0.00</td>\n",
       "      <td>2015</td>\n",
       "      <td>0</td>\n",
       "    </tr>\n",
       "    <tr>\n",
       "      <th>1</th>\n",
       "      <td>1.35</td>\n",
       "      <td>54876.98</td>\n",
       "      <td>674.28</td>\n",
       "      <td>44638.81</td>\n",
       "      <td>58.33</td>\n",
       "      <td>9505.56</td>\n",
       "      <td>9408.07</td>\n",
       "      <td>97.49</td>\n",
       "      <td>0.00</td>\n",
       "      <td>2015</td>\n",
       "      <td>0</td>\n",
       "    </tr>\n",
       "    <tr>\n",
       "      <th>2</th>\n",
       "      <td>0.93</td>\n",
       "      <td>118220.22</td>\n",
       "      <td>794.70</td>\n",
       "      <td>109149.67</td>\n",
       "      <td>130.50</td>\n",
       "      <td>8145.35</td>\n",
       "      <td>8042.21</td>\n",
       "      <td>103.14</td>\n",
       "      <td>0.00</td>\n",
       "      <td>2015</td>\n",
       "      <td>0</td>\n",
       "    </tr>\n",
       "    <tr>\n",
       "      <th>3</th>\n",
       "      <td>1.08</td>\n",
       "      <td>78992.15</td>\n",
       "      <td>1132.00</td>\n",
       "      <td>71976.41</td>\n",
       "      <td>72.58</td>\n",
       "      <td>5811.16</td>\n",
       "      <td>5677.40</td>\n",
       "      <td>133.76</td>\n",
       "      <td>0.00</td>\n",
       "      <td>2015</td>\n",
       "      <td>0</td>\n",
       "    </tr>\n",
       "    <tr>\n",
       "      <th>4</th>\n",
       "      <td>1.28</td>\n",
       "      <td>51039.60</td>\n",
       "      <td>941.48</td>\n",
       "      <td>43838.39</td>\n",
       "      <td>75.78</td>\n",
       "      <td>6183.95</td>\n",
       "      <td>5986.26</td>\n",
       "      <td>197.69</td>\n",
       "      <td>0.00</td>\n",
       "      <td>2015</td>\n",
       "      <td>0</td>\n",
       "    </tr>\n",
       "    <tr>\n",
       "      <th>...</th>\n",
       "      <td>...</td>\n",
       "      <td>...</td>\n",
       "      <td>...</td>\n",
       "      <td>...</td>\n",
       "      <td>...</td>\n",
       "      <td>...</td>\n",
       "      <td>...</td>\n",
       "      <td>...</td>\n",
       "      <td>...</td>\n",
       "      <td>...</td>\n",
       "      <td>...</td>\n",
       "    </tr>\n",
       "    <tr>\n",
       "      <th>1512</th>\n",
       "      <td>1.39</td>\n",
       "      <td>190846.01</td>\n",
       "      <td>57529.11</td>\n",
       "      <td>56366.66</td>\n",
       "      <td>17531.78</td>\n",
       "      <td>59418.46</td>\n",
       "      <td>48823.53</td>\n",
       "      <td>10354.65</td>\n",
       "      <td>240.28</td>\n",
       "      <td>2016</td>\n",
       "      <td>7</td>\n",
       "    </tr>\n",
       "    <tr>\n",
       "      <th>1513</th>\n",
       "      <td>1.51</td>\n",
       "      <td>178235.75</td>\n",
       "      <td>43325.87</td>\n",
       "      <td>52189.61</td>\n",
       "      <td>19419.57</td>\n",
       "      <td>63300.70</td>\n",
       "      <td>54704.14</td>\n",
       "      <td>8596.56</td>\n",
       "      <td>0.00</td>\n",
       "      <td>2016</td>\n",
       "      <td>7</td>\n",
       "    </tr>\n",
       "    <tr>\n",
       "      <th>1514</th>\n",
       "      <td>1.48</td>\n",
       "      <td>178410.82</td>\n",
       "      <td>46364.75</td>\n",
       "      <td>52893.38</td>\n",
       "      <td>16736.92</td>\n",
       "      <td>62415.77</td>\n",
       "      <td>53332.61</td>\n",
       "      <td>8258.16</td>\n",
       "      <td>825.00</td>\n",
       "      <td>2016</td>\n",
       "      <td>7</td>\n",
       "    </tr>\n",
       "    <tr>\n",
       "      <th>1515</th>\n",
       "      <td>1.47</td>\n",
       "      <td>189131.52</td>\n",
       "      <td>54110.79</td>\n",
       "      <td>53593.58</td>\n",
       "      <td>17495.42</td>\n",
       "      <td>63931.73</td>\n",
       "      <td>55653.47</td>\n",
       "      <td>8278.26</td>\n",
       "      <td>0.00</td>\n",
       "      <td>2016</td>\n",
       "      <td>7</td>\n",
       "    </tr>\n",
       "    <tr>\n",
       "      <th>1516</th>\n",
       "      <td>1.43</td>\n",
       "      <td>182978.30</td>\n",
       "      <td>43116.41</td>\n",
       "      <td>54193.42</td>\n",
       "      <td>16563.91</td>\n",
       "      <td>69104.56</td>\n",
       "      <td>57456.21</td>\n",
       "      <td>11648.35</td>\n",
       "      <td>0.00</td>\n",
       "      <td>2016</td>\n",
       "      <td>7</td>\n",
       "    </tr>\n",
       "  </tbody>\n",
       "</table>\n",
       "<p>1436 rows × 11 columns</p>\n",
       "</div>"
      ],
      "text/plain": [
       "      AveragePrice  Total Volume      4046       4225      4770  Total Bags  \\\n",
       "0             1.33      64236.62   1036.74   54454.85     48.16     8696.87   \n",
       "1             1.35      54876.98    674.28   44638.81     58.33     9505.56   \n",
       "2             0.93     118220.22    794.70  109149.67    130.50     8145.35   \n",
       "3             1.08      78992.15   1132.00   71976.41     72.58     5811.16   \n",
       "4             1.28      51039.60    941.48   43838.39     75.78     6183.95   \n",
       "...            ...           ...       ...        ...       ...         ...   \n",
       "1512          1.39     190846.01  57529.11   56366.66  17531.78    59418.46   \n",
       "1513          1.51     178235.75  43325.87   52189.61  19419.57    63300.70   \n",
       "1514          1.48     178410.82  46364.75   52893.38  16736.92    62415.77   \n",
       "1515          1.47     189131.52  54110.79   53593.58  17495.42    63931.73   \n",
       "1516          1.43     182978.30  43116.41   54193.42  16563.91    69104.56   \n",
       "\n",
       "      Small Bags  Large Bags  XLarge Bags  year  region  \n",
       "0        8603.62       93.25         0.00  2015       0  \n",
       "1        9408.07       97.49         0.00  2015       0  \n",
       "2        8042.21      103.14         0.00  2015       0  \n",
       "3        5677.40      133.76         0.00  2015       0  \n",
       "4        5986.26      197.69         0.00  2015       0  \n",
       "...          ...         ...          ...   ...     ...  \n",
       "1512    48823.53    10354.65       240.28  2016       7  \n",
       "1513    54704.14     8596.56         0.00  2016       7  \n",
       "1514    53332.61     8258.16       825.00  2016       7  \n",
       "1515    55653.47     8278.26         0.00  2016       7  \n",
       "1516    57456.21    11648.35         0.00  2016       7  \n",
       "\n",
       "[1436 rows x 11 columns]"
      ]
     },
     "execution_count": 152,
     "metadata": {},
     "output_type": "execute_result"
    }
   ],
   "source": [
    "df_new=df[(z<3).all(axis=1)] #removing the outliers\n",
    "df_new"
   ]
  },
  {
   "cell_type": "code",
   "execution_count": 153,
   "metadata": {},
   "outputs": [
    {
     "data": {
      "text/plain": [
       "(1517, 11)"
      ]
     },
     "execution_count": 153,
     "metadata": {},
     "output_type": "execute_result"
    }
   ],
   "source": [
    "df.shape"
   ]
  },
  {
   "cell_type": "code",
   "execution_count": 154,
   "metadata": {},
   "outputs": [
    {
     "data": {
      "text/plain": [
       "(1436, 11)"
      ]
     },
     "execution_count": 154,
     "metadata": {},
     "output_type": "execute_result"
    }
   ],
   "source": [
    "df_new.shape"
   ]
  },
  {
   "cell_type": "code",
   "execution_count": null,
   "metadata": {},
   "outputs": [],
   "source": [
    "#81 rows are removed...Data is cleaned"
   ]
  },
  {
   "cell_type": "code",
   "execution_count": 155,
   "metadata": {},
   "outputs": [],
   "source": [
    "df=df_new"
   ]
  },
  {
   "cell_type": "code",
   "execution_count": 156,
   "metadata": {
    "scrolled": true
   },
   "outputs": [
    {
     "data": {
      "text/plain": [
       "AveragePrice   -0.184770\n",
       "Total Volume    2.704085\n",
       "4046            3.120756\n",
       "4225            2.367429\n",
       "4770            3.331191\n",
       "Total Bags      4.165747\n",
       "Small Bags      4.410267\n",
       "Large Bags      3.518056\n",
       "XLarge Bags     5.118965\n",
       "year            2.004439\n",
       "region          0.276276\n",
       "dtype: float64"
      ]
     },
     "execution_count": 156,
     "metadata": {},
     "output_type": "execute_result"
    }
   ],
   "source": [
    "df.skew() #checking skewness"
   ]
  },
  {
   "cell_type": "code",
   "execution_count": 157,
   "metadata": {},
   "outputs": [],
   "source": [
    "#adjusting skewness for columns with skewness greater than 0.55\n",
    "for col in df.columns:\n",
    "    if df.skew().loc[col]>0.55:\n",
    "        df[col]=np.log1p(df[col])"
   ]
  },
  {
   "cell_type": "code",
   "execution_count": 158,
   "metadata": {
    "scrolled": true
   },
   "outputs": [
    {
     "data": {
      "text/plain": [
       "AveragePrice   -0.184770\n",
       "Total Volume    0.462899\n",
       "4046           -0.270283\n",
       "4225            0.011359\n",
       "4770           -0.449713\n",
       "Total Bags      0.378673\n",
       "Small Bags      0.420856\n",
       "Large Bags     -0.979047\n",
       "XLarge Bags     0.851740\n",
       "year            2.004439\n",
       "region          0.276276\n",
       "dtype: float64"
      ]
     },
     "execution_count": 158,
     "metadata": {},
     "output_type": "execute_result"
    }
   ],
   "source": [
    "df.skew()"
   ]
  },
  {
   "cell_type": "code",
   "execution_count": 159,
   "metadata": {
    "scrolled": true
   },
   "outputs": [
    {
     "data": {
      "text/plain": [
       "<matplotlib.axes._subplots.AxesSubplot at 0x226e8060400>"
      ]
     },
     "execution_count": 159,
     "metadata": {},
     "output_type": "execute_result"
    },
    {
     "data": {
      "image/png": "[encoded data removed]",
      "text/plain": [
       "<Figure size 432x288 with 1 Axes>"
      ]
     },
     "metadata": {
      "needs_background": "light"
     },
     "output_type": "display_data"
    }
   ],
   "source": [
    "sns.distplot(df['AveragePrice']) #Averageprice is normally distributed"
   ]
  },
  {
   "cell_type": "code",
   "execution_count": null,
   "metadata": {},
   "outputs": [],
   "source": [
    "#Splitting the data into X and Y "
   ]
  },
  {
   "cell_type": "code",
   "execution_count": 160,
   "metadata": {},
   "outputs": [
    {
     "data": {
      "text/html": [
       "<div>\n",
       "<style scoped>\n",
       "    .dataframe tbody tr th:only-of-type {\n",
       "        vertical-align: middle;\n",
       "    }\n",
       "\n",
       "    .dataframe tbody tr th {\n",
       "        vertical-align: top;\n",
       "    }\n",
       "\n",
       "    .dataframe thead th {\n",
       "        text-align: right;\n",
       "    }\n",
       "</style>\n",
       "<table border=\"1\" class=\"dataframe\">\n",
       "  <thead>\n",
       "    <tr style=\"text-align: right;\">\n",
       "      <th></th>\n",
       "      <th>Total Volume</th>\n",
       "      <th>4046</th>\n",
       "      <th>4225</th>\n",
       "      <th>4770</th>\n",
       "      <th>Total Bags</th>\n",
       "      <th>Small Bags</th>\n",
       "      <th>Large Bags</th>\n",
       "      <th>XLarge Bags</th>\n",
       "      <th>year</th>\n",
       "      <th>region</th>\n",
       "    </tr>\n",
       "  </thead>\n",
       "  <tbody>\n",
       "    <tr>\n",
       "      <th>0</th>\n",
       "      <td>11.070344</td>\n",
       "      <td>6.944801</td>\n",
       "      <td>10.905146</td>\n",
       "      <td>3.895080</td>\n",
       "      <td>9.070833</td>\n",
       "      <td>9.060055</td>\n",
       "      <td>4.545951</td>\n",
       "      <td>0.0</td>\n",
       "      <td>7.608871</td>\n",
       "      <td>0</td>\n",
       "    </tr>\n",
       "    <tr>\n",
       "      <th>1</th>\n",
       "      <td>10.912867</td>\n",
       "      <td>6.515127</td>\n",
       "      <td>10.706381</td>\n",
       "      <td>4.083115</td>\n",
       "      <td>9.159737</td>\n",
       "      <td>9.149429</td>\n",
       "      <td>4.589955</td>\n",
       "      <td>0.0</td>\n",
       "      <td>7.608871</td>\n",
       "      <td>0</td>\n",
       "    </tr>\n",
       "    <tr>\n",
       "      <th>2</th>\n",
       "      <td>11.680313</td>\n",
       "      <td>6.679222</td>\n",
       "      <td>11.600485</td>\n",
       "      <td>4.879007</td>\n",
       "      <td>9.005325</td>\n",
       "      <td>8.992584</td>\n",
       "      <td>4.645736</td>\n",
       "      <td>0.0</td>\n",
       "      <td>7.608871</td>\n",
       "      <td>0</td>\n",
       "    </tr>\n",
       "    <tr>\n",
       "      <th>3</th>\n",
       "      <td>11.277116</td>\n",
       "      <td>7.032624</td>\n",
       "      <td>11.184108</td>\n",
       "      <td>4.298373</td>\n",
       "      <td>8.667708</td>\n",
       "      <td>8.644425</td>\n",
       "      <td>4.903495</td>\n",
       "      <td>0.0</td>\n",
       "      <td>7.608871</td>\n",
       "      <td>0</td>\n",
       "    </tr>\n",
       "    <tr>\n",
       "      <th>4</th>\n",
       "      <td>10.840377</td>\n",
       "      <td>6.848515</td>\n",
       "      <td>10.688288</td>\n",
       "      <td>4.340944</td>\n",
       "      <td>8.729874</td>\n",
       "      <td>8.697389</td>\n",
       "      <td>5.291746</td>\n",
       "      <td>0.0</td>\n",
       "      <td>7.608871</td>\n",
       "      <td>0</td>\n",
       "    </tr>\n",
       "  </tbody>\n",
       "</table>\n",
       "</div>"
      ],
      "text/plain": [
       "   Total Volume      4046       4225      4770  Total Bags  Small Bags  \\\n",
       "0     11.070344  6.944801  10.905146  3.895080    9.070833    9.060055   \n",
       "1     10.912867  6.515127  10.706381  4.083115    9.159737    9.149429   \n",
       "2     11.680313  6.679222  11.600485  4.879007    9.005325    8.992584   \n",
       "3     11.277116  7.032624  11.184108  4.298373    8.667708    8.644425   \n",
       "4     10.840377  6.848515  10.688288  4.340944    8.729874    8.697389   \n",
       "\n",
       "   Large Bags  XLarge Bags      year  region  \n",
       "0    4.545951          0.0  7.608871       0  \n",
       "1    4.589955          0.0  7.608871       0  \n",
       "2    4.645736          0.0  7.608871       0  \n",
       "3    4.903495          0.0  7.608871       0  \n",
       "4    5.291746          0.0  7.608871       0  "
      ]
     },
     "execution_count": 160,
     "metadata": {},
     "output_type": "execute_result"
    }
   ],
   "source": [
    "#input data\n",
    "x=df.drop(['AveragePrice'],axis=1)\n",
    "x.head()"
   ]
  },
  {
   "cell_type": "code",
   "execution_count": 161,
   "metadata": {},
   "outputs": [],
   "source": [
    "#scaling the input data\n",
    "from sklearn.preprocessing import StandardScaler\n",
    "sc=StandardScaler()\n",
    "x=sc.fit_transform(x)"
   ]
  },
  {
   "cell_type": "code",
   "execution_count": 162,
   "metadata": {},
   "outputs": [],
   "source": [
    "x=pd.DataFrame(x)"
   ]
  },
  {
   "cell_type": "code",
   "execution_count": 163,
   "metadata": {},
   "outputs": [],
   "source": [
    "x.columns=['Total Volume','4046','4225','4770','Total Bags','Small Bags','Large Bags','XLarge Bags','year','region']"
   ]
  },
  {
   "cell_type": "code",
   "execution_count": 164,
   "metadata": {},
   "outputs": [
    {
     "data": {
      "text/html": [
       "<div>\n",
       "<style scoped>\n",
       "    .dataframe tbody tr th:only-of-type {\n",
       "        vertical-align: middle;\n",
       "    }\n",
       "\n",
       "    .dataframe tbody tr th {\n",
       "        vertical-align: top;\n",
       "    }\n",
       "\n",
       "    .dataframe thead th {\n",
       "        text-align: right;\n",
       "    }\n",
       "</style>\n",
       "<table border=\"1\" class=\"dataframe\">\n",
       "  <thead>\n",
       "    <tr style=\"text-align: right;\">\n",
       "      <th></th>\n",
       "      <th>Total Volume</th>\n",
       "      <th>4046</th>\n",
       "      <th>4225</th>\n",
       "      <th>4770</th>\n",
       "      <th>Total Bags</th>\n",
       "      <th>Small Bags</th>\n",
       "      <th>Large Bags</th>\n",
       "      <th>XLarge Bags</th>\n",
       "      <th>year</th>\n",
       "      <th>region</th>\n",
       "    </tr>\n",
       "  </thead>\n",
       "  <tbody>\n",
       "    <tr>\n",
       "      <th>0</th>\n",
       "      <td>-1.410935</td>\n",
       "      <td>-1.847345</td>\n",
       "      <td>-0.507917</td>\n",
       "      <td>-1.815979</td>\n",
       "      <td>-1.822359</td>\n",
       "      <td>-1.648547</td>\n",
       "      <td>-0.917419</td>\n",
       "      <td>-0.775528</td>\n",
       "      <td>-0.41387</td>\n",
       "      <td>-1.322817</td>\n",
       "    </tr>\n",
       "    <tr>\n",
       "      <th>1</th>\n",
       "      <td>-1.535660</td>\n",
       "      <td>-2.042823</td>\n",
       "      <td>-0.635183</td>\n",
       "      <td>-1.739119</td>\n",
       "      <td>-1.746806</td>\n",
       "      <td>-1.573622</td>\n",
       "      <td>-0.904196</td>\n",
       "      <td>-0.775528</td>\n",
       "      <td>-0.41387</td>\n",
       "      <td>-1.322817</td>\n",
       "    </tr>\n",
       "    <tr>\n",
       "      <th>2</th>\n",
       "      <td>-0.927830</td>\n",
       "      <td>-1.968169</td>\n",
       "      <td>-0.062698</td>\n",
       "      <td>-1.413794</td>\n",
       "      <td>-1.878029</td>\n",
       "      <td>-1.705109</td>\n",
       "      <td>-0.887434</td>\n",
       "      <td>-0.775528</td>\n",
       "      <td>-0.41387</td>\n",
       "      <td>-1.322817</td>\n",
       "    </tr>\n",
       "    <tr>\n",
       "      <th>3</th>\n",
       "      <td>-1.247168</td>\n",
       "      <td>-1.807390</td>\n",
       "      <td>-0.329300</td>\n",
       "      <td>-1.651131</td>\n",
       "      <td>-2.164946</td>\n",
       "      <td>-1.996977</td>\n",
       "      <td>-0.809976</td>\n",
       "      <td>-0.775528</td>\n",
       "      <td>-0.41387</td>\n",
       "      <td>-1.322817</td>\n",
       "    </tr>\n",
       "    <tr>\n",
       "      <th>4</th>\n",
       "      <td>-1.593074</td>\n",
       "      <td>-1.891150</td>\n",
       "      <td>-0.646768</td>\n",
       "      <td>-1.633730</td>\n",
       "      <td>-2.112115</td>\n",
       "      <td>-1.952576</td>\n",
       "      <td>-0.693305</td>\n",
       "      <td>-0.775528</td>\n",
       "      <td>-0.41387</td>\n",
       "      <td>-1.322817</td>\n",
       "    </tr>\n",
       "  </tbody>\n",
       "</table>\n",
       "</div>"
      ],
      "text/plain": [
       "   Total Volume      4046      4225      4770  Total Bags  Small Bags  \\\n",
       "0     -1.410935 -1.847345 -0.507917 -1.815979   -1.822359   -1.648547   \n",
       "1     -1.535660 -2.042823 -0.635183 -1.739119   -1.746806   -1.573622   \n",
       "2     -0.927830 -1.968169 -0.062698 -1.413794   -1.878029   -1.705109   \n",
       "3     -1.247168 -1.807390 -0.329300 -1.651131   -2.164946   -1.996977   \n",
       "4     -1.593074 -1.891150 -0.646768 -1.633730   -2.112115   -1.952576   \n",
       "\n",
       "   Large Bags  XLarge Bags     year    region  \n",
       "0   -0.917419    -0.775528 -0.41387 -1.322817  \n",
       "1   -0.904196    -0.775528 -0.41387 -1.322817  \n",
       "2   -0.887434    -0.775528 -0.41387 -1.322817  \n",
       "3   -0.809976    -0.775528 -0.41387 -1.322817  \n",
       "4   -0.693305    -0.775528 -0.41387 -1.322817  "
      ]
     },
     "execution_count": 164,
     "metadata": {},
     "output_type": "execute_result"
    }
   ],
   "source": [
    "x.head()"
   ]
  },
  {
   "cell_type": "code",
   "execution_count": 165,
   "metadata": {},
   "outputs": [
    {
     "data": {
      "text/plain": [
       "Total Volume    0.462899\n",
       "4046           -0.270283\n",
       "4225            0.011359\n",
       "4770           -0.449713\n",
       "Total Bags      0.378673\n",
       "Small Bags      0.420856\n",
       "Large Bags     -0.979047\n",
       "XLarge Bags     0.851740\n",
       "year            2.004439\n",
       "region          0.276276\n",
       "dtype: float64"
      ]
     },
     "execution_count": 165,
     "metadata": {},
     "output_type": "execute_result"
    }
   ],
   "source": [
    "x.skew()"
   ]
  },
  {
   "cell_type": "code",
   "execution_count": 166,
   "metadata": {},
   "outputs": [
    {
     "data": {
      "text/plain": [
       "array([1.33, 1.35, 0.93, ..., 1.48, 1.47, 1.43])"
      ]
     },
     "execution_count": 166,
     "metadata": {},
     "output_type": "execute_result"
    }
   ],
   "source": [
    "#target column\n",
    "y=df['AveragePrice'].values\n",
    "y"
   ]
  },
  {
   "cell_type": "code",
   "execution_count": null,
   "metadata": {},
   "outputs": [],
   "source": [
    "#checking shapes"
   ]
  },
  {
   "cell_type": "code",
   "execution_count": 167,
   "metadata": {},
   "outputs": [
    {
     "data": {
      "text/plain": [
       "(1436, 10)"
      ]
     },
     "execution_count": 167,
     "metadata": {},
     "output_type": "execute_result"
    }
   ],
   "source": [
    "x.shape"
   ]
  },
  {
   "cell_type": "code",
   "execution_count": 168,
   "metadata": {},
   "outputs": [
    {
     "data": {
      "text/plain": [
       "(1436,)"
      ]
     },
     "execution_count": 168,
     "metadata": {},
     "output_type": "execute_result"
    }
   ],
   "source": [
    "y.shape"
   ]
  },
  {
   "cell_type": "code",
   "execution_count": 169,
   "metadata": {},
   "outputs": [
    {
     "data": {
      "text/plain": [
       "(1436, 1)"
      ]
     },
     "execution_count": 169,
     "metadata": {},
     "output_type": "execute_result"
    }
   ],
   "source": [
    "y=y.reshape(-1,1)\n",
    "y.shape"
   ]
  },
  {
   "cell_type": "code",
   "execution_count": 170,
   "metadata": {},
   "outputs": [
    {
     "data": {
      "text/plain": [
       "array([[1.33],\n",
       "       [1.35],\n",
       "       [0.93],\n",
       "       ...,\n",
       "       [1.48],\n",
       "       [1.47],\n",
       "       [1.43]])"
      ]
     },
     "execution_count": 170,
     "metadata": {},
     "output_type": "execute_result"
    }
   ],
   "source": [
    "y"
   ]
  },
  {
   "cell_type": "code",
   "execution_count": 171,
   "metadata": {},
   "outputs": [],
   "source": [
    "#Importing all the libraries,metrices required for ML \n",
    "from sklearn.linear_model import LinearRegression\n",
    "from sklearn.metrics import mean_squared_error,mean_absolute_error\n",
    "from sklearn.model_selection import train_test_split\n",
    "x_train,x_test,y_train,y_test=train_test_split(x,y,test_size=.33,random_state=42) #splitting the data into training and testing"
   ]
  },
  {
   "cell_type": "code",
   "execution_count": 172,
   "metadata": {},
   "outputs": [
    {
     "name": "stdout",
     "output_type": "stream",
     "text": [
      "(962, 10) (474, 10)\n"
     ]
    }
   ],
   "source": [
    "print(x_train.shape,x_test.shape)"
   ]
  },
  {
   "cell_type": "code",
   "execution_count": 173,
   "metadata": {},
   "outputs": [
    {
     "name": "stdout",
     "output_type": "stream",
     "text": [
      "(962, 1) (474, 1)\n"
     ]
    }
   ],
   "source": [
    "print(y_train.shape,y_test.shape)"
   ]
  },
  {
   "cell_type": "code",
   "execution_count": 174,
   "metadata": {},
   "outputs": [],
   "source": [
    "lm=LinearRegression()# Using the LinearRegression model since target is a continuous variable"
   ]
  },
  {
   "cell_type": "code",
   "execution_count": 175,
   "metadata": {},
   "outputs": [
    {
     "data": {
      "text/plain": [
       "LinearRegression()"
      ]
     },
     "execution_count": 175,
     "metadata": {},
     "output_type": "execute_result"
    }
   ],
   "source": [
    "lm.fit(x_train,y_train)#fitting the model"
   ]
  },
  {
   "cell_type": "code",
   "execution_count": 176,
   "metadata": {},
   "outputs": [
    {
     "data": {
      "text/plain": [
       "array([[-0.26495866, -0.00656567,  0.10896228, -0.02625938, -0.06889134,\n",
       "         0.20229378,  0.01880325,  0.00118383, -0.01205294, -0.02336649]])"
      ]
     },
     "execution_count": 176,
     "metadata": {},
     "output_type": "execute_result"
    }
   ],
   "source": [
    "lm.coef_ #checking coefficient"
   ]
  },
  {
   "cell_type": "code",
   "execution_count": 177,
   "metadata": {},
   "outputs": [
    {
     "data": {
      "text/plain": [
       "array([1.07547393])"
      ]
     },
     "execution_count": 177,
     "metadata": {},
     "output_type": "execute_result"
    }
   ],
   "source": [
    "lm.intercept_"
   ]
  },
  {
   "cell_type": "code",
   "execution_count": 178,
   "metadata": {},
   "outputs": [
    {
     "data": {
      "text/plain": [
       "0.39002676661089464"
      ]
     },
     "execution_count": 178,
     "metadata": {},
     "output_type": "execute_result"
    }
   ],
   "source": [
    "lm.score(x_train,y_train) #checking the score....which is quite low"
   ]
  },
  {
   "cell_type": "code",
   "execution_count": 179,
   "metadata": {},
   "outputs": [],
   "source": [
    "#Creating a loop to find maximum r2 score from range(1,101) and creating a function maxr2_score inside which we can pass any model\n",
    "from sklearn.metrics import r2_score\n",
    "\n",
    "def maxr2_score(regr,x,y):\n",
    "    max_r_score=0\n",
    "    for r_state in range(1,101):\n",
    "        x_train,x_test,y_train,y_test=train_test_split(x,y,random_state=r_state,test_size=0.33)\n",
    "        regr.fit(x_train,y_train)\n",
    "        y_pred=regr.predict(x_test)\n",
    "        r2_scr=r2_score(y_test,y_pred)\n",
    "        if r2_scr>max_r_score:\n",
    "            max_r_score=r2_scr\n",
    "            final_r_state=r_state\n",
    "    print(\"Max r2 score corresponding to \",final_r_state,\"is\",max_r_score)\n",
    "    return final_r_state"
   ]
  },
  {
   "cell_type": "code",
   "execution_count": 180,
   "metadata": {},
   "outputs": [
    {
     "name": "stdout",
     "output_type": "stream",
     "text": [
      "Max r2 score corresponding to  8 is 0.4437096977559861\n"
     ]
    }
   ],
   "source": [
    "lreg=LinearRegression()\n",
    "r_state=maxr2_score(lreg,x,y) #First we passed LinearRegression and got highest r2 score corresponding to 8 as 0.4437096977559861"
   ]
  },
  {
   "cell_type": "code",
   "execution_count": 181,
   "metadata": {},
   "outputs": [
    {
     "data": {
      "text/plain": [
       "0.3734209302836302"
      ]
     },
     "execution_count": 181,
     "metadata": {},
     "output_type": "execute_result"
    }
   ],
   "source": [
    "x_train,x_test,y_train,y_test=train_test_split(x,y,random_state=8,test_size=0.33)\n",
    "lreg.fit(x_train,y_train)\n",
    "lreg.score(x_train,y_train)"
   ]
  },
  {
   "cell_type": "code",
   "execution_count": 182,
   "metadata": {},
   "outputs": [],
   "source": [
    "from sklearn.model_selection import GridSearchCV\n",
    "from sklearn.neighbors import KNeighborsRegressor "
   ]
  },
  {
   "cell_type": "code",
   "execution_count": 183,
   "metadata": {},
   "outputs": [
    {
     "data": {
      "text/plain": [
       "{'n_neighbors': 16}"
      ]
     },
     "execution_count": 183,
     "metadata": {},
     "output_type": "execute_result"
    }
   ],
   "source": [
    "#using GridSearchCV to find best parameter for KNeighborsRegressor which we got as 16\n",
    "neighbors={'n_neighbors':range(1,50)}\n",
    "knr=KNeighborsRegressor()\n",
    "gknr=GridSearchCV(knr,neighbors,cv=10)\n",
    "gknr.fit(x,y)\n",
    "gknr.best_params_"
   ]
  },
  {
   "cell_type": "code",
   "execution_count": 184,
   "metadata": {},
   "outputs": [
    {
     "name": "stdout",
     "output_type": "stream",
     "text": [
      "Max r2 score corresponding to  63 is 0.7006398853833631\n"
     ]
    }
   ],
   "source": [
    "knr=KNeighborsRegressor(n_neighbors=16)\n",
    "r_state=maxr2_score(knr,x,y) "
   ]
  },
  {
   "cell_type": "code",
   "execution_count": 185,
   "metadata": {},
   "outputs": [
    {
     "name": "stdout",
     "output_type": "stream",
     "text": [
      "Mean r2_score for Linear Regression: [-0.49838623 -0.24921785  0.17293251  0.12689133 -0.51601053  0.39004622\n",
      " -0.26864671  0.47583325  0.45432932 -0.04852163]\n",
      "Standard deviation in r2_score for Linear Regression: 0.35806593225423045\n",
      "\n",
      "\n",
      "Mean r2_score for KNN Regression: [ 0.10394343  0.44783622 -0.05175252  0.31660356 -0.92295434  0.30464382\n",
      " -1.21129745  0.23428479  0.07316125 -0.11264896]\n",
      "Standard deviation in r2_score for KNN Regression: 0.5227008288463357\n"
     ]
    }
   ],
   "source": [
    "#checking cross_val_score for LinearRegression & KNeighborsRegressor\n",
    "from sklearn.model_selection import cross_val_score\n",
    "print(\"Mean r2_score for Linear Regression:\",cross_val_score(lreg,x,y,cv=10,scoring=\"r2\"))\n",
    "print(\"Standard deviation in r2_score for Linear Regression:\",cross_val_score(lreg,x,y,cv=10,scoring=\"r2\").std())\n",
    "print('\\n')\n",
    "print(\"Mean r2_score for KNN Regression:\",cross_val_score(knr,x,y,cv=10,scoring=\"r2\"))\n",
    "print(\"Standard deviation in r2_score for KNN Regression:\",cross_val_score(knr,x,y,cv=10,scoring=\"r2\").std())"
   ]
  },
  {
   "cell_type": "code",
   "execution_count": 186,
   "metadata": {},
   "outputs": [
    {
     "data": {
      "text/plain": [
       "{'alpha': 0.01}"
      ]
     },
     "execution_count": 186,
     "metadata": {},
     "output_type": "execute_result"
    }
   ],
   "source": [
    "#Using Lasso and Ridge to improve accuracy but again score is quite low\n",
    "from sklearn.linear_model import Lasso,Ridge\n",
    "ls=Lasso()\n",
    "parameters={'alpha':[0.001,0.01,0.1,1,10]}\n",
    "clf=GridSearchCV(ls,parameters,cv=10)\n",
    "clf.fit(x,y)\n",
    "clf.best_params_"
   ]
  },
  {
   "cell_type": "code",
   "execution_count": 187,
   "metadata": {},
   "outputs": [
    {
     "name": "stdout",
     "output_type": "stream",
     "text": [
      "Max r2 score corresponding to  83 is 0.353875626815499\n"
     ]
    }
   ],
   "source": [
    "ls=Lasso(alpha=0.01)\n",
    "r_state=maxr2_score(ls,x,y)"
   ]
  },
  {
   "cell_type": "code",
   "execution_count": 188,
   "metadata": {},
   "outputs": [
    {
     "name": "stdout",
     "output_type": "stream",
     "text": [
      "Mean r2_score for Lasso: 0.09006699577040841\n",
      "Standard deviation in r2_score for Lasso: 0.2536290878230224\n"
     ]
    }
   ],
   "source": [
    "print(\"Mean r2_score for Lasso:\",cross_val_score(ls,x,y,cv=10,scoring=\"r2\").mean())\n",
    "print(\"Standard deviation in r2_score for Lasso:\",cross_val_score(ls,x,y,cv=10,scoring=\"r2\").std())"
   ]
  },
  {
   "cell_type": "code",
   "execution_count": 189,
   "metadata": {},
   "outputs": [
    {
     "data": {
      "text/plain": [
       "{'alpha': 10}"
      ]
     },
     "execution_count": 189,
     "metadata": {},
     "output_type": "execute_result"
    }
   ],
   "source": [
    "rd=Ridge()\n",
    "parameters={'alpha':[0.001,0.01,0.1,1,10]}\n",
    "clf=GridSearchCV(rd,parameters,cv=10)\n",
    "clf.fit(x,y)\n",
    "clf.best_params_"
   ]
  },
  {
   "cell_type": "code",
   "execution_count": 190,
   "metadata": {},
   "outputs": [],
   "source": [
    "#we won't consider this as it will make all coefficient to zero"
   ]
  },
  {
   "cell_type": "code",
   "execution_count": 191,
   "metadata": {},
   "outputs": [
    {
     "data": {
      "text/plain": [
       "{'n_estimators': 350}"
      ]
     },
     "execution_count": 191,
     "metadata": {},
     "output_type": "execute_result"
    }
   ],
   "source": [
    "#Now we need to boost the model using Random Forest Regressor\n",
    "from sklearn.ensemble import RandomForestRegressor\n",
    "import warnings\n",
    "warnings.filterwarnings('ignore')\n",
    "rfr=RandomForestRegressor()\n",
    "parameters={'n_estimators':[50,100,150,200,250,300,350,400,450,500]} #Searching best parameters\n",
    "clf=GridSearchCV(rfr,parameters,cv=10)\n",
    "clf.fit(x,y)\n",
    "clf.best_params_"
   ]
  },
  {
   "cell_type": "code",
   "execution_count": 192,
   "metadata": {},
   "outputs": [
    {
     "name": "stdout",
     "output_type": "stream",
     "text": [
      "Max r2 score corresponding to  86 is 0.8493391287921197\n"
     ]
    }
   ],
   "source": [
    "rfr=RandomForestRegressor(n_estimators=350)\n",
    "r_state=maxr2_score(rfr,x,y)"
   ]
  },
  {
   "cell_type": "code",
   "execution_count": 193,
   "metadata": {
    "scrolled": false
   },
   "outputs": [
    {
     "name": "stdout",
     "output_type": "stream",
     "text": [
      "Mean r2_score for RandomForestRegressor: 0.07345098188872072\n",
      "Standard deviation in r2_score for RandomForestRegressor: 0.46484150752860093\n"
     ]
    }
   ],
   "source": [
    "print(\"Mean r2_score for RandomForestRegressor:\",cross_val_score(rfr,x,y,cv=10,scoring=\"r2\").mean())\n",
    "print(\"Standard deviation in r2_score for RandomForestRegressor:\",cross_val_score(rfr,x,y,cv=10,scoring=\"r2\").std())"
   ]
  },
  {
   "cell_type": "code",
   "execution_count": 194,
   "metadata": {},
   "outputs": [
    {
     "data": {
      "text/plain": [
       "0.9739541310834798"
      ]
     },
     "execution_count": 194,
     "metadata": {},
     "output_type": "execute_result"
    }
   ],
   "source": [
    "rfr=RandomForestRegressor(n_estimators=350,random_state=53) \n",
    "rfr.fit(x_train,y_train)\n",
    "rfr.score(x_train,y_train)"
   ]
  },
  {
   "cell_type": "markdown",
   "metadata": {},
   "source": [
    "So we got the best score corresponding to n_estimators=350 and so I choose Random Forest Regressor as the final model."
   ]
  },
  {
   "cell_type": "markdown",
   "metadata": {},
   "source": [
    "# Classification-Region"
   ]
  },
  {
   "cell_type": "code",
   "execution_count": 195,
   "metadata": {},
   "outputs": [
    {
     "data": {
      "text/html": [
       "<div>\n",
       "<style scoped>\n",
       "    .dataframe tbody tr th:only-of-type {\n",
       "        vertical-align: middle;\n",
       "    }\n",
       "\n",
       "    .dataframe tbody tr th {\n",
       "        vertical-align: top;\n",
       "    }\n",
       "\n",
       "    .dataframe thead th {\n",
       "        text-align: right;\n",
       "    }\n",
       "</style>\n",
       "<table border=\"1\" class=\"dataframe\">\n",
       "  <thead>\n",
       "    <tr style=\"text-align: right;\">\n",
       "      <th></th>\n",
       "      <th>AveragePrice</th>\n",
       "      <th>Total Volume</th>\n",
       "      <th>4046</th>\n",
       "      <th>4225</th>\n",
       "      <th>4770</th>\n",
       "      <th>Total Bags</th>\n",
       "      <th>Small Bags</th>\n",
       "      <th>Large Bags</th>\n",
       "      <th>XLarge Bags</th>\n",
       "      <th>year</th>\n",
       "    </tr>\n",
       "  </thead>\n",
       "  <tbody>\n",
       "    <tr>\n",
       "      <th>0</th>\n",
       "      <td>1.33</td>\n",
       "      <td>11.070344</td>\n",
       "      <td>6.944801</td>\n",
       "      <td>10.905146</td>\n",
       "      <td>3.895080</td>\n",
       "      <td>9.070833</td>\n",
       "      <td>9.060055</td>\n",
       "      <td>4.545951</td>\n",
       "      <td>0.0</td>\n",
       "      <td>7.608871</td>\n",
       "    </tr>\n",
       "    <tr>\n",
       "      <th>1</th>\n",
       "      <td>1.35</td>\n",
       "      <td>10.912867</td>\n",
       "      <td>6.515127</td>\n",
       "      <td>10.706381</td>\n",
       "      <td>4.083115</td>\n",
       "      <td>9.159737</td>\n",
       "      <td>9.149429</td>\n",
       "      <td>4.589955</td>\n",
       "      <td>0.0</td>\n",
       "      <td>7.608871</td>\n",
       "    </tr>\n",
       "    <tr>\n",
       "      <th>2</th>\n",
       "      <td>0.93</td>\n",
       "      <td>11.680313</td>\n",
       "      <td>6.679222</td>\n",
       "      <td>11.600485</td>\n",
       "      <td>4.879007</td>\n",
       "      <td>9.005325</td>\n",
       "      <td>8.992584</td>\n",
       "      <td>4.645736</td>\n",
       "      <td>0.0</td>\n",
       "      <td>7.608871</td>\n",
       "    </tr>\n",
       "    <tr>\n",
       "      <th>3</th>\n",
       "      <td>1.08</td>\n",
       "      <td>11.277116</td>\n",
       "      <td>7.032624</td>\n",
       "      <td>11.184108</td>\n",
       "      <td>4.298373</td>\n",
       "      <td>8.667708</td>\n",
       "      <td>8.644425</td>\n",
       "      <td>4.903495</td>\n",
       "      <td>0.0</td>\n",
       "      <td>7.608871</td>\n",
       "    </tr>\n",
       "    <tr>\n",
       "      <th>4</th>\n",
       "      <td>1.28</td>\n",
       "      <td>10.840377</td>\n",
       "      <td>6.848515</td>\n",
       "      <td>10.688288</td>\n",
       "      <td>4.340944</td>\n",
       "      <td>8.729874</td>\n",
       "      <td>8.697389</td>\n",
       "      <td>5.291746</td>\n",
       "      <td>0.0</td>\n",
       "      <td>7.608871</td>\n",
       "    </tr>\n",
       "  </tbody>\n",
       "</table>\n",
       "</div>"
      ],
      "text/plain": [
       "   AveragePrice  Total Volume      4046       4225      4770  Total Bags  \\\n",
       "0          1.33     11.070344  6.944801  10.905146  3.895080    9.070833   \n",
       "1          1.35     10.912867  6.515127  10.706381  4.083115    9.159737   \n",
       "2          0.93     11.680313  6.679222  11.600485  4.879007    9.005325   \n",
       "3          1.08     11.277116  7.032624  11.184108  4.298373    8.667708   \n",
       "4          1.28     10.840377  6.848515  10.688288  4.340944    8.729874   \n",
       "\n",
       "   Small Bags  Large Bags  XLarge Bags      year  \n",
       "0    9.060055    4.545951          0.0  7.608871  \n",
       "1    9.149429    4.589955          0.0  7.608871  \n",
       "2    8.992584    4.645736          0.0  7.608871  \n",
       "3    8.644425    4.903495          0.0  7.608871  \n",
       "4    8.697389    5.291746          0.0  7.608871  "
      ]
     },
     "execution_count": 195,
     "metadata": {},
     "output_type": "execute_result"
    }
   ],
   "source": [
    "#Dropping 'region' since its target column in this case\n",
    "df_x=df.drop(['region'],axis=1)\n",
    "df_x.head()"
   ]
  },
  {
   "cell_type": "code",
   "execution_count": 196,
   "metadata": {},
   "outputs": [],
   "source": [
    "#Scaling the data\n",
    "from sklearn.preprocessing import StandardScaler\n",
    "sc=StandardScaler()\n",
    "df_x=sc.fit_transform(df_x)"
   ]
  },
  {
   "cell_type": "code",
   "execution_count": 197,
   "metadata": {},
   "outputs": [],
   "source": [
    "df_x=pd.DataFrame(df_x)"
   ]
  },
  {
   "cell_type": "code",
   "execution_count": 198,
   "metadata": {},
   "outputs": [
    {
     "data": {
      "text/html": [
       "<div>\n",
       "<style scoped>\n",
       "    .dataframe tbody tr th:only-of-type {\n",
       "        vertical-align: middle;\n",
       "    }\n",
       "\n",
       "    .dataframe tbody tr th {\n",
       "        vertical-align: top;\n",
       "    }\n",
       "\n",
       "    .dataframe thead th {\n",
       "        text-align: right;\n",
       "    }\n",
       "</style>\n",
       "<table border=\"1\" class=\"dataframe\">\n",
       "  <thead>\n",
       "    <tr style=\"text-align: right;\">\n",
       "      <th></th>\n",
       "      <th>AveragePrice</th>\n",
       "      <th>Total Volume</th>\n",
       "      <th>4046</th>\n",
       "      <th>4225</th>\n",
       "      <th>4770</th>\n",
       "      <th>Total Bags</th>\n",
       "      <th>Small Bags</th>\n",
       "      <th>Large Bags</th>\n",
       "      <th>XLarge Bags</th>\n",
       "      <th>year</th>\n",
       "    </tr>\n",
       "  </thead>\n",
       "  <tbody>\n",
       "    <tr>\n",
       "      <th>0</th>\n",
       "      <td>1.344989</td>\n",
       "      <td>-1.410935</td>\n",
       "      <td>-1.847345</td>\n",
       "      <td>-0.507917</td>\n",
       "      <td>-1.815979</td>\n",
       "      <td>-1.822359</td>\n",
       "      <td>-1.648547</td>\n",
       "      <td>-0.917419</td>\n",
       "      <td>-0.775528</td>\n",
       "      <td>-0.41387</td>\n",
       "    </tr>\n",
       "    <tr>\n",
       "      <th>1</th>\n",
       "      <td>1.451388</td>\n",
       "      <td>-1.535660</td>\n",
       "      <td>-2.042823</td>\n",
       "      <td>-0.635183</td>\n",
       "      <td>-1.739119</td>\n",
       "      <td>-1.746806</td>\n",
       "      <td>-1.573622</td>\n",
       "      <td>-0.904196</td>\n",
       "      <td>-0.775528</td>\n",
       "      <td>-0.41387</td>\n",
       "    </tr>\n",
       "    <tr>\n",
       "      <th>2</th>\n",
       "      <td>-0.782987</td>\n",
       "      <td>-0.927830</td>\n",
       "      <td>-1.968169</td>\n",
       "      <td>-0.062698</td>\n",
       "      <td>-1.413794</td>\n",
       "      <td>-1.878029</td>\n",
       "      <td>-1.705109</td>\n",
       "      <td>-0.887434</td>\n",
       "      <td>-0.775528</td>\n",
       "      <td>-0.41387</td>\n",
       "    </tr>\n",
       "    <tr>\n",
       "      <th>3</th>\n",
       "      <td>0.015004</td>\n",
       "      <td>-1.247168</td>\n",
       "      <td>-1.807390</td>\n",
       "      <td>-0.329300</td>\n",
       "      <td>-1.651131</td>\n",
       "      <td>-2.164946</td>\n",
       "      <td>-1.996977</td>\n",
       "      <td>-0.809976</td>\n",
       "      <td>-0.775528</td>\n",
       "      <td>-0.41387</td>\n",
       "    </tr>\n",
       "    <tr>\n",
       "      <th>4</th>\n",
       "      <td>1.078992</td>\n",
       "      <td>-1.593074</td>\n",
       "      <td>-1.891150</td>\n",
       "      <td>-0.646768</td>\n",
       "      <td>-1.633730</td>\n",
       "      <td>-2.112115</td>\n",
       "      <td>-1.952576</td>\n",
       "      <td>-0.693305</td>\n",
       "      <td>-0.775528</td>\n",
       "      <td>-0.41387</td>\n",
       "    </tr>\n",
       "  </tbody>\n",
       "</table>\n",
       "</div>"
      ],
      "text/plain": [
       "   AveragePrice  Total Volume      4046      4225      4770  Total Bags  \\\n",
       "0      1.344989     -1.410935 -1.847345 -0.507917 -1.815979   -1.822359   \n",
       "1      1.451388     -1.535660 -2.042823 -0.635183 -1.739119   -1.746806   \n",
       "2     -0.782987     -0.927830 -1.968169 -0.062698 -1.413794   -1.878029   \n",
       "3      0.015004     -1.247168 -1.807390 -0.329300 -1.651131   -2.164946   \n",
       "4      1.078992     -1.593074 -1.891150 -0.646768 -1.633730   -2.112115   \n",
       "\n",
       "   Small Bags  Large Bags  XLarge Bags     year  \n",
       "0   -1.648547   -0.917419    -0.775528 -0.41387  \n",
       "1   -1.573622   -0.904196    -0.775528 -0.41387  \n",
       "2   -1.705109   -0.887434    -0.775528 -0.41387  \n",
       "3   -1.996977   -0.809976    -0.775528 -0.41387  \n",
       "4   -1.952576   -0.693305    -0.775528 -0.41387  "
      ]
     },
     "execution_count": 198,
     "metadata": {},
     "output_type": "execute_result"
    }
   ],
   "source": [
    "df_x.columns=['AveragePrice','Total Volume','4046','4225','4770','Total Bags','Small Bags','Large Bags','XLarge Bags','year']\n",
    "df_x.head()"
   ]
  },
  {
   "cell_type": "code",
   "execution_count": 199,
   "metadata": {},
   "outputs": [
    {
     "data": {
      "text/plain": [
       "AveragePrice   -0.184770\n",
       "Total Volume    0.462899\n",
       "4046           -0.270283\n",
       "4225            0.011359\n",
       "4770           -0.449713\n",
       "Total Bags      0.378673\n",
       "Small Bags      0.420856\n",
       "Large Bags     -0.979047\n",
       "XLarge Bags     0.851740\n",
       "year            2.004439\n",
       "dtype: float64"
      ]
     },
     "execution_count": 199,
     "metadata": {},
     "output_type": "execute_result"
    }
   ],
   "source": [
    "df_x.skew()"
   ]
  },
  {
   "cell_type": "code",
   "execution_count": 200,
   "metadata": {},
   "outputs": [
    {
     "data": {
      "text/plain": [
       "array([0, 0, 0, ..., 7, 7, 7])"
      ]
     },
     "execution_count": 200,
     "metadata": {},
     "output_type": "execute_result"
    }
   ],
   "source": [
    "df_y=df['region'].values #Target column\n",
    "df_y"
   ]
  },
  {
   "cell_type": "code",
   "execution_count": 201,
   "metadata": {},
   "outputs": [
    {
     "data": {
      "text/plain": [
       "(1436, 10)"
      ]
     },
     "execution_count": 201,
     "metadata": {},
     "output_type": "execute_result"
    }
   ],
   "source": [
    "df_x.shape"
   ]
  },
  {
   "cell_type": "code",
   "execution_count": 202,
   "metadata": {},
   "outputs": [
    {
     "data": {
      "text/plain": [
       "(1436,)"
      ]
     },
     "execution_count": 202,
     "metadata": {},
     "output_type": "execute_result"
    }
   ],
   "source": [
    "df_y.shape"
   ]
  },
  {
   "cell_type": "code",
   "execution_count": 203,
   "metadata": {},
   "outputs": [
    {
     "data": {
      "text/plain": [
       "(1436, 1)"
      ]
     },
     "execution_count": 203,
     "metadata": {},
     "output_type": "execute_result"
    }
   ],
   "source": [
    "df_y=df_y.reshape(-1,1)\n",
    "df_y.shape"
   ]
  },
  {
   "cell_type": "code",
   "execution_count": 204,
   "metadata": {},
   "outputs": [
    {
     "data": {
      "text/plain": [
       "array([[0],\n",
       "       [0],\n",
       "       [0],\n",
       "       ...,\n",
       "       [7],\n",
       "       [7],\n",
       "       [7]])"
      ]
     },
     "execution_count": 204,
     "metadata": {},
     "output_type": "execute_result"
    }
   ],
   "source": [
    "df_y"
   ]
  },
  {
   "cell_type": "code",
   "execution_count": 205,
   "metadata": {},
   "outputs": [],
   "source": [
    "from sklearn.model_selection import train_test_split\n",
    "from sklearn.naive_bayes import MultinomialNB\n",
    "\n",
    "from sklearn.svm import SVC\n",
    "from sklearn.tree import DecisionTreeClassifier\n",
    "from sklearn.neighbors import KNeighborsClassifier\n",
    "from sklearn.metrics import accuracy_score,confusion_matrix,classification_report,roc_curve,auc,roc_auc_score\n",
    "import warnings\n",
    "warnings.filterwarnings('ignore')"
   ]
  },
  {
   "cell_type": "code",
   "execution_count": 206,
   "metadata": {},
   "outputs": [],
   "source": [
    "df_x_train,df_x_test,df_y_train,df_y_test=train_test_split(df_x,df_y,test_size=0.3,random_state=9)"
   ]
  },
  {
   "cell_type": "code",
   "execution_count": 207,
   "metadata": {},
   "outputs": [
    {
     "data": {
      "text/plain": [
       "(1005, 10)"
      ]
     },
     "execution_count": 207,
     "metadata": {},
     "output_type": "execute_result"
    }
   ],
   "source": [
    "df_x_train.shape"
   ]
  },
  {
   "cell_type": "code",
   "execution_count": 208,
   "metadata": {},
   "outputs": [
    {
     "data": {
      "text/plain": [
       "(1005, 1)"
      ]
     },
     "execution_count": 208,
     "metadata": {},
     "output_type": "execute_result"
    }
   ],
   "source": [
    "df_y_train.shape"
   ]
  },
  {
   "cell_type": "code",
   "execution_count": 209,
   "metadata": {},
   "outputs": [
    {
     "data": {
      "text/plain": [
       "(431, 10)"
      ]
     },
     "execution_count": 209,
     "metadata": {},
     "output_type": "execute_result"
    }
   ],
   "source": [
    "df_x_test.shape"
   ]
  },
  {
   "cell_type": "code",
   "execution_count": 210,
   "metadata": {},
   "outputs": [
    {
     "data": {
      "text/plain": [
       "(431, 1)"
      ]
     },
     "execution_count": 210,
     "metadata": {},
     "output_type": "execute_result"
    }
   ],
   "source": [
    "df_y_test.shape"
   ]
  },
  {
   "cell_type": "code",
   "execution_count": 211,
   "metadata": {},
   "outputs": [
    {
     "name": "stdout",
     "output_type": "stream",
     "text": [
      "Accuracy score of KNeighborsClassifier() is:\n",
      "0.9118329466357309\n",
      "[[12  0  0 ...  0  0  0]\n",
      " [ 0 15  0 ...  0  0  0]\n",
      " [ 0  0 21 ...  0  0  0]\n",
      " ...\n",
      " [ 0  0  0 ...  8  0  0]\n",
      " [ 0  0  0 ...  0  7  0]\n",
      " [ 0  0  0 ...  0  0  6]]\n",
      "              precision    recall  f1-score   support\n",
      "\n",
      "           0       0.80      1.00      0.89        12\n",
      "           1       0.94      0.94      0.94        16\n",
      "           2       1.00      1.00      1.00        21\n",
      "           3       1.00      0.91      0.95        22\n",
      "           4       1.00      1.00      1.00        19\n",
      "           5       1.00      0.82      0.90        17\n",
      "           6       1.00      1.00      1.00        12\n",
      "           7       0.86      0.86      0.86        14\n",
      "           8       1.00      1.00      1.00         7\n",
      "           9       0.87      1.00      0.93        13\n",
      "          10       0.80      0.80      0.80         5\n",
      "          11       0.82      1.00      0.90         9\n",
      "          12       0.94      1.00      0.97        15\n",
      "          13       1.00      1.00      1.00         4\n",
      "          14       0.75      1.00      0.86         3\n",
      "          15       0.86      1.00      0.92         6\n",
      "          16       1.00      1.00      1.00         5\n",
      "          17       0.90      1.00      0.95         9\n",
      "          18       1.00      1.00      1.00         7\n",
      "          19       1.00      1.00      1.00        11\n",
      "          20       1.00      0.67      0.80         3\n",
      "          21       0.00      0.00      0.00         2\n",
      "          22       0.88      1.00      0.93         7\n",
      "          23       0.75      1.00      0.86         6\n",
      "          24       0.71      0.83      0.77         6\n",
      "          25       1.00      0.78      0.88         9\n",
      "          26       1.00      1.00      1.00        17\n",
      "          27       1.00      1.00      1.00         5\n",
      "          28       1.00      1.00      1.00         5\n",
      "          29       0.25      0.50      0.33         4\n",
      "          30       1.00      0.50      0.67         4\n",
      "          31       1.00      0.87      0.93        15\n",
      "          32       1.00      0.83      0.91         6\n",
      "          33       1.00      1.00      1.00         3\n",
      "          34       0.83      0.83      0.83        12\n",
      "          35       0.80      0.67      0.73         6\n",
      "          36       0.57      1.00      0.73         4\n",
      "          37       1.00      0.80      0.89         5\n",
      "          38       1.00      0.86      0.92         7\n",
      "          39       0.50      0.50      0.50         2\n",
      "          40       1.00      0.50      0.67         2\n",
      "          41       1.00      1.00      1.00         6\n",
      "          42       1.00      1.00      1.00        10\n",
      "          43       1.00      1.00      1.00         3\n",
      "          44       0.90      0.90      0.90        20\n",
      "          45       0.75      1.00      0.86         3\n",
      "          46       1.00      1.00      1.00         5\n",
      "          47       1.00      0.57      0.73        14\n",
      "          49       1.00      1.00      1.00         7\n",
      "          50       0.75      1.00      0.86         6\n",
      "\n",
      "    accuracy                           0.91       431\n",
      "   macro avg       0.88      0.88      0.87       431\n",
      "weighted avg       0.92      0.91      0.91       431\n",
      "\n",
      "Cross_Val_Score= 0.9255293317793317\n",
      "\n",
      "\n",
      "Accuracy score of SVC() is:\n",
      "0.9002320185614849\n",
      "[[12  0  0 ...  0  0  0]\n",
      " [ 0 15  0 ...  0  0  0]\n",
      " [ 0  0 21 ...  0  0  0]\n",
      " ...\n",
      " [ 0  0  0 ... 10  0  0]\n",
      " [ 0  0  0 ...  0  6  0]\n",
      " [ 0  0  0 ...  0  0  6]]\n",
      "              precision    recall  f1-score   support\n",
      "\n",
      "           0       0.86      1.00      0.92        12\n",
      "           1       0.88      0.94      0.91        16\n",
      "           2       1.00      1.00      1.00        21\n",
      "           3       1.00      0.95      0.98        22\n",
      "           4       1.00      1.00      1.00        19\n",
      "           5       1.00      0.88      0.94        17\n",
      "           6       1.00      1.00      1.00        12\n",
      "           7       0.80      0.86      0.83        14\n",
      "           8       1.00      1.00      1.00         7\n",
      "           9       0.81      1.00      0.90        13\n",
      "          10       0.80      0.80      0.80         5\n",
      "          11       1.00      1.00      1.00         9\n",
      "          12       0.94      1.00      0.97        15\n",
      "          13       0.80      1.00      0.89         4\n",
      "          14       0.75      1.00      0.86         3\n",
      "          15       1.00      1.00      1.00         6\n",
      "          16       1.00      1.00      1.00         5\n",
      "          17       0.90      1.00      0.95         9\n",
      "          18       1.00      0.86      0.92         7\n",
      "          19       1.00      1.00      1.00        11\n",
      "          20       0.00      0.00      0.00         3\n",
      "          21       0.00      0.00      0.00         2\n",
      "          22       0.88      1.00      0.93         7\n",
      "          23       1.00      0.17      0.29         6\n",
      "          24       0.83      0.83      0.83         6\n",
      "          25       1.00      0.67      0.80         9\n",
      "          26       1.00      1.00      1.00        17\n",
      "          27       1.00      1.00      1.00         5\n",
      "          28       1.00      1.00      1.00         5\n",
      "          29       0.10      0.25      0.14         4\n",
      "          30       1.00      1.00      1.00         4\n",
      "          31       1.00      0.93      0.97        15\n",
      "          32       1.00      0.83      0.91         6\n",
      "          33       1.00      1.00      1.00         3\n",
      "          34       0.90      0.75      0.82        12\n",
      "          35       1.00      0.50      0.67         6\n",
      "          36       0.67      1.00      0.80         4\n",
      "          37       1.00      0.80      0.89         5\n",
      "          38       0.56      0.71      0.63         7\n",
      "          39       0.67      1.00      0.80         2\n",
      "          40       1.00      0.50      0.67         2\n",
      "          41       0.86      1.00      0.92         6\n",
      "          42       0.83      1.00      0.91        10\n",
      "          43       1.00      1.00      1.00         3\n",
      "          44       0.95      0.95      0.95        20\n",
      "          45       0.75      1.00      0.86         3\n",
      "          46       1.00      1.00      1.00         5\n",
      "          47       0.83      0.71      0.77        14\n",
      "          49       1.00      0.86      0.92         7\n",
      "          50       0.75      1.00      0.86         6\n",
      "\n",
      "    accuracy                           0.90       431\n",
      "   macro avg       0.86      0.86      0.84       431\n",
      "weighted avg       0.91      0.90      0.90       431\n",
      "\n",
      "Cross_Val_Score= 0.920653651903652\n",
      "\n",
      "\n",
      "Accuracy score of DecisionTreeClassifier() is:\n",
      "0.8607888631090487\n",
      "[[11  0  0 ...  0  0  0]\n",
      " [ 0 12  0 ...  1  0  0]\n",
      " [ 0  0 21 ...  0  0  0]\n",
      " ...\n",
      " [ 0  1  0 ... 12  0  0]\n",
      " [ 0  0  0 ...  0  4  0]\n",
      " [ 0  0  0 ...  0  0  5]]\n",
      "              precision    recall  f1-score   support\n",
      "\n",
      "           0       1.00      0.92      0.96        12\n",
      "           1       0.75      0.75      0.75        16\n",
      "           2       1.00      1.00      1.00        21\n",
      "           3       0.91      0.91      0.91        22\n",
      "           4       0.90      0.95      0.92        19\n",
      "           5       1.00      1.00      1.00        17\n",
      "           6       0.86      1.00      0.92        12\n",
      "           7       0.91      0.71      0.80        14\n",
      "           8       0.88      1.00      0.93         7\n",
      "           9       0.71      0.92      0.80        13\n",
      "          10       0.57      0.80      0.67         5\n",
      "          11       1.00      1.00      1.00         9\n",
      "          12       1.00      0.87      0.93        15\n",
      "          13       1.00      1.00      1.00         4\n",
      "          14       0.25      0.33      0.29         3\n",
      "          15       0.86      1.00      0.92         6\n",
      "          16       0.62      1.00      0.77         5\n",
      "          17       0.88      0.78      0.82         9\n",
      "          18       0.78      1.00      0.88         7\n",
      "          19       0.89      0.73      0.80        11\n",
      "          20       1.00      0.67      0.80         3\n",
      "          21       1.00      1.00      1.00         2\n",
      "          22       1.00      0.71      0.83         7\n",
      "          23       0.80      0.67      0.73         6\n",
      "          24       0.67      0.67      0.67         6\n",
      "          25       0.88      0.78      0.82         9\n",
      "          26       0.94      0.88      0.91        17\n",
      "          27       1.00      1.00      1.00         5\n",
      "          28       1.00      0.40      0.57         5\n",
      "          29       0.67      0.50      0.57         4\n",
      "          30       1.00      0.50      0.67         4\n",
      "          31       0.88      1.00      0.94        15\n",
      "          32       1.00      1.00      1.00         6\n",
      "          33       0.67      0.67      0.67         3\n",
      "          34       1.00      0.67      0.80        12\n",
      "          35       0.62      0.83      0.71         6\n",
      "          36       1.00      0.50      0.67         4\n",
      "          37       0.80      0.80      0.80         5\n",
      "          38       0.71      0.71      0.71         7\n",
      "          39       1.00      1.00      1.00         2\n",
      "          40       1.00      1.00      1.00         2\n",
      "          41       0.67      1.00      0.80         6\n",
      "          42       0.90      0.90      0.90        10\n",
      "          43       1.00      1.00      1.00         3\n",
      "          44       0.90      0.95      0.93        20\n",
      "          45       1.00      1.00      1.00         3\n",
      "          46       0.83      1.00      0.91         5\n",
      "          47       0.71      0.86      0.77        14\n",
      "          49       1.00      0.57      0.73         7\n",
      "          50       0.71      0.83      0.77         6\n",
      "\n",
      "    accuracy                           0.86       431\n",
      "   macro avg       0.86      0.83      0.83       431\n",
      "weighted avg       0.88      0.86      0.86       431\n",
      "\n",
      "Cross_Val_Score= 0.8572309634809635\n",
      "\n",
      "\n"
     ]
    }
   ],
   "source": [
    "model=[KNeighborsClassifier(),SVC(),DecisionTreeClassifier()] #All methods listed in model[] will be used\n",
    "\n",
    "for m in model:\n",
    "    m.fit(df_x_train,df_y_train)\n",
    "    m.score(df_x_train,df_y_train)\n",
    "    predm=m.predict(df_x_test)\n",
    "    print('Accuracy score of',m,'is:')\n",
    "    print(accuracy_score(df_y_test,predm))\n",
    "    print(confusion_matrix(df_y_test,predm))\n",
    "    print(classification_report(df_y_test,predm))\n",
    "    sc=cross_val_score(m,df_x,df_y,cv=10,scoring='accuracy').mean()\n",
    "    print('Cross_Val_Score=',sc)\n",
    "    print('\\n')"
   ]
  },
  {
   "cell_type": "markdown",
   "metadata": {},
   "source": [
    "Corresponding to KNeighborsClassifier we are getting maximum Accuracy and hence its the final model."
   ]
  },
  {
   "cell_type": "markdown",
   "metadata": {},
   "source": [
    "Saving the Best models"
   ]
  },
  {
   "cell_type": "code",
   "execution_count": 213,
   "metadata": {},
   "outputs": [
    {
     "data": {
      "text/plain": [
       "['Avocado.csv']"
      ]
     },
     "execution_count": 213,
     "metadata": {},
     "output_type": "execute_result"
    }
   ],
   "source": [
    "import joblib\n",
    "joblib.dump(rfr,'Avocado.csv')"
   ]
  },
  {
   "cell_type": "code",
   "execution_count": 214,
   "metadata": {},
   "outputs": [
    {
     "data": {
      "text/plain": [
       "['Avocado.csv']"
      ]
     },
     "execution_count": 214,
     "metadata": {},
     "output_type": "execute_result"
    }
   ],
   "source": [
    "joblib.dump(KNeighborsClassifier,'Avocado.csv')"
   ]
  },
  {
   "cell_type": "code",
   "execution_count": null,
   "metadata": {},
   "outputs": [],
   "source": []
  },
  {
   "cell_type": "code",
   "execution_count": null,
   "metadata": {},
   "outputs": [],
   "source": []
  },
  {
   "cell_type": "code",
   "execution_count": null,
   "metadata": {},
   "outputs": [],
   "source": []
  }
 ],
 "metadata": {
  "kernelspec": {
   "display_name": "Python 3",
   "language": "python",
   "name": "python3"
  },
  "language_info": {
   "codemirror_mode": {
    "name": "ipython",
    "version": 3
   },
   "file_extension": ".py",
   "mimetype": "text/x-python",
   "name": "python",
   "nbconvert_exporter": "python",
   "pygments_lexer": "ipython3",
   "version": "3.8.3"
  }
 },
 "nbformat": 4,
 "nbformat_minor": 4
}
