{
 "cells": [
  {
   "cell_type": "code",
   "execution_count": 63,
   "metadata": {},
   "outputs": [
    {
     "name": "stdout",
     "output_type": "stream",
     "text": [
      "              Name            Team  Number Position  Age     DOJ  Weight  \\\n",
      "0    Avery Bradley  Boston Celtics       0       PG   25  06-Feb     180   \n",
      "1      Jae Crowder  Boston Celtics      99       SF   25  06-Jun     235   \n",
      "2     John Holland  Boston Celtics      30       SG   27  06-May     205   \n",
      "3      R.J. Hunter  Boston Celtics      28       SG   22  06-May     185   \n",
      "4    Jonas Jerebko  Boston Celtics       8       PF   29  06-Oct     231   \n",
      "..             ...             ...     ...      ...  ...     ...     ...   \n",
      "452     Trey Lyles       Utah Jazz      41       PF   20  06-Oct     234   \n",
      "453   Shelvin Mack       Utah Jazz       8       PG   26  06-Mar     203   \n",
      "454      Raul Neto       Utah Jazz      25       PG   24  06-Jan     179   \n",
      "455   Tibor Pleiss       Utah Jazz      21        C   26  07-Mar     256   \n",
      "456    Jeff Withey       Utah Jazz      24        C   26     7-0     231   \n",
      "\n",
      "               College     Salary  \n",
      "0                Texas  7730337.0  \n",
      "1            Marquette  6796117.0  \n",
      "2    Boston University        NaN  \n",
      "3        Georgia State  1148640.0  \n",
      "4                  NaN  5000000.0  \n",
      "..                 ...        ...  \n",
      "452           Kentucky  2239800.0  \n",
      "453             Butler  2433333.0  \n",
      "454                NaN   900000.0  \n",
      "455                NaN  2900000.0  \n",
      "456             Kansas   947276.0  \n",
      "\n",
      "[457 rows x 9 columns]\n"
     ]
    }
   ],
   "source": [
    "import pandas as pd\n",
    "sal=pd.read_csv('Salary.csv')\n",
    "print(sal)"
   ]
  },
  {
   "cell_type": "code",
   "execution_count": 64,
   "metadata": {},
   "outputs": [
    {
     "data": {
      "text/html": [
       "<div>\n",
       "<style scoped>\n",
       "    .dataframe tbody tr th:only-of-type {\n",
       "        vertical-align: middle;\n",
       "    }\n",
       "\n",
       "    .dataframe tbody tr th {\n",
       "        vertical-align: top;\n",
       "    }\n",
       "\n",
       "    .dataframe thead th {\n",
       "        text-align: right;\n",
       "    }\n",
       "</style>\n",
       "<table border=\"1\" class=\"dataframe\">\n",
       "  <thead>\n",
       "    <tr style=\"text-align: right;\">\n",
       "      <th></th>\n",
       "      <th>Name</th>\n",
       "      <th>Team</th>\n",
       "      <th>Number</th>\n",
       "      <th>Position</th>\n",
       "      <th>Age</th>\n",
       "      <th>DOJ</th>\n",
       "      <th>Weight</th>\n",
       "      <th>College</th>\n",
       "      <th>Salary</th>\n",
       "    </tr>\n",
       "  </thead>\n",
       "  <tbody>\n",
       "    <tr>\n",
       "      <th>0</th>\n",
       "      <td>Avery Bradley</td>\n",
       "      <td>Boston Celtics</td>\n",
       "      <td>0</td>\n",
       "      <td>PG</td>\n",
       "      <td>25</td>\n",
       "      <td>06-Feb</td>\n",
       "      <td>180</td>\n",
       "      <td>Texas</td>\n",
       "      <td>7730337.0</td>\n",
       "    </tr>\n",
       "    <tr>\n",
       "      <th>1</th>\n",
       "      <td>Jae Crowder</td>\n",
       "      <td>Boston Celtics</td>\n",
       "      <td>99</td>\n",
       "      <td>SF</td>\n",
       "      <td>25</td>\n",
       "      <td>06-Jun</td>\n",
       "      <td>235</td>\n",
       "      <td>Marquette</td>\n",
       "      <td>6796117.0</td>\n",
       "    </tr>\n",
       "    <tr>\n",
       "      <th>2</th>\n",
       "      <td>John Holland</td>\n",
       "      <td>Boston Celtics</td>\n",
       "      <td>30</td>\n",
       "      <td>SG</td>\n",
       "      <td>27</td>\n",
       "      <td>06-May</td>\n",
       "      <td>205</td>\n",
       "      <td>Boston University</td>\n",
       "      <td>NaN</td>\n",
       "    </tr>\n",
       "    <tr>\n",
       "      <th>3</th>\n",
       "      <td>R.J. Hunter</td>\n",
       "      <td>Boston Celtics</td>\n",
       "      <td>28</td>\n",
       "      <td>SG</td>\n",
       "      <td>22</td>\n",
       "      <td>06-May</td>\n",
       "      <td>185</td>\n",
       "      <td>Georgia State</td>\n",
       "      <td>1148640.0</td>\n",
       "    </tr>\n",
       "    <tr>\n",
       "      <th>4</th>\n",
       "      <td>Jonas Jerebko</td>\n",
       "      <td>Boston Celtics</td>\n",
       "      <td>8</td>\n",
       "      <td>PF</td>\n",
       "      <td>29</td>\n",
       "      <td>06-Oct</td>\n",
       "      <td>231</td>\n",
       "      <td>NaN</td>\n",
       "      <td>5000000.0</td>\n",
       "    </tr>\n",
       "    <tr>\n",
       "      <th>...</th>\n",
       "      <td>...</td>\n",
       "      <td>...</td>\n",
       "      <td>...</td>\n",
       "      <td>...</td>\n",
       "      <td>...</td>\n",
       "      <td>...</td>\n",
       "      <td>...</td>\n",
       "      <td>...</td>\n",
       "      <td>...</td>\n",
       "    </tr>\n",
       "    <tr>\n",
       "      <th>452</th>\n",
       "      <td>Trey Lyles</td>\n",
       "      <td>Utah Jazz</td>\n",
       "      <td>41</td>\n",
       "      <td>PF</td>\n",
       "      <td>20</td>\n",
       "      <td>06-Oct</td>\n",
       "      <td>234</td>\n",
       "      <td>Kentucky</td>\n",
       "      <td>2239800.0</td>\n",
       "    </tr>\n",
       "    <tr>\n",
       "      <th>453</th>\n",
       "      <td>Shelvin Mack</td>\n",
       "      <td>Utah Jazz</td>\n",
       "      <td>8</td>\n",
       "      <td>PG</td>\n",
       "      <td>26</td>\n",
       "      <td>06-Mar</td>\n",
       "      <td>203</td>\n",
       "      <td>Butler</td>\n",
       "      <td>2433333.0</td>\n",
       "    </tr>\n",
       "    <tr>\n",
       "      <th>454</th>\n",
       "      <td>Raul Neto</td>\n",
       "      <td>Utah Jazz</td>\n",
       "      <td>25</td>\n",
       "      <td>PG</td>\n",
       "      <td>24</td>\n",
       "      <td>06-Jan</td>\n",
       "      <td>179</td>\n",
       "      <td>NaN</td>\n",
       "      <td>900000.0</td>\n",
       "    </tr>\n",
       "    <tr>\n",
       "      <th>455</th>\n",
       "      <td>Tibor Pleiss</td>\n",
       "      <td>Utah Jazz</td>\n",
       "      <td>21</td>\n",
       "      <td>C</td>\n",
       "      <td>26</td>\n",
       "      <td>07-Mar</td>\n",
       "      <td>256</td>\n",
       "      <td>NaN</td>\n",
       "      <td>2900000.0</td>\n",
       "    </tr>\n",
       "    <tr>\n",
       "      <th>456</th>\n",
       "      <td>Jeff Withey</td>\n",
       "      <td>Utah Jazz</td>\n",
       "      <td>24</td>\n",
       "      <td>C</td>\n",
       "      <td>26</td>\n",
       "      <td>7-0</td>\n",
       "      <td>231</td>\n",
       "      <td>Kansas</td>\n",
       "      <td>947276.0</td>\n",
       "    </tr>\n",
       "  </tbody>\n",
       "</table>\n",
       "<p>457 rows × 9 columns</p>\n",
       "</div>"
      ],
      "text/plain": [
       "              Name            Team  Number Position  Age     DOJ  Weight  \\\n",
       "0    Avery Bradley  Boston Celtics       0       PG   25  06-Feb     180   \n",
       "1      Jae Crowder  Boston Celtics      99       SF   25  06-Jun     235   \n",
       "2     John Holland  Boston Celtics      30       SG   27  06-May     205   \n",
       "3      R.J. Hunter  Boston Celtics      28       SG   22  06-May     185   \n",
       "4    Jonas Jerebko  Boston Celtics       8       PF   29  06-Oct     231   \n",
       "..             ...             ...     ...      ...  ...     ...     ...   \n",
       "452     Trey Lyles       Utah Jazz      41       PF   20  06-Oct     234   \n",
       "453   Shelvin Mack       Utah Jazz       8       PG   26  06-Mar     203   \n",
       "454      Raul Neto       Utah Jazz      25       PG   24  06-Jan     179   \n",
       "455   Tibor Pleiss       Utah Jazz      21        C   26  07-Mar     256   \n",
       "456    Jeff Withey       Utah Jazz      24        C   26     7-0     231   \n",
       "\n",
       "               College     Salary  \n",
       "0                Texas  7730337.0  \n",
       "1            Marquette  6796117.0  \n",
       "2    Boston University        NaN  \n",
       "3        Georgia State  1148640.0  \n",
       "4                  NaN  5000000.0  \n",
       "..                 ...        ...  \n",
       "452           Kentucky  2239800.0  \n",
       "453             Butler  2433333.0  \n",
       "454                NaN   900000.0  \n",
       "455                NaN  2900000.0  \n",
       "456             Kansas   947276.0  \n",
       "\n",
       "[457 rows x 9 columns]"
      ]
     },
     "execution_count": 64,
     "metadata": {},
     "output_type": "execute_result"
    }
   ],
   "source": [
    "df=pd.DataFrame(data=sal)\n",
    "df"
   ]
  },
  {
   "cell_type": "code",
   "execution_count": 65,
   "metadata": {},
   "outputs": [
    {
     "data": {
      "text/html": [
       "<div>\n",
       "<style scoped>\n",
       "    .dataframe tbody tr th:only-of-type {\n",
       "        vertical-align: middle;\n",
       "    }\n",
       "\n",
       "    .dataframe tbody tr th {\n",
       "        vertical-align: top;\n",
       "    }\n",
       "\n",
       "    .dataframe thead th {\n",
       "        text-align: right;\n",
       "    }\n",
       "</style>\n",
       "<table border=\"1\" class=\"dataframe\">\n",
       "  <thead>\n",
       "    <tr style=\"text-align: right;\">\n",
       "      <th></th>\n",
       "      <th>Number</th>\n",
       "      <th>Age</th>\n",
       "      <th>Weight</th>\n",
       "      <th>Salary</th>\n",
       "    </tr>\n",
       "  </thead>\n",
       "  <tbody>\n",
       "    <tr>\n",
       "      <th>count</th>\n",
       "      <td>457.000000</td>\n",
       "      <td>457.000000</td>\n",
       "      <td>457.000000</td>\n",
       "      <td>4.460000e+02</td>\n",
       "    </tr>\n",
       "    <tr>\n",
       "      <th>mean</th>\n",
       "      <td>17.678337</td>\n",
       "      <td>26.938731</td>\n",
       "      <td>221.522976</td>\n",
       "      <td>4.842684e+06</td>\n",
       "    </tr>\n",
       "    <tr>\n",
       "      <th>std</th>\n",
       "      <td>15.966090</td>\n",
       "      <td>4.404016</td>\n",
       "      <td>26.368343</td>\n",
       "      <td>5.229238e+06</td>\n",
       "    </tr>\n",
       "    <tr>\n",
       "      <th>min</th>\n",
       "      <td>0.000000</td>\n",
       "      <td>19.000000</td>\n",
       "      <td>161.000000</td>\n",
       "      <td>3.088800e+04</td>\n",
       "    </tr>\n",
       "    <tr>\n",
       "      <th>25%</th>\n",
       "      <td>5.000000</td>\n",
       "      <td>24.000000</td>\n",
       "      <td>200.000000</td>\n",
       "      <td>1.044792e+06</td>\n",
       "    </tr>\n",
       "    <tr>\n",
       "      <th>50%</th>\n",
       "      <td>13.000000</td>\n",
       "      <td>26.000000</td>\n",
       "      <td>220.000000</td>\n",
       "      <td>2.839073e+06</td>\n",
       "    </tr>\n",
       "    <tr>\n",
       "      <th>75%</th>\n",
       "      <td>25.000000</td>\n",
       "      <td>30.000000</td>\n",
       "      <td>240.000000</td>\n",
       "      <td>6.500000e+06</td>\n",
       "    </tr>\n",
       "    <tr>\n",
       "      <th>max</th>\n",
       "      <td>99.000000</td>\n",
       "      <td>40.000000</td>\n",
       "      <td>307.000000</td>\n",
       "      <td>2.500000e+07</td>\n",
       "    </tr>\n",
       "  </tbody>\n",
       "</table>\n",
       "</div>"
      ],
      "text/plain": [
       "           Number         Age      Weight        Salary\n",
       "count  457.000000  457.000000  457.000000  4.460000e+02\n",
       "mean    17.678337   26.938731  221.522976  4.842684e+06\n",
       "std     15.966090    4.404016   26.368343  5.229238e+06\n",
       "min      0.000000   19.000000  161.000000  3.088800e+04\n",
       "25%      5.000000   24.000000  200.000000  1.044792e+06\n",
       "50%     13.000000   26.000000  220.000000  2.839073e+06\n",
       "75%     25.000000   30.000000  240.000000  6.500000e+06\n",
       "max     99.000000   40.000000  307.000000  2.500000e+07"
      ]
     },
     "execution_count": 65,
     "metadata": {},
     "output_type": "execute_result"
    }
   ],
   "source": [
    "df.describe()"
   ]
  },
  {
   "cell_type": "code",
   "execution_count": 66,
   "metadata": {},
   "outputs": [
    {
     "data": {
      "text/plain": [
       "Name         object\n",
       "Team         object\n",
       "Number        int64\n",
       "Position     object\n",
       "Age           int64\n",
       "DOJ          object\n",
       "Weight        int64\n",
       "College      object\n",
       "Salary      float64\n",
       "dtype: object"
      ]
     },
     "execution_count": 66,
     "metadata": {},
     "output_type": "execute_result"
    }
   ],
   "source": [
    "df.dtypes"
   ]
  },
  {
   "cell_type": "code",
   "execution_count": 67,
   "metadata": {},
   "outputs": [
    {
     "data": {
      "text/plain": [
       "Name         0\n",
       "Team         0\n",
       "Number       0\n",
       "Position     0\n",
       "Age          0\n",
       "DOJ          0\n",
       "Weight       0\n",
       "College     84\n",
       "Salary      11\n",
       "dtype: int64"
      ]
     },
     "execution_count": 67,
     "metadata": {},
     "output_type": "execute_result"
    }
   ],
   "source": [
    "df.isnull().sum()"
   ]
  },
  {
   "cell_type": "code",
   "execution_count": 68,
   "metadata": {},
   "outputs": [
    {
     "data": {
      "text/html": [
       "<div>\n",
       "<style scoped>\n",
       "    .dataframe tbody tr th:only-of-type {\n",
       "        vertical-align: middle;\n",
       "    }\n",
       "\n",
       "    .dataframe tbody tr th {\n",
       "        vertical-align: top;\n",
       "    }\n",
       "\n",
       "    .dataframe thead th {\n",
       "        text-align: right;\n",
       "    }\n",
       "</style>\n",
       "<table border=\"1\" class=\"dataframe\">\n",
       "  <thead>\n",
       "    <tr style=\"text-align: right;\">\n",
       "      <th></th>\n",
       "      <th>Name</th>\n",
       "      <th>Team</th>\n",
       "      <th>Number</th>\n",
       "      <th>Position</th>\n",
       "      <th>Age</th>\n",
       "      <th>DOJ</th>\n",
       "      <th>Weight</th>\n",
       "      <th>College</th>\n",
       "      <th>Salary</th>\n",
       "    </tr>\n",
       "  </thead>\n",
       "  <tbody>\n",
       "    <tr>\n",
       "      <th>0</th>\n",
       "      <td>Avery Bradley</td>\n",
       "      <td>Boston Celtics</td>\n",
       "      <td>0</td>\n",
       "      <td>PG</td>\n",
       "      <td>25</td>\n",
       "      <td>06-Feb</td>\n",
       "      <td>180</td>\n",
       "      <td>Texas</td>\n",
       "      <td>7730337.0</td>\n",
       "    </tr>\n",
       "    <tr>\n",
       "      <th>1</th>\n",
       "      <td>Jae Crowder</td>\n",
       "      <td>Boston Celtics</td>\n",
       "      <td>99</td>\n",
       "      <td>SF</td>\n",
       "      <td>25</td>\n",
       "      <td>06-Jun</td>\n",
       "      <td>235</td>\n",
       "      <td>Marquette</td>\n",
       "      <td>6796117.0</td>\n",
       "    </tr>\n",
       "    <tr>\n",
       "      <th>2</th>\n",
       "      <td>John Holland</td>\n",
       "      <td>Boston Celtics</td>\n",
       "      <td>30</td>\n",
       "      <td>SG</td>\n",
       "      <td>27</td>\n",
       "      <td>06-May</td>\n",
       "      <td>205</td>\n",
       "      <td>Boston University</td>\n",
       "      <td>NaN</td>\n",
       "    </tr>\n",
       "    <tr>\n",
       "      <th>3</th>\n",
       "      <td>R.J. Hunter</td>\n",
       "      <td>Boston Celtics</td>\n",
       "      <td>28</td>\n",
       "      <td>SG</td>\n",
       "      <td>22</td>\n",
       "      <td>06-May</td>\n",
       "      <td>185</td>\n",
       "      <td>Georgia State</td>\n",
       "      <td>1148640.0</td>\n",
       "    </tr>\n",
       "    <tr>\n",
       "      <th>4</th>\n",
       "      <td>Jonas Jerebko</td>\n",
       "      <td>Boston Celtics</td>\n",
       "      <td>8</td>\n",
       "      <td>PF</td>\n",
       "      <td>29</td>\n",
       "      <td>06-Oct</td>\n",
       "      <td>231</td>\n",
       "      <td>Kentucky</td>\n",
       "      <td>5000000.0</td>\n",
       "    </tr>\n",
       "    <tr>\n",
       "      <th>...</th>\n",
       "      <td>...</td>\n",
       "      <td>...</td>\n",
       "      <td>...</td>\n",
       "      <td>...</td>\n",
       "      <td>...</td>\n",
       "      <td>...</td>\n",
       "      <td>...</td>\n",
       "      <td>...</td>\n",
       "      <td>...</td>\n",
       "    </tr>\n",
       "    <tr>\n",
       "      <th>452</th>\n",
       "      <td>Trey Lyles</td>\n",
       "      <td>Utah Jazz</td>\n",
       "      <td>41</td>\n",
       "      <td>PF</td>\n",
       "      <td>20</td>\n",
       "      <td>06-Oct</td>\n",
       "      <td>234</td>\n",
       "      <td>Kentucky</td>\n",
       "      <td>2239800.0</td>\n",
       "    </tr>\n",
       "    <tr>\n",
       "      <th>453</th>\n",
       "      <td>Shelvin Mack</td>\n",
       "      <td>Utah Jazz</td>\n",
       "      <td>8</td>\n",
       "      <td>PG</td>\n",
       "      <td>26</td>\n",
       "      <td>06-Mar</td>\n",
       "      <td>203</td>\n",
       "      <td>Butler</td>\n",
       "      <td>2433333.0</td>\n",
       "    </tr>\n",
       "    <tr>\n",
       "      <th>454</th>\n",
       "      <td>Raul Neto</td>\n",
       "      <td>Utah Jazz</td>\n",
       "      <td>25</td>\n",
       "      <td>PG</td>\n",
       "      <td>24</td>\n",
       "      <td>06-Jan</td>\n",
       "      <td>179</td>\n",
       "      <td>Kentucky</td>\n",
       "      <td>900000.0</td>\n",
       "    </tr>\n",
       "    <tr>\n",
       "      <th>455</th>\n",
       "      <td>Tibor Pleiss</td>\n",
       "      <td>Utah Jazz</td>\n",
       "      <td>21</td>\n",
       "      <td>C</td>\n",
       "      <td>26</td>\n",
       "      <td>07-Mar</td>\n",
       "      <td>256</td>\n",
       "      <td>Kentucky</td>\n",
       "      <td>2900000.0</td>\n",
       "    </tr>\n",
       "    <tr>\n",
       "      <th>456</th>\n",
       "      <td>Jeff Withey</td>\n",
       "      <td>Utah Jazz</td>\n",
       "      <td>24</td>\n",
       "      <td>C</td>\n",
       "      <td>26</td>\n",
       "      <td>7-0</td>\n",
       "      <td>231</td>\n",
       "      <td>Kansas</td>\n",
       "      <td>947276.0</td>\n",
       "    </tr>\n",
       "  </tbody>\n",
       "</table>\n",
       "<p>457 rows × 9 columns</p>\n",
       "</div>"
      ],
      "text/plain": [
       "              Name            Team  Number Position  Age     DOJ  Weight  \\\n",
       "0    Avery Bradley  Boston Celtics       0       PG   25  06-Feb     180   \n",
       "1      Jae Crowder  Boston Celtics      99       SF   25  06-Jun     235   \n",
       "2     John Holland  Boston Celtics      30       SG   27  06-May     205   \n",
       "3      R.J. Hunter  Boston Celtics      28       SG   22  06-May     185   \n",
       "4    Jonas Jerebko  Boston Celtics       8       PF   29  06-Oct     231   \n",
       "..             ...             ...     ...      ...  ...     ...     ...   \n",
       "452     Trey Lyles       Utah Jazz      41       PF   20  06-Oct     234   \n",
       "453   Shelvin Mack       Utah Jazz       8       PG   26  06-Mar     203   \n",
       "454      Raul Neto       Utah Jazz      25       PG   24  06-Jan     179   \n",
       "455   Tibor Pleiss       Utah Jazz      21        C   26  07-Mar     256   \n",
       "456    Jeff Withey       Utah Jazz      24        C   26     7-0     231   \n",
       "\n",
       "               College     Salary  \n",
       "0                Texas  7730337.0  \n",
       "1            Marquette  6796117.0  \n",
       "2    Boston University        NaN  \n",
       "3        Georgia State  1148640.0  \n",
       "4             Kentucky  5000000.0  \n",
       "..                 ...        ...  \n",
       "452           Kentucky  2239800.0  \n",
       "453             Butler  2433333.0  \n",
       "454           Kentucky   900000.0  \n",
       "455           Kentucky  2900000.0  \n",
       "456             Kansas   947276.0  \n",
       "\n",
       "[457 rows x 9 columns]"
      ]
     },
     "execution_count": 68,
     "metadata": {},
     "output_type": "execute_result"
    }
   ],
   "source": [
    "from sklearn.impute import SimpleImputer\n",
    "imp=SimpleImputer(strategy='most_frequent')\n",
    "df['College']=imp.fit_transform(df['College'].values.reshape(-1,1))\n",
    "df"
   ]
  },
  {
   "cell_type": "code",
   "execution_count": 69,
   "metadata": {},
   "outputs": [
    {
     "data": {
      "text/html": [
       "<div>\n",
       "<style scoped>\n",
       "    .dataframe tbody tr th:only-of-type {\n",
       "        vertical-align: middle;\n",
       "    }\n",
       "\n",
       "    .dataframe tbody tr th {\n",
       "        vertical-align: top;\n",
       "    }\n",
       "\n",
       "    .dataframe thead th {\n",
       "        text-align: right;\n",
       "    }\n",
       "</style>\n",
       "<table border=\"1\" class=\"dataframe\">\n",
       "  <thead>\n",
       "    <tr style=\"text-align: right;\">\n",
       "      <th></th>\n",
       "      <th>Name</th>\n",
       "      <th>Team</th>\n",
       "      <th>Number</th>\n",
       "      <th>Position</th>\n",
       "      <th>Age</th>\n",
       "      <th>DOJ</th>\n",
       "      <th>Weight</th>\n",
       "      <th>College</th>\n",
       "      <th>Salary</th>\n",
       "    </tr>\n",
       "  </thead>\n",
       "  <tbody>\n",
       "    <tr>\n",
       "      <th>0</th>\n",
       "      <td>Avery Bradley</td>\n",
       "      <td>Boston Celtics</td>\n",
       "      <td>0</td>\n",
       "      <td>PG</td>\n",
       "      <td>25</td>\n",
       "      <td>06-Feb</td>\n",
       "      <td>180</td>\n",
       "      <td>Texas</td>\n",
       "      <td>7.730337e+06</td>\n",
       "    </tr>\n",
       "    <tr>\n",
       "      <th>1</th>\n",
       "      <td>Jae Crowder</td>\n",
       "      <td>Boston Celtics</td>\n",
       "      <td>99</td>\n",
       "      <td>SF</td>\n",
       "      <td>25</td>\n",
       "      <td>06-Jun</td>\n",
       "      <td>235</td>\n",
       "      <td>Marquette</td>\n",
       "      <td>6.796117e+06</td>\n",
       "    </tr>\n",
       "    <tr>\n",
       "      <th>2</th>\n",
       "      <td>John Holland</td>\n",
       "      <td>Boston Celtics</td>\n",
       "      <td>30</td>\n",
       "      <td>SG</td>\n",
       "      <td>27</td>\n",
       "      <td>06-May</td>\n",
       "      <td>205</td>\n",
       "      <td>Boston University</td>\n",
       "      <td>4.842684e+06</td>\n",
       "    </tr>\n",
       "    <tr>\n",
       "      <th>3</th>\n",
       "      <td>R.J. Hunter</td>\n",
       "      <td>Boston Celtics</td>\n",
       "      <td>28</td>\n",
       "      <td>SG</td>\n",
       "      <td>22</td>\n",
       "      <td>06-May</td>\n",
       "      <td>185</td>\n",
       "      <td>Georgia State</td>\n",
       "      <td>1.148640e+06</td>\n",
       "    </tr>\n",
       "    <tr>\n",
       "      <th>4</th>\n",
       "      <td>Jonas Jerebko</td>\n",
       "      <td>Boston Celtics</td>\n",
       "      <td>8</td>\n",
       "      <td>PF</td>\n",
       "      <td>29</td>\n",
       "      <td>06-Oct</td>\n",
       "      <td>231</td>\n",
       "      <td>Kentucky</td>\n",
       "      <td>5.000000e+06</td>\n",
       "    </tr>\n",
       "    <tr>\n",
       "      <th>...</th>\n",
       "      <td>...</td>\n",
       "      <td>...</td>\n",
       "      <td>...</td>\n",
       "      <td>...</td>\n",
       "      <td>...</td>\n",
       "      <td>...</td>\n",
       "      <td>...</td>\n",
       "      <td>...</td>\n",
       "      <td>...</td>\n",
       "    </tr>\n",
       "    <tr>\n",
       "      <th>452</th>\n",
       "      <td>Trey Lyles</td>\n",
       "      <td>Utah Jazz</td>\n",
       "      <td>41</td>\n",
       "      <td>PF</td>\n",
       "      <td>20</td>\n",
       "      <td>06-Oct</td>\n",
       "      <td>234</td>\n",
       "      <td>Kentucky</td>\n",
       "      <td>2.239800e+06</td>\n",
       "    </tr>\n",
       "    <tr>\n",
       "      <th>453</th>\n",
       "      <td>Shelvin Mack</td>\n",
       "      <td>Utah Jazz</td>\n",
       "      <td>8</td>\n",
       "      <td>PG</td>\n",
       "      <td>26</td>\n",
       "      <td>06-Mar</td>\n",
       "      <td>203</td>\n",
       "      <td>Butler</td>\n",
       "      <td>2.433333e+06</td>\n",
       "    </tr>\n",
       "    <tr>\n",
       "      <th>454</th>\n",
       "      <td>Raul Neto</td>\n",
       "      <td>Utah Jazz</td>\n",
       "      <td>25</td>\n",
       "      <td>PG</td>\n",
       "      <td>24</td>\n",
       "      <td>06-Jan</td>\n",
       "      <td>179</td>\n",
       "      <td>Kentucky</td>\n",
       "      <td>9.000000e+05</td>\n",
       "    </tr>\n",
       "    <tr>\n",
       "      <th>455</th>\n",
       "      <td>Tibor Pleiss</td>\n",
       "      <td>Utah Jazz</td>\n",
       "      <td>21</td>\n",
       "      <td>C</td>\n",
       "      <td>26</td>\n",
       "      <td>07-Mar</td>\n",
       "      <td>256</td>\n",
       "      <td>Kentucky</td>\n",
       "      <td>2.900000e+06</td>\n",
       "    </tr>\n",
       "    <tr>\n",
       "      <th>456</th>\n",
       "      <td>Jeff Withey</td>\n",
       "      <td>Utah Jazz</td>\n",
       "      <td>24</td>\n",
       "      <td>C</td>\n",
       "      <td>26</td>\n",
       "      <td>7-0</td>\n",
       "      <td>231</td>\n",
       "      <td>Kansas</td>\n",
       "      <td>9.472760e+05</td>\n",
       "    </tr>\n",
       "  </tbody>\n",
       "</table>\n",
       "<p>457 rows × 9 columns</p>\n",
       "</div>"
      ],
      "text/plain": [
       "              Name            Team  Number Position  Age     DOJ  Weight  \\\n",
       "0    Avery Bradley  Boston Celtics       0       PG   25  06-Feb     180   \n",
       "1      Jae Crowder  Boston Celtics      99       SF   25  06-Jun     235   \n",
       "2     John Holland  Boston Celtics      30       SG   27  06-May     205   \n",
       "3      R.J. Hunter  Boston Celtics      28       SG   22  06-May     185   \n",
       "4    Jonas Jerebko  Boston Celtics       8       PF   29  06-Oct     231   \n",
       "..             ...             ...     ...      ...  ...     ...     ...   \n",
       "452     Trey Lyles       Utah Jazz      41       PF   20  06-Oct     234   \n",
       "453   Shelvin Mack       Utah Jazz       8       PG   26  06-Mar     203   \n",
       "454      Raul Neto       Utah Jazz      25       PG   24  06-Jan     179   \n",
       "455   Tibor Pleiss       Utah Jazz      21        C   26  07-Mar     256   \n",
       "456    Jeff Withey       Utah Jazz      24        C   26     7-0     231   \n",
       "\n",
       "               College        Salary  \n",
       "0                Texas  7.730337e+06  \n",
       "1            Marquette  6.796117e+06  \n",
       "2    Boston University  4.842684e+06  \n",
       "3        Georgia State  1.148640e+06  \n",
       "4             Kentucky  5.000000e+06  \n",
       "..                 ...           ...  \n",
       "452           Kentucky  2.239800e+06  \n",
       "453             Butler  2.433333e+06  \n",
       "454           Kentucky  9.000000e+05  \n",
       "455           Kentucky  2.900000e+06  \n",
       "456             Kansas  9.472760e+05  \n",
       "\n",
       "[457 rows x 9 columns]"
      ]
     },
     "execution_count": 69,
     "metadata": {},
     "output_type": "execute_result"
    }
   ],
   "source": [
    "import numpy as np\n",
    "df['Salary']=df['Salary'].replace(np.NaN,df['Salary'].mean())\n",
    "df"
   ]
  },
  {
   "cell_type": "code",
   "execution_count": 70,
   "metadata": {},
   "outputs": [
    {
     "data": {
      "text/plain": [
       "Name        0\n",
       "Team        0\n",
       "Number      0\n",
       "Position    0\n",
       "Age         0\n",
       "DOJ         0\n",
       "Weight      0\n",
       "College     0\n",
       "Salary      0\n",
       "dtype: int64"
      ]
     },
     "execution_count": 70,
     "metadata": {},
     "output_type": "execute_result"
    }
   ],
   "source": [
    "df.isnull().sum()"
   ]
  },
  {
   "cell_type": "code",
   "execution_count": 71,
   "metadata": {},
   "outputs": [
    {
     "data": {
      "image/png": "[encoded data removed]",
      "text/plain": [
       "<Figure size 432x288 with 2 Axes>"
      ]
     },
     "metadata": {
      "needs_background": "light"
     },
     "output_type": "display_data"
    }
   ],
   "source": [
    "import seaborn as sns\n",
    "import matplotlib.pyplot as plt\n",
    "sns.heatmap(df.isnull(),annot=True)\n",
    "plt.show()"
   ]
  },
  {
   "cell_type": "code",
   "execution_count": 72,
   "metadata": {},
   "outputs": [
    {
     "data": {
      "text/html": [
       "<div>\n",
       "<style scoped>\n",
       "    .dataframe tbody tr th:only-of-type {\n",
       "        vertical-align: middle;\n",
       "    }\n",
       "\n",
       "    .dataframe tbody tr th {\n",
       "        vertical-align: top;\n",
       "    }\n",
       "\n",
       "    .dataframe thead th {\n",
       "        text-align: right;\n",
       "    }\n",
       "</style>\n",
       "<table border=\"1\" class=\"dataframe\">\n",
       "  <thead>\n",
       "    <tr style=\"text-align: right;\">\n",
       "      <th></th>\n",
       "      <th>Team</th>\n",
       "      <th>Number</th>\n",
       "      <th>Position</th>\n",
       "      <th>Age</th>\n",
       "      <th>DOJ</th>\n",
       "      <th>Weight</th>\n",
       "      <th>College</th>\n",
       "      <th>Salary</th>\n",
       "    </tr>\n",
       "  </thead>\n",
       "  <tbody>\n",
       "    <tr>\n",
       "      <th>0</th>\n",
       "      <td>Boston Celtics</td>\n",
       "      <td>0</td>\n",
       "      <td>PG</td>\n",
       "      <td>25</td>\n",
       "      <td>06-Feb</td>\n",
       "      <td>180</td>\n",
       "      <td>Texas</td>\n",
       "      <td>7.730337e+06</td>\n",
       "    </tr>\n",
       "    <tr>\n",
       "      <th>1</th>\n",
       "      <td>Boston Celtics</td>\n",
       "      <td>99</td>\n",
       "      <td>SF</td>\n",
       "      <td>25</td>\n",
       "      <td>06-Jun</td>\n",
       "      <td>235</td>\n",
       "      <td>Marquette</td>\n",
       "      <td>6.796117e+06</td>\n",
       "    </tr>\n",
       "    <tr>\n",
       "      <th>2</th>\n",
       "      <td>Boston Celtics</td>\n",
       "      <td>30</td>\n",
       "      <td>SG</td>\n",
       "      <td>27</td>\n",
       "      <td>06-May</td>\n",
       "      <td>205</td>\n",
       "      <td>Boston University</td>\n",
       "      <td>4.842684e+06</td>\n",
       "    </tr>\n",
       "    <tr>\n",
       "      <th>3</th>\n",
       "      <td>Boston Celtics</td>\n",
       "      <td>28</td>\n",
       "      <td>SG</td>\n",
       "      <td>22</td>\n",
       "      <td>06-May</td>\n",
       "      <td>185</td>\n",
       "      <td>Georgia State</td>\n",
       "      <td>1.148640e+06</td>\n",
       "    </tr>\n",
       "    <tr>\n",
       "      <th>4</th>\n",
       "      <td>Boston Celtics</td>\n",
       "      <td>8</td>\n",
       "      <td>PF</td>\n",
       "      <td>29</td>\n",
       "      <td>06-Oct</td>\n",
       "      <td>231</td>\n",
       "      <td>Kentucky</td>\n",
       "      <td>5.000000e+06</td>\n",
       "    </tr>\n",
       "    <tr>\n",
       "      <th>...</th>\n",
       "      <td>...</td>\n",
       "      <td>...</td>\n",
       "      <td>...</td>\n",
       "      <td>...</td>\n",
       "      <td>...</td>\n",
       "      <td>...</td>\n",
       "      <td>...</td>\n",
       "      <td>...</td>\n",
       "    </tr>\n",
       "    <tr>\n",
       "      <th>452</th>\n",
       "      <td>Utah Jazz</td>\n",
       "      <td>41</td>\n",
       "      <td>PF</td>\n",
       "      <td>20</td>\n",
       "      <td>06-Oct</td>\n",
       "      <td>234</td>\n",
       "      <td>Kentucky</td>\n",
       "      <td>2.239800e+06</td>\n",
       "    </tr>\n",
       "    <tr>\n",
       "      <th>453</th>\n",
       "      <td>Utah Jazz</td>\n",
       "      <td>8</td>\n",
       "      <td>PG</td>\n",
       "      <td>26</td>\n",
       "      <td>06-Mar</td>\n",
       "      <td>203</td>\n",
       "      <td>Butler</td>\n",
       "      <td>2.433333e+06</td>\n",
       "    </tr>\n",
       "    <tr>\n",
       "      <th>454</th>\n",
       "      <td>Utah Jazz</td>\n",
       "      <td>25</td>\n",
       "      <td>PG</td>\n",
       "      <td>24</td>\n",
       "      <td>06-Jan</td>\n",
       "      <td>179</td>\n",
       "      <td>Kentucky</td>\n",
       "      <td>9.000000e+05</td>\n",
       "    </tr>\n",
       "    <tr>\n",
       "      <th>455</th>\n",
       "      <td>Utah Jazz</td>\n",
       "      <td>21</td>\n",
       "      <td>C</td>\n",
       "      <td>26</td>\n",
       "      <td>07-Mar</td>\n",
       "      <td>256</td>\n",
       "      <td>Kentucky</td>\n",
       "      <td>2.900000e+06</td>\n",
       "    </tr>\n",
       "    <tr>\n",
       "      <th>456</th>\n",
       "      <td>Utah Jazz</td>\n",
       "      <td>24</td>\n",
       "      <td>C</td>\n",
       "      <td>26</td>\n",
       "      <td>7-0</td>\n",
       "      <td>231</td>\n",
       "      <td>Kansas</td>\n",
       "      <td>9.472760e+05</td>\n",
       "    </tr>\n",
       "  </tbody>\n",
       "</table>\n",
       "<p>457 rows × 8 columns</p>\n",
       "</div>"
      ],
      "text/plain": [
       "               Team  Number Position  Age     DOJ  Weight            College  \\\n",
       "0    Boston Celtics       0       PG   25  06-Feb     180              Texas   \n",
       "1    Boston Celtics      99       SF   25  06-Jun     235          Marquette   \n",
       "2    Boston Celtics      30       SG   27  06-May     205  Boston University   \n",
       "3    Boston Celtics      28       SG   22  06-May     185      Georgia State   \n",
       "4    Boston Celtics       8       PF   29  06-Oct     231           Kentucky   \n",
       "..              ...     ...      ...  ...     ...     ...                ...   \n",
       "452       Utah Jazz      41       PF   20  06-Oct     234           Kentucky   \n",
       "453       Utah Jazz       8       PG   26  06-Mar     203             Butler   \n",
       "454       Utah Jazz      25       PG   24  06-Jan     179           Kentucky   \n",
       "455       Utah Jazz      21        C   26  07-Mar     256           Kentucky   \n",
       "456       Utah Jazz      24        C   26     7-0     231             Kansas   \n",
       "\n",
       "           Salary  \n",
       "0    7.730337e+06  \n",
       "1    6.796117e+06  \n",
       "2    4.842684e+06  \n",
       "3    1.148640e+06  \n",
       "4    5.000000e+06  \n",
       "..            ...  \n",
       "452  2.239800e+06  \n",
       "453  2.433333e+06  \n",
       "454  9.000000e+05  \n",
       "455  2.900000e+06  \n",
       "456  9.472760e+05  \n",
       "\n",
       "[457 rows x 8 columns]"
      ]
     },
     "execution_count": 72,
     "metadata": {},
     "output_type": "execute_result"
    }
   ],
   "source": [
    "df.drop(['Name'],axis=1,inplace=True)\n",
    "df"
   ]
  },
  {
   "cell_type": "code",
   "execution_count": 73,
   "metadata": {},
   "outputs": [],
   "source": [
    "from sklearn.preprocessing import LabelEncoder\n",
    "le=LabelEncoder() \n",
    "list1=['Team','Position','College']\n",
    "for val in list1:\n",
    "    df[val]=le.fit_transform(df[val].astype(str))"
   ]
  },
  {
   "cell_type": "code",
   "execution_count": 74,
   "metadata": {},
   "outputs": [
    {
     "data": {
      "text/html": [
       "<div>\n",
       "<style scoped>\n",
       "    .dataframe tbody tr th:only-of-type {\n",
       "        vertical-align: middle;\n",
       "    }\n",
       "\n",
       "    .dataframe tbody tr th {\n",
       "        vertical-align: top;\n",
       "    }\n",
       "\n",
       "    .dataframe thead th {\n",
       "        text-align: right;\n",
       "    }\n",
       "</style>\n",
       "<table border=\"1\" class=\"dataframe\">\n",
       "  <thead>\n",
       "    <tr style=\"text-align: right;\">\n",
       "      <th></th>\n",
       "      <th>Team</th>\n",
       "      <th>Number</th>\n",
       "      <th>Position</th>\n",
       "      <th>Age</th>\n",
       "      <th>DOJ</th>\n",
       "      <th>Weight</th>\n",
       "      <th>College</th>\n",
       "      <th>Salary</th>\n",
       "    </tr>\n",
       "  </thead>\n",
       "  <tbody>\n",
       "    <tr>\n",
       "      <th>0</th>\n",
       "      <td>1</td>\n",
       "      <td>0</td>\n",
       "      <td>2</td>\n",
       "      <td>25</td>\n",
       "      <td>06-Feb</td>\n",
       "      <td>180</td>\n",
       "      <td>93</td>\n",
       "      <td>7.730337e+06</td>\n",
       "    </tr>\n",
       "    <tr>\n",
       "      <th>1</th>\n",
       "      <td>1</td>\n",
       "      <td>99</td>\n",
       "      <td>3</td>\n",
       "      <td>25</td>\n",
       "      <td>06-Jun</td>\n",
       "      <td>235</td>\n",
       "      <td>52</td>\n",
       "      <td>6.796117e+06</td>\n",
       "    </tr>\n",
       "    <tr>\n",
       "      <th>2</th>\n",
       "      <td>1</td>\n",
       "      <td>30</td>\n",
       "      <td>4</td>\n",
       "      <td>27</td>\n",
       "      <td>06-May</td>\n",
       "      <td>205</td>\n",
       "      <td>8</td>\n",
       "      <td>4.842684e+06</td>\n",
       "    </tr>\n",
       "    <tr>\n",
       "      <th>3</th>\n",
       "      <td>1</td>\n",
       "      <td>28</td>\n",
       "      <td>4</td>\n",
       "      <td>22</td>\n",
       "      <td>06-May</td>\n",
       "      <td>185</td>\n",
       "      <td>33</td>\n",
       "      <td>1.148640e+06</td>\n",
       "    </tr>\n",
       "    <tr>\n",
       "      <th>4</th>\n",
       "      <td>1</td>\n",
       "      <td>8</td>\n",
       "      <td>1</td>\n",
       "      <td>29</td>\n",
       "      <td>06-Oct</td>\n",
       "      <td>231</td>\n",
       "      <td>45</td>\n",
       "      <td>5.000000e+06</td>\n",
       "    </tr>\n",
       "    <tr>\n",
       "      <th>...</th>\n",
       "      <td>...</td>\n",
       "      <td>...</td>\n",
       "      <td>...</td>\n",
       "      <td>...</td>\n",
       "      <td>...</td>\n",
       "      <td>...</td>\n",
       "      <td>...</td>\n",
       "      <td>...</td>\n",
       "    </tr>\n",
       "    <tr>\n",
       "      <th>452</th>\n",
       "      <td>28</td>\n",
       "      <td>41</td>\n",
       "      <td>1</td>\n",
       "      <td>20</td>\n",
       "      <td>06-Oct</td>\n",
       "      <td>234</td>\n",
       "      <td>45</td>\n",
       "      <td>2.239800e+06</td>\n",
       "    </tr>\n",
       "    <tr>\n",
       "      <th>453</th>\n",
       "      <td>28</td>\n",
       "      <td>8</td>\n",
       "      <td>2</td>\n",
       "      <td>26</td>\n",
       "      <td>06-Mar</td>\n",
       "      <td>203</td>\n",
       "      <td>11</td>\n",
       "      <td>2.433333e+06</td>\n",
       "    </tr>\n",
       "    <tr>\n",
       "      <th>454</th>\n",
       "      <td>28</td>\n",
       "      <td>25</td>\n",
       "      <td>2</td>\n",
       "      <td>24</td>\n",
       "      <td>06-Jan</td>\n",
       "      <td>179</td>\n",
       "      <td>45</td>\n",
       "      <td>9.000000e+05</td>\n",
       "    </tr>\n",
       "    <tr>\n",
       "      <th>455</th>\n",
       "      <td>28</td>\n",
       "      <td>21</td>\n",
       "      <td>0</td>\n",
       "      <td>26</td>\n",
       "      <td>07-Mar</td>\n",
       "      <td>256</td>\n",
       "      <td>45</td>\n",
       "      <td>2.900000e+06</td>\n",
       "    </tr>\n",
       "    <tr>\n",
       "      <th>456</th>\n",
       "      <td>28</td>\n",
       "      <td>24</td>\n",
       "      <td>0</td>\n",
       "      <td>26</td>\n",
       "      <td>7-0</td>\n",
       "      <td>231</td>\n",
       "      <td>43</td>\n",
       "      <td>9.472760e+05</td>\n",
       "    </tr>\n",
       "  </tbody>\n",
       "</table>\n",
       "<p>457 rows × 8 columns</p>\n",
       "</div>"
      ],
      "text/plain": [
       "     Team  Number  Position  Age     DOJ  Weight  College        Salary\n",
       "0       1       0         2   25  06-Feb     180       93  7.730337e+06\n",
       "1       1      99         3   25  06-Jun     235       52  6.796117e+06\n",
       "2       1      30         4   27  06-May     205        8  4.842684e+06\n",
       "3       1      28         4   22  06-May     185       33  1.148640e+06\n",
       "4       1       8         1   29  06-Oct     231       45  5.000000e+06\n",
       "..    ...     ...       ...  ...     ...     ...      ...           ...\n",
       "452    28      41         1   20  06-Oct     234       45  2.239800e+06\n",
       "453    28       8         2   26  06-Mar     203       11  2.433333e+06\n",
       "454    28      25         2   24  06-Jan     179       45  9.000000e+05\n",
       "455    28      21         0   26  07-Mar     256       45  2.900000e+06\n",
       "456    28      24         0   26     7-0     231       43  9.472760e+05\n",
       "\n",
       "[457 rows x 8 columns]"
      ]
     },
     "execution_count": 74,
     "metadata": {},
     "output_type": "execute_result"
    }
   ],
   "source": [
    "df"
   ]
  },
  {
   "cell_type": "code",
   "execution_count": 75,
   "metadata": {},
   "outputs": [
    {
     "data": {
      "image/png": "[encoded data removed]",
      "text/plain": [
       "<Figure size 432x288 with 1 Axes>"
      ]
     },
     "metadata": {
      "needs_background": "light"
     },
     "output_type": "display_data"
    }
   ],
   "source": [
    "sns.barplot(x='DOJ',y='Salary',data=df)\n",
    "plt.show()"
   ]
  },
  {
   "cell_type": "code",
   "execution_count": 76,
   "metadata": {},
   "outputs": [
    {
     "data": {
      "text/html": [
       "<div>\n",
       "<style scoped>\n",
       "    .dataframe tbody tr th:only-of-type {\n",
       "        vertical-align: middle;\n",
       "    }\n",
       "\n",
       "    .dataframe tbody tr th {\n",
       "        vertical-align: top;\n",
       "    }\n",
       "\n",
       "    .dataframe thead th {\n",
       "        text-align: right;\n",
       "    }\n",
       "</style>\n",
       "<table border=\"1\" class=\"dataframe\">\n",
       "  <thead>\n",
       "    <tr style=\"text-align: right;\">\n",
       "      <th></th>\n",
       "      <th>Team</th>\n",
       "      <th>Number</th>\n",
       "      <th>Position</th>\n",
       "      <th>Age</th>\n",
       "      <th>Weight</th>\n",
       "      <th>College</th>\n",
       "      <th>Salary</th>\n",
       "    </tr>\n",
       "  </thead>\n",
       "  <tbody>\n",
       "    <tr>\n",
       "      <th>0</th>\n",
       "      <td>1</td>\n",
       "      <td>0</td>\n",
       "      <td>2</td>\n",
       "      <td>25</td>\n",
       "      <td>180</td>\n",
       "      <td>93</td>\n",
       "      <td>7.730337e+06</td>\n",
       "    </tr>\n",
       "    <tr>\n",
       "      <th>1</th>\n",
       "      <td>1</td>\n",
       "      <td>99</td>\n",
       "      <td>3</td>\n",
       "      <td>25</td>\n",
       "      <td>235</td>\n",
       "      <td>52</td>\n",
       "      <td>6.796117e+06</td>\n",
       "    </tr>\n",
       "    <tr>\n",
       "      <th>2</th>\n",
       "      <td>1</td>\n",
       "      <td>30</td>\n",
       "      <td>4</td>\n",
       "      <td>27</td>\n",
       "      <td>205</td>\n",
       "      <td>8</td>\n",
       "      <td>4.842684e+06</td>\n",
       "    </tr>\n",
       "    <tr>\n",
       "      <th>3</th>\n",
       "      <td>1</td>\n",
       "      <td>28</td>\n",
       "      <td>4</td>\n",
       "      <td>22</td>\n",
       "      <td>185</td>\n",
       "      <td>33</td>\n",
       "      <td>1.148640e+06</td>\n",
       "    </tr>\n",
       "    <tr>\n",
       "      <th>4</th>\n",
       "      <td>1</td>\n",
       "      <td>8</td>\n",
       "      <td>1</td>\n",
       "      <td>29</td>\n",
       "      <td>231</td>\n",
       "      <td>45</td>\n",
       "      <td>5.000000e+06</td>\n",
       "    </tr>\n",
       "    <tr>\n",
       "      <th>...</th>\n",
       "      <td>...</td>\n",
       "      <td>...</td>\n",
       "      <td>...</td>\n",
       "      <td>...</td>\n",
       "      <td>...</td>\n",
       "      <td>...</td>\n",
       "      <td>...</td>\n",
       "    </tr>\n",
       "    <tr>\n",
       "      <th>452</th>\n",
       "      <td>28</td>\n",
       "      <td>41</td>\n",
       "      <td>1</td>\n",
       "      <td>20</td>\n",
       "      <td>234</td>\n",
       "      <td>45</td>\n",
       "      <td>2.239800e+06</td>\n",
       "    </tr>\n",
       "    <tr>\n",
       "      <th>453</th>\n",
       "      <td>28</td>\n",
       "      <td>8</td>\n",
       "      <td>2</td>\n",
       "      <td>26</td>\n",
       "      <td>203</td>\n",
       "      <td>11</td>\n",
       "      <td>2.433333e+06</td>\n",
       "    </tr>\n",
       "    <tr>\n",
       "      <th>454</th>\n",
       "      <td>28</td>\n",
       "      <td>25</td>\n",
       "      <td>2</td>\n",
       "      <td>24</td>\n",
       "      <td>179</td>\n",
       "      <td>45</td>\n",
       "      <td>9.000000e+05</td>\n",
       "    </tr>\n",
       "    <tr>\n",
       "      <th>455</th>\n",
       "      <td>28</td>\n",
       "      <td>21</td>\n",
       "      <td>0</td>\n",
       "      <td>26</td>\n",
       "      <td>256</td>\n",
       "      <td>45</td>\n",
       "      <td>2.900000e+06</td>\n",
       "    </tr>\n",
       "    <tr>\n",
       "      <th>456</th>\n",
       "      <td>28</td>\n",
       "      <td>24</td>\n",
       "      <td>0</td>\n",
       "      <td>26</td>\n",
       "      <td>231</td>\n",
       "      <td>43</td>\n",
       "      <td>9.472760e+05</td>\n",
       "    </tr>\n",
       "  </tbody>\n",
       "</table>\n",
       "<p>457 rows × 7 columns</p>\n",
       "</div>"
      ],
      "text/plain": [
       "     Team  Number  Position  Age  Weight  College        Salary\n",
       "0       1       0         2   25     180       93  7.730337e+06\n",
       "1       1      99         3   25     235       52  6.796117e+06\n",
       "2       1      30         4   27     205        8  4.842684e+06\n",
       "3       1      28         4   22     185       33  1.148640e+06\n",
       "4       1       8         1   29     231       45  5.000000e+06\n",
       "..    ...     ...       ...  ...     ...      ...           ...\n",
       "452    28      41         1   20     234       45  2.239800e+06\n",
       "453    28       8         2   26     203       11  2.433333e+06\n",
       "454    28      25         2   24     179       45  9.000000e+05\n",
       "455    28      21         0   26     256       45  2.900000e+06\n",
       "456    28      24         0   26     231       43  9.472760e+05\n",
       "\n",
       "[457 rows x 7 columns]"
      ]
     },
     "execution_count": 76,
     "metadata": {},
     "output_type": "execute_result"
    }
   ],
   "source": [
    "df.drop(['DOJ'],axis=1,inplace=True)\n",
    "df"
   ]
  },
  {
   "cell_type": "code",
   "execution_count": 77,
   "metadata": {},
   "outputs": [
    {
     "data": {
      "text/plain": [
       "array([[1.57366745e+00, 1.10845611e+00, 5.13811794e-02, ...,\n",
       "        1.57645405e+00, 1.26761224e+00, 5.59609022e-01],\n",
       "       [1.57366745e+00, 5.09898044e+00, 6.60170305e-01, ...,\n",
       "        5.11666342e-01, 1.09591201e-01, 3.78563045e-01],\n",
       "       [1.57366745e+00, 7.72585267e-01, 1.37172179e+00, ...,\n",
       "        6.27308418e-01, 1.58756562e+00, 1.80484475e-16],\n",
       "       ...,\n",
       "       [1.56882854e+00, 4.59078370e-01, 5.13811794e-02, ...,\n",
       "        1.61441988e+00, 3.44723495e-01, 7.64067455e-01],\n",
       "       [1.56882854e+00, 2.08272853e-01, 1.47448415e+00, ...,\n",
       "        1.30894867e+00, 3.44723495e-01, 3.76479997e-01],\n",
       "       [1.56882854e+00, 3.96376991e-01, 1.47448415e+00, ...,\n",
       "        3.59803041e-01, 4.11904150e-01, 7.54905662e-01]])"
      ]
     },
     "execution_count": 77,
     "metadata": {},
     "output_type": "execute_result"
    }
   ],
   "source": [
    "from scipy.stats import zscore\n",
    "z=np.abs(zscore(df))\n",
    "z"
   ]
  },
  {
   "cell_type": "code",
   "execution_count": 78,
   "metadata": {},
   "outputs": [
    {
     "name": "stdout",
     "output_type": "stream",
     "text": [
      "(457, 7)\n"
     ]
    }
   ],
   "source": [
    "print(df.shape)"
   ]
  },
  {
   "cell_type": "code",
   "execution_count": 79,
   "metadata": {},
   "outputs": [
    {
     "name": "stdout",
     "output_type": "stream",
     "text": [
      "(443, 7)\n"
     ]
    }
   ],
   "source": [
    "df_new=df.loc[(z<3).all(axis=1)]\n",
    "print(df_new.shape)\n"
   ]
  },
  {
   "cell_type": "code",
   "execution_count": 80,
   "metadata": {},
   "outputs": [],
   "source": [
    "df=df_new"
   ]
  },
  {
   "cell_type": "code",
   "execution_count": 81,
   "metadata": {},
   "outputs": [
    {
     "data": {
      "image/png": "[encoded data removed]",
      "text/plain": [
       "<Figure size 432x288 with 1 Axes>"
      ]
     },
     "metadata": {
      "needs_background": "light"
     },
     "output_type": "display_data"
    }
   ],
   "source": [
    "sns.barplot(x='Team',y='Salary',data=df)\n",
    "plt.show()"
   ]
  },
  {
   "cell_type": "code",
   "execution_count": 82,
   "metadata": {},
   "outputs": [
    {
     "data": {
      "image/png": "[encoded data removed]",
      "text/plain": [
       "<Figure size 432x288 with 1 Axes>"
      ]
     },
     "metadata": {
      "needs_background": "light"
     },
     "output_type": "display_data"
    }
   ],
   "source": [
    "sns.barplot(x='Number',y='Salary',data=df)\n",
    "plt.show()"
   ]
  },
  {
   "cell_type": "code",
   "execution_count": 83,
   "metadata": {},
   "outputs": [
    {
     "data": {
      "image/png": "[encoded data removed]",
      "text/plain": [
       "<Figure size 432x288 with 1 Axes>"
      ]
     },
     "metadata": {
      "needs_background": "light"
     },
     "output_type": "display_data"
    }
   ],
   "source": [
    "sns.barplot(x='Position',y='Salary',data=df)\n",
    "plt.show()"
   ]
  },
  {
   "cell_type": "code",
   "execution_count": 84,
   "metadata": {},
   "outputs": [
    {
     "data": {
      "image/png": "[encoded data removed]",
      "text/plain": [
       "<Figure size 432x288 with 1 Axes>"
      ]
     },
     "metadata": {
      "needs_background": "light"
     },
     "output_type": "display_data"
    }
   ],
   "source": [
    "sns.barplot(x='Age',y='Salary',data=df)\n",
    "plt.show()"
   ]
  },
  {
   "cell_type": "code",
   "execution_count": 85,
   "metadata": {},
   "outputs": [
    {
     "data": {
      "image/png": "[encoded data removed]",
      "text/plain": [
       "<Figure size 432x288 with 1 Axes>"
      ]
     },
     "metadata": {
      "needs_background": "light"
     },
     "output_type": "display_data"
    }
   ],
   "source": [
    "sns.lineplot(x='Weight',y='Salary',data=df)\n",
    "plt.show()"
   ]
  },
  {
   "cell_type": "code",
   "execution_count": 86,
   "metadata": {},
   "outputs": [
    {
     "data": {
      "image/png": "[encoded data removed]",
      "text/plain": [
       "<Figure size 432x288 with 1 Axes>"
      ]
     },
     "metadata": {
      "needs_background": "light"
     },
     "output_type": "display_data"
    }
   ],
   "source": [
    "sns.lineplot(x='College',y='Salary',data=df_new)\n",
    "plt.show()"
   ]
  },
  {
   "cell_type": "code",
   "execution_count": 87,
   "metadata": {},
   "outputs": [
    {
     "data": {
      "image/png": "[encoded data removed]",
      "text/plain": [
       "<Figure size 432x288 with 1 Axes>"
      ]
     },
     "metadata": {
      "needs_background": "light"
     },
     "output_type": "display_data"
    }
   ],
   "source": [
    "plt.hist(x=\"Salary\",bins=10,data=df)\n",
    "plt.show()"
   ]
  },
  {
   "cell_type": "code",
   "execution_count": 88,
   "metadata": {},
   "outputs": [
    {
     "data": {
      "text/plain": [
       "Team       -0.014442\n",
       "Number      0.801953\n",
       "Position   -0.032205\n",
       "Age         0.654542\n",
       "Weight      0.092816\n",
       "College     0.239960\n",
       "Salary      1.501286\n",
       "dtype: float64"
      ]
     },
     "execution_count": 88,
     "metadata": {},
     "output_type": "execute_result"
    }
   ],
   "source": [
    "df.skew()"
   ]
  },
  {
   "cell_type": "code",
   "execution_count": 89,
   "metadata": {
    "scrolled": true
   },
   "outputs": [
    {
     "data": {
      "text/plain": [
       "<matplotlib.axes._subplots.AxesSubplot at 0x24e77d2bb50>"
      ]
     },
     "execution_count": 89,
     "metadata": {},
     "output_type": "execute_result"
    },
    {
     "data": {
      "image/png": "[encoded data removed]",
      "text/plain": [
       "<Figure size 432x288 with 2 Axes>"
      ]
     },
     "metadata": {
      "needs_background": "light"
     },
     "output_type": "display_data"
    }
   ],
   "source": [
    "sns.heatmap(data=df.corr(),annot=True)"
   ]
  },
  {
   "cell_type": "code",
   "execution_count": 90,
   "metadata": {},
   "outputs": [
    {
     "data": {
      "text/html": [
       "<div>\n",
       "<style scoped>\n",
       "    .dataframe tbody tr th:only-of-type {\n",
       "        vertical-align: middle;\n",
       "    }\n",
       "\n",
       "    .dataframe tbody tr th {\n",
       "        vertical-align: top;\n",
       "    }\n",
       "\n",
       "    .dataframe thead th {\n",
       "        text-align: right;\n",
       "    }\n",
       "</style>\n",
       "<table border=\"1\" class=\"dataframe\">\n",
       "  <thead>\n",
       "    <tr style=\"text-align: right;\">\n",
       "      <th></th>\n",
       "      <th>Team</th>\n",
       "      <th>Number</th>\n",
       "      <th>Position</th>\n",
       "      <th>Age</th>\n",
       "      <th>Weight</th>\n",
       "      <th>College</th>\n",
       "      <th>Salary</th>\n",
       "    </tr>\n",
       "  </thead>\n",
       "  <tbody>\n",
       "    <tr>\n",
       "      <th>0</th>\n",
       "      <td>1</td>\n",
       "      <td>0</td>\n",
       "      <td>2</td>\n",
       "      <td>25</td>\n",
       "      <td>180</td>\n",
       "      <td>93</td>\n",
       "      <td>7.730337e+06</td>\n",
       "    </tr>\n",
       "    <tr>\n",
       "      <th>2</th>\n",
       "      <td>1</td>\n",
       "      <td>30</td>\n",
       "      <td>4</td>\n",
       "      <td>27</td>\n",
       "      <td>205</td>\n",
       "      <td>8</td>\n",
       "      <td>4.842684e+06</td>\n",
       "    </tr>\n",
       "    <tr>\n",
       "      <th>3</th>\n",
       "      <td>1</td>\n",
       "      <td>28</td>\n",
       "      <td>4</td>\n",
       "      <td>22</td>\n",
       "      <td>185</td>\n",
       "      <td>33</td>\n",
       "      <td>1.148640e+06</td>\n",
       "    </tr>\n",
       "    <tr>\n",
       "      <th>4</th>\n",
       "      <td>1</td>\n",
       "      <td>8</td>\n",
       "      <td>1</td>\n",
       "      <td>29</td>\n",
       "      <td>231</td>\n",
       "      <td>45</td>\n",
       "      <td>5.000000e+06</td>\n",
       "    </tr>\n",
       "    <tr>\n",
       "      <th>6</th>\n",
       "      <td>1</td>\n",
       "      <td>55</td>\n",
       "      <td>1</td>\n",
       "      <td>21</td>\n",
       "      <td>235</td>\n",
       "      <td>46</td>\n",
       "      <td>1.170960e+06</td>\n",
       "    </tr>\n",
       "    <tr>\n",
       "      <th>...</th>\n",
       "      <td>...</td>\n",
       "      <td>...</td>\n",
       "      <td>...</td>\n",
       "      <td>...</td>\n",
       "      <td>...</td>\n",
       "      <td>...</td>\n",
       "      <td>...</td>\n",
       "    </tr>\n",
       "    <tr>\n",
       "      <th>452</th>\n",
       "      <td>28</td>\n",
       "      <td>41</td>\n",
       "      <td>1</td>\n",
       "      <td>20</td>\n",
       "      <td>234</td>\n",
       "      <td>45</td>\n",
       "      <td>2.239800e+06</td>\n",
       "    </tr>\n",
       "    <tr>\n",
       "      <th>453</th>\n",
       "      <td>28</td>\n",
       "      <td>8</td>\n",
       "      <td>2</td>\n",
       "      <td>26</td>\n",
       "      <td>203</td>\n",
       "      <td>11</td>\n",
       "      <td>2.433333e+06</td>\n",
       "    </tr>\n",
       "    <tr>\n",
       "      <th>454</th>\n",
       "      <td>28</td>\n",
       "      <td>25</td>\n",
       "      <td>2</td>\n",
       "      <td>24</td>\n",
       "      <td>179</td>\n",
       "      <td>45</td>\n",
       "      <td>9.000000e+05</td>\n",
       "    </tr>\n",
       "    <tr>\n",
       "      <th>455</th>\n",
       "      <td>28</td>\n",
       "      <td>21</td>\n",
       "      <td>0</td>\n",
       "      <td>26</td>\n",
       "      <td>256</td>\n",
       "      <td>45</td>\n",
       "      <td>2.900000e+06</td>\n",
       "    </tr>\n",
       "    <tr>\n",
       "      <th>456</th>\n",
       "      <td>28</td>\n",
       "      <td>24</td>\n",
       "      <td>0</td>\n",
       "      <td>26</td>\n",
       "      <td>231</td>\n",
       "      <td>43</td>\n",
       "      <td>9.472760e+05</td>\n",
       "    </tr>\n",
       "  </tbody>\n",
       "</table>\n",
       "<p>443 rows × 7 columns</p>\n",
       "</div>"
      ],
      "text/plain": [
       "     Team  Number  Position  Age  Weight  College        Salary\n",
       "0       1       0         2   25     180       93  7.730337e+06\n",
       "2       1      30         4   27     205        8  4.842684e+06\n",
       "3       1      28         4   22     185       33  1.148640e+06\n",
       "4       1       8         1   29     231       45  5.000000e+06\n",
       "6       1      55         1   21     235       46  1.170960e+06\n",
       "..    ...     ...       ...  ...     ...      ...           ...\n",
       "452    28      41         1   20     234       45  2.239800e+06\n",
       "453    28       8         2   26     203       11  2.433333e+06\n",
       "454    28      25         2   24     179       45  9.000000e+05\n",
       "455    28      21         0   26     256       45  2.900000e+06\n",
       "456    28      24         0   26     231       43  9.472760e+05\n",
       "\n",
       "[443 rows x 7 columns]"
      ]
     },
     "execution_count": 90,
     "metadata": {},
     "output_type": "execute_result"
    }
   ],
   "source": [
    "df"
   ]
  },
  {
   "cell_type": "code",
   "execution_count": 91,
   "metadata": {},
   "outputs": [
    {
     "data": {
      "text/plain": [
       "Team           AxesSubplot(0.125,0.125;0.0945122x0.755)\n",
       "Number      AxesSubplot(0.238415,0.125;0.0945122x0.755)\n",
       "Position    AxesSubplot(0.351829,0.125;0.0945122x0.755)\n",
       "Age         AxesSubplot(0.465244,0.125;0.0945122x0.755)\n",
       "Weight      AxesSubplot(0.578659,0.125;0.0945122x0.755)\n",
       "College     AxesSubplot(0.692073,0.125;0.0945122x0.755)\n",
       "Salary      AxesSubplot(0.805488,0.125;0.0945122x0.755)\n",
       "dtype: object"
      ]
     },
     "execution_count": 91,
     "metadata": {},
     "output_type": "execute_result"
    },
    {
     "data": {
      "image/png": "[encoded data removed]",
      "text/plain": [
       "<Figure size 432x288 with 7 Axes>"
      ]
     },
     "metadata": {
      "needs_background": "light"
     },
     "output_type": "display_data"
    }
   ],
   "source": [
    "df.plot(kind='box',subplots=True,layout=(1,7))"
   ]
  },
  {
   "cell_type": "code",
   "execution_count": 92,
   "metadata": {},
   "outputs": [
    {
     "data": {
      "text/html": [
       "<div>\n",
       "<style scoped>\n",
       "    .dataframe tbody tr th:only-of-type {\n",
       "        vertical-align: middle;\n",
       "    }\n",
       "\n",
       "    .dataframe tbody tr th {\n",
       "        vertical-align: top;\n",
       "    }\n",
       "\n",
       "    .dataframe thead th {\n",
       "        text-align: right;\n",
       "    }\n",
       "</style>\n",
       "<table border=\"1\" class=\"dataframe\">\n",
       "  <thead>\n",
       "    <tr style=\"text-align: right;\">\n",
       "      <th></th>\n",
       "      <th>Team</th>\n",
       "      <th>Number</th>\n",
       "      <th>Position</th>\n",
       "      <th>Age</th>\n",
       "      <th>Weight</th>\n",
       "      <th>College</th>\n",
       "    </tr>\n",
       "  </thead>\n",
       "  <tbody>\n",
       "    <tr>\n",
       "      <th>0</th>\n",
       "      <td>1</td>\n",
       "      <td>0</td>\n",
       "      <td>2</td>\n",
       "      <td>25</td>\n",
       "      <td>180</td>\n",
       "      <td>93</td>\n",
       "    </tr>\n",
       "    <tr>\n",
       "      <th>2</th>\n",
       "      <td>1</td>\n",
       "      <td>30</td>\n",
       "      <td>4</td>\n",
       "      <td>27</td>\n",
       "      <td>205</td>\n",
       "      <td>8</td>\n",
       "    </tr>\n",
       "    <tr>\n",
       "      <th>3</th>\n",
       "      <td>1</td>\n",
       "      <td>28</td>\n",
       "      <td>4</td>\n",
       "      <td>22</td>\n",
       "      <td>185</td>\n",
       "      <td>33</td>\n",
       "    </tr>\n",
       "    <tr>\n",
       "      <th>4</th>\n",
       "      <td>1</td>\n",
       "      <td>8</td>\n",
       "      <td>1</td>\n",
       "      <td>29</td>\n",
       "      <td>231</td>\n",
       "      <td>45</td>\n",
       "    </tr>\n",
       "    <tr>\n",
       "      <th>6</th>\n",
       "      <td>1</td>\n",
       "      <td>55</td>\n",
       "      <td>1</td>\n",
       "      <td>21</td>\n",
       "      <td>235</td>\n",
       "      <td>46</td>\n",
       "    </tr>\n",
       "  </tbody>\n",
       "</table>\n",
       "</div>"
      ],
      "text/plain": [
       "   Team  Number  Position  Age  Weight  College\n",
       "0     1       0         2   25     180       93\n",
       "2     1      30         4   27     205        8\n",
       "3     1      28         4   22     185       33\n",
       "4     1       8         1   29     231       45\n",
       "6     1      55         1   21     235       46"
      ]
     },
     "execution_count": 92,
     "metadata": {},
     "output_type": "execute_result"
    }
   ],
   "source": [
    "x=df.drop(['Salary'],axis=1)\n",
    "x.head()\n"
   ]
  },
  {
   "cell_type": "code",
   "execution_count": 93,
   "metadata": {},
   "outputs": [
    {
     "data": {
      "text/plain": [
       "array([ 7730337.        ,  4842684.10538117,  1148640.        ,\n",
       "        5000000.        ,  1170960.        ,  2165160.        ,\n",
       "        1824360.        ,  3431040.        ,  2569260.        ,\n",
       "        6912869.        ,  3425510.        ,  1749840.        ,\n",
       "        2616975.        ,  3425510.        ,   845059.        ,\n",
       "        1500000.        ,  1335480.        ,  6300000.        ,\n",
       "        1599840.        ,   134215.        ,  1500000.        ,\n",
       "       19689000.        ,  1140240.        ,   947276.        ,\n",
       "         981348.        ,   947276.        ,   947276.        ,\n",
       "       11235955.        ,  8000000.        ,  1635476.        ,\n",
       "          30888.        ,  7402812.        ,   845059.        ,\n",
       "         845059.        ,  1572360.        , 12650000.        ,\n",
       "        3750000.        ,  4131720.        ,  2814000.        ,\n",
       "        1636842.        ,   947276.        ,  4000000.        ,\n",
       "         167406.        ,  4842684.10538117,   947276.        ,\n",
       "        1000000.        ,  4626960.        ,   845059.        ,\n",
       "        1074169.        ,  6500000.        ,  2144772.        ,\n",
       "         525093.        ,  3457800.        ,  4582680.        ,\n",
       "         947276.        ,  2869440.        ,   947276.        ,\n",
       "         525093.        ,  2814000.        ,  1524000.        ,\n",
       "       13600000.        , 10050000.        ,  2500000.        ,\n",
       "        7000000.        , 12000000.        ,  6268675.        ,\n",
       "         650000.        ,  3553917.        ,  2900000.        ,\n",
       "         245177.        ,  4660482.        ,  1509360.        ,\n",
       "        2500000.        ,  3873398.        , 13800000.        ,\n",
       "         947276.        , 11370786.        ,  2008748.        ,\n",
       "       14260870.        , 11710456.        ,  5543725.        ,\n",
       "        1131960.        ,   845059.        ,  1270964.        ,\n",
       "        3815000.        , 15501000.        ,   289755.        ,\n",
       "        1100602.        ,   111444.        ,  5675000.        ,\n",
       "         525093.        ,  9650000.        , 18907726.        ,\n",
       "        1100602.        , 19689000.        ,   947276.        ,\n",
       "        3376000.        ,   947726.        ,  7085000.        ,\n",
       "        3110796.        ,  1159680.        ,  3000000.        ,\n",
       "         845059.        ,   700000.        ,   845059.        ,\n",
       "       15592217.        ,   525093.        ,  1724250.        ,\n",
       "        1155600.        ,  3132240.        ,  5103120.        ,\n",
       "         981348.        ,  7000000.        ,   947276.        ,\n",
       "        5219169.        , 13500000.        ,  2127840.        ,\n",
       "         206192.        , 13000000.        ,  1160160.        ,\n",
       "         981348.        , 13500000.        ,  3807120.        ,\n",
       "        1035000.        ,    55722.        ,   947276.        ,\n",
       "        5500000.        ,  5500000.        ,  2041080.        ,\n",
       "          83397.        ,   981348.        ,  1015421.        ,\n",
       "        6060606.        ,  1449187.        ,  2836186.        ,\n",
       "        3398280.        ,  5013559.        , 15851950.        ,\n",
       "         947276.        ,   525093.        , 12403101.        ,\n",
       "        7700000.        ,  3156600.        ,   845059.        ,\n",
       "        9500000.        ,   845059.        ,  2250000.        ,\n",
       "       16407500.        ,  4500000.        ,   525093.        ,\n",
       "        7448760.        ,  8500000.        ,   947276.        ,\n",
       "        2380440.        ,  5543725.        ,  1015421.        ,\n",
       "       13400000.        ,  1391160.        , 20093064.        ,\n",
       "        1535880.        ,  1147276.        ,  8193029.        ,\n",
       "       16407501.        ,   947276.        ,  4842684.10538117,\n",
       "         947276.        ,  1276000.        , 19689000.        ,\n",
       "         111196.        ,  4950000.        ,  8988765.        ,\n",
       "        5000000.        , 14260870.        ,  2100000.        ,\n",
       "        2500000.        ,  6500000.        ,  2170465.        ,\n",
       "         111444.        ,  1252440.        ,  2891760.        ,\n",
       "         845059.        ,  3272091.        , 16000000.        ,\n",
       "         600000.        , 13913044.        ,  2841960.        ,\n",
       "        6270000.        ,  5000000.        ,  3000000.        ,\n",
       "        4050000.        ,  1007026.        , 10300000.        ,\n",
       "       17120106.        ,  8000000.        ,  4000000.        ,\n",
       "        1358880.        ,   211744.        ,  4000000.        ,\n",
       "        4394225.        ,  1100000.        ,  7000000.        ,\n",
       "        2357760.        ,   845059.        ,  1007026.        ,\n",
       "        1953960.        ,  3000000.        ,  2399040.        ,\n",
       "         947276.        ,  1662360.        ,  2943221.        ,\n",
       "         855000.        ,  8000000.        , 14700000.        ,\n",
       "       16407500.        ,   295327.        ,  5152440.        ,\n",
       "        2109294.        ,  6600000.        ,  1733040.        ,\n",
       "        1449000.        ,  4290000.        ,  1100602.        ,\n",
       "        3950313.        ,  4053446.        ,  2085671.        ,\n",
       "       16407500.        ,  1270964.        ,   525093.        ,\n",
       "        8333334.        ,  5200000.        , 15361500.        ,\n",
       "         845059.        ,   947276.        ,  5378974.        ,\n",
       "        8193030.        ,   306527.        ,  6486486.        ,\n",
       "        8229375.        ,  1242720.        ,  1646400.        ,\n",
       "         200600.        , 15756438.        ,  1000000.        ,\n",
       "        2489530.        ,  3189794.        ,  2288205.        ,\n",
       "         947276.        ,   947276.        ,  1404600.        ,\n",
       "        5158539.        ,  5000000.        ,  3542500.        ,\n",
       "        4088019.        ,  9588426.        ,   700902.        ,\n",
       "        4842684.10538117, 19688000.        ,   845059.        ,\n",
       "        1201440.        ,  1230840.        ,  4842684.10538117,\n",
       "        4842684.10538117,  9638555.        ,  9000000.        ,\n",
       "        4842684.10538117,  5464000.        ,  4389607.        ,\n",
       "        8500000.        ,  9213483.        ,  1100602.        ,\n",
       "        3036927.        ,  2850000.        ,  7070730.        ,\n",
       "         169883.        ,  1164858.        ,   845059.        ,\n",
       "       10734586.        ,   845059.        ,  1320000.        ,\n",
       "       15514031.        ,  1015421.        , 10595507.        ,\n",
       "          55722.        ,   947276.        ,  3382023.        ,\n",
       "       19689000.        ,  1142880.        ,   947276.        ,\n",
       "        7500000.        ,  5250000.        ,  2814000.        ,\n",
       "       10000000.        , 16407500.        ,  1200000.        ,\n",
       "         200600.        ,   250750.        ,  3578947.        ,\n",
       "       13437500.        ,   525093.        ,  1499187.        ,\n",
       "        2000000.        ,  1304520.        ,  2854940.        ,\n",
       "       12000000.        ,  1000000.        ,  5746479.        ,\n",
       "       18671659.        ,   947276.        ,   525093.        ,\n",
       "        1763400.        ,  3333333.        ,  4000000.        ,\n",
       "        9756250.        ,  1000000.        ,  8000000.        ,\n",
       "       13125306.        ,   947276.        ,   189455.        ,\n",
       "         947276.        ,   525093.        ,  6110034.        ,\n",
       "       13500000.        ,  2612520.        ,  6331404.        ,\n",
       "        3034356.        ,  5675000.        ,  2139000.        ,\n",
       "       12000000.        ,  7000000.        ,  4204200.        ,\n",
       "       10151612.        , 14783000.        ,   947276.        ,\n",
       "        2854940.        ,   261894.        ,   845059.        ,\n",
       "        5543725.        ,   525093.        ,   947276.        ,\n",
       "       20000000.        ,  4842684.10538117,   981348.        ,\n",
       "        2481720.        ,  4842684.10538117,   947276.        ,\n",
       "        2288205.        ,  4171680.        ,  3741480.        ,\n",
       "        7900000.        ,  8344497.        ,   845059.        ,\n",
       "        1294440.        ,  2380593.        ,  5192520.        ,\n",
       "        2505720.        ,  4300000.        , 11250000.        ,\n",
       "        5000000.        ,  4000000.        ,  5694674.        ,\n",
       "        4375000.        ,   561716.        , 11217391.        ,\n",
       "         273038.        , 13000000.        ,  8000000.        ,\n",
       "        1920240.        ,  4662960.        ,  2170465.        ,\n",
       "        1100602.        ,   200600.        , 15851950.        ,\n",
       "        2814000.        ,  3000000.        ,  3533333.        ,\n",
       "       10449438.        , 11235955.        , 14000000.        ,\n",
       "        1584480.        ,  1300000.        ,   947276.        ,\n",
       "        3102240.        ,  4345000.        ,  1842000.        ,\n",
       "         258489.        ,  4842684.10538117,  1474440.        ,\n",
       "        8500000.        ,  1282080.        ,  2148360.        ,\n",
       "        2056920.        ,  1938840.        ,   947276.        ,\n",
       "       12700000.        ,  1149500.        ,  4842684.10538117,\n",
       "        5703600.        ,  5758680.        ,  2279040.        ,\n",
       "        3750000.        , 20158622.        ,  3135000.        ,\n",
       "        1140240.        , 12250000.        , 16407500.        ,\n",
       "        1463040.        ,   222888.        ,  3344000.        ,\n",
       "        2021520.        ,  1210800.        ,  4500000.        ,\n",
       "        5138430.        , 16744218.        ,   525093.        ,\n",
       "        8042895.        ,   625093.        ,   947276.        ,\n",
       "        6980802.        ,  2894059.        ,  6000000.        ,\n",
       "        5016000.        ,  3075880.        ,  4236287.        ,\n",
       "        2525160.        ,   525093.        ,  1415520.        ,\n",
       "        2854940.        ,  2637720.        ,  4775000.        ,\n",
       "        2658240.        ,  9463484.        ,  3777720.        ,\n",
       "       12000000.        ,  1175880.        , 15409570.        ,\n",
       "        1348440.        ,  2050000.        ,   981348.        ,\n",
       "        2239800.        ,  2433333.        ,   900000.        ,\n",
       "        2900000.        ,   947276.        ])"
      ]
     },
     "execution_count": 93,
     "metadata": {},
     "output_type": "execute_result"
    }
   ],
   "source": [
    "y=df['Salary'].values\n",
    "y"
   ]
  },
  {
   "cell_type": "code",
   "execution_count": 94,
   "metadata": {},
   "outputs": [
    {
     "data": {
      "text/plain": [
       "(443, 6)"
      ]
     },
     "execution_count": 94,
     "metadata": {},
     "output_type": "execute_result"
    }
   ],
   "source": [
    "x.shape"
   ]
  },
  {
   "cell_type": "code",
   "execution_count": 95,
   "metadata": {},
   "outputs": [
    {
     "data": {
      "text/plain": [
       "(443,)"
      ]
     },
     "execution_count": 95,
     "metadata": {},
     "output_type": "execute_result"
    }
   ],
   "source": [
    "y.shape"
   ]
  },
  {
   "cell_type": "code",
   "execution_count": 96,
   "metadata": {},
   "outputs": [
    {
     "data": {
      "text/plain": [
       "(443, 1)"
      ]
     },
     "execution_count": 96,
     "metadata": {},
     "output_type": "execute_result"
    }
   ],
   "source": [
    "y=y.reshape(-1,1)\n",
    "y.shape"
   ]
  },
  {
   "cell_type": "code",
   "execution_count": 97,
   "metadata": {},
   "outputs": [],
   "source": [
    "from sklearn.linear_model import LinearRegression\n",
    "from sklearn.metrics import mean_squared_error,mean_absolute_error\n",
    "from sklearn.model_selection import train_test_split\n",
    "x_train,x_test,y_train,y_test=train_test_split(x,y,test_size=.33,random_state=42)"
   ]
  },
  {
   "cell_type": "code",
   "execution_count": 98,
   "metadata": {},
   "outputs": [
    {
     "data": {
      "text/plain": [
       "(296, 6)"
      ]
     },
     "execution_count": 98,
     "metadata": {},
     "output_type": "execute_result"
    }
   ],
   "source": [
    "x_train.shape"
   ]
  },
  {
   "cell_type": "code",
   "execution_count": 99,
   "metadata": {},
   "outputs": [
    {
     "data": {
      "text/plain": [
       "(296, 1)"
      ]
     },
     "execution_count": 99,
     "metadata": {},
     "output_type": "execute_result"
    }
   ],
   "source": [
    "y_train.shape"
   ]
  },
  {
   "cell_type": "code",
   "execution_count": 100,
   "metadata": {},
   "outputs": [
    {
     "data": {
      "text/plain": [
       "(147, 6)"
      ]
     },
     "execution_count": 100,
     "metadata": {},
     "output_type": "execute_result"
    }
   ],
   "source": [
    "x_test.shape"
   ]
  },
  {
   "cell_type": "code",
   "execution_count": 101,
   "metadata": {},
   "outputs": [
    {
     "data": {
      "text/plain": [
       "(147, 1)"
      ]
     },
     "execution_count": 101,
     "metadata": {},
     "output_type": "execute_result"
    }
   ],
   "source": [
    "y_test.shape"
   ]
  },
  {
   "cell_type": "code",
   "execution_count": 102,
   "metadata": {},
   "outputs": [],
   "source": [
    "lm=LinearRegression()"
   ]
  },
  {
   "cell_type": "code",
   "execution_count": 103,
   "metadata": {},
   "outputs": [
    {
     "data": {
      "text/plain": [
       "LinearRegression()"
      ]
     },
     "execution_count": 103,
     "metadata": {},
     "output_type": "execute_result"
    }
   ],
   "source": [
    "lm.fit(x_train,y_train)"
   ]
  },
  {
   "cell_type": "code",
   "execution_count": 104,
   "metadata": {},
   "outputs": [
    {
     "data": {
      "text/plain": [
       "array([[-72961.31003053, -49438.52426585, 116384.06818309,\n",
       "        142787.43216457,  21952.16226536,  -3129.21916075]])"
      ]
     },
     "execution_count": 104,
     "metadata": {},
     "output_type": "execute_result"
    }
   ],
   "source": [
    "lm.coef_"
   ]
  },
  {
   "cell_type": "code",
   "execution_count": 105,
   "metadata": {},
   "outputs": [
    {
     "data": {
      "text/plain": [
       "array([-2291872.447436])"
      ]
     },
     "execution_count": 105,
     "metadata": {},
     "output_type": "execute_result"
    }
   ],
   "source": [
    "lm.intercept_"
   ]
  },
  {
   "cell_type": "code",
   "execution_count": 106,
   "metadata": {},
   "outputs": [
    {
     "data": {
      "text/plain": [
       "0.0610556580551902"
      ]
     },
     "execution_count": 106,
     "metadata": {},
     "output_type": "execute_result"
    }
   ],
   "source": [
    "lm.score(x_train,y_train)"
   ]
  },
  {
   "cell_type": "code",
   "execution_count": 107,
   "metadata": {},
   "outputs": [
    {
     "name": "stdout",
     "output_type": "stream",
     "text": [
      "0.022045047117609573\n"
     ]
    }
   ],
   "source": [
    "from sklearn.metrics import r2_score\n",
    "pred=lm.predict(x_test)\n",
    "print(r2_score(y_test,pred))"
   ]
  },
  {
   "cell_type": "code",
   "execution_count": 108,
   "metadata": {},
   "outputs": [],
   "source": [
    "from sklearn.model_selection import train_test_split\n",
    "from sklearn.metrics import mean_squared_error,mean_absolute_error,r2_score\n",
    "from sklearn.linear_model import LinearRegression"
   ]
  },
  {
   "cell_type": "code",
   "execution_count": 109,
   "metadata": {},
   "outputs": [],
   "source": [
    "def maxr2_score(regr,x,y):\n",
    "    max_r_score=0\n",
    "    for r_state in range(40,101):\n",
    "        x_train,x_test,y_train,y_test=train_test_split(x,y,random_state=r_state,test_size=0.20)\n",
    "        regr.fit(x_train,y_train)\n",
    "        y_pred=regr.predict(x_test)\n",
    "        r2_scr=r2_score(y_test,y_pred)\n",
    "        print(\"r2_score corresponding to random state:\",r_state,\"is:\",r2_scr)\n",
    "        if r2_scr>max_r_score:\n",
    "            max_r_score=r2_scr\n",
    "            final_r_state=r_state\n",
    "    print(\"Max r2 score corresponding to \",final_r_state,\"is\",max_r_score)\n",
    "    return final_r_state\n",
    "    "
   ]
  },
  {
   "cell_type": "code",
   "execution_count": 110,
   "metadata": {},
   "outputs": [
    {
     "name": "stdout",
     "output_type": "stream",
     "text": [
      "r2_score corresponding to random state: 40 is: 0.06199328165611373\n",
      "r2_score corresponding to random state: 41 is: 0.05152145999378377\n",
      "r2_score corresponding to random state: 42 is: 0.07234876084624131\n",
      "r2_score corresponding to random state: 43 is: 0.020615516348624463\n",
      "r2_score corresponding to random state: 44 is: -0.14181406464433377\n",
      "r2_score corresponding to random state: 45 is: -0.03126140723217308\n",
      "r2_score corresponding to random state: 46 is: -0.05335096875293033\n",
      "r2_score corresponding to random state: 47 is: -0.02234319092815462\n",
      "r2_score corresponding to random state: 48 is: 0.06816234897041629\n",
      "r2_score corresponding to random state: 49 is: -0.043621382093314454\n",
      "r2_score corresponding to random state: 50 is: -0.047669868301690954\n",
      "r2_score corresponding to random state: 51 is: -0.004386925808623321\n",
      "r2_score corresponding to random state: 52 is: -0.01924520357638304\n",
      "r2_score corresponding to random state: 53 is: 0.06931519775988992\n",
      "r2_score corresponding to random state: 54 is: 0.09964663634746651\n",
      "r2_score corresponding to random state: 55 is: -0.09118564431212084\n",
      "r2_score corresponding to random state: 56 is: 0.07170433037879786\n",
      "r2_score corresponding to random state: 57 is: -0.03137167598748447\n",
      "r2_score corresponding to random state: 58 is: -0.00744741309421304\n",
      "r2_score corresponding to random state: 59 is: -0.0071066273909492494\n",
      "r2_score corresponding to random state: 60 is: 0.0008423724764298202\n",
      "r2_score corresponding to random state: 61 is: -0.04211593209486342\n",
      "r2_score corresponding to random state: 62 is: 0.05386449707426377\n",
      "r2_score corresponding to random state: 63 is: 0.06954582260239894\n",
      "r2_score corresponding to random state: 64 is: 0.07056828881789745\n",
      "r2_score corresponding to random state: 65 is: -0.014922930331680018\n",
      "r2_score corresponding to random state: 66 is: 0.02496626430979043\n",
      "r2_score corresponding to random state: 67 is: 0.06616102852812022\n",
      "r2_score corresponding to random state: 68 is: -0.07433376333819752\n",
      "r2_score corresponding to random state: 69 is: 0.004494833236841411\n",
      "r2_score corresponding to random state: 70 is: 0.0646607617624938\n",
      "r2_score corresponding to random state: 71 is: -0.06423203325470972\n",
      "r2_score corresponding to random state: 72 is: -0.030730471760276767\n",
      "r2_score corresponding to random state: 73 is: 0.02783908723814621\n",
      "r2_score corresponding to random state: 74 is: 0.031854904488562874\n",
      "r2_score corresponding to random state: 75 is: 0.04821295282427418\n",
      "r2_score corresponding to random state: 76 is: -0.00527559602777683\n",
      "r2_score corresponding to random state: 77 is: 0.05823572303149438\n",
      "r2_score corresponding to random state: 78 is: 0.10351431069017236\n",
      "r2_score corresponding to random state: 79 is: 0.016628486680113297\n",
      "r2_score corresponding to random state: 80 is: 0.12322075791542464\n",
      "r2_score corresponding to random state: 81 is: 0.031954262600200734\n",
      "r2_score corresponding to random state: 82 is: 0.0019229265200204626\n",
      "r2_score corresponding to random state: 83 is: -0.007669084781741553\n",
      "r2_score corresponding to random state: 84 is: 0.03070651843865735\n",
      "r2_score corresponding to random state: 85 is: 0.003338559857685941\n",
      "r2_score corresponding to random state: 86 is: 0.07426243566187174\n",
      "r2_score corresponding to random state: 87 is: 0.11226320782748755\n",
      "r2_score corresponding to random state: 88 is: -0.04122890974093907\n",
      "r2_score corresponding to random state: 89 is: 0.005204420411906052\n",
      "r2_score corresponding to random state: 90 is: 0.016414413553470508\n",
      "r2_score corresponding to random state: 91 is: 0.0982212276768557\n",
      "r2_score corresponding to random state: 92 is: 0.053635327559695245\n",
      "r2_score corresponding to random state: 93 is: -0.023689030364856478\n",
      "r2_score corresponding to random state: 94 is: -0.009350436232299142\n",
      "r2_score corresponding to random state: 95 is: 0.00305906996042149\n",
      "r2_score corresponding to random state: 96 is: 0.0973002042748683\n",
      "r2_score corresponding to random state: 97 is: -0.00532004233002592\n",
      "r2_score corresponding to random state: 98 is: 0.05337232885214915\n",
      "r2_score corresponding to random state: 99 is: 0.032072563635450524\n",
      "r2_score corresponding to random state: 100 is: 0.10531817184416126\n",
      "Max r2 score corresponding to  80 is 0.12322075791542464\n"
     ]
    }
   ],
   "source": [
    "lreg=LinearRegression()\n",
    "r_state=maxr2_score(lreg,x,y)"
   ]
  },
  {
   "cell_type": "code",
   "execution_count": 111,
   "metadata": {},
   "outputs": [],
   "source": [
    "from sklearn.model_selection import GridSearchCV\n",
    "from sklearn.neighbors import KNeighborsRegressor"
   ]
  },
  {
   "cell_type": "code",
   "execution_count": 112,
   "metadata": {},
   "outputs": [
    {
     "data": {
      "text/plain": [
       "{'n_neighbors': 13}"
      ]
     },
     "execution_count": 112,
     "metadata": {},
     "output_type": "execute_result"
    }
   ],
   "source": [
    "neighbors={'n_neighbors':range(1,50)}\n",
    "knr=KNeighborsRegressor()\n",
    "gknr=GridSearchCV(knr,neighbors,cv=10)\n",
    "gknr.fit(x,y)\n",
    "gknr.best_params_\n"
   ]
  },
  {
   "cell_type": "code",
   "execution_count": 113,
   "metadata": {},
   "outputs": [
    {
     "name": "stdout",
     "output_type": "stream",
     "text": [
      "r2_score corresponding to random state: 40 is: -0.008205376238402007\n",
      "r2_score corresponding to random state: 41 is: 0.0631026641296899\n",
      "r2_score corresponding to random state: 42 is: 0.009712231486028067\n",
      "r2_score corresponding to random state: 43 is: -0.018914009801424658\n",
      "r2_score corresponding to random state: 44 is: -0.11731584978469334\n",
      "r2_score corresponding to random state: 45 is: -0.04311348402520343\n",
      "r2_score corresponding to random state: 46 is: -0.1318964481867375\n",
      "r2_score corresponding to random state: 47 is: 0.07633909517282622\n",
      "r2_score corresponding to random state: 48 is: -0.04814822603317248\n",
      "r2_score corresponding to random state: 49 is: 0.05267399859757682\n",
      "r2_score corresponding to random state: 50 is: -0.05200875302853003\n",
      "r2_score corresponding to random state: 51 is: 0.028689332913811816\n",
      "r2_score corresponding to random state: 52 is: -0.10220815656682003\n",
      "r2_score corresponding to random state: 53 is: -0.007415646219397942\n",
      "r2_score corresponding to random state: 54 is: 0.046727902401241916\n",
      "r2_score corresponding to random state: 55 is: -0.25571995834665606\n",
      "r2_score corresponding to random state: 56 is: 0.05720573172810839\n",
      "r2_score corresponding to random state: 57 is: -0.05709147154083105\n",
      "r2_score corresponding to random state: 58 is: -0.0280748082711908\n",
      "r2_score corresponding to random state: 59 is: 0.03694330432228499\n",
      "r2_score corresponding to random state: 60 is: -0.022861037832989206\n",
      "r2_score corresponding to random state: 61 is: -0.027713946726413585\n",
      "r2_score corresponding to random state: 62 is: -0.12241483474040016\n",
      "r2_score corresponding to random state: 63 is: 0.0927701753152218\n",
      "r2_score corresponding to random state: 64 is: 0.0033269354797921258\n",
      "r2_score corresponding to random state: 65 is: 0.050561185944432485\n",
      "r2_score corresponding to random state: 66 is: -0.11327194207485447\n",
      "r2_score corresponding to random state: 67 is: -0.06742670181739796\n",
      "r2_score corresponding to random state: 68 is: -0.10492481828801892\n",
      "r2_score corresponding to random state: 69 is: 0.018073325772401394\n",
      "r2_score corresponding to random state: 70 is: 0.02623771602312963\n",
      "r2_score corresponding to random state: 71 is: -0.012981078273420543\n",
      "r2_score corresponding to random state: 72 is: -0.0052251544755652635\n",
      "r2_score corresponding to random state: 73 is: -0.02970132900660083\n",
      "r2_score corresponding to random state: 74 is: 0.04353152462578691\n",
      "r2_score corresponding to random state: 75 is: -0.03974190642152431\n",
      "r2_score corresponding to random state: 76 is: -0.04702750686993218\n",
      "r2_score corresponding to random state: 77 is: -0.025362954768199497\n",
      "r2_score corresponding to random state: 78 is: 0.013533012375015363\n",
      "r2_score corresponding to random state: 79 is: -0.07779262849558943\n",
      "r2_score corresponding to random state: 80 is: 0.07351677499538656\n",
      "r2_score corresponding to random state: 81 is: 0.04838758028285117\n",
      "r2_score corresponding to random state: 82 is: 0.06589372137721605\n",
      "r2_score corresponding to random state: 83 is: -0.04262420407827294\n",
      "r2_score corresponding to random state: 84 is: 0.006434044327300659\n",
      "r2_score corresponding to random state: 85 is: 0.007132051730153521\n",
      "r2_score corresponding to random state: 86 is: 0.11057513526470919\n",
      "r2_score corresponding to random state: 87 is: -0.015564666774540603\n",
      "r2_score corresponding to random state: 88 is: -0.03470746010832526\n",
      "r2_score corresponding to random state: 89 is: -0.032849167511254995\n",
      "r2_score corresponding to random state: 90 is: -0.021381242601105077\n",
      "r2_score corresponding to random state: 91 is: -0.07489208879465092\n",
      "r2_score corresponding to random state: 92 is: -0.013997527565362322\n",
      "r2_score corresponding to random state: 93 is: 0.01432663761450792\n",
      "r2_score corresponding to random state: 94 is: -0.07364958594574911\n",
      "r2_score corresponding to random state: 95 is: -0.01731846344590182\n",
      "r2_score corresponding to random state: 96 is: -0.027307438165061537\n",
      "r2_score corresponding to random state: 97 is: 0.02926577651715101\n",
      "r2_score corresponding to random state: 98 is: 0.033254739325744964\n",
      "r2_score corresponding to random state: 99 is: -0.009347848979324391\n",
      "r2_score corresponding to random state: 100 is: 0.07153216168507337\n",
      "Max r2 score corresponding to  86 is 0.11057513526470919\n"
     ]
    }
   ],
   "source": [
    "knr=KNeighborsRegressor(n_neighbors=13)\n",
    "r_state=maxr2_score(knr,x,y)"
   ]
  },
  {
   "cell_type": "code",
   "execution_count": 114,
   "metadata": {},
   "outputs": [
    {
     "data": {
      "text/plain": [
       "{'alpha': 10}"
      ]
     },
     "execution_count": 114,
     "metadata": {},
     "output_type": "execute_result"
    }
   ],
   "source": [
    "from sklearn.linear_model import Lasso\n",
    "ls=Lasso()\n",
    "parameters={'alpha':[0.001,0.01,0.1,1,10]}\n",
    "clf=GridSearchCV(ls,parameters,cv=10)\n",
    "clf.fit(x,y)\n",
    "clf.best_params_"
   ]
  },
  {
   "cell_type": "code",
   "execution_count": 115,
   "metadata": {},
   "outputs": [
    {
     "name": "stdout",
     "output_type": "stream",
     "text": [
      "r2_score corresponding to random state: 40 is: 0.061993393313787726\n",
      "r2_score corresponding to random state: 41 is: 0.05152118713372211\n",
      "r2_score corresponding to random state: 42 is: 0.07234854967563309\n",
      "r2_score corresponding to random state: 43 is: 0.02061551756273927\n",
      "r2_score corresponding to random state: 44 is: -0.14181338263393517\n",
      "r2_score corresponding to random state: 45 is: -0.031260943779441996\n",
      "r2_score corresponding to random state: 46 is: -0.053349996045353176\n",
      "r2_score corresponding to random state: 47 is: -0.02234279851679677\n",
      "r2_score corresponding to random state: 48 is: 0.06816264302790342\n",
      "r2_score corresponding to random state: 49 is: -0.043621339904699186\n",
      "r2_score corresponding to random state: 50 is: -0.047669968326647494\n",
      "r2_score corresponding to random state: 51 is: -0.004386847443545783\n",
      "r2_score corresponding to random state: 52 is: -0.019245248132362835\n",
      "r2_score corresponding to random state: 53 is: 0.0693151191931427\n",
      "r2_score corresponding to random state: 54 is: 0.09964627967591999\n",
      "r2_score corresponding to random state: 55 is: -0.09118503303685288\n",
      "r2_score corresponding to random state: 56 is: 0.07170435648313411\n",
      "r2_score corresponding to random state: 57 is: -0.031371556070933115\n",
      "r2_score corresponding to random state: 58 is: -0.007447422411985594\n",
      "r2_score corresponding to random state: 59 is: -0.007106361321154164\n",
      "r2_score corresponding to random state: 60 is: 0.0008429193314883898\n",
      "r2_score corresponding to random state: 61 is: -0.04211532868582779\n",
      "r2_score corresponding to random state: 62 is: 0.053864499336493066\n",
      "r2_score corresponding to random state: 63 is: 0.0695455617465558\n",
      "r2_score corresponding to random state: 64 is: 0.07056821828285476\n",
      "r2_score corresponding to random state: 65 is: -0.014923149931201474\n",
      "r2_score corresponding to random state: 66 is: 0.024966346508281556\n",
      "r2_score corresponding to random state: 67 is: 0.06616109908097312\n",
      "r2_score corresponding to random state: 68 is: -0.07433343444342633\n",
      "r2_score corresponding to random state: 69 is: 0.004494937471925309\n",
      "r2_score corresponding to random state: 70 is: 0.0646608265524764\n",
      "r2_score corresponding to random state: 71 is: -0.06423168074845242\n",
      "r2_score corresponding to random state: 72 is: -0.030729454763214648\n",
      "r2_score corresponding to random state: 73 is: 0.027839092356488626\n",
      "r2_score corresponding to random state: 74 is: 0.03185532669774349\n",
      "r2_score corresponding to random state: 75 is: 0.04821309551132458\n",
      "r2_score corresponding to random state: 76 is: -0.005275443050505757\n",
      "r2_score corresponding to random state: 77 is: 0.05823560487603496\n",
      "r2_score corresponding to random state: 78 is: 0.1035150766238414\n",
      "r2_score corresponding to random state: 79 is: 0.016628490502197613\n",
      "r2_score corresponding to random state: 80 is: 0.12322074662278448\n",
      "r2_score corresponding to random state: 81 is: 0.031953752871817453\n",
      "r2_score corresponding to random state: 82 is: 0.0019240051038252881\n",
      "r2_score corresponding to random state: 83 is: -0.007669219601193156\n",
      "r2_score corresponding to random state: 84 is: 0.03070707820029628\n",
      "r2_score corresponding to random state: 85 is: 0.0033390425165820137\n",
      "r2_score corresponding to random state: 86 is: 0.07426263853119353\n",
      "r2_score corresponding to random state: 87 is: 0.11226320928906308\n",
      "r2_score corresponding to random state: 88 is: -0.04122831121948667\n",
      "r2_score corresponding to random state: 89 is: 0.005204383626586928\n",
      "r2_score corresponding to random state: 90 is: 0.016414577326081203\n",
      "r2_score corresponding to random state: 91 is: 0.09822121399658468\n",
      "r2_score corresponding to random state: 92 is: 0.05363541242779468\n",
      "r2_score corresponding to random state: 93 is: -0.023688554929953032\n",
      "r2_score corresponding to random state: 94 is: -0.009350702443678971\n",
      "r2_score corresponding to random state: 95 is: 0.003058984319507463\n",
      "r2_score corresponding to random state: 96 is: 0.09730022189057708\n",
      "r2_score corresponding to random state: 97 is: -0.0053201993649045765\n",
      "r2_score corresponding to random state: 98 is: 0.053373596150378955\n",
      "r2_score corresponding to random state: 99 is: 0.03207237181005518\n",
      "r2_score corresponding to random state: 100 is: 0.10531756059996089\n",
      "Max r2 score corresponding to  80 is 0.12322074662278448\n"
     ]
    }
   ],
   "source": [
    "ls=Lasso(alpha=10)\n",
    "r_state=maxr2_score(ls,x,y)"
   ]
  },
  {
   "cell_type": "code",
   "execution_count": 116,
   "metadata": {},
   "outputs": [
    {
     "data": {
      "text/plain": [
       "0.8513228136535447"
      ]
     },
     "execution_count": 116,
     "metadata": {},
     "output_type": "execute_result"
    }
   ],
   "source": [
    "from sklearn.ensemble import RandomForestRegressor\n",
    "import warnings\n",
    "warnings.filterwarnings('ignore')\n",
    "rfr=RandomForestRegressor()\n",
    "rfr.fit(x_train,y_train)\n",
    "rfr.score(x_train,y_train)"
   ]
  },
  {
   "cell_type": "code",
   "execution_count": 117,
   "metadata": {},
   "outputs": [
    {
     "data": {
      "text/plain": [
       "0.8577553403341448"
      ]
     },
     "execution_count": 117,
     "metadata": {},
     "output_type": "execute_result"
    }
   ],
   "source": [
    "rfr=RandomForestRegressor(n_estimators=500,random_state=80)\n",
    "rfr.fit(x_train,y_train)\n",
    "rfr.score(x_train,y_train)"
   ]
  },
  {
   "cell_type": "code",
   "execution_count": 118,
   "metadata": {},
   "outputs": [
    {
     "name": "stdout",
     "output_type": "stream",
     "text": [
      "r2_score corresponding to random state: 40 is: 0.013565525945643198\n",
      "r2_score corresponding to random state: 41 is: -0.008228762232626474\n",
      "r2_score corresponding to random state: 42 is: 0.08903768229371645\n",
      "r2_score corresponding to random state: 43 is: -0.15857895994957372\n",
      "r2_score corresponding to random state: 44 is: -0.20952435806237624\n",
      "r2_score corresponding to random state: 45 is: -0.12177847388273455\n",
      "r2_score corresponding to random state: 46 is: -0.09042354365177041\n",
      "r2_score corresponding to random state: 47 is: 0.07202675977782769\n",
      "r2_score corresponding to random state: 48 is: 0.154054685801422\n",
      "r2_score corresponding to random state: 49 is: 0.05714331161410158\n",
      "r2_score corresponding to random state: 50 is: -0.12079975946425026\n",
      "r2_score corresponding to random state: 51 is: 0.044073593755058704\n",
      "r2_score corresponding to random state: 52 is: -0.16452937010868673\n",
      "r2_score corresponding to random state: 53 is: 0.0633976206562602\n",
      "r2_score corresponding to random state: 54 is: 0.04719447520680875\n",
      "r2_score corresponding to random state: 55 is: -0.3061460271750902\n",
      "r2_score corresponding to random state: 56 is: 0.1383297562123963\n",
      "r2_score corresponding to random state: 57 is: 0.0358397513844636\n",
      "r2_score corresponding to random state: 58 is: -0.05393918055433655\n",
      "r2_score corresponding to random state: 59 is: -0.009765219666206137\n",
      "r2_score corresponding to random state: 60 is: 0.025237870256532235\n",
      "r2_score corresponding to random state: 61 is: 0.007171745070683855\n",
      "r2_score corresponding to random state: 62 is: -0.16063273300952563\n",
      "r2_score corresponding to random state: 63 is: 0.08969021231803631\n",
      "r2_score corresponding to random state: 64 is: 0.054084450829946173\n",
      "r2_score corresponding to random state: 65 is: -0.11924517706638293\n",
      "r2_score corresponding to random state: 66 is: -0.14780845077682114\n",
      "r2_score corresponding to random state: 67 is: -0.07928366264924769\n",
      "r2_score corresponding to random state: 68 is: -0.15130741313916252\n",
      "r2_score corresponding to random state: 69 is: -0.026598184035435457\n",
      "r2_score corresponding to random state: 70 is: 0.024938860835852394\n",
      "r2_score corresponding to random state: 71 is: -0.10748607070558802\n",
      "r2_score corresponding to random state: 72 is: 0.13972201865679723\n",
      "r2_score corresponding to random state: 73 is: 0.01621402175617148\n",
      "r2_score corresponding to random state: 74 is: 0.09234711671856322\n",
      "r2_score corresponding to random state: 75 is: 0.05604168921073771\n",
      "r2_score corresponding to random state: 76 is: 0.05702830422178873\n",
      "r2_score corresponding to random state: 77 is: 0.04487189217316934\n",
      "r2_score corresponding to random state: 78 is: 0.09729456125019775\n",
      "r2_score corresponding to random state: 79 is: 0.00043399528704723966\n",
      "r2_score corresponding to random state: 80 is: -0.008286342531967916\n",
      "r2_score corresponding to random state: 81 is: 0.06775859876770507\n",
      "r2_score corresponding to random state: 82 is: 0.15666833211480924\n",
      "r2_score corresponding to random state: 83 is: -0.007479622490722315\n",
      "r2_score corresponding to random state: 84 is: 0.004283410835005719\n",
      "r2_score corresponding to random state: 85 is: -0.1274653725408197\n",
      "r2_score corresponding to random state: 86 is: 0.12101833371481652\n",
      "r2_score corresponding to random state: 87 is: 0.08427826901202873\n",
      "r2_score corresponding to random state: 88 is: -0.10521801032242539\n",
      "r2_score corresponding to random state: 89 is: 0.08345486714739869\n",
      "r2_score corresponding to random state: 90 is: 0.09323167513544461\n",
      "r2_score corresponding to random state: 91 is: -0.04836494232458999\n",
      "r2_score corresponding to random state: 92 is: -0.04284754723649309\n",
      "r2_score corresponding to random state: 93 is: -0.14039072033758115\n",
      "r2_score corresponding to random state: 94 is: -0.035761376938637346\n",
      "r2_score corresponding to random state: 95 is: 0.11190523354402682\n",
      "r2_score corresponding to random state: 96 is: -0.04084383833849481\n",
      "r2_score corresponding to random state: 97 is: -0.0997033083863339\n",
      "r2_score corresponding to random state: 98 is: 0.13971495362280317\n",
      "r2_score corresponding to random state: 99 is: 0.05978937346263302\n",
      "r2_score corresponding to random state: 100 is: 0.10266868374845695\n",
      "Max r2 score corresponding to  82 is 0.15666833211480924\n"
     ]
    }
   ],
   "source": [
    "rfr=RandomForestRegressor(n_estimators=500)\n",
    "r_state=maxr2_score(rfr,x,y)"
   ]
  },
  {
   "cell_type": "code",
   "execution_count": 119,
   "metadata": {},
   "outputs": [
    {
     "name": "stdout",
     "output_type": "stream",
     "text": [
      "Mean r2_score for RandomForestRegressor: 0.01415429616157261\n",
      "Standard deviation in r2_score for RandomForestRegressor: 0.09405551412142711\n"
     ]
    }
   ],
   "source": [
    "from sklearn.model_selection import cross_val_score\n",
    "rfr=RandomForestRegressor(n_estimators=500,random_state=80)\n",
    "print(\"Mean r2_score for RandomForestRegressor:\",cross_val_score(rfr,x,y,cv=10,scoring=\"r2\").mean())\n",
    "print(\"Standard deviation in r2_score for RandomForestRegressor:\",cross_val_score(rfr,x,y,cv=10,scoring=\"r2\").std())"
   ]
  },
  {
   "cell_type": "code",
   "execution_count": 120,
   "metadata": {},
   "outputs": [
    {
     "data": {
      "text/plain": [
       "['salary_rfr.obj']"
      ]
     },
     "execution_count": 120,
     "metadata": {},
     "output_type": "execute_result"
    }
   ],
   "source": [
    "import joblib\n",
    "joblib.dump(rfr,'salary_rfr.obj')"
   ]
  },
  {
   "cell_type": "code",
   "execution_count": null,
   "metadata": {},
   "outputs": [],
   "source": []
  },
  {
   "cell_type": "code",
   "execution_count": null,
   "metadata": {},
   "outputs": [],
   "source": []
  },
  {
   "cell_type": "code",
   "execution_count": null,
   "metadata": {},
   "outputs": [],
   "source": []
  },
  {
   "cell_type": "code",
   "execution_count": null,
   "metadata": {},
   "outputs": [],
   "source": []
  },
  {
   "cell_type": "code",
   "execution_count": null,
   "metadata": {},
   "outputs": [],
   "source": []
  },
  {
   "cell_type": "code",
   "execution_count": null,
   "metadata": {},
   "outputs": [],
   "source": []
  },
  {
   "cell_type": "code",
   "execution_count": null,
   "metadata": {},
   "outputs": [],
   "source": []
  },
  {
   "cell_type": "code",
   "execution_count": null,
   "metadata": {},
   "outputs": [],
   "source": []
  },
  {
   "cell_type": "code",
   "execution_count": null,
   "metadata": {},
   "outputs": [],
   "source": []
  },
  {
   "cell_type": "code",
   "execution_count": null,
   "metadata": {},
   "outputs": [],
   "source": []
  },
  {
   "cell_type": "code",
   "execution_count": null,
   "metadata": {},
   "outputs": [],
   "source": []
  },
  {
   "cell_type": "code",
   "execution_count": null,
   "metadata": {},
   "outputs": [],
   "source": []
  },
  {
   "cell_type": "code",
   "execution_count": null,
   "metadata": {},
   "outputs": [],
   "source": []
  },
  {
   "cell_type": "code",
   "execution_count": null,
   "metadata": {},
   "outputs": [],
   "source": []
  },
  {
   "cell_type": "code",
   "execution_count": null,
   "metadata": {},
   "outputs": [],
   "source": []
  },
  {
   "cell_type": "code",
   "execution_count": null,
   "metadata": {},
   "outputs": [],
   "source": []
  },
  {
   "cell_type": "code",
   "execution_count": null,
   "metadata": {},
   "outputs": [],
   "source": []
  },
  {
   "cell_type": "code",
   "execution_count": null,
   "metadata": {},
   "outputs": [],
   "source": []
  },
  {
   "cell_type": "code",
   "execution_count": null,
   "metadata": {},
   "outputs": [],
   "source": []
  },
  {
   "cell_type": "code",
   "execution_count": null,
   "metadata": {},
   "outputs": [],
   "source": []
  },
  {
   "cell_type": "code",
   "execution_count": null,
   "metadata": {},
   "outputs": [],
   "source": []
  },
  {
   "cell_type": "code",
   "execution_count": null,
   "metadata": {},
   "outputs": [],
   "source": []
  },
  {
   "cell_type": "code",
   "execution_count": null,
   "metadata": {},
   "outputs": [],
   "source": []
  },
  {
   "cell_type": "code",
   "execution_count": null,
   "metadata": {},
   "outputs": [],
   "source": []
  },
  {
   "cell_type": "code",
   "execution_count": null,
   "metadata": {},
   "outputs": [],
   "source": []
  },
  {
   "cell_type": "code",
   "execution_count": null,
   "metadata": {},
   "outputs": [],
   "source": []
  },
  {
   "cell_type": "code",
   "execution_count": null,
   "metadata": {},
   "outputs": [],
   "source": []
  },
  {
   "cell_type": "code",
   "execution_count": null,
   "metadata": {},
   "outputs": [],
   "source": []
  },
  {
   "cell_type": "code",
   "execution_count": null,
   "metadata": {},
   "outputs": [],
   "source": []
  },
  {
   "cell_type": "code",
   "execution_count": null,
   "metadata": {},
   "outputs": [],
   "source": []
  },
  {
   "cell_type": "code",
   "execution_count": null,
   "metadata": {},
   "outputs": [],
   "source": []
  },
  {
   "cell_type": "code",
   "execution_count": null,
   "metadata": {},
   "outputs": [],
   "source": []
  },
  {
   "cell_type": "code",
   "execution_count": null,
   "metadata": {},
   "outputs": [],
   "source": []
  },
  {
   "cell_type": "code",
   "execution_count": null,
   "metadata": {},
   "outputs": [],
   "source": []
  },
  {
   "cell_type": "code",
   "execution_count": null,
   "metadata": {},
   "outputs": [],
   "source": []
  },
  {
   "cell_type": "code",
   "execution_count": null,
   "metadata": {},
   "outputs": [],
   "source": []
  }
 ],
 "metadata": {
  "kernelspec": {
   "display_name": "Python 3",
   "language": "python",
   "name": "python3"
  },
  "language_info": {
   "codemirror_mode": {
    "name": "ipython",
    "version": 3
   },
   "file_extension": ".py",
   "mimetype": "text/x-python",
   "name": "python",
   "nbconvert_exporter": "python",
   "pygments_lexer": "ipython3",
   "version": "3.8.3"
  }
 },
 "nbformat": 4,
 "nbformat_minor": 4
}
