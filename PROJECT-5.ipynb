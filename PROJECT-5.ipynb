{
 "cells": [
  {
   "cell_type": "markdown",
   "metadata": {},
   "source": [
    "# Heart Disease Dataset"
   ]
  },
  {
   "cell_type": "code",
   "execution_count": 1,
   "metadata": {},
   "outputs": [],
   "source": [
    "#importing the libraries\n",
    "import pandas as pd\n",
    "import numpy as np\n",
    "import matplotlib.pyplot as plt\n",
    "import seaborn as sns"
   ]
  },
  {
   "cell_type": "code",
   "execution_count": 2,
   "metadata": {},
   "outputs": [
    {
     "data": {
      "text/html": [
       "<div>\n",
       "<style scoped>\n",
       "    .dataframe tbody tr th:only-of-type {\n",
       "        vertical-align: middle;\n",
       "    }\n",
       "\n",
       "    .dataframe tbody tr th {\n",
       "        vertical-align: top;\n",
       "    }\n",
       "\n",
       "    .dataframe thead th {\n",
       "        text-align: right;\n",
       "    }\n",
       "</style>\n",
       "<table border=\"1\" class=\"dataframe\">\n",
       "  <thead>\n",
       "    <tr style=\"text-align: right;\">\n",
       "      <th></th>\n",
       "      <th>age</th>\n",
       "      <th>sex</th>\n",
       "      <th>cp</th>\n",
       "      <th>trestbps</th>\n",
       "      <th>chol</th>\n",
       "      <th>fbs</th>\n",
       "      <th>restecg</th>\n",
       "      <th>thalach</th>\n",
       "      <th>exang</th>\n",
       "      <th>oldpeak</th>\n",
       "      <th>slope</th>\n",
       "      <th>ca</th>\n",
       "      <th>thal</th>\n",
       "      <th>num</th>\n",
       "    </tr>\n",
       "  </thead>\n",
       "  <tbody>\n",
       "    <tr>\n",
       "      <th>0</th>\n",
       "      <td>63</td>\n",
       "      <td>1</td>\n",
       "      <td>4</td>\n",
       "      <td>140</td>\n",
       "      <td>260</td>\n",
       "      <td>0</td>\n",
       "      <td>1</td>\n",
       "      <td>112</td>\n",
       "      <td>1</td>\n",
       "      <td>3</td>\n",
       "      <td>2</td>\n",
       "      <td>?</td>\n",
       "      <td>?</td>\n",
       "      <td>2</td>\n",
       "    </tr>\n",
       "    <tr>\n",
       "      <th>1</th>\n",
       "      <td>44</td>\n",
       "      <td>1</td>\n",
       "      <td>4</td>\n",
       "      <td>130</td>\n",
       "      <td>209</td>\n",
       "      <td>0</td>\n",
       "      <td>1</td>\n",
       "      <td>127</td>\n",
       "      <td>0</td>\n",
       "      <td>0</td>\n",
       "      <td>?</td>\n",
       "      <td>?</td>\n",
       "      <td>?</td>\n",
       "      <td>0</td>\n",
       "    </tr>\n",
       "    <tr>\n",
       "      <th>2</th>\n",
       "      <td>60</td>\n",
       "      <td>1</td>\n",
       "      <td>4</td>\n",
       "      <td>132</td>\n",
       "      <td>218</td>\n",
       "      <td>0</td>\n",
       "      <td>1</td>\n",
       "      <td>140</td>\n",
       "      <td>1</td>\n",
       "      <td>1.5</td>\n",
       "      <td>3</td>\n",
       "      <td>?</td>\n",
       "      <td>?</td>\n",
       "      <td>2</td>\n",
       "    </tr>\n",
       "    <tr>\n",
       "      <th>3</th>\n",
       "      <td>55</td>\n",
       "      <td>1</td>\n",
       "      <td>4</td>\n",
       "      <td>142</td>\n",
       "      <td>228</td>\n",
       "      <td>0</td>\n",
       "      <td>1</td>\n",
       "      <td>149</td>\n",
       "      <td>1</td>\n",
       "      <td>2.5</td>\n",
       "      <td>1</td>\n",
       "      <td>?</td>\n",
       "      <td>?</td>\n",
       "      <td>1</td>\n",
       "    </tr>\n",
       "    <tr>\n",
       "      <th>4</th>\n",
       "      <td>66</td>\n",
       "      <td>1</td>\n",
       "      <td>3</td>\n",
       "      <td>110</td>\n",
       "      <td>213</td>\n",
       "      <td>1</td>\n",
       "      <td>2</td>\n",
       "      <td>99</td>\n",
       "      <td>1</td>\n",
       "      <td>1.3</td>\n",
       "      <td>2</td>\n",
       "      <td>?</td>\n",
       "      <td>?</td>\n",
       "      <td>0</td>\n",
       "    </tr>\n",
       "    <tr>\n",
       "      <th>...</th>\n",
       "      <td>...</td>\n",
       "      <td>...</td>\n",
       "      <td>...</td>\n",
       "      <td>...</td>\n",
       "      <td>...</td>\n",
       "      <td>...</td>\n",
       "      <td>...</td>\n",
       "      <td>...</td>\n",
       "      <td>...</td>\n",
       "      <td>...</td>\n",
       "      <td>...</td>\n",
       "      <td>...</td>\n",
       "      <td>...</td>\n",
       "      <td>...</td>\n",
       "    </tr>\n",
       "    <tr>\n",
       "      <th>195</th>\n",
       "      <td>54</td>\n",
       "      <td>0</td>\n",
       "      <td>4</td>\n",
       "      <td>127</td>\n",
       "      <td>333</td>\n",
       "      <td>1</td>\n",
       "      <td>1</td>\n",
       "      <td>154</td>\n",
       "      <td>0</td>\n",
       "      <td>0</td>\n",
       "      <td>?</td>\n",
       "      <td>?</td>\n",
       "      <td>?</td>\n",
       "      <td>1</td>\n",
       "    </tr>\n",
       "    <tr>\n",
       "      <th>196</th>\n",
       "      <td>62</td>\n",
       "      <td>1</td>\n",
       "      <td>1</td>\n",
       "      <td>?</td>\n",
       "      <td>139</td>\n",
       "      <td>0</td>\n",
       "      <td>1</td>\n",
       "      <td>?</td>\n",
       "      <td>?</td>\n",
       "      <td>?</td>\n",
       "      <td>?</td>\n",
       "      <td>?</td>\n",
       "      <td>?</td>\n",
       "      <td>0</td>\n",
       "    </tr>\n",
       "    <tr>\n",
       "      <th>197</th>\n",
       "      <td>55</td>\n",
       "      <td>1</td>\n",
       "      <td>4</td>\n",
       "      <td>122</td>\n",
       "      <td>223</td>\n",
       "      <td>1</td>\n",
       "      <td>1</td>\n",
       "      <td>100</td>\n",
       "      <td>0</td>\n",
       "      <td>0</td>\n",
       "      <td>?</td>\n",
       "      <td>?</td>\n",
       "      <td>6</td>\n",
       "      <td>2</td>\n",
       "    </tr>\n",
       "    <tr>\n",
       "      <th>198</th>\n",
       "      <td>58</td>\n",
       "      <td>1</td>\n",
       "      <td>4</td>\n",
       "      <td>?</td>\n",
       "      <td>385</td>\n",
       "      <td>1</td>\n",
       "      <td>2</td>\n",
       "      <td>?</td>\n",
       "      <td>?</td>\n",
       "      <td>?</td>\n",
       "      <td>?</td>\n",
       "      <td>?</td>\n",
       "      <td>?</td>\n",
       "      <td>0</td>\n",
       "    </tr>\n",
       "    <tr>\n",
       "      <th>199</th>\n",
       "      <td>62</td>\n",
       "      <td>1</td>\n",
       "      <td>2</td>\n",
       "      <td>120</td>\n",
       "      <td>254</td>\n",
       "      <td>0</td>\n",
       "      <td>2</td>\n",
       "      <td>93</td>\n",
       "      <td>1</td>\n",
       "      <td>0</td>\n",
       "      <td>?</td>\n",
       "      <td>?</td>\n",
       "      <td>?</td>\n",
       "      <td>1</td>\n",
       "    </tr>\n",
       "  </tbody>\n",
       "</table>\n",
       "<p>200 rows × 14 columns</p>\n",
       "</div>"
      ],
      "text/plain": [
       "     age  sex  cp trestbps chol fbs  restecg thalach exang oldpeak slope ca  \\\n",
       "0     63    1   4      140  260   0        1     112     1       3     2  ?   \n",
       "1     44    1   4      130  209   0        1     127     0       0     ?  ?   \n",
       "2     60    1   4      132  218   0        1     140     1     1.5     3  ?   \n",
       "3     55    1   4      142  228   0        1     149     1     2.5     1  ?   \n",
       "4     66    1   3      110  213   1        2      99     1     1.3     2  ?   \n",
       "..   ...  ...  ..      ...  ...  ..      ...     ...   ...     ...   ... ..   \n",
       "195   54    0   4      127  333   1        1     154     0       0     ?  ?   \n",
       "196   62    1   1        ?  139   0        1       ?     ?       ?     ?  ?   \n",
       "197   55    1   4      122  223   1        1     100     0       0     ?  ?   \n",
       "198   58    1   4        ?  385   1        2       ?     ?       ?     ?  ?   \n",
       "199   62    1   2      120  254   0        2      93     1       0     ?  ?   \n",
       "\n",
       "    thal  num  \n",
       "0      ?    2  \n",
       "1      ?    0  \n",
       "2      ?    2  \n",
       "3      ?    1  \n",
       "4      ?    0  \n",
       "..   ...  ...  \n",
       "195    ?    1  \n",
       "196    ?    0  \n",
       "197    6    2  \n",
       "198    ?    0  \n",
       "199    ?    1  \n",
       "\n",
       "[200 rows x 14 columns]"
      ]
     },
     "execution_count": 2,
     "metadata": {},
     "output_type": "execute_result"
    }
   ],
   "source": [
    "#importing/reading the csv file \n",
    "df=pd.read_csv('heart_disease.csv')\n",
    "df"
   ]
  },
  {
   "cell_type": "code",
   "execution_count": 3,
   "metadata": {},
   "outputs": [
    {
     "data": {
      "text/plain": [
       "<bound method DataFrame.info of      age  sex  cp trestbps chol fbs  restecg thalach exang oldpeak slope ca  \\\n",
       "0     63    1   4      140  260   0        1     112     1       3     2  ?   \n",
       "1     44    1   4      130  209   0        1     127     0       0     ?  ?   \n",
       "2     60    1   4      132  218   0        1     140     1     1.5     3  ?   \n",
       "3     55    1   4      142  228   0        1     149     1     2.5     1  ?   \n",
       "4     66    1   3      110  213   1        2      99     1     1.3     2  ?   \n",
       "..   ...  ...  ..      ...  ...  ..      ...     ...   ...     ...   ... ..   \n",
       "195   54    0   4      127  333   1        1     154     0       0     ?  ?   \n",
       "196   62    1   1        ?  139   0        1       ?     ?       ?     ?  ?   \n",
       "197   55    1   4      122  223   1        1     100     0       0     ?  ?   \n",
       "198   58    1   4        ?  385   1        2       ?     ?       ?     ?  ?   \n",
       "199   62    1   2      120  254   0        2      93     1       0     ?  ?   \n",
       "\n",
       "    thal  num  \n",
       "0      ?    2  \n",
       "1      ?    0  \n",
       "2      ?    2  \n",
       "3      ?    1  \n",
       "4      ?    0  \n",
       "..   ...  ...  \n",
       "195    ?    1  \n",
       "196    ?    0  \n",
       "197    6    2  \n",
       "198    ?    0  \n",
       "199    ?    1  \n",
       "\n",
       "[200 rows x 14 columns]>"
      ]
     },
     "execution_count": 3,
     "metadata": {},
     "output_type": "execute_result"
    }
   ],
   "source": [
    "df.info"
   ]
  },
  {
   "cell_type": "code",
   "execution_count": 4,
   "metadata": {},
   "outputs": [
    {
     "data": {
      "text/plain": [
       "age          int64\n",
       "sex          int64\n",
       "cp           int64\n",
       "trestbps    object\n",
       "chol        object\n",
       "fbs         object\n",
       "restecg      int64\n",
       "thalach     object\n",
       "exang       object\n",
       "oldpeak     object\n",
       "slope       object\n",
       "ca          object\n",
       "thal        object\n",
       "num          int64\n",
       "dtype: object"
      ]
     },
     "execution_count": 4,
     "metadata": {},
     "output_type": "execute_result"
    }
   ],
   "source": [
    "df.dtypes #CHECKING DATATYPES"
   ]
  },
  {
   "cell_type": "code",
   "execution_count": 5,
   "metadata": {},
   "outputs": [
    {
     "data": {
      "text/plain": [
       "age         0\n",
       "sex         0\n",
       "cp          0\n",
       "trestbps    0\n",
       "chol        0\n",
       "fbs         0\n",
       "restecg     0\n",
       "thalach     0\n",
       "exang       0\n",
       "oldpeak     0\n",
       "slope       0\n",
       "ca          0\n",
       "thal        0\n",
       "num         0\n",
       "dtype: int64"
      ]
     },
     "execution_count": 5,
     "metadata": {},
     "output_type": "execute_result"
    }
   ],
   "source": [
    "df.isnull().sum()#checking null values and there are none"
   ]
  },
  {
   "cell_type": "code",
   "execution_count": 6,
   "metadata": {},
   "outputs": [],
   "source": [
    "#Encoding the values in list1 to numerical values\n",
    "from sklearn.preprocessing import LabelEncoder\n",
    "le=LabelEncoder() \n",
    "list1=['slope','ca','thal','trestbps','chol','thalach','oldpeak','exang','fbs']\n",
    "for val in list1:\n",
    "    df[val]=le.fit_transform(df[val].astype(str))"
   ]
  },
  {
   "cell_type": "code",
   "execution_count": 7,
   "metadata": {},
   "outputs": [
    {
     "data": {
      "text/html": [
       "<div>\n",
       "<style scoped>\n",
       "    .dataframe tbody tr th:only-of-type {\n",
       "        vertical-align: middle;\n",
       "    }\n",
       "\n",
       "    .dataframe tbody tr th {\n",
       "        vertical-align: top;\n",
       "    }\n",
       "\n",
       "    .dataframe thead th {\n",
       "        text-align: right;\n",
       "    }\n",
       "</style>\n",
       "<table border=\"1\" class=\"dataframe\">\n",
       "  <thead>\n",
       "    <tr style=\"text-align: right;\">\n",
       "      <th></th>\n",
       "      <th>age</th>\n",
       "      <th>sex</th>\n",
       "      <th>cp</th>\n",
       "      <th>trestbps</th>\n",
       "      <th>chol</th>\n",
       "      <th>fbs</th>\n",
       "      <th>restecg</th>\n",
       "      <th>thalach</th>\n",
       "      <th>exang</th>\n",
       "      <th>oldpeak</th>\n",
       "      <th>slope</th>\n",
       "      <th>ca</th>\n",
       "      <th>thal</th>\n",
       "      <th>num</th>\n",
       "    </tr>\n",
       "  </thead>\n",
       "  <tbody>\n",
       "    <tr>\n",
       "      <th>0</th>\n",
       "      <td>63</td>\n",
       "      <td>1</td>\n",
       "      <td>4</td>\n",
       "      <td>23</td>\n",
       "      <td>62</td>\n",
       "      <td>0</td>\n",
       "      <td>1</td>\n",
       "      <td>8</td>\n",
       "      <td>1</td>\n",
       "      <td>11</td>\n",
       "      <td>1</td>\n",
       "      <td>1</td>\n",
       "      <td>3</td>\n",
       "      <td>2</td>\n",
       "    </tr>\n",
       "    <tr>\n",
       "      <th>1</th>\n",
       "      <td>44</td>\n",
       "      <td>1</td>\n",
       "      <td>4</td>\n",
       "      <td>17</td>\n",
       "      <td>28</td>\n",
       "      <td>0</td>\n",
       "      <td>1</td>\n",
       "      <td>21</td>\n",
       "      <td>0</td>\n",
       "      <td>1</td>\n",
       "      <td>3</td>\n",
       "      <td>1</td>\n",
       "      <td>3</td>\n",
       "      <td>0</td>\n",
       "    </tr>\n",
       "    <tr>\n",
       "      <th>2</th>\n",
       "      <td>60</td>\n",
       "      <td>1</td>\n",
       "      <td>4</td>\n",
       "      <td>18</td>\n",
       "      <td>35</td>\n",
       "      <td>0</td>\n",
       "      <td>1</td>\n",
       "      <td>30</td>\n",
       "      <td>1</td>\n",
       "      <td>6</td>\n",
       "      <td>2</td>\n",
       "      <td>1</td>\n",
       "      <td>3</td>\n",
       "      <td>2</td>\n",
       "    </tr>\n",
       "    <tr>\n",
       "      <th>3</th>\n",
       "      <td>55</td>\n",
       "      <td>1</td>\n",
       "      <td>4</td>\n",
       "      <td>24</td>\n",
       "      <td>45</td>\n",
       "      <td>0</td>\n",
       "      <td>1</td>\n",
       "      <td>35</td>\n",
       "      <td>1</td>\n",
       "      <td>10</td>\n",
       "      <td>0</td>\n",
       "      <td>1</td>\n",
       "      <td>3</td>\n",
       "      <td>1</td>\n",
       "    </tr>\n",
       "    <tr>\n",
       "      <th>4</th>\n",
       "      <td>66</td>\n",
       "      <td>1</td>\n",
       "      <td>3</td>\n",
       "      <td>5</td>\n",
       "      <td>31</td>\n",
       "      <td>1</td>\n",
       "      <td>2</td>\n",
       "      <td>58</td>\n",
       "      <td>1</td>\n",
       "      <td>5</td>\n",
       "      <td>1</td>\n",
       "      <td>1</td>\n",
       "      <td>3</td>\n",
       "      <td>0</td>\n",
       "    </tr>\n",
       "    <tr>\n",
       "      <th>...</th>\n",
       "      <td>...</td>\n",
       "      <td>...</td>\n",
       "      <td>...</td>\n",
       "      <td>...</td>\n",
       "      <td>...</td>\n",
       "      <td>...</td>\n",
       "      <td>...</td>\n",
       "      <td>...</td>\n",
       "      <td>...</td>\n",
       "      <td>...</td>\n",
       "      <td>...</td>\n",
       "      <td>...</td>\n",
       "      <td>...</td>\n",
       "      <td>...</td>\n",
       "    </tr>\n",
       "    <tr>\n",
       "      <th>195</th>\n",
       "      <td>54</td>\n",
       "      <td>0</td>\n",
       "      <td>4</td>\n",
       "      <td>15</td>\n",
       "      <td>91</td>\n",
       "      <td>1</td>\n",
       "      <td>1</td>\n",
       "      <td>38</td>\n",
       "      <td>0</td>\n",
       "      <td>1</td>\n",
       "      <td>3</td>\n",
       "      <td>1</td>\n",
       "      <td>3</td>\n",
       "      <td>1</td>\n",
       "    </tr>\n",
       "    <tr>\n",
       "      <th>196</th>\n",
       "      <td>62</td>\n",
       "      <td>1</td>\n",
       "      <td>1</td>\n",
       "      <td>40</td>\n",
       "      <td>2</td>\n",
       "      <td>0</td>\n",
       "      <td>1</td>\n",
       "      <td>59</td>\n",
       "      <td>2</td>\n",
       "      <td>14</td>\n",
       "      <td>3</td>\n",
       "      <td>1</td>\n",
       "      <td>3</td>\n",
       "      <td>0</td>\n",
       "    </tr>\n",
       "    <tr>\n",
       "      <th>197</th>\n",
       "      <td>55</td>\n",
       "      <td>1</td>\n",
       "      <td>4</td>\n",
       "      <td>11</td>\n",
       "      <td>40</td>\n",
       "      <td>1</td>\n",
       "      <td>1</td>\n",
       "      <td>0</td>\n",
       "      <td>0</td>\n",
       "      <td>1</td>\n",
       "      <td>3</td>\n",
       "      <td>1</td>\n",
       "      <td>1</td>\n",
       "      <td>2</td>\n",
       "    </tr>\n",
       "    <tr>\n",
       "      <th>198</th>\n",
       "      <td>58</td>\n",
       "      <td>1</td>\n",
       "      <td>4</td>\n",
       "      <td>40</td>\n",
       "      <td>97</td>\n",
       "      <td>1</td>\n",
       "      <td>2</td>\n",
       "      <td>59</td>\n",
       "      <td>2</td>\n",
       "      <td>14</td>\n",
       "      <td>3</td>\n",
       "      <td>1</td>\n",
       "      <td>3</td>\n",
       "      <td>0</td>\n",
       "    </tr>\n",
       "    <tr>\n",
       "      <th>199</th>\n",
       "      <td>62</td>\n",
       "      <td>1</td>\n",
       "      <td>2</td>\n",
       "      <td>10</td>\n",
       "      <td>59</td>\n",
       "      <td>0</td>\n",
       "      <td>2</td>\n",
       "      <td>53</td>\n",
       "      <td>1</td>\n",
       "      <td>1</td>\n",
       "      <td>3</td>\n",
       "      <td>1</td>\n",
       "      <td>3</td>\n",
       "      <td>1</td>\n",
       "    </tr>\n",
       "  </tbody>\n",
       "</table>\n",
       "<p>200 rows × 14 columns</p>\n",
       "</div>"
      ],
      "text/plain": [
       "     age  sex  cp  trestbps  chol  fbs  restecg  thalach  exang  oldpeak  \\\n",
       "0     63    1   4        23    62    0        1        8      1       11   \n",
       "1     44    1   4        17    28    0        1       21      0        1   \n",
       "2     60    1   4        18    35    0        1       30      1        6   \n",
       "3     55    1   4        24    45    0        1       35      1       10   \n",
       "4     66    1   3         5    31    1        2       58      1        5   \n",
       "..   ...  ...  ..       ...   ...  ...      ...      ...    ...      ...   \n",
       "195   54    0   4        15    91    1        1       38      0        1   \n",
       "196   62    1   1        40     2    0        1       59      2       14   \n",
       "197   55    1   4        11    40    1        1        0      0        1   \n",
       "198   58    1   4        40    97    1        2       59      2       14   \n",
       "199   62    1   2        10    59    0        2       53      1        1   \n",
       "\n",
       "     slope  ca  thal  num  \n",
       "0        1   1     3    2  \n",
       "1        3   1     3    0  \n",
       "2        2   1     3    2  \n",
       "3        0   1     3    1  \n",
       "4        1   1     3    0  \n",
       "..     ...  ..   ...  ...  \n",
       "195      3   1     3    1  \n",
       "196      3   1     3    0  \n",
       "197      3   1     1    2  \n",
       "198      3   1     3    0  \n",
       "199      3   1     3    1  \n",
       "\n",
       "[200 rows x 14 columns]"
      ]
     },
     "execution_count": 7,
     "metadata": {},
     "output_type": "execute_result"
    }
   ],
   "source": [
    "df"
   ]
  },
  {
   "cell_type": "code",
   "execution_count": 8,
   "metadata": {
    "scrolled": true
   },
   "outputs": [
    {
     "data": {
      "text/plain": [
       "array([2, 0, 1, 3, 4], dtype=int64)"
      ]
     },
     "execution_count": 8,
     "metadata": {},
     "output_type": "execute_result"
    }
   ],
   "source": [
    "df['num'].unique() #there are 5 unique values in \"num\" column"
   ]
  },
  {
   "cell_type": "code",
   "execution_count": 9,
   "metadata": {
    "scrolled": true
   },
   "outputs": [
    {
     "data": {
      "text/plain": [
       "<bound method NDFrame.describe of      age  sex  cp  trestbps  chol  fbs  restecg  thalach  exang  oldpeak  \\\n",
       "0     63    1   4        23    62    0        1        8      1       11   \n",
       "1     44    1   4        17    28    0        1       21      0        1   \n",
       "2     60    1   4        18    35    0        1       30      1        6   \n",
       "3     55    1   4        24    45    0        1       35      1       10   \n",
       "4     66    1   3         5    31    1        2       58      1        5   \n",
       "..   ...  ...  ..       ...   ...  ...      ...      ...    ...      ...   \n",
       "195   54    0   4        15    91    1        1       38      0        1   \n",
       "196   62    1   1        40     2    0        1       59      2       14   \n",
       "197   55    1   4        11    40    1        1        0      0        1   \n",
       "198   58    1   4        40    97    1        2       59      2       14   \n",
       "199   62    1   2        10    59    0        2       53      1        1   \n",
       "\n",
       "     slope  ca  thal  num  \n",
       "0        1   1     3    2  \n",
       "1        3   1     3    0  \n",
       "2        2   1     3    2  \n",
       "3        0   1     3    1  \n",
       "4        1   1     3    0  \n",
       "..     ...  ..   ...  ...  \n",
       "195      3   1     3    1  \n",
       "196      3   1     3    0  \n",
       "197      3   1     1    2  \n",
       "198      3   1     3    0  \n",
       "199      3   1     3    1  \n",
       "\n",
       "[200 rows x 14 columns]>"
      ]
     },
     "execution_count": 9,
     "metadata": {},
     "output_type": "execute_result"
    }
   ],
   "source": [
    "df.describe"
   ]
  },
  {
   "cell_type": "code",
   "execution_count": 10,
   "metadata": {
    "scrolled": true
   },
   "outputs": [
    {
     "data": {
      "text/html": [
       "<div>\n",
       "<style scoped>\n",
       "    .dataframe tbody tr th:only-of-type {\n",
       "        vertical-align: middle;\n",
       "    }\n",
       "\n",
       "    .dataframe tbody tr th {\n",
       "        vertical-align: top;\n",
       "    }\n",
       "\n",
       "    .dataframe thead th {\n",
       "        text-align: right;\n",
       "    }\n",
       "</style>\n",
       "<table border=\"1\" class=\"dataframe\">\n",
       "  <thead>\n",
       "    <tr style=\"text-align: right;\">\n",
       "      <th></th>\n",
       "      <th>age</th>\n",
       "      <th>sex</th>\n",
       "      <th>cp</th>\n",
       "      <th>trestbps</th>\n",
       "      <th>chol</th>\n",
       "      <th>fbs</th>\n",
       "      <th>restecg</th>\n",
       "      <th>thalach</th>\n",
       "      <th>exang</th>\n",
       "      <th>oldpeak</th>\n",
       "      <th>slope</th>\n",
       "      <th>ca</th>\n",
       "      <th>thal</th>\n",
       "      <th>num</th>\n",
       "    </tr>\n",
       "  </thead>\n",
       "  <tbody>\n",
       "    <tr>\n",
       "      <th>age</th>\n",
       "      <td>1.000000</td>\n",
       "      <td>0.034230</td>\n",
       "      <td>-0.038280</td>\n",
       "      <td>0.148099</td>\n",
       "      <td>0.075774</td>\n",
       "      <td>0.056644</td>\n",
       "      <td>0.002400</td>\n",
       "      <td>-0.046396</td>\n",
       "      <td>0.082938</td>\n",
       "      <td>0.093662</td>\n",
       "      <td>-0.006737</td>\n",
       "      <td>0.023861</td>\n",
       "      <td>0.091226</td>\n",
       "      <td>0.287289</td>\n",
       "    </tr>\n",
       "    <tr>\n",
       "      <th>sex</th>\n",
       "      <td>0.034230</td>\n",
       "      <td>1.000000</td>\n",
       "      <td>0.038036</td>\n",
       "      <td>0.041150</td>\n",
       "      <td>-0.135882</td>\n",
       "      <td>-0.028341</td>\n",
       "      <td>0.060621</td>\n",
       "      <td>0.003599</td>\n",
       "      <td>0.041667</td>\n",
       "      <td>0.103045</td>\n",
       "      <td>0.042436</td>\n",
       "      <td>-0.017675</td>\n",
       "      <td>0.023543</td>\n",
       "      <td>0.147470</td>\n",
       "    </tr>\n",
       "    <tr>\n",
       "      <th>cp</th>\n",
       "      <td>-0.038280</td>\n",
       "      <td>0.038036</td>\n",
       "      <td>1.000000</td>\n",
       "      <td>-0.108668</td>\n",
       "      <td>0.103214</td>\n",
       "      <td>-0.049744</td>\n",
       "      <td>0.034790</td>\n",
       "      <td>-0.245349</td>\n",
       "      <td>-0.082640</td>\n",
       "      <td>-0.191398</td>\n",
       "      <td>-0.184734</td>\n",
       "      <td>-0.062680</td>\n",
       "      <td>-0.088548</td>\n",
       "      <td>0.168210</td>\n",
       "    </tr>\n",
       "    <tr>\n",
       "      <th>trestbps</th>\n",
       "      <td>0.148099</td>\n",
       "      <td>0.041150</td>\n",
       "      <td>-0.108668</td>\n",
       "      <td>1.000000</td>\n",
       "      <td>0.137591</td>\n",
       "      <td>0.047729</td>\n",
       "      <td>0.059974</td>\n",
       "      <td>0.535110</td>\n",
       "      <td>0.692549</td>\n",
       "      <td>0.596663</td>\n",
       "      <td>0.402865</td>\n",
       "      <td>0.042266</td>\n",
       "      <td>0.201645</td>\n",
       "      <td>0.089706</td>\n",
       "    </tr>\n",
       "    <tr>\n",
       "      <th>chol</th>\n",
       "      <td>0.075774</td>\n",
       "      <td>-0.135882</td>\n",
       "      <td>0.103214</td>\n",
       "      <td>0.137591</td>\n",
       "      <td>1.000000</td>\n",
       "      <td>0.066625</td>\n",
       "      <td>0.018638</td>\n",
       "      <td>0.121922</td>\n",
       "      <td>0.130986</td>\n",
       "      <td>0.098797</td>\n",
       "      <td>0.059616</td>\n",
       "      <td>0.116131</td>\n",
       "      <td>0.008680</td>\n",
       "      <td>0.139196</td>\n",
       "    </tr>\n",
       "    <tr>\n",
       "      <th>fbs</th>\n",
       "      <td>0.056644</td>\n",
       "      <td>-0.028341</td>\n",
       "      <td>-0.049744</td>\n",
       "      <td>0.047729</td>\n",
       "      <td>0.066625</td>\n",
       "      <td>1.000000</td>\n",
       "      <td>0.114645</td>\n",
       "      <td>0.048343</td>\n",
       "      <td>-0.103918</td>\n",
       "      <td>-0.027321</td>\n",
       "      <td>0.026010</td>\n",
       "      <td>0.073783</td>\n",
       "      <td>-0.050338</td>\n",
       "      <td>0.046811</td>\n",
       "    </tr>\n",
       "    <tr>\n",
       "      <th>restecg</th>\n",
       "      <td>0.002400</td>\n",
       "      <td>0.060621</td>\n",
       "      <td>0.034790</td>\n",
       "      <td>0.059974</td>\n",
       "      <td>0.018638</td>\n",
       "      <td>0.114645</td>\n",
       "      <td>1.000000</td>\n",
       "      <td>0.053506</td>\n",
       "      <td>-0.017562</td>\n",
       "      <td>-0.043575</td>\n",
       "      <td>0.123095</td>\n",
       "      <td>0.034644</td>\n",
       "      <td>-0.038291</td>\n",
       "      <td>-0.032800</td>\n",
       "    </tr>\n",
       "    <tr>\n",
       "      <th>thalach</th>\n",
       "      <td>-0.046396</td>\n",
       "      <td>0.003599</td>\n",
       "      <td>-0.245349</td>\n",
       "      <td>0.535110</td>\n",
       "      <td>0.121922</td>\n",
       "      <td>0.048343</td>\n",
       "      <td>0.053506</td>\n",
       "      <td>1.000000</td>\n",
       "      <td>0.561034</td>\n",
       "      <td>0.537406</td>\n",
       "      <td>0.379412</td>\n",
       "      <td>0.067382</td>\n",
       "      <td>0.098711</td>\n",
       "      <td>-0.134816</td>\n",
       "    </tr>\n",
       "    <tr>\n",
       "      <th>exang</th>\n",
       "      <td>0.082938</td>\n",
       "      <td>0.041667</td>\n",
       "      <td>-0.082640</td>\n",
       "      <td>0.692549</td>\n",
       "      <td>0.130986</td>\n",
       "      <td>-0.103918</td>\n",
       "      <td>-0.017562</td>\n",
       "      <td>0.561034</td>\n",
       "      <td>1.000000</td>\n",
       "      <td>0.709429</td>\n",
       "      <td>0.330265</td>\n",
       "      <td>0.000694</td>\n",
       "      <td>0.235572</td>\n",
       "      <td>0.070802</td>\n",
       "    </tr>\n",
       "    <tr>\n",
       "      <th>oldpeak</th>\n",
       "      <td>0.093662</td>\n",
       "      <td>0.103045</td>\n",
       "      <td>-0.191398</td>\n",
       "      <td>0.596663</td>\n",
       "      <td>0.098797</td>\n",
       "      <td>-0.027321</td>\n",
       "      <td>-0.043575</td>\n",
       "      <td>0.537406</td>\n",
       "      <td>0.709429</td>\n",
       "      <td>1.000000</td>\n",
       "      <td>0.196717</td>\n",
       "      <td>0.038791</td>\n",
       "      <td>0.272264</td>\n",
       "      <td>0.148194</td>\n",
       "    </tr>\n",
       "    <tr>\n",
       "      <th>slope</th>\n",
       "      <td>-0.006737</td>\n",
       "      <td>0.042436</td>\n",
       "      <td>-0.184734</td>\n",
       "      <td>0.402865</td>\n",
       "      <td>0.059616</td>\n",
       "      <td>0.026010</td>\n",
       "      <td>0.123095</td>\n",
       "      <td>0.379412</td>\n",
       "      <td>0.330265</td>\n",
       "      <td>0.196717</td>\n",
       "      <td>1.000000</td>\n",
       "      <td>0.008191</td>\n",
       "      <td>0.017328</td>\n",
       "      <td>-0.117605</td>\n",
       "    </tr>\n",
       "    <tr>\n",
       "      <th>ca</th>\n",
       "      <td>0.023861</td>\n",
       "      <td>-0.017675</td>\n",
       "      <td>-0.062680</td>\n",
       "      <td>0.042266</td>\n",
       "      <td>0.116131</td>\n",
       "      <td>0.073783</td>\n",
       "      <td>0.034644</td>\n",
       "      <td>0.067382</td>\n",
       "      <td>0.000694</td>\n",
       "      <td>0.038791</td>\n",
       "      <td>0.008191</td>\n",
       "      <td>1.000000</td>\n",
       "      <td>0.040363</td>\n",
       "      <td>0.084277</td>\n",
       "    </tr>\n",
       "    <tr>\n",
       "      <th>thal</th>\n",
       "      <td>0.091226</td>\n",
       "      <td>0.023543</td>\n",
       "      <td>-0.088548</td>\n",
       "      <td>0.201645</td>\n",
       "      <td>0.008680</td>\n",
       "      <td>-0.050338</td>\n",
       "      <td>-0.038291</td>\n",
       "      <td>0.098711</td>\n",
       "      <td>0.235572</td>\n",
       "      <td>0.272264</td>\n",
       "      <td>0.017328</td>\n",
       "      <td>0.040363</td>\n",
       "      <td>1.000000</td>\n",
       "      <td>0.112256</td>\n",
       "    </tr>\n",
       "    <tr>\n",
       "      <th>num</th>\n",
       "      <td>0.287289</td>\n",
       "      <td>0.147470</td>\n",
       "      <td>0.168210</td>\n",
       "      <td>0.089706</td>\n",
       "      <td>0.139196</td>\n",
       "      <td>0.046811</td>\n",
       "      <td>-0.032800</td>\n",
       "      <td>-0.134816</td>\n",
       "      <td>0.070802</td>\n",
       "      <td>0.148194</td>\n",
       "      <td>-0.117605</td>\n",
       "      <td>0.084277</td>\n",
       "      <td>0.112256</td>\n",
       "      <td>1.000000</td>\n",
       "    </tr>\n",
       "  </tbody>\n",
       "</table>\n",
       "</div>"
      ],
      "text/plain": [
       "               age       sex        cp  trestbps      chol       fbs  \\\n",
       "age       1.000000  0.034230 -0.038280  0.148099  0.075774  0.056644   \n",
       "sex       0.034230  1.000000  0.038036  0.041150 -0.135882 -0.028341   \n",
       "cp       -0.038280  0.038036  1.000000 -0.108668  0.103214 -0.049744   \n",
       "trestbps  0.148099  0.041150 -0.108668  1.000000  0.137591  0.047729   \n",
       "chol      0.075774 -0.135882  0.103214  0.137591  1.000000  0.066625   \n",
       "fbs       0.056644 -0.028341 -0.049744  0.047729  0.066625  1.000000   \n",
       "restecg   0.002400  0.060621  0.034790  0.059974  0.018638  0.114645   \n",
       "thalach  -0.046396  0.003599 -0.245349  0.535110  0.121922  0.048343   \n",
       "exang     0.082938  0.041667 -0.082640  0.692549  0.130986 -0.103918   \n",
       "oldpeak   0.093662  0.103045 -0.191398  0.596663  0.098797 -0.027321   \n",
       "slope    -0.006737  0.042436 -0.184734  0.402865  0.059616  0.026010   \n",
       "ca        0.023861 -0.017675 -0.062680  0.042266  0.116131  0.073783   \n",
       "thal      0.091226  0.023543 -0.088548  0.201645  0.008680 -0.050338   \n",
       "num       0.287289  0.147470  0.168210  0.089706  0.139196  0.046811   \n",
       "\n",
       "           restecg   thalach     exang   oldpeak     slope        ca  \\\n",
       "age       0.002400 -0.046396  0.082938  0.093662 -0.006737  0.023861   \n",
       "sex       0.060621  0.003599  0.041667  0.103045  0.042436 -0.017675   \n",
       "cp        0.034790 -0.245349 -0.082640 -0.191398 -0.184734 -0.062680   \n",
       "trestbps  0.059974  0.535110  0.692549  0.596663  0.402865  0.042266   \n",
       "chol      0.018638  0.121922  0.130986  0.098797  0.059616  0.116131   \n",
       "fbs       0.114645  0.048343 -0.103918 -0.027321  0.026010  0.073783   \n",
       "restecg   1.000000  0.053506 -0.017562 -0.043575  0.123095  0.034644   \n",
       "thalach   0.053506  1.000000  0.561034  0.537406  0.379412  0.067382   \n",
       "exang    -0.017562  0.561034  1.000000  0.709429  0.330265  0.000694   \n",
       "oldpeak  -0.043575  0.537406  0.709429  1.000000  0.196717  0.038791   \n",
       "slope     0.123095  0.379412  0.330265  0.196717  1.000000  0.008191   \n",
       "ca        0.034644  0.067382  0.000694  0.038791  0.008191  1.000000   \n",
       "thal     -0.038291  0.098711  0.235572  0.272264  0.017328  0.040363   \n",
       "num      -0.032800 -0.134816  0.070802  0.148194 -0.117605  0.084277   \n",
       "\n",
       "              thal       num  \n",
       "age       0.091226  0.287289  \n",
       "sex       0.023543  0.147470  \n",
       "cp       -0.088548  0.168210  \n",
       "trestbps  0.201645  0.089706  \n",
       "chol      0.008680  0.139196  \n",
       "fbs      -0.050338  0.046811  \n",
       "restecg  -0.038291 -0.032800  \n",
       "thalach   0.098711 -0.134816  \n",
       "exang     0.235572  0.070802  \n",
       "oldpeak   0.272264  0.148194  \n",
       "slope     0.017328 -0.117605  \n",
       "ca        0.040363  0.084277  \n",
       "thal      1.000000  0.112256  \n",
       "num       0.112256  1.000000  "
      ]
     },
     "execution_count": 10,
     "metadata": {},
     "output_type": "execute_result"
    }
   ],
   "source": [
    "df.corr() #checking correlation"
   ]
  },
  {
   "cell_type": "code",
   "execution_count": 11,
   "metadata": {},
   "outputs": [
    {
     "data": {
      "text/plain": [
       "<matplotlib.axes._subplots.AxesSubplot at 0x24ffd6bec70>"
      ]
     },
     "execution_count": 11,
     "metadata": {},
     "output_type": "execute_result"
    },
    {
     "data": {
      "image/png": "[encoded data removed]",
      "text/plain": [
       "<Figure size 720x432 with 2 Axes>"
      ]
     },
     "metadata": {
      "needs_background": "light"
     },
     "output_type": "display_data"
    }
   ],
   "source": [
    "plt.figure(figsize=(10,6))\n",
    "sns.heatmap(df.corr(),annot=True) #checking correlation through heatmap"
   ]
  },
  {
   "cell_type": "code",
   "execution_count": 12,
   "metadata": {},
   "outputs": [
    {
     "data": {
      "text/plain": [
       "<matplotlib.axes._subplots.AxesSubplot at 0x24ffdafc370>"
      ]
     },
     "execution_count": 12,
     "metadata": {},
     "output_type": "execute_result"
    },
    {
     "data": {
      "image/png": "[encoded data removed]",
      "text/plain": [
       "<Figure size 432x288 with 2 Axes>"
      ]
     },
     "metadata": {
      "needs_background": "light"
     },
     "output_type": "display_data"
    }
   ],
   "source": [
    "sns.heatmap(df.isnull()) #checking null values through heatmap"
   ]
  },
  {
   "cell_type": "code",
   "execution_count": 13,
   "metadata": {},
   "outputs": [
    {
     "data": {
      "text/plain": [
       "age            AxesSubplot(0.125,0.536818;0.0945122x0.343182)\n",
       "sex         AxesSubplot(0.238415,0.536818;0.0945122x0.343182)\n",
       "cp          AxesSubplot(0.351829,0.536818;0.0945122x0.343182)\n",
       "trestbps    AxesSubplot(0.465244,0.536818;0.0945122x0.343182)\n",
       "chol        AxesSubplot(0.578659,0.536818;0.0945122x0.343182)\n",
       "fbs         AxesSubplot(0.692073,0.536818;0.0945122x0.343182)\n",
       "restecg     AxesSubplot(0.805488,0.536818;0.0945122x0.343182)\n",
       "thalach           AxesSubplot(0.125,0.125;0.0945122x0.343182)\n",
       "exang          AxesSubplot(0.238415,0.125;0.0945122x0.343182)\n",
       "oldpeak        AxesSubplot(0.351829,0.125;0.0945122x0.343182)\n",
       "slope          AxesSubplot(0.465244,0.125;0.0945122x0.343182)\n",
       "ca             AxesSubplot(0.578659,0.125;0.0945122x0.343182)\n",
       "thal           AxesSubplot(0.692073,0.125;0.0945122x0.343182)\n",
       "num            AxesSubplot(0.805488,0.125;0.0945122x0.343182)\n",
       "dtype: object"
      ]
     },
     "execution_count": 13,
     "metadata": {},
     "output_type": "execute_result"
    },
    {
     "data": {
      "image/png": "[encoded data removed]",
      "text/plain": [
       "<Figure size 432x288 with 14 Axes>"
      ]
     },
     "metadata": {
      "needs_background": "light"
     },
     "output_type": "display_data"
    }
   ],
   "source": [
    "df.plot(kind='box',subplots=True,layout=(2,7)) #plotting boxplots for all attributes"
   ]
  },
  {
   "cell_type": "code",
   "execution_count": 14,
   "metadata": {},
   "outputs": [
    {
     "data": {
      "image/png": "[encoded data removed]",
      "text/plain": [
       "<Figure size 432x288 with 1 Axes>"
      ]
     },
     "metadata": {
      "needs_background": "light"
     },
     "output_type": "display_data"
    }
   ],
   "source": [
    "# people below 50 have less chance of disease as compared to above 50 \n",
    "sns.lineplot(data=df,y='num',x='age') \n",
    "plt.show()"
   ]
  },
  {
   "cell_type": "code",
   "execution_count": 15,
   "metadata": {
    "scrolled": true
   },
   "outputs": [
    {
     "data": {
      "image/png": "[encoded data removed]",
      "text/plain": [
       "<Figure size 432x288 with 1 Axes>"
      ]
     },
     "metadata": {
      "needs_background": "light"
     },
     "output_type": "display_data"
    }
   ],
   "source": [
    "sns.barplot(data=df,y='num',x='sex')\n",
    "plt.show()"
   ]
  },
  {
   "cell_type": "code",
   "execution_count": 16,
   "metadata": {
    "scrolled": true
   },
   "outputs": [
    {
     "data": {
      "image/png": "[encoded data removed]",
      "text/plain": [
       "<Figure size 432x288 with 1 Axes>"
      ]
     },
     "metadata": {
      "needs_background": "light"
     },
     "output_type": "display_data"
    }
   ],
   "source": [
    "sns.barplot(data=df,y='num',x='cp')\n",
    "plt.show()"
   ]
  },
  {
   "cell_type": "code",
   "execution_count": 17,
   "metadata": {
    "scrolled": true
   },
   "outputs": [
    {
     "data": {
      "text/plain": [
       "<matplotlib.axes._subplots.AxesSubplot at 0x24ffdfe1fa0>"
      ]
     },
     "execution_count": 17,
     "metadata": {},
     "output_type": "execute_result"
    },
    {
     "data": {
      "image/png": "[encoded data removed]",
      "text/plain": [
       "<Figure size 432x288 with 1 Axes>"
      ]
     },
     "metadata": {
      "needs_background": "light"
     },
     "output_type": "display_data"
    }
   ],
   "source": [
    "sns.distplot(df[\"trestbps\"])"
   ]
  },
  {
   "cell_type": "code",
   "execution_count": 18,
   "metadata": {
    "scrolled": true
   },
   "outputs": [
    {
     "data": {
      "text/plain": [
       "<matplotlib.axes._subplots.AxesSubplot at 0x24ffddd5880>"
      ]
     },
     "execution_count": 18,
     "metadata": {},
     "output_type": "execute_result"
    },
    {
     "data": {
      "image/png": "[encoded data removed]",
      "text/plain": [
       "<Figure size 432x288 with 1 Axes>"
      ]
     },
     "metadata": {
      "needs_background": "light"
     },
     "output_type": "display_data"
    }
   ],
   "source": [
    "sns.boxplot(df['chol'])"
   ]
  },
  {
   "cell_type": "code",
   "execution_count": 19,
   "metadata": {},
   "outputs": [
    {
     "data": {
      "image/png": "[encoded data removed]",
      "text/plain": [
       "<Figure size 432x288 with 1 Axes>"
      ]
     },
     "metadata": {
      "needs_background": "light"
     },
     "output_type": "display_data"
    }
   ],
   "source": [
    "sns.barplot(data=df,y='num',x='fbs')\n",
    "plt.show()"
   ]
  },
  {
   "cell_type": "code",
   "execution_count": 20,
   "metadata": {},
   "outputs": [
    {
     "data": {
      "image/png": "[encoded data removed]",
      "text/plain": [
       "<Figure size 432x288 with 1 Axes>"
      ]
     },
     "metadata": {
      "needs_background": "light"
     },
     "output_type": "display_data"
    }
   ],
   "source": [
    "sns.barplot(data=df,y='num',x='restecg')\n",
    "plt.show()"
   ]
  },
  {
   "cell_type": "code",
   "execution_count": 21,
   "metadata": {},
   "outputs": [
    {
     "data": {
      "image/png": "[encoded data removed]",
      "text/plain": [
       "<Figure size 432x288 with 1 Axes>"
      ]
     },
     "metadata": {
      "needs_background": "light"
     },
     "output_type": "display_data"
    }
   ],
   "source": [
    "sns.barplot(data=df,y='num',x='exang')\n",
    "plt.show()"
   ]
  },
  {
   "cell_type": "code",
   "execution_count": 22,
   "metadata": {},
   "outputs": [
    {
     "data": {
      "image/png": "[encoded data removed]",
      "text/plain": [
       "<Figure size 432x288 with 1 Axes>"
      ]
     },
     "metadata": {
      "needs_background": "light"
     },
     "output_type": "display_data"
    }
   ],
   "source": [
    "sns.barplot(data=df,y='num',x='oldpeak')\n",
    "plt.show()"
   ]
  },
  {
   "cell_type": "code",
   "execution_count": 24,
   "metadata": {},
   "outputs": [
    {
     "data": {
      "text/plain": [
       "array([[0.46842053, 0.17586311, 0.62365375, ..., 0.10050378, 0.40160966,\n",
       "        0.3946109 ],\n",
       "       [1.96993293, 0.17586311, 0.62365375, ..., 0.10050378, 0.40160966,\n",
       "        1.24960118],\n",
       "       [0.08341736, 0.17586311, 0.62365375, ..., 0.10050378, 0.40160966,\n",
       "        0.3946109 ],\n",
       "       ...,\n",
       "       [0.55825461, 0.17586311, 0.62365375, ..., 0.10050378, 2.81126765,\n",
       "        0.3946109 ],\n",
       "       [0.17325143, 0.17586311, 0.62365375, ..., 0.10050378, 0.40160966,\n",
       "        1.24960118],\n",
       "       [0.34008614, 0.17586311, 1.8961594 , ..., 0.10050378, 0.40160966,\n",
       "        0.42749514]])"
      ]
     },
     "execution_count": 24,
     "metadata": {},
     "output_type": "execute_result"
    }
   ],
   "source": [
    "#checking outliers\n",
    "from scipy.stats import zscore\n",
    "z=np.abs(zscore(df))\n",
    "z"
   ]
  },
  {
   "cell_type": "code",
   "execution_count": 25,
   "metadata": {},
   "outputs": [
    {
     "name": "stdout",
     "output_type": "stream",
     "text": [
      "(array([ 12,  28,  39,  51,  66,  72,  76,  79,  96,  97, 126, 128, 131,\n",
      "       133, 137, 171, 189, 190, 194, 195, 196], dtype=int64), array([12, 11, 11,  1,  2,  2,  2,  1,  0,  2,  1,  1,  2,  2,  2, 12, 12,\n",
      "        1, 12,  1,  2], dtype=int64))\n"
     ]
    }
   ],
   "source": [
    "threshold=3\n",
    "print(np.where(z>3))"
   ]
  },
  {
   "cell_type": "code",
   "execution_count": 26,
   "metadata": {},
   "outputs": [
    {
     "data": {
      "text/html": [
       "<div>\n",
       "<style scoped>\n",
       "    .dataframe tbody tr th:only-of-type {\n",
       "        vertical-align: middle;\n",
       "    }\n",
       "\n",
       "    .dataframe tbody tr th {\n",
       "        vertical-align: top;\n",
       "    }\n",
       "\n",
       "    .dataframe thead th {\n",
       "        text-align: right;\n",
       "    }\n",
       "</style>\n",
       "<table border=\"1\" class=\"dataframe\">\n",
       "  <thead>\n",
       "    <tr style=\"text-align: right;\">\n",
       "      <th></th>\n",
       "      <th>age</th>\n",
       "      <th>sex</th>\n",
       "      <th>cp</th>\n",
       "      <th>trestbps</th>\n",
       "      <th>chol</th>\n",
       "      <th>fbs</th>\n",
       "      <th>restecg</th>\n",
       "      <th>thalach</th>\n",
       "      <th>exang</th>\n",
       "      <th>oldpeak</th>\n",
       "      <th>slope</th>\n",
       "      <th>ca</th>\n",
       "      <th>thal</th>\n",
       "      <th>num</th>\n",
       "    </tr>\n",
       "  </thead>\n",
       "  <tbody>\n",
       "    <tr>\n",
       "      <th>0</th>\n",
       "      <td>63</td>\n",
       "      <td>1</td>\n",
       "      <td>4</td>\n",
       "      <td>23</td>\n",
       "      <td>62</td>\n",
       "      <td>0</td>\n",
       "      <td>1</td>\n",
       "      <td>8</td>\n",
       "      <td>1</td>\n",
       "      <td>11</td>\n",
       "      <td>1</td>\n",
       "      <td>1</td>\n",
       "      <td>3</td>\n",
       "      <td>2</td>\n",
       "    </tr>\n",
       "    <tr>\n",
       "      <th>1</th>\n",
       "      <td>44</td>\n",
       "      <td>1</td>\n",
       "      <td>4</td>\n",
       "      <td>17</td>\n",
       "      <td>28</td>\n",
       "      <td>0</td>\n",
       "      <td>1</td>\n",
       "      <td>21</td>\n",
       "      <td>0</td>\n",
       "      <td>1</td>\n",
       "      <td>3</td>\n",
       "      <td>1</td>\n",
       "      <td>3</td>\n",
       "      <td>0</td>\n",
       "    </tr>\n",
       "    <tr>\n",
       "      <th>2</th>\n",
       "      <td>60</td>\n",
       "      <td>1</td>\n",
       "      <td>4</td>\n",
       "      <td>18</td>\n",
       "      <td>35</td>\n",
       "      <td>0</td>\n",
       "      <td>1</td>\n",
       "      <td>30</td>\n",
       "      <td>1</td>\n",
       "      <td>6</td>\n",
       "      <td>2</td>\n",
       "      <td>1</td>\n",
       "      <td>3</td>\n",
       "      <td>2</td>\n",
       "    </tr>\n",
       "    <tr>\n",
       "      <th>3</th>\n",
       "      <td>55</td>\n",
       "      <td>1</td>\n",
       "      <td>4</td>\n",
       "      <td>24</td>\n",
       "      <td>45</td>\n",
       "      <td>0</td>\n",
       "      <td>1</td>\n",
       "      <td>35</td>\n",
       "      <td>1</td>\n",
       "      <td>10</td>\n",
       "      <td>0</td>\n",
       "      <td>1</td>\n",
       "      <td>3</td>\n",
       "      <td>1</td>\n",
       "    </tr>\n",
       "    <tr>\n",
       "      <th>4</th>\n",
       "      <td>66</td>\n",
       "      <td>1</td>\n",
       "      <td>3</td>\n",
       "      <td>5</td>\n",
       "      <td>31</td>\n",
       "      <td>1</td>\n",
       "      <td>2</td>\n",
       "      <td>58</td>\n",
       "      <td>1</td>\n",
       "      <td>5</td>\n",
       "      <td>1</td>\n",
       "      <td>1</td>\n",
       "      <td>3</td>\n",
       "      <td>0</td>\n",
       "    </tr>\n",
       "    <tr>\n",
       "      <th>...</th>\n",
       "      <td>...</td>\n",
       "      <td>...</td>\n",
       "      <td>...</td>\n",
       "      <td>...</td>\n",
       "      <td>...</td>\n",
       "      <td>...</td>\n",
       "      <td>...</td>\n",
       "      <td>...</td>\n",
       "      <td>...</td>\n",
       "      <td>...</td>\n",
       "      <td>...</td>\n",
       "      <td>...</td>\n",
       "      <td>...</td>\n",
       "      <td>...</td>\n",
       "    </tr>\n",
       "    <tr>\n",
       "      <th>192</th>\n",
       "      <td>53</td>\n",
       "      <td>1</td>\n",
       "      <td>4</td>\n",
       "      <td>25</td>\n",
       "      <td>83</td>\n",
       "      <td>1</td>\n",
       "      <td>1</td>\n",
       "      <td>22</td>\n",
       "      <td>1</td>\n",
       "      <td>6</td>\n",
       "      <td>1</td>\n",
       "      <td>1</td>\n",
       "      <td>3</td>\n",
       "      <td>3</td>\n",
       "    </tr>\n",
       "    <tr>\n",
       "      <th>193</th>\n",
       "      <td>62</td>\n",
       "      <td>1</td>\n",
       "      <td>4</td>\n",
       "      <td>32</td>\n",
       "      <td>9</td>\n",
       "      <td>0</td>\n",
       "      <td>1</td>\n",
       "      <td>29</td>\n",
       "      <td>1</td>\n",
       "      <td>1</td>\n",
       "      <td>3</td>\n",
       "      <td>1</td>\n",
       "      <td>3</td>\n",
       "      <td>1</td>\n",
       "    </tr>\n",
       "    <tr>\n",
       "      <th>197</th>\n",
       "      <td>55</td>\n",
       "      <td>1</td>\n",
       "      <td>4</td>\n",
       "      <td>11</td>\n",
       "      <td>40</td>\n",
       "      <td>1</td>\n",
       "      <td>1</td>\n",
       "      <td>0</td>\n",
       "      <td>0</td>\n",
       "      <td>1</td>\n",
       "      <td>3</td>\n",
       "      <td>1</td>\n",
       "      <td>1</td>\n",
       "      <td>2</td>\n",
       "    </tr>\n",
       "    <tr>\n",
       "      <th>198</th>\n",
       "      <td>58</td>\n",
       "      <td>1</td>\n",
       "      <td>4</td>\n",
       "      <td>40</td>\n",
       "      <td>97</td>\n",
       "      <td>1</td>\n",
       "      <td>2</td>\n",
       "      <td>59</td>\n",
       "      <td>2</td>\n",
       "      <td>14</td>\n",
       "      <td>3</td>\n",
       "      <td>1</td>\n",
       "      <td>3</td>\n",
       "      <td>0</td>\n",
       "    </tr>\n",
       "    <tr>\n",
       "      <th>199</th>\n",
       "      <td>62</td>\n",
       "      <td>1</td>\n",
       "      <td>2</td>\n",
       "      <td>10</td>\n",
       "      <td>59</td>\n",
       "      <td>0</td>\n",
       "      <td>2</td>\n",
       "      <td>53</td>\n",
       "      <td>1</td>\n",
       "      <td>1</td>\n",
       "      <td>3</td>\n",
       "      <td>1</td>\n",
       "      <td>3</td>\n",
       "      <td>1</td>\n",
       "    </tr>\n",
       "  </tbody>\n",
       "</table>\n",
       "<p>179 rows × 14 columns</p>\n",
       "</div>"
      ],
      "text/plain": [
       "     age  sex  cp  trestbps  chol  fbs  restecg  thalach  exang  oldpeak  \\\n",
       "0     63    1   4        23    62    0        1        8      1       11   \n",
       "1     44    1   4        17    28    0        1       21      0        1   \n",
       "2     60    1   4        18    35    0        1       30      1        6   \n",
       "3     55    1   4        24    45    0        1       35      1       10   \n",
       "4     66    1   3         5    31    1        2       58      1        5   \n",
       "..   ...  ...  ..       ...   ...  ...      ...      ...    ...      ...   \n",
       "192   53    1   4        25    83    1        1       22      1        6   \n",
       "193   62    1   4        32     9    0        1       29      1        1   \n",
       "197   55    1   4        11    40    1        1        0      0        1   \n",
       "198   58    1   4        40    97    1        2       59      2       14   \n",
       "199   62    1   2        10    59    0        2       53      1        1   \n",
       "\n",
       "     slope  ca  thal  num  \n",
       "0        1   1     3    2  \n",
       "1        3   1     3    0  \n",
       "2        2   1     3    2  \n",
       "3        0   1     3    1  \n",
       "4        1   1     3    0  \n",
       "..     ...  ..   ...  ...  \n",
       "192      1   1     3    3  \n",
       "193      3   1     3    1  \n",
       "197      3   1     1    2  \n",
       "198      3   1     3    0  \n",
       "199      3   1     3    1  \n",
       "\n",
       "[179 rows x 14 columns]"
      ]
     },
     "execution_count": 26,
     "metadata": {},
     "output_type": "execute_result"
    }
   ],
   "source": [
    "df_new=df[(z<3).all(axis=1)] #removing outliers\n",
    "df_new"
   ]
  },
  {
   "cell_type": "code",
   "execution_count": 27,
   "metadata": {},
   "outputs": [
    {
     "data": {
      "text/plain": [
       "(200, 14)"
      ]
     },
     "execution_count": 27,
     "metadata": {},
     "output_type": "execute_result"
    }
   ],
   "source": [
    "df.shape"
   ]
  },
  {
   "cell_type": "code",
   "execution_count": 28,
   "metadata": {},
   "outputs": [
    {
     "data": {
      "text/plain": [
       "(179, 14)"
      ]
     },
     "execution_count": 28,
     "metadata": {},
     "output_type": "execute_result"
    }
   ],
   "source": [
    "df_new.shape #21rows are removed"
   ]
  },
  {
   "cell_type": "code",
   "execution_count": 29,
   "metadata": {},
   "outputs": [],
   "source": [
    "df=df_new"
   ]
  },
  {
   "cell_type": "code",
   "execution_count": 30,
   "metadata": {},
   "outputs": [
    {
     "data": {
      "text/plain": [
       "age        -0.239248\n",
       "sex         0.000000\n",
       "cp         -1.373174\n",
       "trestbps   -0.154060\n",
       "chol        0.407519\n",
       "fbs         0.997411\n",
       "restecg     0.355700\n",
       "thalach    -0.034242\n",
       "exang      -0.016570\n",
       "oldpeak    -0.152741\n",
       "slope      -0.596130\n",
       "ca          0.000000\n",
       "thal       -2.564024\n",
       "num         0.237554\n",
       "dtype: float64"
      ]
     },
     "execution_count": 30,
     "metadata": {},
     "output_type": "execute_result"
    }
   ],
   "source": [
    "df.skew()"
   ]
  },
  {
   "cell_type": "code",
   "execution_count": 31,
   "metadata": {},
   "outputs": [
    {
     "data": {
      "text/plain": [
       "<matplotlib.axes._subplots.AxesSubplot at 0x24ff87ba610>"
      ]
     },
     "execution_count": 31,
     "metadata": {},
     "output_type": "execute_result"
    },
    {
     "data": {
      "image/png": "[encoded data removed]",
      "text/plain": [
       "<Figure size 432x288 with 1 Axes>"
      ]
     },
     "metadata": {
      "needs_background": "light"
     },
     "output_type": "display_data"
    }
   ],
   "source": [
    "sns.distplot(df['num'])#num is normally distributed"
   ]
  },
  {
   "cell_type": "code",
   "execution_count": null,
   "metadata": {},
   "outputs": [],
   "source": [
    "#Splitting the data into X and Y"
   ]
  },
  {
   "cell_type": "code",
   "execution_count": 32,
   "metadata": {},
   "outputs": [
    {
     "data": {
      "text/html": [
       "<div>\n",
       "<style scoped>\n",
       "    .dataframe tbody tr th:only-of-type {\n",
       "        vertical-align: middle;\n",
       "    }\n",
       "\n",
       "    .dataframe tbody tr th {\n",
       "        vertical-align: top;\n",
       "    }\n",
       "\n",
       "    .dataframe thead th {\n",
       "        text-align: right;\n",
       "    }\n",
       "</style>\n",
       "<table border=\"1\" class=\"dataframe\">\n",
       "  <thead>\n",
       "    <tr style=\"text-align: right;\">\n",
       "      <th></th>\n",
       "      <th>age</th>\n",
       "      <th>sex</th>\n",
       "      <th>cp</th>\n",
       "      <th>trestbps</th>\n",
       "      <th>chol</th>\n",
       "      <th>fbs</th>\n",
       "      <th>restecg</th>\n",
       "      <th>thalach</th>\n",
       "      <th>exang</th>\n",
       "      <th>oldpeak</th>\n",
       "      <th>slope</th>\n",
       "      <th>ca</th>\n",
       "      <th>thal</th>\n",
       "    </tr>\n",
       "  </thead>\n",
       "  <tbody>\n",
       "    <tr>\n",
       "      <th>0</th>\n",
       "      <td>63</td>\n",
       "      <td>1</td>\n",
       "      <td>4</td>\n",
       "      <td>23</td>\n",
       "      <td>62</td>\n",
       "      <td>0</td>\n",
       "      <td>1</td>\n",
       "      <td>8</td>\n",
       "      <td>1</td>\n",
       "      <td>11</td>\n",
       "      <td>1</td>\n",
       "      <td>1</td>\n",
       "      <td>3</td>\n",
       "    </tr>\n",
       "    <tr>\n",
       "      <th>1</th>\n",
       "      <td>44</td>\n",
       "      <td>1</td>\n",
       "      <td>4</td>\n",
       "      <td>17</td>\n",
       "      <td>28</td>\n",
       "      <td>0</td>\n",
       "      <td>1</td>\n",
       "      <td>21</td>\n",
       "      <td>0</td>\n",
       "      <td>1</td>\n",
       "      <td>3</td>\n",
       "      <td>1</td>\n",
       "      <td>3</td>\n",
       "    </tr>\n",
       "    <tr>\n",
       "      <th>2</th>\n",
       "      <td>60</td>\n",
       "      <td>1</td>\n",
       "      <td>4</td>\n",
       "      <td>18</td>\n",
       "      <td>35</td>\n",
       "      <td>0</td>\n",
       "      <td>1</td>\n",
       "      <td>30</td>\n",
       "      <td>1</td>\n",
       "      <td>6</td>\n",
       "      <td>2</td>\n",
       "      <td>1</td>\n",
       "      <td>3</td>\n",
       "    </tr>\n",
       "    <tr>\n",
       "      <th>3</th>\n",
       "      <td>55</td>\n",
       "      <td>1</td>\n",
       "      <td>4</td>\n",
       "      <td>24</td>\n",
       "      <td>45</td>\n",
       "      <td>0</td>\n",
       "      <td>1</td>\n",
       "      <td>35</td>\n",
       "      <td>1</td>\n",
       "      <td>10</td>\n",
       "      <td>0</td>\n",
       "      <td>1</td>\n",
       "      <td>3</td>\n",
       "    </tr>\n",
       "    <tr>\n",
       "      <th>4</th>\n",
       "      <td>66</td>\n",
       "      <td>1</td>\n",
       "      <td>3</td>\n",
       "      <td>5</td>\n",
       "      <td>31</td>\n",
       "      <td>1</td>\n",
       "      <td>2</td>\n",
       "      <td>58</td>\n",
       "      <td>1</td>\n",
       "      <td>5</td>\n",
       "      <td>1</td>\n",
       "      <td>1</td>\n",
       "      <td>3</td>\n",
       "    </tr>\n",
       "  </tbody>\n",
       "</table>\n",
       "</div>"
      ],
      "text/plain": [
       "   age  sex  cp  trestbps  chol  fbs  restecg  thalach  exang  oldpeak  slope  \\\n",
       "0   63    1   4        23    62    0        1        8      1       11      1   \n",
       "1   44    1   4        17    28    0        1       21      0        1      3   \n",
       "2   60    1   4        18    35    0        1       30      1        6      2   \n",
       "3   55    1   4        24    45    0        1       35      1       10      0   \n",
       "4   66    1   3         5    31    1        2       58      1        5      1   \n",
       "\n",
       "   ca  thal  \n",
       "0   1     3  \n",
       "1   1     3  \n",
       "2   1     3  \n",
       "3   1     3  \n",
       "4   1     3  "
      ]
     },
     "execution_count": 32,
     "metadata": {},
     "output_type": "execute_result"
    }
   ],
   "source": [
    "#Input \n",
    "x=df.drop(['num'],axis=1)\n",
    "x.head()"
   ]
  },
  {
   "cell_type": "code",
   "execution_count": 33,
   "metadata": {},
   "outputs": [],
   "source": [
    "#scaling the data\n",
    "from sklearn.preprocessing import StandardScaler\n",
    "sc=StandardScaler()\n",
    "x=sc.fit_transform(x)"
   ]
  },
  {
   "cell_type": "code",
   "execution_count": 34,
   "metadata": {},
   "outputs": [],
   "source": [
    "x=pd.DataFrame(x)"
   ]
  },
  {
   "cell_type": "code",
   "execution_count": 35,
   "metadata": {},
   "outputs": [],
   "source": [
    "x.columns=['age', 'sex', 'cp', 'trestbps', 'chol', 'fbs', 'restecg', 'thalach',\n",
    "       'exang', 'oldpeak','slope','ca','thal']"
   ]
  },
  {
   "cell_type": "code",
   "execution_count": 36,
   "metadata": {},
   "outputs": [
    {
     "data": {
      "text/html": [
       "<div>\n",
       "<style scoped>\n",
       "    .dataframe tbody tr th:only-of-type {\n",
       "        vertical-align: middle;\n",
       "    }\n",
       "\n",
       "    .dataframe tbody tr th {\n",
       "        vertical-align: top;\n",
       "    }\n",
       "\n",
       "    .dataframe thead th {\n",
       "        text-align: right;\n",
       "    }\n",
       "</style>\n",
       "<table border=\"1\" class=\"dataframe\">\n",
       "  <thead>\n",
       "    <tr style=\"text-align: right;\">\n",
       "      <th></th>\n",
       "      <th>age</th>\n",
       "      <th>sex</th>\n",
       "      <th>cp</th>\n",
       "      <th>trestbps</th>\n",
       "      <th>chol</th>\n",
       "      <th>fbs</th>\n",
       "      <th>restecg</th>\n",
       "      <th>thalach</th>\n",
       "      <th>exang</th>\n",
       "      <th>oldpeak</th>\n",
       "      <th>slope</th>\n",
       "      <th>ca</th>\n",
       "      <th>thal</th>\n",
       "    </tr>\n",
       "  </thead>\n",
       "  <tbody>\n",
       "    <tr>\n",
       "      <th>0</th>\n",
       "      <td>0.464674</td>\n",
       "      <td>0.0</td>\n",
       "      <td>0.624827</td>\n",
       "      <td>-0.152452</td>\n",
       "      <td>0.766602</td>\n",
       "      <td>-0.729995</td>\n",
       "      <td>0.360583</td>\n",
       "      <td>-1.208875</td>\n",
       "      <td>-0.015587</td>\n",
       "      <td>0.610162</td>\n",
       "      <td>-1.047166</td>\n",
       "      <td>0.0</td>\n",
       "      <td>0.393681</td>\n",
       "    </tr>\n",
       "    <tr>\n",
       "      <th>1</th>\n",
       "      <td>-2.063894</td>\n",
       "      <td>0.0</td>\n",
       "      <td>0.624827</td>\n",
       "      <td>-0.631206</td>\n",
       "      <td>-0.293026</td>\n",
       "      <td>-0.729995</td>\n",
       "      <td>0.360583</td>\n",
       "      <td>-0.586105</td>\n",
       "      <td>-1.410623</td>\n",
       "      <td>-1.397541</td>\n",
       "      <td>0.885233</td>\n",
       "      <td>0.0</td>\n",
       "      <td>0.393681</td>\n",
       "    </tr>\n",
       "    <tr>\n",
       "      <th>2</th>\n",
       "      <td>0.065426</td>\n",
       "      <td>0.0</td>\n",
       "      <td>0.624827</td>\n",
       "      <td>-0.551414</td>\n",
       "      <td>-0.074867</td>\n",
       "      <td>-0.729995</td>\n",
       "      <td>0.360583</td>\n",
       "      <td>-0.154957</td>\n",
       "      <td>-0.015587</td>\n",
       "      <td>-0.393689</td>\n",
       "      <td>-0.080966</td>\n",
       "      <td>0.0</td>\n",
       "      <td>0.393681</td>\n",
       "    </tr>\n",
       "    <tr>\n",
       "      <th>3</th>\n",
       "      <td>-0.599987</td>\n",
       "      <td>0.0</td>\n",
       "      <td>0.624827</td>\n",
       "      <td>-0.072660</td>\n",
       "      <td>0.236788</td>\n",
       "      <td>-0.729995</td>\n",
       "      <td>0.360583</td>\n",
       "      <td>0.084570</td>\n",
       "      <td>-0.015587</td>\n",
       "      <td>0.409392</td>\n",
       "      <td>-2.013365</td>\n",
       "      <td>0.0</td>\n",
       "      <td>0.393681</td>\n",
       "    </tr>\n",
       "    <tr>\n",
       "      <th>4</th>\n",
       "      <td>0.863921</td>\n",
       "      <td>0.0</td>\n",
       "      <td>-1.019938</td>\n",
       "      <td>-1.588713</td>\n",
       "      <td>-0.199529</td>\n",
       "      <td>1.035803</td>\n",
       "      <td>1.827501</td>\n",
       "      <td>1.186394</td>\n",
       "      <td>-0.015587</td>\n",
       "      <td>-0.594460</td>\n",
       "      <td>-1.047166</td>\n",
       "      <td>0.0</td>\n",
       "      <td>0.393681</td>\n",
       "    </tr>\n",
       "  </tbody>\n",
       "</table>\n",
       "</div>"
      ],
      "text/plain": [
       "        age  sex        cp  trestbps      chol       fbs   restecg   thalach  \\\n",
       "0  0.464674  0.0  0.624827 -0.152452  0.766602 -0.729995  0.360583 -1.208875   \n",
       "1 -2.063894  0.0  0.624827 -0.631206 -0.293026 -0.729995  0.360583 -0.586105   \n",
       "2  0.065426  0.0  0.624827 -0.551414 -0.074867 -0.729995  0.360583 -0.154957   \n",
       "3 -0.599987  0.0  0.624827 -0.072660  0.236788 -0.729995  0.360583  0.084570   \n",
       "4  0.863921  0.0 -1.019938 -1.588713 -0.199529  1.035803  1.827501  1.186394   \n",
       "\n",
       "      exang   oldpeak     slope   ca      thal  \n",
       "0 -0.015587  0.610162 -1.047166  0.0  0.393681  \n",
       "1 -1.410623 -1.397541  0.885233  0.0  0.393681  \n",
       "2 -0.015587 -0.393689 -0.080966  0.0  0.393681  \n",
       "3 -0.015587  0.409392 -2.013365  0.0  0.393681  \n",
       "4 -0.015587 -0.594460 -1.047166  0.0  0.393681  "
      ]
     },
     "execution_count": 36,
     "metadata": {},
     "output_type": "execute_result"
    }
   ],
   "source": [
    "x.head()"
   ]
  },
  {
   "cell_type": "code",
   "execution_count": 37,
   "metadata": {},
   "outputs": [
    {
     "data": {
      "text/plain": [
       "age        -0.239248\n",
       "sex         0.000000\n",
       "cp         -1.373174\n",
       "trestbps   -0.154060\n",
       "chol        0.407519\n",
       "fbs         0.997411\n",
       "restecg     0.355700\n",
       "thalach    -0.034242\n",
       "exang      -0.016570\n",
       "oldpeak    -0.152741\n",
       "slope      -0.596130\n",
       "ca          0.000000\n",
       "thal       -2.564024\n",
       "dtype: float64"
      ]
     },
     "execution_count": 37,
     "metadata": {},
     "output_type": "execute_result"
    }
   ],
   "source": [
    "x.skew()"
   ]
  },
  {
   "cell_type": "code",
   "execution_count": 38,
   "metadata": {},
   "outputs": [
    {
     "data": {
      "text/plain": [
       "array([2, 0, 2, 1, 0, 0, 3, 0, 3, 1, 0, 1, 1, 1, 0, 4, 1, 0, 0, 2, 1, 3,\n",
       "       0, 2, 2, 2, 1, 3, 3, 3, 3, 3, 2, 3, 2, 0, 1, 3, 1, 3, 0, 4, 2, 1,\n",
       "       0, 2, 0, 1, 2, 0, 1, 2, 2, 3, 0, 1, 0, 2, 1, 4, 2, 2, 1, 1, 1, 0,\n",
       "       2, 3, 3, 1, 3, 2, 0, 2, 2, 2, 4, 2, 3, 0, 1, 1, 3, 0, 3, 1, 0, 3,\n",
       "       1, 0, 1, 3, 1, 1, 0, 3, 1, 1, 0, 0, 3, 0, 3, 1, 1, 3, 2, 2, 3, 1,\n",
       "       2, 3, 1, 0, 1, 4, 2, 0, 1, 1, 3, 0, 3, 0, 2, 0, 4, 2, 4, 0, 0, 0,\n",
       "       1, 3, 3, 0, 3, 1, 1, 2, 2, 2, 2, 2, 1, 4, 3, 3, 3, 1, 3, 2, 0, 2,\n",
       "       1, 1, 3, 1, 0, 0, 4, 2, 3, 1, 1, 0, 1, 1, 0, 1, 3, 2, 2, 4, 3, 1,\n",
       "       2, 0, 1], dtype=int64)"
      ]
     },
     "execution_count": 38,
     "metadata": {},
     "output_type": "execute_result"
    }
   ],
   "source": [
    "#Output/Target\n",
    "y=df['num'].values\n",
    "y"
   ]
  },
  {
   "cell_type": "code",
   "execution_count": 39,
   "metadata": {},
   "outputs": [
    {
     "data": {
      "text/plain": [
       "(179, 13)"
      ]
     },
     "execution_count": 39,
     "metadata": {},
     "output_type": "execute_result"
    }
   ],
   "source": [
    "x.shape"
   ]
  },
  {
   "cell_type": "code",
   "execution_count": 40,
   "metadata": {},
   "outputs": [
    {
     "data": {
      "text/plain": [
       "(179,)"
      ]
     },
     "execution_count": 40,
     "metadata": {},
     "output_type": "execute_result"
    }
   ],
   "source": [
    "y.shape"
   ]
  },
  {
   "cell_type": "code",
   "execution_count": 41,
   "metadata": {},
   "outputs": [
    {
     "data": {
      "text/plain": [
       "(179, 1)"
      ]
     },
     "execution_count": 41,
     "metadata": {},
     "output_type": "execute_result"
    }
   ],
   "source": [
    "y=y.reshape(-1,1)\n",
    "y.shape"
   ]
  },
  {
   "cell_type": "code",
   "execution_count": 42,
   "metadata": {},
   "outputs": [],
   "source": [
    "from sklearn.model_selection import train_test_split,cross_val_score\n",
    "from sklearn.naive_bayes import MultinomialNB\n",
    "\n",
    "from sklearn.svm import SVC\n",
    "from sklearn.tree import DecisionTreeClassifier\n",
    "from sklearn.neighbors import KNeighborsClassifier\n",
    "from sklearn.metrics import accuracy_score,confusion_matrix,classification_report,roc_curve,auc,roc_auc_score\n",
    "import warnings\n",
    "warnings.filterwarnings('ignore')"
   ]
  },
  {
   "cell_type": "code",
   "execution_count": 60,
   "metadata": {},
   "outputs": [],
   "source": [
    "x_train,x_test,y_train,y_test=train_test_split(x,y,test_size=0.2,random_state=11) #splitting the data into train & test"
   ]
  },
  {
   "cell_type": "code",
   "execution_count": 44,
   "metadata": {},
   "outputs": [
    {
     "name": "stdout",
     "output_type": "stream",
     "text": [
      "(143, 13) (36, 13)\n"
     ]
    }
   ],
   "source": [
    "print(x_train.shape,x_test.shape)"
   ]
  },
  {
   "cell_type": "code",
   "execution_count": 45,
   "metadata": {},
   "outputs": [
    {
     "name": "stdout",
     "output_type": "stream",
     "text": [
      "(143, 1) (36, 1)\n"
     ]
    }
   ],
   "source": [
    "print(y_train.shape,y_test.shape)"
   ]
  },
  {
   "cell_type": "code",
   "execution_count": 61,
   "metadata": {},
   "outputs": [
    {
     "name": "stdout",
     "output_type": "stream",
     "text": [
      "Accuracy score of KNeighborsClassifier() is:\n",
      "0.3888888888888889\n",
      "[[3 1 1 0 0]\n",
      " [5 4 1 2 0]\n",
      " [4 1 3 1 0]\n",
      " [1 1 2 4 0]\n",
      " [0 1 1 0 0]]\n",
      "              precision    recall  f1-score   support\n",
      "\n",
      "           0       0.23      0.60      0.33         5\n",
      "           1       0.50      0.33      0.40        12\n",
      "           2       0.38      0.33      0.35         9\n",
      "           3       0.57      0.50      0.53         8\n",
      "           4       0.00      0.00      0.00         2\n",
      "\n",
      "    accuracy                           0.39        36\n",
      "   macro avg       0.34      0.35      0.32        36\n",
      "weighted avg       0.42      0.39      0.39        36\n",
      "\n",
      "Cross_Val_Score= 0.296078431372549\n",
      "\n",
      "\n",
      "Accuracy score of SVC() is:\n",
      "0.4444444444444444\n",
      "[[3 2 0 0 0]\n",
      " [2 7 2 1 0]\n",
      " [1 4 1 3 0]\n",
      " [0 1 2 5 0]\n",
      " [0 2 0 0 0]]\n",
      "              precision    recall  f1-score   support\n",
      "\n",
      "           0       0.50      0.60      0.55         5\n",
      "           1       0.44      0.58      0.50        12\n",
      "           2       0.20      0.11      0.14         9\n",
      "           3       0.56      0.62      0.59         8\n",
      "           4       0.00      0.00      0.00         2\n",
      "\n",
      "    accuracy                           0.44        36\n",
      "   macro avg       0.34      0.38      0.36        36\n",
      "weighted avg       0.39      0.44      0.41        36\n",
      "\n",
      "Cross_Val_Score= 0.31274509803921563\n",
      "\n",
      "\n",
      "Accuracy score of DecisionTreeClassifier() is:\n",
      "0.3055555555555556\n",
      "[[1 1 1 2 0]\n",
      " [3 5 2 2 0]\n",
      " [2 2 2 3 0]\n",
      " [2 2 1 3 0]\n",
      " [1 0 0 1 0]]\n",
      "              precision    recall  f1-score   support\n",
      "\n",
      "           0       0.11      0.20      0.14         5\n",
      "           1       0.50      0.42      0.45        12\n",
      "           2       0.33      0.22      0.27         9\n",
      "           3       0.27      0.38      0.32         8\n",
      "           4       0.00      0.00      0.00         2\n",
      "\n",
      "    accuracy                           0.31        36\n",
      "   macro avg       0.24      0.24      0.24        36\n",
      "weighted avg       0.33      0.31      0.31        36\n",
      "\n",
      "Cross_Val_Score= 0.27908496732026145\n",
      "\n",
      "\n"
     ]
    }
   ],
   "source": [
    "model=[KNeighborsClassifier(),SVC(),DecisionTreeClassifier()] #using all these methods to check best model\n",
    "\n",
    "for m in model:\n",
    "    m.fit(x_train,y_train)\n",
    "    m.score(x_train,y_train)\n",
    "    predm=m.predict(x_test)\n",
    "    print('Accuracy score of',m,'is:')\n",
    "    print(accuracy_score(y_test,predm))\n",
    "    print(confusion_matrix(y_test,predm))\n",
    "    print(classification_report(y_test,predm))\n",
    "    sc=cross_val_score(m,x,y,cv=10,scoring='accuracy').mean()\n",
    "    print('Cross_Val_Score=',sc)\n",
    "    print('\\n')"
   ]
  },
  {
   "cell_type": "code",
   "execution_count": null,
   "metadata": {},
   "outputs": [],
   "source": [
    "#Corresponding to svc only we are getting highest score of :0.4444444444444444"
   ]
  },
  {
   "cell_type": "code",
   "execution_count": 47,
   "metadata": {},
   "outputs": [
    {
     "data": {
      "text/plain": [
       "{'kernel': 'rbf'}"
      ]
     },
     "execution_count": 47,
     "metadata": {},
     "output_type": "execute_result"
    }
   ],
   "source": [
    "from sklearn.model_selection import GridSearchCV\n",
    "parameters={'kernel':['poly','rbf','linear']} #applying GridSearchCV on svc to check best parameters \n",
    "svc=SVC()\n",
    "gknr=GridSearchCV(svc,parameters,cv=10)\n",
    "gknr.fit(x,y)\n",
    "gknr.best_params_"
   ]
  },
  {
   "cell_type": "code",
   "execution_count": 48,
   "metadata": {},
   "outputs": [
    {
     "name": "stdout",
     "output_type": "stream",
     "text": [
      "0.4444444444444444\n",
      "[[3 2 0 0 0]\n",
      " [2 7 2 1 0]\n",
      " [1 4 1 3 0]\n",
      " [0 1 2 5 0]\n",
      " [0 2 0 0 0]]\n",
      "              precision    recall  f1-score   support\n",
      "\n",
      "           0       0.50      0.60      0.55         5\n",
      "           1       0.44      0.58      0.50        12\n",
      "           2       0.20      0.11      0.14         9\n",
      "           3       0.56      0.62      0.59         8\n",
      "           4       0.00      0.00      0.00         2\n",
      "\n",
      "    accuracy                           0.44        36\n",
      "   macro avg       0.34      0.38      0.36        36\n",
      "weighted avg       0.39      0.44      0.41        36\n",
      "\n"
     ]
    }
   ],
   "source": [
    "svc=SVC(kernel='rbf') #its same as obtained previously as rbf was default parameter over there also\n",
    "svc.fit(x_train,y_train)\n",
    "svc.score(x_train,y_train)\n",
    "predsvc=svc.predict(x_test)\n",
    "print(accuracy_score(y_test,predsvc))\n",
    "print(confusion_matrix(y_test,predsvc))\n",
    "print(classification_report(y_test,predsvc))"
   ]
  },
  {
   "cell_type": "code",
   "execution_count": 49,
   "metadata": {},
   "outputs": [
    {
     "data": {
      "text/plain": [
       "{'n_estimators': 200}"
      ]
     },
     "execution_count": 49,
     "metadata": {},
     "output_type": "execute_result"
    }
   ],
   "source": [
    "#BOOSTING THE MODEL\n",
    "from sklearn.ensemble import RandomForestClassifier\n",
    "import warnings\n",
    "warnings.filterwarnings('ignore')\n",
    "rfr=RandomForestClassifier()\n",
    "parameters={'n_estimators':[50,100,150,200,250,300,350,400,450,500]}\n",
    "clf=GridSearchCV(rfr,parameters,cv=10)\n",
    "clf.fit(x,y)\n",
    "clf.best_params_"
   ]
  },
  {
   "cell_type": "code",
   "execution_count": 55,
   "metadata": {},
   "outputs": [
    {
     "name": "stdout",
     "output_type": "stream",
     "text": [
      "0.3888888888888889\n",
      "[[2 1 0 2 0]\n",
      " [3 6 1 2 0]\n",
      " [1 1 1 5 1]\n",
      " [0 0 3 5 0]\n",
      " [0 2 0 0 0]]\n",
      "              precision    recall  f1-score   support\n",
      "\n",
      "           0       0.33      0.40      0.36         5\n",
      "           1       0.60      0.50      0.55        12\n",
      "           2       0.20      0.11      0.14         9\n",
      "           3       0.36      0.62      0.45         8\n",
      "           4       0.00      0.00      0.00         2\n",
      "\n",
      "    accuracy                           0.39        36\n",
      "   macro avg       0.30      0.33      0.30        36\n",
      "weighted avg       0.38      0.39      0.37        36\n",
      "\n"
     ]
    }
   ],
   "source": [
    "#Checking score corresponding to n_estimators=200 \n",
    "rfr=RandomForestClassifier(n_estimators=200,random_state=17)\n",
    "rfr.fit(x_train,y_train)\n",
    "predrf=rfr.predict(x_test)\n",
    "print(accuracy_score(y_test,predrf))\n",
    "print(confusion_matrix(y_test,predrf))\n",
    "print(classification_report(y_test,predrf))"
   ]
  },
  {
   "cell_type": "code",
   "execution_count": 56,
   "metadata": {
    "scrolled": true
   },
   "outputs": [
    {
     "name": "stdout",
     "output_type": "stream",
     "text": [
      "Cross_val_score for RandomForestClassifier: 0.29052287581699343\n",
      "Standard deviation in Cross_val_score for RandomForestClassifier: 0.09551712342843142\n"
     ]
    }
   ],
   "source": [
    "print(\"Cross_val_score for RandomForestClassifier:\",cross_val_score(rfr,x,y,cv=10,scoring='accuracy').mean())\n",
    "print(\"Standard deviation in Cross_val_score for RandomForestClassifier:\",cross_val_score(rfr,x,y,cv=10,scoring=\"accuracy\").std())"
   ]
  },
  {
   "cell_type": "markdown",
   "metadata": {},
   "source": [
    "RandomForestClassifier's score is low and its cross_val_score also ...so we'll be using other methods"
   ]
  },
  {
   "cell_type": "code",
   "execution_count": 52,
   "metadata": {},
   "outputs": [
    {
     "data": {
      "text/plain": [
       "{'n_estimators': 150}"
      ]
     },
     "execution_count": 52,
     "metadata": {},
     "output_type": "execute_result"
    }
   ],
   "source": [
    "from sklearn.ensemble import AdaBoostClassifier\n",
    "import warnings\n",
    "warnings.filterwarnings('ignore')\n",
    "ad=AdaBoostClassifier()\n",
    "parameters={'n_estimators':[50,100,150,200,250,300,350,400,450,500]}\n",
    "clf=GridSearchCV(ad,parameters,cv=10)\n",
    "clf.fit(x,y)\n",
    "clf.best_params_"
   ]
  },
  {
   "cell_type": "code",
   "execution_count": 53,
   "metadata": {},
   "outputs": [
    {
     "name": "stdout",
     "output_type": "stream",
     "text": [
      "0.3333333333333333\n",
      "[[ 0  5  0  0  0]\n",
      " [ 0 12  0  0  0]\n",
      " [ 0  9  0  0  0]\n",
      " [ 0  8  0  0  0]\n",
      " [ 0  2  0  0  0]]\n",
      "              precision    recall  f1-score   support\n",
      "\n",
      "           0       0.00      0.00      0.00         5\n",
      "           1       0.33      1.00      0.50        12\n",
      "           2       0.00      0.00      0.00         9\n",
      "           3       0.00      0.00      0.00         8\n",
      "           4       0.00      0.00      0.00         2\n",
      "\n",
      "    accuracy                           0.33        36\n",
      "   macro avg       0.07      0.20      0.10        36\n",
      "weighted avg       0.11      0.33      0.17        36\n",
      "\n"
     ]
    }
   ],
   "source": [
    "ad=AdaBoostClassifier(n_estimators=150,base_estimator=svc,algorithm='SAMME')\n",
    "ad.fit(x_train,y_train)\n",
    "\n",
    "ad_pred=ad.predict(x_test)\n",
    "\n",
    "print(accuracy_score(y_test,ad_pred))\n",
    "print(confusion_matrix(y_test,ad_pred))\n",
    "print(classification_report(y_test,ad_pred))"
   ]
  },
  {
   "cell_type": "code",
   "execution_count": 57,
   "metadata": {
    "scrolled": true
   },
   "outputs": [
    {
     "name": "stdout",
     "output_type": "stream",
     "text": [
      "Cross_val_score for AdaBoostClassifier: 0.21732026143790853\n",
      "Standard deviation in Cross_val_score for AdaBoostClassifier: 0.08326923075974449\n"
     ]
    }
   ],
   "source": [
    "print(\"Cross_val_score for AdaBoostClassifier:\",cross_val_score(ad,x,y,cv=10,scoring='accuracy').mean())\n",
    "print(\"Standard deviation in Cross_val_score for AdaBoostClassifier:\",cross_val_score(ad,x,y,cv=10,scoring=\"accuracy\").std())"
   ]
  },
  {
   "cell_type": "markdown",
   "metadata": {},
   "source": [
    "Corresponding to AdaBoostClassifier also result is not Satisfactory..i.e. model isn't performing well..so checking other model"
   ]
  },
  {
   "cell_type": "code",
   "execution_count": 54,
   "metadata": {
    "scrolled": true
   },
   "outputs": [
    {
     "name": "stdout",
     "output_type": "stream",
     "text": [
      "0.3333333333333333\n",
      "[[2 1 1 1 0]\n",
      " [3 4 2 3 0]\n",
      " [2 1 1 5 0]\n",
      " [0 0 3 5 0]\n",
      " [0 1 1 0 0]]\n",
      "              precision    recall  f1-score   support\n",
      "\n",
      "           0       0.29      0.40      0.33         5\n",
      "           1       0.57      0.33      0.42        12\n",
      "           2       0.12      0.11      0.12         9\n",
      "           3       0.36      0.62      0.45         8\n",
      "           4       0.00      0.00      0.00         2\n",
      "\n",
      "    accuracy                           0.33        36\n",
      "   macro avg       0.27      0.29      0.27        36\n",
      "weighted avg       0.34      0.33      0.32        36\n",
      "\n"
     ]
    }
   ],
   "source": [
    "from sklearn.ensemble import GradientBoostingClassifier\n",
    "gb=GradientBoostingClassifier()\n",
    "gb.fit(x_train,y_train)\n",
    "gb_pred=gb.predict(x_test)\n",
    "\n",
    "print(accuracy_score(y_test,gb_pred))\n",
    "print(confusion_matrix(y_test,gb_pred))\n",
    "print(classification_report(y_test,gb_pred))"
   ]
  },
  {
   "cell_type": "markdown",
   "metadata": {},
   "source": [
    "Corresponding to GradientBoostingClassifier also result is not Satisfactory..i.e. model isn't performing well..\n",
    "\n",
    "Hence out of all the methods svc is performing well and hence we choose it as final model. "
   ]
  },
  {
   "cell_type": "code",
   "execution_count": 62,
   "metadata": {},
   "outputs": [
    {
     "data": {
      "text/plain": [
       "['heart_disease.csv']"
      ]
     },
     "execution_count": 62,
     "metadata": {},
     "output_type": "execute_result"
    }
   ],
   "source": [
    "import joblib\n",
    "joblib.dump(svc,'heart_disease.csv')"
   ]
  },
  {
   "cell_type": "code",
   "execution_count": null,
   "metadata": {},
   "outputs": [],
   "source": []
  },
  {
   "cell_type": "code",
   "execution_count": null,
   "metadata": {},
   "outputs": [],
   "source": []
  },
  {
   "cell_type": "code",
   "execution_count": null,
   "metadata": {},
   "outputs": [],
   "source": []
  },
  {
   "cell_type": "code",
   "execution_count": null,
   "metadata": {},
   "outputs": [],
   "source": []
  },
  {
   "cell_type": "code",
   "execution_count": null,
   "metadata": {},
   "outputs": [],
   "source": []
  },
  {
   "cell_type": "code",
   "execution_count": null,
   "metadata": {},
   "outputs": [],
   "source": []
  },
  {
   "cell_type": "code",
   "execution_count": null,
   "metadata": {},
   "outputs": [],
   "source": []
  },
  {
   "cell_type": "code",
   "execution_count": null,
   "metadata": {},
   "outputs": [],
   "source": []
  },
  {
   "cell_type": "code",
   "execution_count": null,
   "metadata": {},
   "outputs": [],
   "source": []
  },
  {
   "cell_type": "code",
   "execution_count": null,
   "metadata": {},
   "outputs": [],
   "source": []
  },
  {
   "cell_type": "code",
   "execution_count": null,
   "metadata": {},
   "outputs": [],
   "source": []
  },
  {
   "cell_type": "code",
   "execution_count": null,
   "metadata": {},
   "outputs": [],
   "source": []
  },
  {
   "cell_type": "code",
   "execution_count": null,
   "metadata": {},
   "outputs": [],
   "source": []
  },
  {
   "cell_type": "code",
   "execution_count": null,
   "metadata": {},
   "outputs": [],
   "source": []
  },
  {
   "cell_type": "code",
   "execution_count": null,
   "metadata": {},
   "outputs": [],
   "source": []
  },
  {
   "cell_type": "code",
   "execution_count": null,
   "metadata": {},
   "outputs": [],
   "source": []
  },
  {
   "cell_type": "code",
   "execution_count": null,
   "metadata": {},
   "outputs": [],
   "source": []
  },
  {
   "cell_type": "code",
   "execution_count": null,
   "metadata": {},
   "outputs": [],
   "source": []
  },
  {
   "cell_type": "code",
   "execution_count": null,
   "metadata": {},
   "outputs": [],
   "source": []
  },
  {
   "cell_type": "code",
   "execution_count": null,
   "metadata": {},
   "outputs": [],
   "source": []
  },
  {
   "cell_type": "code",
   "execution_count": null,
   "metadata": {},
   "outputs": [],
   "source": []
  },
  {
   "cell_type": "markdown",
   "metadata": {},
   "source": [
    "## "
   ]
  }
 ],
 "metadata": {
  "kernelspec": {
   "display_name": "Python 3",
   "language": "python",
   "name": "python3"
  },
  "language_info": {
   "codemirror_mode": {
    "name": "ipython",
    "version": 3
   },
   "file_extension": ".py",
   "mimetype": "text/x-python",
   "name": "python",
   "nbconvert_exporter": "python",
   "pygments_lexer": "ipython3",
   "version": "3.8.3"
  }
 },
 "nbformat": 4,
 "nbformat_minor": 4
}
