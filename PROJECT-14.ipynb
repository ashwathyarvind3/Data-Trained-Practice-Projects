{
 "cells": [
  {
   "cell_type": "markdown",
   "metadata": {},
   "source": [
    "# Food_Dataset"
   ]
  },
  {
   "cell_type": "code",
   "execution_count": 1,
   "metadata": {},
   "outputs": [],
   "source": [
    "#importing all the necessary libraries\n",
    "import pandas as pd\n",
    "import numpy as np\n",
    "import matplotlib.pyplot as plt\n",
    "import seaborn as sns"
   ]
  },
  {
   "cell_type": "code",
   "execution_count": 2,
   "metadata": {},
   "outputs": [],
   "source": [
    "#loading the train and test data\n",
    "train_data=pd.read_excel('Food_Train.xlsx')\n",
    "test_data=pd.read_excel('Food_Test.xlsx')"
   ]
  },
  {
   "cell_type": "code",
   "execution_count": 3,
   "metadata": {},
   "outputs": [],
   "source": [
    "#Displaying all the columns\n",
    "pd.set_option('display.max_columns',None)"
   ]
  },
  {
   "cell_type": "code",
   "execution_count": 4,
   "metadata": {},
   "outputs": [
    {
     "data": {
      "text/html": [
       "<div>\n",
       "<style scoped>\n",
       "    .dataframe tbody tr th:only-of-type {\n",
       "        vertical-align: middle;\n",
       "    }\n",
       "\n",
       "    .dataframe tbody tr th {\n",
       "        vertical-align: top;\n",
       "    }\n",
       "\n",
       "    .dataframe thead th {\n",
       "        text-align: right;\n",
       "    }\n",
       "</style>\n",
       "<table border=\"1\" class=\"dataframe\">\n",
       "  <thead>\n",
       "    <tr style=\"text-align: right;\">\n",
       "      <th></th>\n",
       "      <th>TITLE</th>\n",
       "      <th>RESTAURANT_ID</th>\n",
       "      <th>CUISINES</th>\n",
       "      <th>TIME</th>\n",
       "      <th>CITY</th>\n",
       "      <th>LOCALITY</th>\n",
       "      <th>RATING</th>\n",
       "      <th>VOTES</th>\n",
       "      <th>COST</th>\n",
       "    </tr>\n",
       "  </thead>\n",
       "  <tbody>\n",
       "    <tr>\n",
       "      <th>0</th>\n",
       "      <td>CASUAL DINING</td>\n",
       "      <td>9438</td>\n",
       "      <td>Malwani, Goan, North Indian</td>\n",
       "      <td>11am – 4pm, 7:30pm – 11:30pm (Mon-Sun)</td>\n",
       "      <td>Thane</td>\n",
       "      <td>Dombivali East</td>\n",
       "      <td>3.6</td>\n",
       "      <td>49 votes</td>\n",
       "      <td>1200</td>\n",
       "    </tr>\n",
       "    <tr>\n",
       "      <th>1</th>\n",
       "      <td>CASUAL DINING,BAR</td>\n",
       "      <td>13198</td>\n",
       "      <td>Asian, Modern Indian, Japanese</td>\n",
       "      <td>6pm – 11pm (Mon-Sun)</td>\n",
       "      <td>Chennai</td>\n",
       "      <td>Ramapuram</td>\n",
       "      <td>4.2</td>\n",
       "      <td>30 votes</td>\n",
       "      <td>1500</td>\n",
       "    </tr>\n",
       "    <tr>\n",
       "      <th>2</th>\n",
       "      <td>CASUAL DINING</td>\n",
       "      <td>10915</td>\n",
       "      <td>North Indian, Chinese, Biryani, Hyderabadi</td>\n",
       "      <td>11am – 3:30pm, 7pm – 11pm (Mon-Sun)</td>\n",
       "      <td>Chennai</td>\n",
       "      <td>Saligramam</td>\n",
       "      <td>3.8</td>\n",
       "      <td>221 votes</td>\n",
       "      <td>800</td>\n",
       "    </tr>\n",
       "    <tr>\n",
       "      <th>3</th>\n",
       "      <td>QUICK BITES</td>\n",
       "      <td>6346</td>\n",
       "      <td>Tibetan, Chinese</td>\n",
       "      <td>11:30am – 1am (Mon-Sun)</td>\n",
       "      <td>Mumbai</td>\n",
       "      <td>Bandra West</td>\n",
       "      <td>4.1</td>\n",
       "      <td>24 votes</td>\n",
       "      <td>800</td>\n",
       "    </tr>\n",
       "    <tr>\n",
       "      <th>4</th>\n",
       "      <td>DESSERT PARLOR</td>\n",
       "      <td>15387</td>\n",
       "      <td>Desserts</td>\n",
       "      <td>11am – 1am (Mon-Sun)</td>\n",
       "      <td>Mumbai</td>\n",
       "      <td>Lower Parel</td>\n",
       "      <td>3.8</td>\n",
       "      <td>165 votes</td>\n",
       "      <td>300</td>\n",
       "    </tr>\n",
       "    <tr>\n",
       "      <th>...</th>\n",
       "      <td>...</td>\n",
       "      <td>...</td>\n",
       "      <td>...</td>\n",
       "      <td>...</td>\n",
       "      <td>...</td>\n",
       "      <td>...</td>\n",
       "      <td>...</td>\n",
       "      <td>...</td>\n",
       "      <td>...</td>\n",
       "    </tr>\n",
       "    <tr>\n",
       "      <th>12685</th>\n",
       "      <td>QUICK BITES</td>\n",
       "      <td>13228</td>\n",
       "      <td>North Indian, Burger, Kebab</td>\n",
       "      <td>12noon – 12midnight (Mon, Tue, Wed, Thu, Sun)...</td>\n",
       "      <td>Hyderabad</td>\n",
       "      <td>Gachibowli</td>\n",
       "      <td>3.8</td>\n",
       "      <td>546 votes</td>\n",
       "      <td>500</td>\n",
       "    </tr>\n",
       "    <tr>\n",
       "      <th>12686</th>\n",
       "      <td>CASUAL DINING,BAR</td>\n",
       "      <td>9686</td>\n",
       "      <td>Goan, Continental</td>\n",
       "      <td>12noon – 1am (Mon-Fri),11am – 5pm, 7pm – 1am...</td>\n",
       "      <td>Mumbai</td>\n",
       "      <td>Bandra Kurla Complex</td>\n",
       "      <td>4.3</td>\n",
       "      <td>1214 votes</td>\n",
       "      <td>1800</td>\n",
       "    </tr>\n",
       "    <tr>\n",
       "      <th>12687</th>\n",
       "      <td>LOUNGE</td>\n",
       "      <td>11133</td>\n",
       "      <td>Finger Food, Continental, Asian, Chinese</td>\n",
       "      <td>12noon – 12:30AM (Mon-Sun)</td>\n",
       "      <td>Navi Mumbai</td>\n",
       "      <td>Vashi</td>\n",
       "      <td>4.0</td>\n",
       "      <td>608 votes</td>\n",
       "      <td>1300</td>\n",
       "    </tr>\n",
       "    <tr>\n",
       "      <th>12688</th>\n",
       "      <td>CASUAL DINING</td>\n",
       "      <td>6134</td>\n",
       "      <td>North Indian, South Indian, Chinese, Street Food</td>\n",
       "      <td>6am – 10:45pm (Mon-Sun)</td>\n",
       "      <td>Chennai</td>\n",
       "      <td>Maduravoyal</td>\n",
       "      <td>3.5</td>\n",
       "      <td>32 votes</td>\n",
       "      <td>400</td>\n",
       "    </tr>\n",
       "    <tr>\n",
       "      <th>12689</th>\n",
       "      <td>CASUAL DINING</td>\n",
       "      <td>6430</td>\n",
       "      <td>North Indian, Chinese</td>\n",
       "      <td>12:30pm – 11pm (Mon-Sun)</td>\n",
       "      <td>Hyderabad</td>\n",
       "      <td>Vanasthalipuram</td>\n",
       "      <td>3.4</td>\n",
       "      <td>677 votes</td>\n",
       "      <td>600</td>\n",
       "    </tr>\n",
       "  </tbody>\n",
       "</table>\n",
       "<p>12690 rows × 9 columns</p>\n",
       "</div>"
      ],
      "text/plain": [
       "                   TITLE  RESTAURANT_ID  \\\n",
       "0          CASUAL DINING           9438   \n",
       "1      CASUAL DINING,BAR          13198   \n",
       "2          CASUAL DINING          10915   \n",
       "3            QUICK BITES           6346   \n",
       "4         DESSERT PARLOR          15387   \n",
       "...                  ...            ...   \n",
       "12685        QUICK BITES          13228   \n",
       "12686  CASUAL DINING,BAR           9686   \n",
       "12687             LOUNGE          11133   \n",
       "12688      CASUAL DINING           6134   \n",
       "12689      CASUAL DINING           6430   \n",
       "\n",
       "                                               CUISINES  \\\n",
       "0                           Malwani, Goan, North Indian   \n",
       "1                        Asian, Modern Indian, Japanese   \n",
       "2            North Indian, Chinese, Biryani, Hyderabadi   \n",
       "3                                      Tibetan, Chinese   \n",
       "4                                              Desserts   \n",
       "...                                                 ...   \n",
       "12685                       North Indian, Burger, Kebab   \n",
       "12686                                 Goan, Continental   \n",
       "12687          Finger Food, Continental, Asian, Chinese   \n",
       "12688  North Indian, South Indian, Chinese, Street Food   \n",
       "12689                             North Indian, Chinese   \n",
       "\n",
       "                                                   TIME         CITY  \\\n",
       "0                11am – 4pm, 7:30pm – 11:30pm (Mon-Sun)        Thane   \n",
       "1                                  6pm – 11pm (Mon-Sun)      Chennai   \n",
       "2                   11am – 3:30pm, 7pm – 11pm (Mon-Sun)      Chennai   \n",
       "3                               11:30am – 1am (Mon-Sun)       Mumbai   \n",
       "4                                  11am – 1am (Mon-Sun)       Mumbai   \n",
       "...                                                 ...          ...   \n",
       "12685  12noon – 12midnight (Mon, Tue, Wed, Thu, Sun)...    Hyderabad   \n",
       "12686   12noon – 1am (Mon-Fri),11am – 5pm, 7pm – 1am...       Mumbai   \n",
       "12687                        12noon – 12:30AM (Mon-Sun)  Navi Mumbai   \n",
       "12688                           6am – 10:45pm (Mon-Sun)      Chennai   \n",
       "12689                          12:30pm – 11pm (Mon-Sun)    Hyderabad   \n",
       "\n",
       "                   LOCALITY RATING       VOTES  COST  \n",
       "0            Dombivali East    3.6    49 votes  1200  \n",
       "1                 Ramapuram    4.2    30 votes  1500  \n",
       "2                Saligramam    3.8   221 votes   800  \n",
       "3               Bandra West    4.1    24 votes   800  \n",
       "4               Lower Parel    3.8   165 votes   300  \n",
       "...                     ...    ...         ...   ...  \n",
       "12685            Gachibowli    3.8   546 votes   500  \n",
       "12686  Bandra Kurla Complex    4.3  1214 votes  1800  \n",
       "12687                 Vashi    4.0   608 votes  1300  \n",
       "12688           Maduravoyal    3.5    32 votes   400  \n",
       "12689       Vanasthalipuram    3.4   677 votes   600  \n",
       "\n",
       "[12690 rows x 9 columns]"
      ]
     },
     "execution_count": 4,
     "metadata": {},
     "output_type": "execute_result"
    }
   ],
   "source": [
    "train_data"
   ]
  },
  {
   "cell_type": "code",
   "execution_count": 5,
   "metadata": {},
   "outputs": [
    {
     "data": {
      "text/html": [
       "<div>\n",
       "<style scoped>\n",
       "    .dataframe tbody tr th:only-of-type {\n",
       "        vertical-align: middle;\n",
       "    }\n",
       "\n",
       "    .dataframe tbody tr th {\n",
       "        vertical-align: top;\n",
       "    }\n",
       "\n",
       "    .dataframe thead th {\n",
       "        text-align: right;\n",
       "    }\n",
       "</style>\n",
       "<table border=\"1\" class=\"dataframe\">\n",
       "  <thead>\n",
       "    <tr style=\"text-align: right;\">\n",
       "      <th></th>\n",
       "      <th>TITLE</th>\n",
       "      <th>RESTAURANT_ID</th>\n",
       "      <th>CUISINES</th>\n",
       "      <th>TIME</th>\n",
       "      <th>CITY</th>\n",
       "      <th>LOCALITY</th>\n",
       "      <th>RATING</th>\n",
       "      <th>VOTES</th>\n",
       "    </tr>\n",
       "  </thead>\n",
       "  <tbody>\n",
       "    <tr>\n",
       "      <th>0</th>\n",
       "      <td>CASUAL DINING</td>\n",
       "      <td>4085</td>\n",
       "      <td>North Indian, Chinese, Mughlai, Kebab</td>\n",
       "      <td>12noon – 12midnight (Mon-Sun)</td>\n",
       "      <td>Noida</td>\n",
       "      <td>Sector 18</td>\n",
       "      <td>4.3</td>\n",
       "      <td>564 votes</td>\n",
       "    </tr>\n",
       "    <tr>\n",
       "      <th>1</th>\n",
       "      <td>QUICK BITES</td>\n",
       "      <td>12680</td>\n",
       "      <td>South Indian, Fast Food, Pizza, North Indian</td>\n",
       "      <td>7am – 12:30AM (Mon-Sun)</td>\n",
       "      <td>Mumbai</td>\n",
       "      <td>Grant Road</td>\n",
       "      <td>4.2</td>\n",
       "      <td>61 votes</td>\n",
       "    </tr>\n",
       "    <tr>\n",
       "      <th>2</th>\n",
       "      <td>CASUAL DINING</td>\n",
       "      <td>1411</td>\n",
       "      <td>North Indian, Seafood, Biryani, Chinese</td>\n",
       "      <td>11am – 11:30pm (Mon-Sun)</td>\n",
       "      <td>Mumbai</td>\n",
       "      <td>Marine Lines</td>\n",
       "      <td>3.8</td>\n",
       "      <td>350 votes</td>\n",
       "    </tr>\n",
       "    <tr>\n",
       "      <th>3</th>\n",
       "      <td>None</td>\n",
       "      <td>204</td>\n",
       "      <td>Biryani</td>\n",
       "      <td>9am – 10pm (Mon, Wed, Thu, Fri, Sat, Sun), 10:...</td>\n",
       "      <td>Faridabad</td>\n",
       "      <td>NIT</td>\n",
       "      <td>3.8</td>\n",
       "      <td>1445 votes</td>\n",
       "    </tr>\n",
       "    <tr>\n",
       "      <th>4</th>\n",
       "      <td>QUICK BITES</td>\n",
       "      <td>13453</td>\n",
       "      <td>South Indian, Kerala</td>\n",
       "      <td>11am – 10pm (Mon-Sun)</td>\n",
       "      <td>Kochi</td>\n",
       "      <td>Kaloor</td>\n",
       "      <td>3.6</td>\n",
       "      <td>23 votes</td>\n",
       "    </tr>\n",
       "  </tbody>\n",
       "</table>\n",
       "</div>"
      ],
      "text/plain": [
       "           TITLE  RESTAURANT_ID                                      CUISINES  \\\n",
       "0  CASUAL DINING           4085         North Indian, Chinese, Mughlai, Kebab   \n",
       "1    QUICK BITES          12680  South Indian, Fast Food, Pizza, North Indian   \n",
       "2  CASUAL DINING           1411       North Indian, Seafood, Biryani, Chinese   \n",
       "3           None            204                                       Biryani   \n",
       "4    QUICK BITES          13453                          South Indian, Kerala   \n",
       "\n",
       "                                                TIME       CITY      LOCALITY  \\\n",
       "0                      12noon – 12midnight (Mon-Sun)      Noida     Sector 18   \n",
       "1                            7am – 12:30AM (Mon-Sun)     Mumbai    Grant Road   \n",
       "2                           11am – 11:30pm (Mon-Sun)     Mumbai  Marine Lines   \n",
       "3  9am – 10pm (Mon, Wed, Thu, Fri, Sat, Sun), 10:...  Faridabad           NIT   \n",
       "4                              11am – 10pm (Mon-Sun)      Kochi        Kaloor   \n",
       "\n",
       "  RATING       VOTES  \n",
       "0    4.3   564 votes  \n",
       "1    4.2    61 votes  \n",
       "2    3.8   350 votes  \n",
       "3    3.8  1445 votes  \n",
       "4    3.6    23 votes  "
      ]
     },
     "execution_count": 5,
     "metadata": {},
     "output_type": "execute_result"
    }
   ],
   "source": [
    "#checking first five rows of test data\n",
    "test_data.head()"
   ]
  },
  {
   "cell_type": "code",
   "execution_count": 6,
   "metadata": {},
   "outputs": [
    {
     "name": "stdout",
     "output_type": "stream",
     "text": [
      "Train_data: (12690, 9)\n",
      "\n",
      "\n",
      "Test_data: (4231, 8)\n"
     ]
    }
   ],
   "source": [
    "#checking the shape of train and test data\n",
    "print('Train_data:',train_data.shape)\n",
    "print('\\n')\n",
    "print('Test_data:',test_data.shape)"
   ]
  },
  {
   "cell_type": "markdown",
   "metadata": {},
   "source": [
    "# Train Data\n"
   ]
  },
  {
   "cell_type": "code",
   "execution_count": 7,
   "metadata": {},
   "outputs": [
    {
     "data": {
      "text/plain": [
       "(12690, 9)"
      ]
     },
     "execution_count": 7,
     "metadata": {},
     "output_type": "execute_result"
    }
   ],
   "source": [
    "#checking the shape of train data\n",
    "train_data.shape"
   ]
  },
  {
   "cell_type": "markdown",
   "metadata": {},
   "source": [
    "There are 12690 rows and 9 columns in this dataset"
   ]
  },
  {
   "cell_type": "code",
   "execution_count": 8,
   "metadata": {},
   "outputs": [
    {
     "data": {
      "text/plain": [
       "Index(['TITLE', 'RESTAURANT_ID', 'CUISINES', 'TIME', 'CITY', 'LOCALITY',\n",
       "       'RATING', 'VOTES', 'COST'],\n",
       "      dtype='object')"
      ]
     },
     "execution_count": 8,
     "metadata": {},
     "output_type": "execute_result"
    }
   ],
   "source": [
    "#checking all the columns present in this dataset\n",
    "train_data.columns#checking the shape of train data\n",
    "train_data.shape"
   ]
  },
  {
   "cell_type": "code",
   "execution_count": 9,
   "metadata": {},
   "outputs": [
    {
     "data": {
      "text/plain": [
       "TITLE            object\n",
       "RESTAURANT_ID     int64\n",
       "CUISINES         object\n",
       "TIME             object\n",
       "CITY             object\n",
       "LOCALITY         object\n",
       "RATING           object\n",
       "VOTES            object\n",
       "COST              int64\n",
       "dtype: object"
      ]
     },
     "execution_count": 9,
     "metadata": {},
     "output_type": "execute_result"
    }
   ],
   "source": [
    "#checking the data types of these columns\n",
    "train_data.dtypes"
   ]
  },
  {
   "cell_type": "markdown",
   "metadata": {},
   "source": [
    "There are only two Numerical features present in this dataset :'RESTAURANT_ID'and 'Cost' rest are Categorical features"
   ]
  },
  {
   "cell_type": "code",
   "execution_count": 10,
   "metadata": {},
   "outputs": [
    {
     "data": {
      "text/plain": [
       "True"
      ]
     },
     "execution_count": 10,
     "metadata": {},
     "output_type": "execute_result"
    }
   ],
   "source": [
    "#checking the null values\n",
    "train_data.isnull().values.any()"
   ]
  },
  {
   "cell_type": "markdown",
   "metadata": {},
   "source": [
    "Yes there are few null values present in this dataset"
   ]
  },
  {
   "cell_type": "code",
   "execution_count": 11,
   "metadata": {},
   "outputs": [
    {
     "data": {
      "text/plain": [
       "TITLE               0\n",
       "RESTAURANT_ID       0\n",
       "CUISINES            0\n",
       "TIME                0\n",
       "CITY              112\n",
       "LOCALITY           98\n",
       "RATING              2\n",
       "VOTES            1204\n",
       "COST                0\n",
       "dtype: int64"
      ]
     },
     "execution_count": 11,
     "metadata": {},
     "output_type": "execute_result"
    }
   ],
   "source": [
    "train_data.isnull().sum()"
   ]
  },
  {
   "cell_type": "code",
   "execution_count": 12,
   "metadata": {},
   "outputs": [
    {
     "data": {
      "text/plain": [
       "<matplotlib.axes._subplots.AxesSubplot at 0x2af659be400>"
      ]
     },
     "execution_count": 12,
     "metadata": {},
     "output_type": "execute_result"
    },
    {
     "data": {
      "image/png": "[encoded data removed]",
      "text/plain": [
       "<Figure size 432x288 with 2 Axes>"
      ]
     },
     "metadata": {
      "needs_background": "light"
     },
     "output_type": "display_data"
    }
   ],
   "source": [
    "#checking null values using heatmap\n",
    "sns.heatmap(train_data.isnull())"
   ]
  },
  {
   "cell_type": "markdown",
   "metadata": {},
   "source": [
    "From this it's observed that missing values are present in City,Locality,Rating and Votes. So we will impute the missing values"
   ]
  },
  {
   "cell_type": "code",
   "execution_count": 13,
   "metadata": {},
   "outputs": [
    {
     "data": {
      "text/html": [
       "<div>\n",
       "<style scoped>\n",
       "    .dataframe tbody tr th:only-of-type {\n",
       "        vertical-align: middle;\n",
       "    }\n",
       "\n",
       "    .dataframe tbody tr th {\n",
       "        vertical-align: top;\n",
       "    }\n",
       "\n",
       "    .dataframe thead th {\n",
       "        text-align: right;\n",
       "    }\n",
       "</style>\n",
       "<table border=\"1\" class=\"dataframe\">\n",
       "  <thead>\n",
       "    <tr style=\"text-align: right;\">\n",
       "      <th></th>\n",
       "      <th>TITLE</th>\n",
       "      <th>RESTAURANT_ID</th>\n",
       "      <th>CUISINES</th>\n",
       "      <th>TIME</th>\n",
       "      <th>CITY</th>\n",
       "      <th>LOCALITY</th>\n",
       "      <th>RATING</th>\n",
       "      <th>VOTES</th>\n",
       "      <th>COST</th>\n",
       "    </tr>\n",
       "  </thead>\n",
       "  <tbody>\n",
       "    <tr>\n",
       "      <th>0</th>\n",
       "      <td>CASUAL DINING</td>\n",
       "      <td>9438</td>\n",
       "      <td>Malwani, Goan, North Indian</td>\n",
       "      <td>11am – 4pm, 7:30pm – 11:30pm (Mon-Sun)</td>\n",
       "      <td>Thane</td>\n",
       "      <td>Dombivali East</td>\n",
       "      <td>3.6</td>\n",
       "      <td>49 votes</td>\n",
       "      <td>1200</td>\n",
       "    </tr>\n",
       "    <tr>\n",
       "      <th>1</th>\n",
       "      <td>CASUAL DINING,BAR</td>\n",
       "      <td>13198</td>\n",
       "      <td>Asian, Modern Indian, Japanese</td>\n",
       "      <td>6pm – 11pm (Mon-Sun)</td>\n",
       "      <td>Chennai</td>\n",
       "      <td>Ramapuram</td>\n",
       "      <td>4.2</td>\n",
       "      <td>30 votes</td>\n",
       "      <td>1500</td>\n",
       "    </tr>\n",
       "    <tr>\n",
       "      <th>2</th>\n",
       "      <td>CASUAL DINING</td>\n",
       "      <td>10915</td>\n",
       "      <td>North Indian, Chinese, Biryani, Hyderabadi</td>\n",
       "      <td>11am – 3:30pm, 7pm – 11pm (Mon-Sun)</td>\n",
       "      <td>Chennai</td>\n",
       "      <td>Saligramam</td>\n",
       "      <td>3.8</td>\n",
       "      <td>221 votes</td>\n",
       "      <td>800</td>\n",
       "    </tr>\n",
       "    <tr>\n",
       "      <th>3</th>\n",
       "      <td>QUICK BITES</td>\n",
       "      <td>6346</td>\n",
       "      <td>Tibetan, Chinese</td>\n",
       "      <td>11:30am – 1am (Mon-Sun)</td>\n",
       "      <td>Mumbai</td>\n",
       "      <td>Bandra West</td>\n",
       "      <td>4.1</td>\n",
       "      <td>24 votes</td>\n",
       "      <td>800</td>\n",
       "    </tr>\n",
       "    <tr>\n",
       "      <th>4</th>\n",
       "      <td>DESSERT PARLOR</td>\n",
       "      <td>15387</td>\n",
       "      <td>Desserts</td>\n",
       "      <td>11am – 1am (Mon-Sun)</td>\n",
       "      <td>Mumbai</td>\n",
       "      <td>Lower Parel</td>\n",
       "      <td>3.8</td>\n",
       "      <td>165 votes</td>\n",
       "      <td>300</td>\n",
       "    </tr>\n",
       "    <tr>\n",
       "      <th>...</th>\n",
       "      <td>...</td>\n",
       "      <td>...</td>\n",
       "      <td>...</td>\n",
       "      <td>...</td>\n",
       "      <td>...</td>\n",
       "      <td>...</td>\n",
       "      <td>...</td>\n",
       "      <td>...</td>\n",
       "      <td>...</td>\n",
       "    </tr>\n",
       "    <tr>\n",
       "      <th>12685</th>\n",
       "      <td>QUICK BITES</td>\n",
       "      <td>13228</td>\n",
       "      <td>North Indian, Burger, Kebab</td>\n",
       "      <td>12noon – 12midnight (Mon, Tue, Wed, Thu, Sun)...</td>\n",
       "      <td>Hyderabad</td>\n",
       "      <td>Gachibowli</td>\n",
       "      <td>3.8</td>\n",
       "      <td>546 votes</td>\n",
       "      <td>500</td>\n",
       "    </tr>\n",
       "    <tr>\n",
       "      <th>12686</th>\n",
       "      <td>CASUAL DINING,BAR</td>\n",
       "      <td>9686</td>\n",
       "      <td>Goan, Continental</td>\n",
       "      <td>12noon – 1am (Mon-Fri),11am – 5pm, 7pm – 1am...</td>\n",
       "      <td>Mumbai</td>\n",
       "      <td>Bandra Kurla Complex</td>\n",
       "      <td>4.3</td>\n",
       "      <td>1214 votes</td>\n",
       "      <td>1800</td>\n",
       "    </tr>\n",
       "    <tr>\n",
       "      <th>12687</th>\n",
       "      <td>LOUNGE</td>\n",
       "      <td>11133</td>\n",
       "      <td>Finger Food, Continental, Asian, Chinese</td>\n",
       "      <td>12noon – 12:30AM (Mon-Sun)</td>\n",
       "      <td>Navi Mumbai</td>\n",
       "      <td>Vashi</td>\n",
       "      <td>4.0</td>\n",
       "      <td>608 votes</td>\n",
       "      <td>1300</td>\n",
       "    </tr>\n",
       "    <tr>\n",
       "      <th>12688</th>\n",
       "      <td>CASUAL DINING</td>\n",
       "      <td>6134</td>\n",
       "      <td>North Indian, South Indian, Chinese, Street Food</td>\n",
       "      <td>6am – 10:45pm (Mon-Sun)</td>\n",
       "      <td>Chennai</td>\n",
       "      <td>Maduravoyal</td>\n",
       "      <td>3.5</td>\n",
       "      <td>32 votes</td>\n",
       "      <td>400</td>\n",
       "    </tr>\n",
       "    <tr>\n",
       "      <th>12689</th>\n",
       "      <td>CASUAL DINING</td>\n",
       "      <td>6430</td>\n",
       "      <td>North Indian, Chinese</td>\n",
       "      <td>12:30pm – 11pm (Mon-Sun)</td>\n",
       "      <td>Hyderabad</td>\n",
       "      <td>Vanasthalipuram</td>\n",
       "      <td>3.4</td>\n",
       "      <td>677 votes</td>\n",
       "      <td>600</td>\n",
       "    </tr>\n",
       "  </tbody>\n",
       "</table>\n",
       "<p>12690 rows × 9 columns</p>\n",
       "</div>"
      ],
      "text/plain": [
       "                   TITLE  RESTAURANT_ID  \\\n",
       "0          CASUAL DINING           9438   \n",
       "1      CASUAL DINING,BAR          13198   \n",
       "2          CASUAL DINING          10915   \n",
       "3            QUICK BITES           6346   \n",
       "4         DESSERT PARLOR          15387   \n",
       "...                  ...            ...   \n",
       "12685        QUICK BITES          13228   \n",
       "12686  CASUAL DINING,BAR           9686   \n",
       "12687             LOUNGE          11133   \n",
       "12688      CASUAL DINING           6134   \n",
       "12689      CASUAL DINING           6430   \n",
       "\n",
       "                                               CUISINES  \\\n",
       "0                           Malwani, Goan, North Indian   \n",
       "1                        Asian, Modern Indian, Japanese   \n",
       "2            North Indian, Chinese, Biryani, Hyderabadi   \n",
       "3                                      Tibetan, Chinese   \n",
       "4                                              Desserts   \n",
       "...                                                 ...   \n",
       "12685                       North Indian, Burger, Kebab   \n",
       "12686                                 Goan, Continental   \n",
       "12687          Finger Food, Continental, Asian, Chinese   \n",
       "12688  North Indian, South Indian, Chinese, Street Food   \n",
       "12689                             North Indian, Chinese   \n",
       "\n",
       "                                                   TIME         CITY  \\\n",
       "0                11am – 4pm, 7:30pm – 11:30pm (Mon-Sun)        Thane   \n",
       "1                                  6pm – 11pm (Mon-Sun)      Chennai   \n",
       "2                   11am – 3:30pm, 7pm – 11pm (Mon-Sun)      Chennai   \n",
       "3                               11:30am – 1am (Mon-Sun)       Mumbai   \n",
       "4                                  11am – 1am (Mon-Sun)       Mumbai   \n",
       "...                                                 ...          ...   \n",
       "12685  12noon – 12midnight (Mon, Tue, Wed, Thu, Sun)...    Hyderabad   \n",
       "12686   12noon – 1am (Mon-Fri),11am – 5pm, 7pm – 1am...       Mumbai   \n",
       "12687                        12noon – 12:30AM (Mon-Sun)  Navi Mumbai   \n",
       "12688                           6am – 10:45pm (Mon-Sun)      Chennai   \n",
       "12689                          12:30pm – 11pm (Mon-Sun)    Hyderabad   \n",
       "\n",
       "                   LOCALITY RATING       VOTES  COST  \n",
       "0            Dombivali East    3.6    49 votes  1200  \n",
       "1                 Ramapuram    4.2    30 votes  1500  \n",
       "2                Saligramam    3.8   221 votes   800  \n",
       "3               Bandra West    4.1    24 votes   800  \n",
       "4               Lower Parel    3.8   165 votes   300  \n",
       "...                     ...    ...         ...   ...  \n",
       "12685            Gachibowli    3.8   546 votes   500  \n",
       "12686  Bandra Kurla Complex    4.3  1214 votes  1800  \n",
       "12687                 Vashi    4.0   608 votes  1300  \n",
       "12688           Maduravoyal    3.5    32 votes   400  \n",
       "12689       Vanasthalipuram    3.4   677 votes   600  \n",
       "\n",
       "[12690 rows x 9 columns]"
      ]
     },
     "execution_count": 13,
     "metadata": {},
     "output_type": "execute_result"
    }
   ],
   "source": [
    "#imputing the missing value  with mode of the corresponding column\n",
    "from sklearn.impute import SimpleImputer\n",
    "imp=SimpleImputer(strategy='most_frequent')\n",
    "train_data['CITY']=imp.fit_transform(train_data['CITY'].values.reshape(-1,1))\n",
    "train_data['LOCALITY']=imp.fit_transform(train_data['LOCALITY'].values.reshape(-1,1))\n",
    "train_data['RATING']=imp.fit_transform(train_data['RATING'].values.reshape(-1,1))\n",
    "train_data['VOTES']=imp.fit_transform(train_data['VOTES'].values.reshape(-1,1))\n",
    "train_data"
   ]
  },
  {
   "cell_type": "code",
   "execution_count": 14,
   "metadata": {},
   "outputs": [
    {
     "data": {
      "text/plain": [
       "False"
      ]
     },
     "execution_count": 14,
     "metadata": {},
     "output_type": "execute_result"
    }
   ],
   "source": [
    "#Again checking for missing values\n",
    "train_data.isnull().values.any()"
   ]
  },
  {
   "cell_type": "code",
   "execution_count": 15,
   "metadata": {
    "scrolled": true
   },
   "outputs": [
    {
     "data": {
      "text/plain": [
       "TITLE            0\n",
       "RESTAURANT_ID    0\n",
       "CUISINES         0\n",
       "TIME             0\n",
       "CITY             0\n",
       "LOCALITY         0\n",
       "RATING           0\n",
       "VOTES            0\n",
       "COST             0\n",
       "dtype: int64"
      ]
     },
     "execution_count": 15,
     "metadata": {},
     "output_type": "execute_result"
    }
   ],
   "source": [
    "train_data.isnull().sum()"
   ]
  },
  {
   "cell_type": "markdown",
   "metadata": {},
   "source": [
    "There are no more null values left in this dataset"
   ]
  },
  {
   "cell_type": "code",
   "execution_count": 16,
   "metadata": {},
   "outputs": [
    {
     "data": {
      "text/html": [
       "<div>\n",
       "<style scoped>\n",
       "    .dataframe tbody tr th:only-of-type {\n",
       "        vertical-align: middle;\n",
       "    }\n",
       "\n",
       "    .dataframe tbody tr th {\n",
       "        vertical-align: top;\n",
       "    }\n",
       "\n",
       "    .dataframe thead th {\n",
       "        text-align: right;\n",
       "    }\n",
       "</style>\n",
       "<table border=\"1\" class=\"dataframe\">\n",
       "  <thead>\n",
       "    <tr style=\"text-align: right;\">\n",
       "      <th></th>\n",
       "      <th>RESTAURANT_ID</th>\n",
       "      <th>COST</th>\n",
       "    </tr>\n",
       "  </thead>\n",
       "  <tbody>\n",
       "    <tr>\n",
       "      <th>count</th>\n",
       "      <td>12690.000000</td>\n",
       "      <td>12690.000000</td>\n",
       "    </tr>\n",
       "    <tr>\n",
       "      <th>mean</th>\n",
       "      <td>7759.134121</td>\n",
       "      <td>655.252246</td>\n",
       "    </tr>\n",
       "    <tr>\n",
       "      <th>std</th>\n",
       "      <td>4504.874150</td>\n",
       "      <td>627.003540</td>\n",
       "    </tr>\n",
       "    <tr>\n",
       "      <th>min</th>\n",
       "      <td>0.000000</td>\n",
       "      <td>20.000000</td>\n",
       "    </tr>\n",
       "    <tr>\n",
       "      <th>25%</th>\n",
       "      <td>3863.250000</td>\n",
       "      <td>300.000000</td>\n",
       "    </tr>\n",
       "    <tr>\n",
       "      <th>50%</th>\n",
       "      <td>7740.000000</td>\n",
       "      <td>500.000000</td>\n",
       "    </tr>\n",
       "    <tr>\n",
       "      <th>75%</th>\n",
       "      <td>11688.750000</td>\n",
       "      <td>800.000000</td>\n",
       "    </tr>\n",
       "    <tr>\n",
       "      <th>max</th>\n",
       "      <td>15573.000000</td>\n",
       "      <td>14000.000000</td>\n",
       "    </tr>\n",
       "  </tbody>\n",
       "</table>\n",
       "</div>"
      ],
      "text/plain": [
       "       RESTAURANT_ID          COST\n",
       "count   12690.000000  12690.000000\n",
       "mean     7759.134121    655.252246\n",
       "std      4504.874150    627.003540\n",
       "min         0.000000     20.000000\n",
       "25%      3863.250000    300.000000\n",
       "50%      7740.000000    500.000000\n",
       "75%     11688.750000    800.000000\n",
       "max     15573.000000  14000.000000"
      ]
     },
     "execution_count": 16,
     "metadata": {},
     "output_type": "execute_result"
    }
   ],
   "source": [
    "#Statistical Summary\n",
    "train_data.describe()"
   ]
  },
  {
   "cell_type": "markdown",
   "metadata": {},
   "source": [
    "Maximum cost is 14000 and minimum is 20. There is outlier present in this column. "
   ]
  },
  {
   "cell_type": "code",
   "execution_count": 17,
   "metadata": {
    "scrolled": false
   },
   "outputs": [
    {
     "name": "stdout",
     "output_type": "stream",
     "text": [
      "TITLE:['CASUAL DINING' 'CASUAL DINING,BAR' 'QUICK BITES' 'DESSERT PARLOR' 'CAFÉ'\n",
      " 'MICROBREWERY' 'QUICK BITES,BEVERAGE SHOP' 'CASUAL DINING,IRANI CAFE'\n",
      " 'BAKERY,QUICK BITES' 'None' 'BAR,CASUAL DINING' 'BAR' 'PUB'\n",
      " 'BEVERAGE SHOP' 'FINE DINING' 'CAFÉ,QUICK BITES'\n",
      " 'BEVERAGE SHOP,DESSERT PARLOR' 'SWEET SHOP,QUICK BITES'\n",
      " 'DESSERT PARLOR,SWEET SHOP' 'BAKERY' 'BAKERY,DESSERT PARLOR' 'BAR,LOUNGE'\n",
      " 'FOOD COURT' 'LOUNGE' 'DESSERT PARLOR,BEVERAGE SHOP'\n",
      " 'LOUNGE,CASUAL DINING' 'FOOD TRUCK' 'QUICK BITES,FOOD COURT' 'SWEET SHOP'\n",
      " 'BEVERAGE SHOP,FOOD COURT' 'PUB,CASUAL DINING' 'MESS'\n",
      " 'MICROBREWERY,CASUAL DINING' 'CASUAL DINING,SWEET SHOP' 'KIOSK'\n",
      " 'QUICK BITES,KIOSK' 'CLUB' 'FINE DINING,BAR' 'DESSERT PARLOR,QUICK BITES'\n",
      " 'FOOD COURT,QUICK BITES' 'LOUNGE,CAFÉ' 'BAKERY,CONFECTIONERY'\n",
      " 'CASUAL DINING,CAFÉ' 'DHABA' 'CAFÉ,DESSERT PARLOR'\n",
      " 'QUICK BITES,DESSERT PARLOR' 'PUB,MICROBREWERY' 'LOUNGE,BAR'\n",
      " 'DESSERT PARLOR,CAFÉ' 'CAFÉ,BAR' 'SWEET SHOP,CONFECTIONERY'\n",
      " 'CASUAL DINING,PUB' 'MICROBREWERY,BAR' 'DESSERT PARLOR,BAKERY'\n",
      " 'QUICK BITES,SWEET SHOP' 'BEVERAGE SHOP,QUICK BITES'\n",
      " 'CASUAL DINING,LOUNGE' 'CASUAL DINING,CLUB' 'QUICK BITES,CAFÉ' 'BAR,CAFÉ'\n",
      " 'CAFÉ,CASUAL DINING' 'QUICK BITES,CASUAL DINING'\n",
      " 'CASUAL DINING,MICROBREWERY' 'CASUAL DINING,BAKERY' 'CAFÉ,BAKERY'\n",
      " 'MEAT SHOP' 'QUICK BITES,BAKERY' 'BAR,FINE DINING'\n",
      " 'SWEET SHOP,CASUAL DINING' 'MEAT SHOP,QUICK BITES' 'PUB,LOUNGE'\n",
      " 'BAKERY,CAFÉ' 'COCKTAIL BAR' 'FINE DINING,LOUNGE' 'CONFECTIONERY'\n",
      " 'QUICK BITES,BAR' 'BAKERY,FOOD COURT' 'PUB,BAR'\n",
      " 'DESSERT PARLOR,FOOD COURT' 'QUICK BITES,FOOD TRUCK'\n",
      " 'BAKERY,BEVERAGE SHOP' 'CLUB,BAR' 'BAKERY,SWEET SHOP' 'SWEET SHOP,BAKERY'\n",
      " 'CASUAL DINING,FOOD COURT' 'PAAN SHOP' 'BEVERAGE SHOP,CAFÉ'\n",
      " 'FOOD COURT,DESSERT PARLOR' 'CLUB,MICROBREWERY' 'CAFÉ,BEVERAGE SHOP'\n",
      " 'DESSERT PARLOR,PAAN SHOP' 'MICROBREWERY,LOUNGE' 'LOUNGE,CLUB'\n",
      " 'SWEET SHOP,DESSERT PARLOR' 'BAR,PUB' 'CONFECTIONERY,QUICK BITES'\n",
      " 'DESSERT PARLOR,KIOSK' 'LOUNGE,PUB' 'SWEET SHOP,BEVERAGE SHOP'\n",
      " 'FINE DINING,CAFÉ' 'BEVERAGE SHOP,CASUAL DINING' 'KIOSK,QUICK BITES'\n",
      " 'CASUAL DINING,DESSERT PARLOR' 'LOUNGE,FINE DINING' 'PUB,CAFÉ'\n",
      " 'CAFÉ,LOUNGE' 'BAR,CLUB' 'COCKTAIL BAR,CASUAL DINING' 'MICROBREWERY,PUB'\n",
      " 'CAFÉ,FINE DINING' 'KIOSK,FOOD COURT' 'LOUNGE,MICROBREWERY'\n",
      " 'BAR,MICROBREWERY']\n",
      "QUICK BITES                 4218\n",
      "CASUAL DINING               3652\n",
      "None                        1003\n",
      "CAFÉ                         607\n",
      "DESSERT PARLOR               382\n",
      "                            ... \n",
      "KIOSK,FOOD COURT               1\n",
      "SWEET SHOP,CONFECTIONERY       1\n",
      "BAR,CLUB                       1\n",
      "DESSERT PARLOR,PAAN SHOP       1\n",
      "BAKERY,BEVERAGE SHOP           1\n",
      "Name: TITLE, Length: 113, dtype: int64\n",
      "**********************************\n",
      "\n",
      "\n",
      "CUISINES:['Malwani, Goan, North Indian' 'Asian, Modern Indian, Japanese'\n",
      " 'North Indian, Chinese, Biryani, Hyderabadi' ...\n",
      " 'North Indian, Burger, Kebab' 'Goan, Continental'\n",
      " 'Finger Food, Continental, Asian, Chinese']\n",
      "South Indian                                            532\n",
      "North Indian                                            526\n",
      "North Indian, Chinese                                   501\n",
      "Fast Food                                               286\n",
      "Chinese                                                 167\n",
      "                                                       ... \n",
      "Cafe, Continental, Italian, Beverages, Mediterranean      1\n",
      "Biryani, Chinese, Street Food                             1\n",
      "Kerala, Seafood, North Indian                             1\n",
      "Mughlai, North Indian, Chinese, Seafood, Beverages        1\n",
      "Mughlai, Rolls                                            1\n",
      "Name: CUISINES, Length: 4155, dtype: int64\n",
      "**********************************\n",
      "\n",
      "\n",
      "TIME:['11am – 4pm, 7:30pm – 11:30pm (Mon-Sun)' '6pm – 11pm (Mon-Sun)'\n",
      " '11am – 3:30pm, 7pm – 11pm (Mon-Sun)' ... '12:1pm – 4am (Mon-Sun)'\n",
      " '12:30pm – 9:45pm (Mon-Sun)'\n",
      " '12noon – 1am (Mon-Fri),11am – 5pm, 7pm – 1am...']\n",
      "11am – 11pm (Mon-Sun)                         1415\n",
      "12noon – 12midnight (Mon-Sun)                  469\n",
      "12noon – 11pm (Mon-Sun)                        407\n",
      "11am – 12midnight (Mon-Sun)                    310\n",
      "10am – 10pm (Mon-Sun)                          221\n",
      "                                              ... \n",
      "6pm – 10pm (Mon-Sun)                             1\n",
      "12noon – 4pm, 7pm – 1:30am (Mon-Sun)             1\n",
      "7:30am – 11:30am (Mon-Sun)                       1\n",
      "4pm – 11:55pm (Mon, Tue, Wed, Thu, Sun)...       1\n",
      "Closed (Mon),10am – 12midnight (Tue-Sun)         1\n",
      "Name: TIME, Length: 2689, dtype: int64\n",
      "**********************************\n",
      "\n",
      "\n",
      "CITY:['Thane' 'Chennai' 'Mumbai' 'Bangalore' 'Gurgaon' 'Hyderabad' 'Kochi'\n",
      " 'Thane West' 'Andheri Lokhandwala' 'New Delhi' 'Andheri West'\n",
      " 'Malad East' '682036' 'Bangalor' 'Navi Mumbai' 'Bandra West' 'Delhi'\n",
      " 'Noida' 'Bangalore-560066' 'Secunderabad' 'India' 'Madhuranagar'\n",
      " 'Chennai Teynampet' 'Faridabad' 'Chembur.' 'Maharashtra'\n",
      " 'opp gurudwara Shakurpur' 'Telagana Land Line:040-48507016' 'Ghaziabad'\n",
      " 'Karnataka' 'Kerala' 'Edappally' 'Kadavanthra' 'Ernakulam Circle kochi'\n",
      " 'Bengalore' 'Near Reliance Fresh' 'Kilpauk' 'Bengaluru' 'Kothaguda'\n",
      " 'Goregaon West' 'Banglore' 'Tamil Nadu' 'Kakkanad' 'Kochi Elamkulam'\n",
      " 'Outer Ring Road' 'Mulund East'\n",
      " 'Secunderabad main road near signal NMREC COLLEGE' 'Telangana'\n",
      " 'Ponnuruni Kochi' 'Gachibowli' 'Semmancheri'\n",
      " '5th Main Teachers Colony Koramangala Block 1 Bangalore 560034'\n",
      " 'Mumbai Mahim' 'Powai (Next to Powai Plaza)' 'Dombivali East'\n",
      " 'Kochi Vyttila' 'Kandivali' 'Kochi Palarivattom' 'Dewan Rama Road'\n",
      " 'Gurugram' 'Sector 51 Noida' 'Kaloor' 'Besant Nagar'\n",
      " 'Arumbakkam chennai-600106.' 'Adjacent To Commercial Street' 'Delhi NCR'\n",
      " 'Dwarka' '682035.' 'Kalyan West' 'Avadi' 'Kondapur' 'Mehdipatnam'\n",
      " 'Gandipet' 'Velachery' 'Pallavaram' 'Vijaya Nagar' 'BTM Layout'\n",
      " 'Chennai 600034.'\n",
      " 'Metro Pillar No 21. Mettuguda main road near railway degree college.'\n",
      " 'Chennai - 600040' 'JP Nagar Bangalore' 'Madhapur' 'Ernakulam' 'Sarjapur'\n",
      " 'Whitefield Bangalore' 'Kochi Chullickal' 'Kochi-683101'\n",
      " 'Bangalore - 560076' 'Rohini' 'Hyderabad Behind Vacs Pastries'\n",
      " 'Hyderabad neerus emporium.' 'Navi Mumbai.' 'Karol Bagh' 'Perungudi'\n",
      " 'Thykoodam' 'Greater Noida' 'Bangalore.' 'Khairatabad' 'chullickal'\n",
      " 'Grant Road West' 'Hitech City' 'West Maredpally' 'Mumbai - 400007'\n",
      " 'Chennai Padur' 'Chander Nagar New Delhi' 'Nedumbassery' 'MG Road'\n",
      " 'Naya Nagar Mira Road' 'Pitampura' 'Lower Parel' 'HBR Layout'\n",
      " 'Telangana 500003' 'Rajiv gandhi Nagar' 'New Delhi.' 'Medavakkam'\n",
      " 'Sathya Nagar' 'p.o Kochi' 'Behind Ramalayam Temple' 'Palarivattom'\n",
      " 'Brigade Road' 'Mumbai.' 'Mumbai Andheri East' 'Virar West' 'B-1 Stage'\n",
      " 'Chennai Kovalam' 'Hyderabad.' 'Aluva' 'Telangana 500034'\n",
      " 'IOB Bank Kamala Nagar' 'HSR Layout' 'Marine Drive' 'DLF Galleria'\n",
      " 'Nallathambi Main Road' 'Chennai opp: Vasanth & co' 'Citypark'\n",
      " 'Karnataka 560103' 'Bhayandar' 'Aluva Circle' 'Thammenahalli Village'\n",
      " 'SG Palya' 'Attapur.' 'Near Shangrilla Bus Stop' 'Khar (west)' 'Road 3'\n",
      " 'Kukatpally' 'Faridabd' 'Telangana 500032' 'Dilsukhnagar'\n",
      " 'Mogappair. Chennai' 'Near Munrshwara Temple' 'Off Brigade Road'\n",
      " 'khar west' 'Potheri' 'Chennai Perungudi' 'Chennai Thuraipakkam'\n",
      " 'OMR Karapakkam' 'Hyderabad-500032' 'Mumbai Dombivali East'\n",
      " 'Chennai Thousand Lights' 'Mahim' 'Lingampally' 'Powai'\n",
      " 'New Delhi-110024' 'Chennai- 600107' 'Kerala 683104' 'Vasai West.'\n",
      " 'Thane (W)' 'Near Santosh Banjara Hyderabad'\n",
      " 'Banaswadi (Next to Indian Bank) Bangalore' 'BTM Bangalore'\n",
      " 'Greater Kailash 2 New Delhi' 'Secunderabad ECIL'\n",
      " 'Bangalore Koramangala 7th Block' 'bangalore : 560085' 'navi mumbai'\n",
      " 'Gachibowli Hyderabad'\n",
      " 'CPR layout harlur main road opposite to ozone ever green apartment Bangalore -'\n",
      " 'ECR NEELANKARAI Chennai 600115' 'ward X11' 'kochi' 'Perumbavoor'\n",
      " 'Mira raod east' 'Kerala 682013' 'Chennai.' 'Pokhran Road 2'\n",
      " 'Uttar Pradesh' 'Karnataka 560102' 'Mumbai - 400013' 'Naharpar'\n",
      " 'Hosur Road' 'Near Bharat Petroleum.'\n",
      " 'Chennai (Bang Opposite Indian Bank)' 'Sriram nagar' 'West Mumbai'\n",
      " 'Vyttila' 'Banjara Hills' 'MALAPALLIPURAM P .O THRISSUR'\n",
      " 'Andheri west Mumbai' 'Karnataka 560043' 'Panampilly Nagar' 'hyderabad'\n",
      " 'Borivali East.' 'ECIL' 'Jubilee Hills'\n",
      " 'Amrit kaur market opposite new delhi railway station paharganj'\n",
      " 'Chennai Opposite 5C Bus stand' 'Telengana' 'Kochi Ravipuram' 'Rajanpada'\n",
      " 'Mahabalipuram' 'Secunderabad. WE HAVE NO BRANCHES.' 'Telangana 500081'\n",
      " 'Gurgoan' 'Elamakkara' 'Sector 1' 'Bandra W' 'Kolathur'\n",
      " 'Chennai Mahabalipuram' '3rd Street' 'Mumbai Chakala' 'Borivali West'\n",
      " 'Rodeo Drive Sector 49' 'Pallimukku' 'Delhi 110085' 'Sector 51'\n",
      " 'Champapet' 'Andavar Nagar' 'Bangalore - 560103' 'Kerala 690525'\n",
      " 'opp mukteshwar ashram powai' 'Nungambakkam' 'BK Guda'\n",
      " 'Jogeshwari (w) Mumbai' 'Kukatapally' 'Near Sector 110 Noida' 'Navallur'\n",
      " 'Beside Excellency Gardens' 'Mumbai - 80' 'Begumpet'\n",
      " 'Maharaja Hotel Beside Gardania Bar' 'Ashok Vihar Phase 1' 'Trivandrum'\n",
      " 'Kochi-18' 'Narayanguda' 'Thevera' 'Chennai-40' 'Palm Beach Road'\n",
      " 'East Coast Road (ECR)' 'Ramapuram' 'Chennai Chrompet' 'Nandanam' 'Saket'\n",
      " 'MG Road Ernakulam' 'Andheri Lokhandwala.' 'Indiranagar' 'Thiruvanmiyur'\n",
      " 'Ambattur' 'Banglaore' 'Chennai - 34 Landmark - Near Loyola College'\n",
      " 'Anna Nagar West' 'Old Railway Road' 'East Mumbai'\n",
      " 'Kanakapura Road Banglore' 'Kochi Kakkanad' 'Kalyan'\n",
      " 'Near Ramlila Ground' 'Serilingampally' 'Himayath Nagar' 'Nallala Street'\n",
      " 'Anna Salai' 'Old Delhi' 'Wagle Estate' '1st Stage' 'Kochi-16'\n",
      " 'Kochi International Airport VIP Road' 'First Street' 'Chenn ai'\n",
      " '6 & 7 - 4/64 Subhash Nagar' '1st Tavarekere' 'Perambur'\n",
      " 'Vaishali Ghaziabad' 'Thanisandra' 'Block F' 'Sector 7 Dwarka'\n",
      " 'Opposite Barathi Gas Company' 'Vadapalani' 'Kondapur.' 'Badlapur West.'\n",
      " 'Kalamassery' 'Palavakkam' 'TCS Synergy park' 'BTM 1st Stage'\n",
      " 'Mahadevpura' 'NEW BEL ROAD 560054'\n",
      " 'Veliaveetil house Vivekananda Nagar Elamakkara' 'Sholinganallur'\n",
      " 'Maharashtra 400102' 'Lower Parel West' 'Tripunithura' 'Mogappair'\n",
      " 'Telangana 500070' 'JP Nagar' 'Navi-Mumbai' 'Ashok Nagar' 'Marathahalli'\n",
      " 'Haridwar Apartments' 'Kerala 682001 India' 'Karnataka 560037'\n",
      " 'Kerala 683585' 'Chennai. (Near Hotel Matshya)' 'Indirapuram'\n",
      " 'Begumpet Hyderabad' 'Manikonda'\n",
      " 'Bangalore land mark above mahaveer hard ware' 'Kerala 682304'\n",
      " 'Rajarajeshwari Nagar bangalore' 'GST Road' 'Fort Kochi'\n",
      " 'Lahari Apartments' 'Ramanthapur' 'Mulund west' 'Gurgaon Haryana India'\n",
      " 'New Delhi..Near by SBI bank' 'Kochi Aluva 102' 'Phase 1 Bangalore'\n",
      " 'Hyderabad Manikonda'\n",
      " 'Mumbai This is a Delivery & Take-away Restaurant only.' '10th avenue'\n",
      " 'Uppal' 'New Delhi 110075' 'Nizampet' 'Ulsoo' 'Bangalore 560076'\n",
      " 'PVR plaza cinema building Connaught Place' 'Gurgaon Haryana' 'Chromepet'\n",
      " 'Kerala 682024' 'Janakpuri' 'Secunderabad.' 'chennai'\n",
      " 'B.B.M.P East (Karnataka) - 560049' 'Tambaram' 'Malleshwaram Bangalore'\n",
      " 'Vadapalani.' 'Dist. Center New Delhi' 'Bangalore Road' 'aluva circle'\n",
      " 'Kochi.' 'Thane Mumbai' 'Kadubesanahalli Bangalore' 'Vasai west'\n",
      " 'Mig Housing Society' 'Haryana' 'Borivali West.' 'Golf Course Road'\n",
      " 'Khar Mumbai' 'Near Jyothinivas College' 'Anna Nagar East' 'Masab Tank']\n",
      "Chennai             2286\n",
      "Bangalore           2149\n",
      "Hyderabad           1819\n",
      "Mumbai              1722\n",
      "New Delhi           1321\n",
      "                    ... \n",
      "10th avenue            1\n",
      "Narayanguda            1\n",
      "Kochi.                 1\n",
      "New Delhi-110024       1\n",
      "Old Railway Road       1\n",
      "Name: CITY, Length: 359, dtype: int64\n",
      "**********************************\n",
      "\n",
      "\n",
      "LOCALITY:['Dombivali East' 'Ramapuram' 'Saligramam' ... 'Market Road'\n",
      " 'Near Perambur' 'Near Malviya Nagar']\n",
      "Gachibowli               264\n",
      "Indiranagar              138\n",
      "Edappally                122\n",
      "Kakkanad                 121\n",
      "HSR                      120\n",
      "                        ... \n",
      "Kerala 682030              1\n",
      "Temple View Colony         1\n",
      "Satya Niketan              1\n",
      "Kailash Colony Market      1\n",
      "Sector 70                  1\n",
      "Name: LOCALITY, Length: 1416, dtype: int64\n",
      "**********************************\n",
      "\n",
      "\n",
      "RATING:['3.6' '4.2' '3.8' '4.1' '4.0' '4.3' '3.9' '3.3' '3.4' '-' '4.5' '3.5'\n",
      " '4.4' '2.7' '3.7' '4.7' 'NEW' '3.1' '2.5' '4.6' '2.8' '3.0' '3.2' '2.6'\n",
      " '2.9' '4.9' '4.8' '2.4' '2.3' '2.0' '2.1' '2.2']\n",
      "3.9    1240\n",
      "3.8    1190\n",
      "4.0    1099\n",
      "3.7    1086\n",
      "3.6     951\n",
      "4.1     936\n",
      "3.5     771\n",
      "4.2     723\n",
      "NEW     707\n",
      "3.4     575\n",
      "4.3     556\n",
      "-       495\n",
      "3.3     365\n",
      "4.4     362\n",
      "3.2     266\n",
      "4.5     199\n",
      "2.9     186\n",
      "3.1     186\n",
      "3.0     170\n",
      "2.8     146\n",
      "4.6     141\n",
      "2.7      89\n",
      "4.7      69\n",
      "2.6      61\n",
      "2.5      35\n",
      "4.8      32\n",
      "4.9      22\n",
      "2.4      15\n",
      "2.3      10\n",
      "2.1       3\n",
      "2.0       2\n",
      "2.2       2\n",
      "Name: RATING, dtype: int64\n",
      "**********************************\n",
      "\n",
      "\n",
      "VOTES:['49 votes' '30 votes' '221 votes' ... '2723 votes' '1426 votes'\n",
      " '1214 votes']\n",
      "44 votes      1275\n",
      "29 votes        66\n",
      "28 votes        66\n",
      "38 votes        65\n",
      "35 votes        64\n",
      "              ... \n",
      "1454 votes       1\n",
      "2308 votes       1\n",
      "1743 votes       1\n",
      "2041 votes       1\n",
      "1746 votes       1\n",
      "Name: VOTES, Length: 1847, dtype: int64\n",
      "**********************************\n",
      "\n",
      "\n"
     ]
    }
   ],
   "source": [
    "#checking unique values for categorical columns and their value_counts\n",
    "for column in train_data.columns:\n",
    "    if train_data[column].dtype==object:\n",
    "        print(str(column) + ':' + str(train_data[column].unique()))\n",
    "        print(train_data[column].value_counts())\n",
    "        print('**********************************')\n",
    "        print('\\n')"
   ]
  },
  {
   "cell_type": "code",
   "execution_count": 18,
   "metadata": {},
   "outputs": [],
   "source": [
    "#Encoding the attributes\n",
    "from sklearn.preprocessing import LabelEncoder\n",
    "le=LabelEncoder() \n",
    "list1=['TITLE','CUISINES','TIME','CITY','LOCALITY','RATING','VOTES']\n",
    "for val in list1:\n",
    "    train_data[val]=le.fit_transform(train_data[val].astype(str))"
   ]
  },
  {
   "cell_type": "code",
   "execution_count": 19,
   "metadata": {
    "scrolled": false
   },
   "outputs": [
    {
     "data": {
      "text/html": [
       "<div>\n",
       "<style scoped>\n",
       "    .dataframe tbody tr th:only-of-type {\n",
       "        vertical-align: middle;\n",
       "    }\n",
       "\n",
       "    .dataframe tbody tr th {\n",
       "        vertical-align: top;\n",
       "    }\n",
       "\n",
       "    .dataframe thead th {\n",
       "        text-align: right;\n",
       "    }\n",
       "</style>\n",
       "<table border=\"1\" class=\"dataframe\">\n",
       "  <thead>\n",
       "    <tr style=\"text-align: right;\">\n",
       "      <th></th>\n",
       "      <th>TITLE</th>\n",
       "      <th>RESTAURANT_ID</th>\n",
       "      <th>CUISINES</th>\n",
       "      <th>TIME</th>\n",
       "      <th>CITY</th>\n",
       "      <th>LOCALITY</th>\n",
       "      <th>RATING</th>\n",
       "      <th>VOTES</th>\n",
       "      <th>COST</th>\n",
       "    </tr>\n",
       "  </thead>\n",
       "  <tbody>\n",
       "    <tr>\n",
       "      <th>0</th>\n",
       "      <td>31</td>\n",
       "      <td>9438</td>\n",
       "      <td>2627</td>\n",
       "      <td>739</td>\n",
       "      <td>320</td>\n",
       "      <td>285</td>\n",
       "      <td>17</td>\n",
       "      <td>1278</td>\n",
       "      <td>1200</td>\n",
       "    </tr>\n",
       "    <tr>\n",
       "      <th>1</th>\n",
       "      <td>33</td>\n",
       "      <td>13198</td>\n",
       "      <td>289</td>\n",
       "      <td>1885</td>\n",
       "      <td>67</td>\n",
       "      <td>1046</td>\n",
       "      <td>23</td>\n",
       "      <td>950</td>\n",
       "      <td>1500</td>\n",
       "    </tr>\n",
       "    <tr>\n",
       "      <th>2</th>\n",
       "      <td>31</td>\n",
       "      <td>10915</td>\n",
       "      <td>2976</td>\n",
       "      <td>661</td>\n",
       "      <td>67</td>\n",
       "      <td>1101</td>\n",
       "      <td>19</td>\n",
       "      <td>712</td>\n",
       "      <td>800</td>\n",
       "    </tr>\n",
       "    <tr>\n",
       "      <th>3</th>\n",
       "      <td>95</td>\n",
       "      <td>6346</td>\n",
       "      <td>4130</td>\n",
       "      <td>275</td>\n",
       "      <td>222</td>\n",
       "      <td>136</td>\n",
       "      <td>22</td>\n",
       "      <td>787</td>\n",
       "      <td>800</td>\n",
       "    </tr>\n",
       "    <tr>\n",
       "      <th>4</th>\n",
       "      <td>50</td>\n",
       "      <td>15387</td>\n",
       "      <td>1766</td>\n",
       "      <td>615</td>\n",
       "      <td>222</td>\n",
       "      <td>620</td>\n",
       "      <td>19</td>\n",
       "      <td>470</td>\n",
       "      <td>300</td>\n",
       "    </tr>\n",
       "    <tr>\n",
       "      <th>...</th>\n",
       "      <td>...</td>\n",
       "      <td>...</td>\n",
       "      <td>...</td>\n",
       "      <td>...</td>\n",
       "      <td>...</td>\n",
       "      <td>...</td>\n",
       "      <td>...</td>\n",
       "      <td>...</td>\n",
       "      <td>...</td>\n",
       "    </tr>\n",
       "    <tr>\n",
       "      <th>12685</th>\n",
       "      <td>95</td>\n",
       "      <td>13228</td>\n",
       "      <td>2934</td>\n",
       "      <td>1144</td>\n",
       "      <td>131</td>\n",
       "      <td>342</td>\n",
       "      <td>19</td>\n",
       "      <td>1349</td>\n",
       "      <td>500</td>\n",
       "    </tr>\n",
       "    <tr>\n",
       "      <th>12686</th>\n",
       "      <td>33</td>\n",
       "      <td>9686</td>\n",
       "      <td>2143</td>\n",
       "      <td>1177</td>\n",
       "      <td>222</td>\n",
       "      <td>133</td>\n",
       "      <td>24</td>\n",
       "      <td>191</td>\n",
       "      <td>1800</td>\n",
       "    </tr>\n",
       "    <tr>\n",
       "      <th>12687</th>\n",
       "      <td>71</td>\n",
       "      <td>11133</td>\n",
       "      <td>2088</td>\n",
       "      <td>1137</td>\n",
       "      <td>239</td>\n",
       "      <td>1342</td>\n",
       "      <td>21</td>\n",
       "      <td>1428</td>\n",
       "      <td>1300</td>\n",
       "    </tr>\n",
       "    <tr>\n",
       "      <th>12688</th>\n",
       "      <td>31</td>\n",
       "      <td>6134</td>\n",
       "      <td>3506</td>\n",
       "      <td>1837</td>\n",
       "      <td>67</td>\n",
       "      <td>631</td>\n",
       "      <td>16</td>\n",
       "      <td>996</td>\n",
       "      <td>400</td>\n",
       "    </tr>\n",
       "    <tr>\n",
       "      <th>12689</th>\n",
       "      <td>31</td>\n",
       "      <td>6430</td>\n",
       "      <td>2946</td>\n",
       "      <td>835</td>\n",
       "      <td>131</td>\n",
       "      <td>1333</td>\n",
       "      <td>15</td>\n",
       "      <td>1505</td>\n",
       "      <td>600</td>\n",
       "    </tr>\n",
       "  </tbody>\n",
       "</table>\n",
       "<p>12690 rows × 9 columns</p>\n",
       "</div>"
      ],
      "text/plain": [
       "       TITLE  RESTAURANT_ID  CUISINES  TIME  CITY  LOCALITY  RATING  VOTES  \\\n",
       "0         31           9438      2627   739   320       285      17   1278   \n",
       "1         33          13198       289  1885    67      1046      23    950   \n",
       "2         31          10915      2976   661    67      1101      19    712   \n",
       "3         95           6346      4130   275   222       136      22    787   \n",
       "4         50          15387      1766   615   222       620      19    470   \n",
       "...      ...            ...       ...   ...   ...       ...     ...    ...   \n",
       "12685     95          13228      2934  1144   131       342      19   1349   \n",
       "12686     33           9686      2143  1177   222       133      24    191   \n",
       "12687     71          11133      2088  1137   239      1342      21   1428   \n",
       "12688     31           6134      3506  1837    67       631      16    996   \n",
       "12689     31           6430      2946   835   131      1333      15   1505   \n",
       "\n",
       "       COST  \n",
       "0      1200  \n",
       "1      1500  \n",
       "2       800  \n",
       "3       800  \n",
       "4       300  \n",
       "...     ...  \n",
       "12685   500  \n",
       "12686  1800  \n",
       "12687  1300  \n",
       "12688   400  \n",
       "12689   600  \n",
       "\n",
       "[12690 rows x 9 columns]"
      ]
     },
     "execution_count": 19,
     "metadata": {},
     "output_type": "execute_result"
    }
   ],
   "source": [
    "train_data"
   ]
  },
  {
   "cell_type": "code",
   "execution_count": 20,
   "metadata": {},
   "outputs": [],
   "source": [
    "#dropping the columns 'RESTAURANT_ID','TIME','VOTES'\n",
    "train_data.drop(['RESTAURANT_ID','TIME','VOTES'],axis=1,inplace=True)"
   ]
  },
  {
   "cell_type": "code",
   "execution_count": 21,
   "metadata": {},
   "outputs": [
    {
     "data": {
      "text/html": [
       "<div>\n",
       "<style scoped>\n",
       "    .dataframe tbody tr th:only-of-type {\n",
       "        vertical-align: middle;\n",
       "    }\n",
       "\n",
       "    .dataframe tbody tr th {\n",
       "        vertical-align: top;\n",
       "    }\n",
       "\n",
       "    .dataframe thead th {\n",
       "        text-align: right;\n",
       "    }\n",
       "</style>\n",
       "<table border=\"1\" class=\"dataframe\">\n",
       "  <thead>\n",
       "    <tr style=\"text-align: right;\">\n",
       "      <th></th>\n",
       "      <th>TITLE</th>\n",
       "      <th>CUISINES</th>\n",
       "      <th>CITY</th>\n",
       "      <th>LOCALITY</th>\n",
       "      <th>RATING</th>\n",
       "      <th>COST</th>\n",
       "    </tr>\n",
       "  </thead>\n",
       "  <tbody>\n",
       "    <tr>\n",
       "      <th>0</th>\n",
       "      <td>31</td>\n",
       "      <td>2627</td>\n",
       "      <td>320</td>\n",
       "      <td>285</td>\n",
       "      <td>17</td>\n",
       "      <td>1200</td>\n",
       "    </tr>\n",
       "    <tr>\n",
       "      <th>1</th>\n",
       "      <td>33</td>\n",
       "      <td>289</td>\n",
       "      <td>67</td>\n",
       "      <td>1046</td>\n",
       "      <td>23</td>\n",
       "      <td>1500</td>\n",
       "    </tr>\n",
       "    <tr>\n",
       "      <th>2</th>\n",
       "      <td>31</td>\n",
       "      <td>2976</td>\n",
       "      <td>67</td>\n",
       "      <td>1101</td>\n",
       "      <td>19</td>\n",
       "      <td>800</td>\n",
       "    </tr>\n",
       "    <tr>\n",
       "      <th>3</th>\n",
       "      <td>95</td>\n",
       "      <td>4130</td>\n",
       "      <td>222</td>\n",
       "      <td>136</td>\n",
       "      <td>22</td>\n",
       "      <td>800</td>\n",
       "    </tr>\n",
       "    <tr>\n",
       "      <th>4</th>\n",
       "      <td>50</td>\n",
       "      <td>1766</td>\n",
       "      <td>222</td>\n",
       "      <td>620</td>\n",
       "      <td>19</td>\n",
       "      <td>300</td>\n",
       "    </tr>\n",
       "    <tr>\n",
       "      <th>...</th>\n",
       "      <td>...</td>\n",
       "      <td>...</td>\n",
       "      <td>...</td>\n",
       "      <td>...</td>\n",
       "      <td>...</td>\n",
       "      <td>...</td>\n",
       "    </tr>\n",
       "    <tr>\n",
       "      <th>12685</th>\n",
       "      <td>95</td>\n",
       "      <td>2934</td>\n",
       "      <td>131</td>\n",
       "      <td>342</td>\n",
       "      <td>19</td>\n",
       "      <td>500</td>\n",
       "    </tr>\n",
       "    <tr>\n",
       "      <th>12686</th>\n",
       "      <td>33</td>\n",
       "      <td>2143</td>\n",
       "      <td>222</td>\n",
       "      <td>133</td>\n",
       "      <td>24</td>\n",
       "      <td>1800</td>\n",
       "    </tr>\n",
       "    <tr>\n",
       "      <th>12687</th>\n",
       "      <td>71</td>\n",
       "      <td>2088</td>\n",
       "      <td>239</td>\n",
       "      <td>1342</td>\n",
       "      <td>21</td>\n",
       "      <td>1300</td>\n",
       "    </tr>\n",
       "    <tr>\n",
       "      <th>12688</th>\n",
       "      <td>31</td>\n",
       "      <td>3506</td>\n",
       "      <td>67</td>\n",
       "      <td>631</td>\n",
       "      <td>16</td>\n",
       "      <td>400</td>\n",
       "    </tr>\n",
       "    <tr>\n",
       "      <th>12689</th>\n",
       "      <td>31</td>\n",
       "      <td>2946</td>\n",
       "      <td>131</td>\n",
       "      <td>1333</td>\n",
       "      <td>15</td>\n",
       "      <td>600</td>\n",
       "    </tr>\n",
       "  </tbody>\n",
       "</table>\n",
       "<p>12690 rows × 6 columns</p>\n",
       "</div>"
      ],
      "text/plain": [
       "       TITLE  CUISINES  CITY  LOCALITY  RATING  COST\n",
       "0         31      2627   320       285      17  1200\n",
       "1         33       289    67      1046      23  1500\n",
       "2         31      2976    67      1101      19   800\n",
       "3         95      4130   222       136      22   800\n",
       "4         50      1766   222       620      19   300\n",
       "...      ...       ...   ...       ...     ...   ...\n",
       "12685     95      2934   131       342      19   500\n",
       "12686     33      2143   222       133      24  1800\n",
       "12687     71      2088   239      1342      21  1300\n",
       "12688     31      3506    67       631      16   400\n",
       "12689     31      2946   131      1333      15   600\n",
       "\n",
       "[12690 rows x 6 columns]"
      ]
     },
     "execution_count": 21,
     "metadata": {},
     "output_type": "execute_result"
    }
   ],
   "source": [
    "train_data"
   ]
  },
  {
   "cell_type": "markdown",
   "metadata": {},
   "source": [
    "# Data Visualization"
   ]
  },
  {
   "cell_type": "code",
   "execution_count": 22,
   "metadata": {
    "scrolled": true
   },
   "outputs": [
    {
     "data": {
      "image/png": "[encoded data removed]",
      "text/plain": [
       "<Figure size 432x288 with 1 Axes>"
      ]
     },
     "metadata": {
      "needs_background": "light"
     },
     "output_type": "display_data"
    }
   ],
   "source": [
    "sns.violinplot(x='TITLE',data=train_data)\n",
    "plt.show()"
   ]
  },
  {
   "cell_type": "code",
   "execution_count": 23,
   "metadata": {
    "scrolled": false
   },
   "outputs": [
    {
     "data": {
      "image/png": "[encoded data removed]",
      "text/plain": [
       "<Figure size 432x288 with 1 Axes>"
      ]
     },
     "metadata": {
      "needs_background": "light"
     },
     "output_type": "display_data"
    }
   ],
   "source": [
    "sns.violinplot(x='COST',data=train_data)\n",
    "plt.show()"
   ]
  },
  {
   "cell_type": "markdown",
   "metadata": {},
   "source": [
    "Most of the Restaurant's cost fall below 2000 and only few increases till 14000."
   ]
  },
  {
   "cell_type": "code",
   "execution_count": 24,
   "metadata": {},
   "outputs": [
    {
     "data": {
      "text/html": [
       "<div>\n",
       "<style scoped>\n",
       "    .dataframe tbody tr th:only-of-type {\n",
       "        vertical-align: middle;\n",
       "    }\n",
       "\n",
       "    .dataframe tbody tr th {\n",
       "        vertical-align: top;\n",
       "    }\n",
       "\n",
       "    .dataframe thead th {\n",
       "        text-align: right;\n",
       "    }\n",
       "</style>\n",
       "<table border=\"1\" class=\"dataframe\">\n",
       "  <thead>\n",
       "    <tr style=\"text-align: right;\">\n",
       "      <th></th>\n",
       "      <th>TITLE</th>\n",
       "      <th>CUISINES</th>\n",
       "      <th>CITY</th>\n",
       "      <th>LOCALITY</th>\n",
       "      <th>RATING</th>\n",
       "      <th>COST</th>\n",
       "    </tr>\n",
       "  </thead>\n",
       "  <tbody>\n",
       "    <tr>\n",
       "      <th>TITLE</th>\n",
       "      <td>1.000000</td>\n",
       "      <td>0.244866</td>\n",
       "      <td>-0.016281</td>\n",
       "      <td>0.026614</td>\n",
       "      <td>-0.039748</td>\n",
       "      <td>-0.263581</td>\n",
       "    </tr>\n",
       "    <tr>\n",
       "      <th>CUISINES</th>\n",
       "      <td>0.244866</td>\n",
       "      <td>1.000000</td>\n",
       "      <td>0.023931</td>\n",
       "      <td>0.016504</td>\n",
       "      <td>-0.038163</td>\n",
       "      <td>-0.014078</td>\n",
       "    </tr>\n",
       "    <tr>\n",
       "      <th>CITY</th>\n",
       "      <td>-0.016281</td>\n",
       "      <td>0.023931</td>\n",
       "      <td>1.000000</td>\n",
       "      <td>0.043072</td>\n",
       "      <td>0.026137</td>\n",
       "      <td>0.044555</td>\n",
       "    </tr>\n",
       "    <tr>\n",
       "      <th>LOCALITY</th>\n",
       "      <td>0.026614</td>\n",
       "      <td>0.016504</td>\n",
       "      <td>0.043072</td>\n",
       "      <td>1.000000</td>\n",
       "      <td>-0.023361</td>\n",
       "      <td>-0.015050</td>\n",
       "    </tr>\n",
       "    <tr>\n",
       "      <th>RATING</th>\n",
       "      <td>-0.039748</td>\n",
       "      <td>-0.038163</td>\n",
       "      <td>0.026137</td>\n",
       "      <td>-0.023361</td>\n",
       "      <td>1.000000</td>\n",
       "      <td>0.236941</td>\n",
       "    </tr>\n",
       "    <tr>\n",
       "      <th>COST</th>\n",
       "      <td>-0.263581</td>\n",
       "      <td>-0.014078</td>\n",
       "      <td>0.044555</td>\n",
       "      <td>-0.015050</td>\n",
       "      <td>0.236941</td>\n",
       "      <td>1.000000</td>\n",
       "    </tr>\n",
       "  </tbody>\n",
       "</table>\n",
       "</div>"
      ],
      "text/plain": [
       "             TITLE  CUISINES      CITY  LOCALITY    RATING      COST\n",
       "TITLE     1.000000  0.244866 -0.016281  0.026614 -0.039748 -0.263581\n",
       "CUISINES  0.244866  1.000000  0.023931  0.016504 -0.038163 -0.014078\n",
       "CITY     -0.016281  0.023931  1.000000  0.043072  0.026137  0.044555\n",
       "LOCALITY  0.026614  0.016504  0.043072  1.000000 -0.023361 -0.015050\n",
       "RATING   -0.039748 -0.038163  0.026137 -0.023361  1.000000  0.236941\n",
       "COST     -0.263581 -0.014078  0.044555 -0.015050  0.236941  1.000000"
      ]
     },
     "execution_count": 24,
     "metadata": {},
     "output_type": "execute_result"
    }
   ],
   "source": [
    "#Checking the correlation between the columns\n",
    "train_data.corr()"
   ]
  },
  {
   "cell_type": "code",
   "execution_count": 25,
   "metadata": {
    "scrolled": true
   },
   "outputs": [
    {
     "data": {
      "image/png": "[encoded data removed]",
      "text/plain": [
       "<Figure size 432x288 with 2 Axes>"
      ]
     },
     "metadata": {
      "needs_background": "light"
     },
     "output_type": "display_data"
    }
   ],
   "source": [
    "#checking correlation via visualization (heatmap)\n",
    "sns.heatmap(train_data.corr(),annot=True,fmt='.0%',cmap='Blues')\n",
    "plt.show()"
   ]
  },
  {
   "cell_type": "code",
   "execution_count": 26,
   "metadata": {},
   "outputs": [
    {
     "data": {
      "text/plain": [
       "Text(0.5, 1.0, 'Correlation with target variable')"
      ]
     },
     "execution_count": 26,
     "metadata": {},
     "output_type": "execute_result"
    },
    {
     "data": {
      "image/png": "[encoded data removed]",
      "text/plain": [
       "<Figure size 432x288 with 1 Axes>"
      ]
     },
     "metadata": {
      "needs_background": "light"
     },
     "output_type": "display_data"
    }
   ],
   "source": [
    "train_data.drop('COST',axis=1).corrwith(train_data['COST']).plot(kind='bar',grid=True)\n",
    "plt.xticks(rotation=20)\n",
    "plt.title(\"Correlation with target variable\")"
   ]
  },
  {
   "cell_type": "markdown",
   "metadata": {},
   "source": [
    "Title is the least correlated column with target variable\n",
    "\n",
    "Rating and City are highly correlated columns with target variable "
   ]
  },
  {
   "cell_type": "code",
   "execution_count": 27,
   "metadata": {},
   "outputs": [
    {
     "data": {
      "image/png": "[encoded data removed]",
      "text/plain": [
       "<Figure size 432x288 with 1 Axes>"
      ]
     },
     "metadata": {
      "needs_background": "light"
     },
     "output_type": "display_data"
    }
   ],
   "source": [
    "train_data['COST'].hist(bins=60)\n",
    "mean_val=np.mean(train_data['COST'])\n",
    "plt.axvline(mean_val,linewidth=4,color='red',label='mean price')\n",
    "plt.xlabel('COST')\n",
    "plt.ylabel('Count')\n",
    "plt.legend()\n",
    "plt.show()"
   ]
  },
  {
   "cell_type": "markdown",
   "metadata": {},
   "source": [
    "# Plotting the Outliers"
   ]
  },
  {
   "cell_type": "code",
   "execution_count": 28,
   "metadata": {},
   "outputs": [
    {
     "data": {
      "text/plain": [
       "TITLE          AxesSubplot(0.125,0.536818;0.227941x0.343182)\n",
       "CUISINES    AxesSubplot(0.398529,0.536818;0.227941x0.343182)\n",
       "CITY        AxesSubplot(0.672059,0.536818;0.227941x0.343182)\n",
       "LOCALITY          AxesSubplot(0.125,0.125;0.227941x0.343182)\n",
       "RATING         AxesSubplot(0.398529,0.125;0.227941x0.343182)\n",
       "COST           AxesSubplot(0.672059,0.125;0.227941x0.343182)\n",
       "dtype: object"
      ]
     },
     "execution_count": 28,
     "metadata": {},
     "output_type": "execute_result"
    },
    {
     "data": {
      "image/png": "[encoded data removed]",
      "text/plain": [
       "<Figure size 432x288 with 6 Axes>"
      ]
     },
     "metadata": {
      "needs_background": "light"
     },
     "output_type": "display_data"
    }
   ],
   "source": [
    "train_data.plot(kind='box',subplots=True,layout=(2,3))"
   ]
  },
  {
   "cell_type": "markdown",
   "metadata": {},
   "source": [
    "Outliers are present in Rating and Cost"
   ]
  },
  {
   "cell_type": "code",
   "execution_count": 29,
   "metadata": {},
   "outputs": [
    {
     "data": {
      "text/plain": [
       "array([[0.86888688, 0.32540837, 2.11776187, 0.92054865, 0.29054698,\n",
       "        0.86884552],\n",
       "       [0.80783894, 1.61638078, 0.8970816 , 0.98623851, 0.68015275,\n",
       "        1.34733058],\n",
       "       [0.86888688, 0.61526483, 0.8970816 , 1.12404835, 0.0330196 ,\n",
       "        0.23086546],\n",
       "       ...,\n",
       "       [0.35207201, 0.12224961, 1.1525353 , 1.72790605, 0.35658617,\n",
       "        1.02834054],\n",
       "       [0.86888688, 1.055448  , 0.8970816 , 0.05359943, 0.45233026,\n",
       "        0.40711461],\n",
       "       [0.86888688, 0.59034881, 0.13443345, 1.70535535, 0.61411355,\n",
       "        0.08812458]])"
      ]
     },
     "execution_count": 29,
     "metadata": {},
     "output_type": "execute_result"
    }
   ],
   "source": [
    "#Detecting outliers\n",
    "from scipy.stats import zscore\n",
    "z=np.abs(zscore(train_data))\n",
    "z"
   ]
  },
  {
   "cell_type": "code",
   "execution_count": 30,
   "metadata": {},
   "outputs": [
    {
     "name": "stdout",
     "output_type": "stream",
     "text": [
      "(array([   13,    84,    85,   156,   178,   208,   235,   253,   308,\n",
      "         329,   337,   369,   374,   379,   392,   396,   422,   428,\n",
      "         438,   452,   453,   455,   469,   473,   480,   502,   508,\n",
      "         563,   577,   604,   615,   625,   644,   690,   731,   749,\n",
      "         751,   772,   787,   831,   838,   839,   874,   911,   919,\n",
      "         949,   966,   967,   973,   981,   993,   994,  1009,  1054,\n",
      "        1126,  1133,  1193,  1196,  1205,  1227,  1287,  1288,  1297,\n",
      "        1345,  1365,  1366,  1395,  1468,  1470,  1472,  1475,  1502,\n",
      "        1543,  1555,  1581,  1594,  1596,  1597,  1632,  1635,  1657,\n",
      "        1696,  1701,  1711,  1748,  1759,  1764,  1778,  1792,  1806,\n",
      "        1828,  1839,  1855,  1878,  1884,  1884,  1903,  1916,  1930,\n",
      "        1931,  1983,  2025,  2039,  2053,  2082,  2092,  2096,  2100,\n",
      "        2109,  2111,  2115,  2124,  2205,  2207,  2251,  2254,  2313,\n",
      "        2327,  2333,  2339,  2349,  2369,  2407,  2434,  2439,  2459,\n",
      "        2479,  2488,  2495,  2500,  2531,  2546,  2572,  2589,  2595,\n",
      "        2602,  2604,  2610,  2613,  2622,  2633,  2656,  2683,  2686,\n",
      "        2689,  2695,  2704,  2737,  2740,  2746,  2765,  2892,  2908,\n",
      "        2910,  2930,  2940,  2950,  2960,  2967,  2973,  2979,  2998,\n",
      "        3002,  3023,  3036,  3049,  3063,  3093,  3110,  3111,  3142,\n",
      "        3150,  3197,  3211,  3232,  3246,  3275,  3281,  3309,  3338,\n",
      "        3391,  3396,  3417,  3418,  3428,  3437,  3453,  3457,  3477,\n",
      "        3492,  3501,  3526,  3532,  3550,  3554,  3580,  3603,  3619,\n",
      "        3648,  3666,  3688,  3690,  3692,  3704,  3715,  3720,  3730,\n",
      "        3732,  3748,  3749,  3773,  3777,  3781,  3809,  3830,  3834,\n",
      "        3844,  3845,  3847,  3879,  3891,  3896,  3905,  3925,  3942,\n",
      "        3953,  3962,  3985,  4020,  4021,  4034,  4061,  4066,  4147,\n",
      "        4152,  4158,  4199,  4224,  4273,  4279,  4285,  4291,  4298,\n",
      "        4323,  4334,  4344,  4371,  4400,  4435,  4446,  4459,  4494,\n",
      "        4524,  4554,  4558,  4568,  4584,  4604,  4621,  4656,  4659,\n",
      "        4693,  4697,  4708,  4717,  4728,  4741,  4763,  4800,  4804,\n",
      "        4807,  4822,  4824,  4828,  4854,  4869,  4888,  4904,  4906,\n",
      "        4910,  4931,  4939,  4946,  4970,  4976,  5008,  5040,  5064,\n",
      "        5068,  5070,  5098,  5102,  5106,  5108,  5133,  5136,  5162,\n",
      "        5163,  5173,  5195,  5199,  5202,  5219,  5247,  5264,  5285,\n",
      "        5312,  5353,  5379,  5389,  5406,  5428,  5453,  5459,  5483,\n",
      "        5486,  5490,  5583,  5585,  5588,  5686,  5718,  5744,  5765,\n",
      "        5818,  5837,  5838,  5841,  5843,  5874,  5934,  5944,  5946,\n",
      "        5954,  5975,  5976,  5979,  6017,  6024,  6027,  6033,  6046,\n",
      "        6136,  6147,  6154,  6236,  6249,  6252,  6273,  6306,  6323,\n",
      "        6336,  6342,  6343,  6377,  6383,  6385,  6401,  6414,  6423,\n",
      "        6433,  6457,  6469,  6475,  6478,  6491,  6502,  6505,  6517,\n",
      "        6543,  6565,  6609,  6640,  6644,  6692,  6707,  6713,  6758,\n",
      "        6777,  6790,  6792,  6797,  6802,  6804,  6835,  6837,  6838,\n",
      "        6858,  6874,  6880,  6910,  6943,  6949,  6976,  6997,  7023,\n",
      "        7034,  7041,  7070,  7073,  7078,  7120,  7160,  7162,  7165,\n",
      "        7179,  7197,  7200,  7203,  7228,  7275,  7294,  7316,  7362,\n",
      "        7364,  7368,  7369,  7376,  7398,  7442,  7448,  7534,  7538,\n",
      "        7572,  7589,  7599,  7600,  7606,  7627,  7630,  7640,  7672,\n",
      "        7695,  7697,  7721,  7775,  7777,  7784,  7785,  7808,  7811,\n",
      "        7822,  7823,  7825,  7861,  7864,  7868,  7874,  7876,  7883,\n",
      "        7901,  7936,  7948,  7956,  7957,  7974,  7992,  8030,  8062,\n",
      "        8065,  8078,  8081,  8106,  8132,  8136,  8143,  8158,  8164,\n",
      "        8171,  8184,  8210,  8222,  8234,  8306,  8311,  8370,  8415,\n",
      "        8423,  8433,  8442,  8449,  8472,  8529,  8577,  8585,  8598,\n",
      "        8606,  8634,  8653,  8657,  8659,  8680,  8687,  8697,  8709,\n",
      "        8714,  8727,  8756,  8779,  8799,  8809,  8825,  8827,  8837,\n",
      "        8839,  8847,  8907,  8913,  8930,  8946,  8965,  8973,  9008,\n",
      "        9022,  9027,  9058,  9067,  9068,  9069,  9074,  9085,  9088,\n",
      "        9100,  9122,  9132,  9194,  9202,  9214,  9226,  9285,  9288,\n",
      "        9308,  9375,  9393,  9467,  9477,  9480,  9487,  9507,  9519,\n",
      "        9557,  9560,  9579,  9580,  9586,  9609,  9612,  9614,  9617,\n",
      "        9653,  9664,  9690,  9692,  9724,  9728,  9748,  9753,  9770,\n",
      "        9775,  9830,  9847,  9884,  9894,  9903,  9905,  9913,  9926,\n",
      "        9951,  9988, 10036, 10043, 10053, 10065, 10086, 10124, 10135,\n",
      "       10143, 10160, 10172, 10182, 10227, 10252, 10255, 10257, 10275,\n",
      "       10278, 10280, 10285, 10289, 10320, 10345, 10355, 10364, 10391,\n",
      "       10429, 10467, 10506, 10515, 10519, 10546, 10560, 10594, 10604,\n",
      "       10627, 10636, 10664, 10673, 10677, 10765, 10767, 10790, 10813,\n",
      "       10873, 10894, 10906, 10907, 10928, 10936, 10948, 10950, 10994,\n",
      "       11017, 11083, 11105, 11120, 11129, 11130, 11131, 11136, 11146,\n",
      "       11147, 11158, 11167, 11175, 11183, 11195, 11229, 11232, 11238,\n",
      "       11251, 11254, 11269, 11272, 11326, 11327, 11374, 11377, 11430,\n",
      "       11438, 11457, 11475, 11495, 11521, 11566, 11568, 11569, 11586,\n",
      "       11587, 11652, 11672, 11704, 11714, 11716, 11717, 11723, 11761,\n",
      "       11765, 11785, 11798, 11801, 11804, 11824, 11832, 11838, 11839,\n",
      "       11842, 11846, 11847, 11856, 11902, 11903, 11905, 11908, 11926,\n",
      "       11929, 11936, 11941, 11943, 11952, 11963, 11966, 11972, 11982,\n",
      "       11984, 12111, 12159, 12248, 12251, 12271, 12276, 12282, 12318,\n",
      "       12320, 12346, 12352, 12395, 12413, 12422, 12426, 12477, 12551,\n",
      "       12562, 12568, 12584, 12585, 12591, 12641, 12646, 12668],\n",
      "      dtype=int64), array([4, 5, 4, 4, 4, 5, 4, 4, 5, 4, 5, 4, 4, 5, 4, 4, 5, 4, 4, 4, 4, 4,\n",
      "       5, 4, 4, 5, 4, 5, 4, 4, 4, 4, 4, 4, 5, 4, 4, 4, 4, 4, 4, 5, 4, 4,\n",
      "       4, 4, 5, 5, 5, 4, 4, 4, 4, 4, 4, 5, 5, 4, 4, 4, 4, 5, 4, 5, 4, 4,\n",
      "       5, 4, 5, 4, 5, 4, 4, 4, 4, 5, 4, 4, 5, 4, 5, 4, 4, 4, 4, 5, 4, 5,\n",
      "       4, 4, 5, 4, 4, 5, 4, 5, 4, 5, 5, 5, 4, 4, 4, 4, 4, 4, 4, 5, 4, 5,\n",
      "       4, 4, 5, 5, 4, 4, 4, 4, 5, 5, 5, 5, 4, 4, 4, 5, 4, 5, 4, 4, 5, 4,\n",
      "       4, 4, 4, 4, 5, 5, 4, 5, 4, 4, 5, 5, 5, 5, 4, 4, 5, 4, 4, 4, 4, 4,\n",
      "       4, 5, 4, 4, 4, 5, 4, 4, 5, 4, 5, 5, 4, 4, 4, 4, 4, 4, 5, 5, 4, 4,\n",
      "       4, 4, 5, 5, 4, 5, 4, 4, 4, 4, 4, 4, 4, 5, 4, 5, 5, 4, 5, 4, 5, 4,\n",
      "       4, 4, 5, 4, 5, 5, 5, 4, 5, 4, 4, 4, 5, 4, 4, 4, 4, 4, 4, 4, 5, 4,\n",
      "       5, 5, 5, 4, 5, 5, 5, 4, 4, 4, 4, 4, 4, 5, 5, 4, 4, 5, 5, 5, 5, 4,\n",
      "       5, 5, 4, 4, 4, 4, 4, 4, 4, 5, 5, 5, 5, 4, 4, 4, 4, 4, 5, 5, 4, 5,\n",
      "       4, 5, 4, 4, 4, 4, 4, 4, 4, 4, 4, 4, 4, 5, 4, 4, 5, 4, 4, 4, 4, 4,\n",
      "       4, 4, 4, 4, 5, 4, 4, 5, 5, 4, 4, 4, 5, 4, 4, 5, 4, 4, 5, 4, 4, 4,\n",
      "       4, 4, 4, 4, 4, 4, 4, 4, 4, 4, 4, 5, 4, 4, 4, 4, 4, 4, 4, 5, 5, 5,\n",
      "       5, 5, 4, 4, 5, 4, 4, 4, 5, 4, 4, 4, 5, 5, 4, 4, 4, 4, 4, 4, 4, 4,\n",
      "       4, 5, 4, 4, 4, 4, 4, 4, 4, 4, 4, 5, 4, 4, 4, 5, 4, 4, 4, 4, 5, 5,\n",
      "       4, 4, 4, 4, 4, 4, 4, 4, 4, 5, 4, 4, 4, 4, 4, 4, 4, 4, 5, 4, 5, 4,\n",
      "       5, 4, 4, 5, 5, 4, 4, 4, 4, 4, 4, 4, 4, 4, 5, 4, 5, 5, 4, 4, 5, 4,\n",
      "       4, 5, 4, 4, 4, 5, 4, 4, 4, 4, 4, 5, 4, 4, 4, 4, 4, 4, 4, 5, 4, 5,\n",
      "       4, 5, 4, 4, 4, 4, 4, 4, 4, 5, 5, 4, 4, 4, 4, 4, 4, 4, 4, 5, 5, 4,\n",
      "       5, 4, 4, 5, 4, 5, 4, 5, 4, 5, 5, 4, 5, 5, 4, 4, 4, 5, 4, 5, 4, 5,\n",
      "       4, 5, 5, 4, 4, 4, 5, 5, 4, 4, 5, 4, 4, 4, 4, 4, 4, 4, 4, 5, 5, 4,\n",
      "       5, 4, 4, 4, 5, 4, 5, 5, 4, 4, 5, 4, 5, 5, 4, 5, 5, 4, 5, 4, 4, 4,\n",
      "       4, 4, 5, 4, 4, 4, 4, 4, 4, 4, 4, 4, 4, 4, 4, 5, 5, 5, 4, 4, 5, 4,\n",
      "       4, 4, 4, 4, 4, 4, 4, 5, 5, 5, 4, 5, 5, 5, 4, 4, 4, 4, 4, 4, 5, 4,\n",
      "       5, 4, 4, 4, 5, 4, 4, 4, 4, 4, 4, 5, 5, 5, 5, 4, 4, 5, 5, 4, 5, 4,\n",
      "       4, 5, 4, 4, 4, 5, 4, 4, 4, 4, 5, 4, 4, 5, 4, 4, 4, 4, 4, 4, 4, 5,\n",
      "       4, 4, 5, 5, 4, 4, 4, 4, 4, 5, 5, 4, 4, 5, 5, 5, 4, 4, 4, 4, 4, 5,\n",
      "       4, 4, 4, 5, 4, 4, 4, 4, 5, 4, 4, 5, 5, 4, 5, 4, 5, 4, 4, 4, 4, 4,\n",
      "       5, 5, 4, 4, 4, 4, 4, 5, 5, 4, 5, 4, 4, 4, 4, 4, 4, 5, 4, 4, 4, 4,\n",
      "       4, 5, 4, 5, 4, 5, 4, 4, 4, 5, 4, 4, 4, 4, 4, 4, 5, 4, 4, 5, 4, 4,\n",
      "       5, 4, 5, 5, 5, 4, 4, 5, 4, 4, 4, 4, 4, 4, 5], dtype=int64))\n"
     ]
    }
   ],
   "source": [
    "threshold=3\n",
    "print(np.where(z>3))"
   ]
  },
  {
   "cell_type": "code",
   "execution_count": 31,
   "metadata": {},
   "outputs": [
    {
     "data": {
      "text/html": [
       "<div>\n",
       "<style scoped>\n",
       "    .dataframe tbody tr th:only-of-type {\n",
       "        vertical-align: middle;\n",
       "    }\n",
       "\n",
       "    .dataframe tbody tr th {\n",
       "        vertical-align: top;\n",
       "    }\n",
       "\n",
       "    .dataframe thead th {\n",
       "        text-align: right;\n",
       "    }\n",
       "</style>\n",
       "<table border=\"1\" class=\"dataframe\">\n",
       "  <thead>\n",
       "    <tr style=\"text-align: right;\">\n",
       "      <th></th>\n",
       "      <th>TITLE</th>\n",
       "      <th>CUISINES</th>\n",
       "      <th>CITY</th>\n",
       "      <th>LOCALITY</th>\n",
       "      <th>RATING</th>\n",
       "      <th>COST</th>\n",
       "    </tr>\n",
       "  </thead>\n",
       "  <tbody>\n",
       "    <tr>\n",
       "      <th>0</th>\n",
       "      <td>31</td>\n",
       "      <td>2627</td>\n",
       "      <td>320</td>\n",
       "      <td>285</td>\n",
       "      <td>17</td>\n",
       "      <td>1200</td>\n",
       "    </tr>\n",
       "    <tr>\n",
       "      <th>1</th>\n",
       "      <td>33</td>\n",
       "      <td>289</td>\n",
       "      <td>67</td>\n",
       "      <td>1046</td>\n",
       "      <td>23</td>\n",
       "      <td>1500</td>\n",
       "    </tr>\n",
       "    <tr>\n",
       "      <th>2</th>\n",
       "      <td>31</td>\n",
       "      <td>2976</td>\n",
       "      <td>67</td>\n",
       "      <td>1101</td>\n",
       "      <td>19</td>\n",
       "      <td>800</td>\n",
       "    </tr>\n",
       "    <tr>\n",
       "      <th>3</th>\n",
       "      <td>95</td>\n",
       "      <td>4130</td>\n",
       "      <td>222</td>\n",
       "      <td>136</td>\n",
       "      <td>22</td>\n",
       "      <td>800</td>\n",
       "    </tr>\n",
       "    <tr>\n",
       "      <th>4</th>\n",
       "      <td>50</td>\n",
       "      <td>1766</td>\n",
       "      <td>222</td>\n",
       "      <td>620</td>\n",
       "      <td>19</td>\n",
       "      <td>300</td>\n",
       "    </tr>\n",
       "    <tr>\n",
       "      <th>...</th>\n",
       "      <td>...</td>\n",
       "      <td>...</td>\n",
       "      <td>...</td>\n",
       "      <td>...</td>\n",
       "      <td>...</td>\n",
       "      <td>...</td>\n",
       "    </tr>\n",
       "    <tr>\n",
       "      <th>12685</th>\n",
       "      <td>95</td>\n",
       "      <td>2934</td>\n",
       "      <td>131</td>\n",
       "      <td>342</td>\n",
       "      <td>19</td>\n",
       "      <td>500</td>\n",
       "    </tr>\n",
       "    <tr>\n",
       "      <th>12686</th>\n",
       "      <td>33</td>\n",
       "      <td>2143</td>\n",
       "      <td>222</td>\n",
       "      <td>133</td>\n",
       "      <td>24</td>\n",
       "      <td>1800</td>\n",
       "    </tr>\n",
       "    <tr>\n",
       "      <th>12687</th>\n",
       "      <td>71</td>\n",
       "      <td>2088</td>\n",
       "      <td>239</td>\n",
       "      <td>1342</td>\n",
       "      <td>21</td>\n",
       "      <td>1300</td>\n",
       "    </tr>\n",
       "    <tr>\n",
       "      <th>12688</th>\n",
       "      <td>31</td>\n",
       "      <td>3506</td>\n",
       "      <td>67</td>\n",
       "      <td>631</td>\n",
       "      <td>16</td>\n",
       "      <td>400</td>\n",
       "    </tr>\n",
       "    <tr>\n",
       "      <th>12689</th>\n",
       "      <td>31</td>\n",
       "      <td>2946</td>\n",
       "      <td>131</td>\n",
       "      <td>1333</td>\n",
       "      <td>15</td>\n",
       "      <td>600</td>\n",
       "    </tr>\n",
       "  </tbody>\n",
       "</table>\n",
       "<p>11972 rows × 6 columns</p>\n",
       "</div>"
      ],
      "text/plain": [
       "       TITLE  CUISINES  CITY  LOCALITY  RATING  COST\n",
       "0         31      2627   320       285      17  1200\n",
       "1         33       289    67      1046      23  1500\n",
       "2         31      2976    67      1101      19   800\n",
       "3         95      4130   222       136      22   800\n",
       "4         50      1766   222       620      19   300\n",
       "...      ...       ...   ...       ...     ...   ...\n",
       "12685     95      2934   131       342      19   500\n",
       "12686     33      2143   222       133      24  1800\n",
       "12687     71      2088   239      1342      21  1300\n",
       "12688     31      3506    67       631      16   400\n",
       "12689     31      2946   131      1333      15   600\n",
       "\n",
       "[11972 rows x 6 columns]"
      ]
     },
     "execution_count": 31,
     "metadata": {},
     "output_type": "execute_result"
    }
   ],
   "source": [
    "df=train_data[(z<3).all(axis=1)] #removing the outliers\n",
    "df"
   ]
  },
  {
   "cell_type": "code",
   "execution_count": 32,
   "metadata": {},
   "outputs": [
    {
     "data": {
      "text/plain": [
       "(12690, 6)"
      ]
     },
     "execution_count": 32,
     "metadata": {},
     "output_type": "execute_result"
    }
   ],
   "source": [
    "train_data.shape"
   ]
  },
  {
   "cell_type": "code",
   "execution_count": 33,
   "metadata": {
    "scrolled": true
   },
   "outputs": [
    {
     "data": {
      "text/plain": [
       "(11972, 6)"
      ]
     },
     "execution_count": 33,
     "metadata": {},
     "output_type": "execute_result"
    }
   ],
   "source": [
    "df.shape"
   ]
  },
  {
   "cell_type": "markdown",
   "metadata": {},
   "source": [
    "718 rows are removed"
   ]
  },
  {
   "cell_type": "code",
   "execution_count": 34,
   "metadata": {},
   "outputs": [
    {
     "data": {
      "text/plain": [
       "TITLE      -0.071799\n",
       "CUISINES   -0.216128\n",
       "CITY        0.306613\n",
       "LOCALITY    0.344343\n",
       "RATING      0.143057\n",
       "COST        1.737557\n",
       "dtype: float64"
      ]
     },
     "execution_count": 34,
     "metadata": {},
     "output_type": "execute_result"
    }
   ],
   "source": [
    "#checking skewness\n",
    "df.skew()"
   ]
  },
  {
   "cell_type": "code",
   "execution_count": 35,
   "metadata": {},
   "outputs": [
    {
     "name": "stderr",
     "output_type": "stream",
     "text": [
      "<ipython-input-35-51225936be03>:1: SettingWithCopyWarning: \n",
      "A value is trying to be set on a copy of a slice from a DataFrame.\n",
      "Try using .loc[row_indexer,col_indexer] = value instead\n",
      "\n",
      "See the caveats in the documentation: https://pandas.pydata.org/pandas-docs/stable/user_guide/indexing.html#returning-a-view-versus-a-copy\n",
      "  df['COST']=np.log1p(df['COST'])\n"
     ]
    }
   ],
   "source": [
    "#Treating skewness of cost via log method\n",
    "df['COST']=np.log1p(df['COST'])"
   ]
  },
  {
   "cell_type": "code",
   "execution_count": 36,
   "metadata": {},
   "outputs": [
    {
     "data": {
      "text/plain": [
       "TITLE      -0.071799\n",
       "CUISINES   -0.216128\n",
       "CITY        0.306613\n",
       "LOCALITY    0.344343\n",
       "RATING      0.143057\n",
       "COST        0.175821\n",
       "dtype: float64"
      ]
     },
     "execution_count": 36,
     "metadata": {},
     "output_type": "execute_result"
    }
   ],
   "source": [
    "#Again checking the skewness\n",
    "df.skew()"
   ]
  },
  {
   "cell_type": "code",
   "execution_count": 37,
   "metadata": {
    "scrolled": true
   },
   "outputs": [
    {
     "data": {
      "text/plain": [
       "<matplotlib.axes._subplots.AxesSubplot at 0x2af66c79610>"
      ]
     },
     "execution_count": 37,
     "metadata": {},
     "output_type": "execute_result"
    },
    {
     "data": {
      "image/png": "[encoded data removed]",
      "text/plain": [
       "<Figure size 432x288 with 1 Axes>"
      ]
     },
     "metadata": {
      "needs_background": "light"
     },
     "output_type": "display_data"
    }
   ],
   "source": [
    "#Checking distribution of cost column--Normally distributed\n",
    "sns.distplot(df['COST'])"
   ]
  },
  {
   "cell_type": "markdown",
   "metadata": {},
   "source": [
    "# Test Data"
   ]
  },
  {
   "cell_type": "code",
   "execution_count": 4,
   "metadata": {},
   "outputs": [
    {
     "data": {
      "text/plain": [
       "TITLE            object\n",
       "RESTAURANT_ID     int64\n",
       "CUISINES         object\n",
       "TIME             object\n",
       "CITY             object\n",
       "LOCALITY         object\n",
       "RATING           object\n",
       "VOTES            object\n",
       "dtype: object"
      ]
     },
     "execution_count": 4,
     "metadata": {},
     "output_type": "execute_result"
    }
   ],
   "source": [
    "#checking the data types of these columns\n",
    "test_data.dtypes"
   ]
  },
  {
   "cell_type": "code",
   "execution_count": 5,
   "metadata": {},
   "outputs": [
    {
     "data": {
      "text/plain": [
       "True"
      ]
     },
     "execution_count": 5,
     "metadata": {},
     "output_type": "execute_result"
    }
   ],
   "source": [
    "#checking the null values\n",
    "test_data.isnull().values.any()"
   ]
  },
  {
   "cell_type": "code",
   "execution_count": 7,
   "metadata": {},
   "outputs": [
    {
     "data": {
      "text/plain": [
       "TITLE              0\n",
       "RESTAURANT_ID      0\n",
       "CUISINES           0\n",
       "TIME               0\n",
       "CITY              35\n",
       "LOCALITY          30\n",
       "RATING             2\n",
       "VOTES            402\n",
       "dtype: int64"
      ]
     },
     "execution_count": 7,
     "metadata": {},
     "output_type": "execute_result"
    }
   ],
   "source": [
    "#checking the null values\n",
    "test_data.isnull().sum()"
   ]
  },
  {
   "cell_type": "code",
   "execution_count": 8,
   "metadata": {},
   "outputs": [
    {
     "data": {
      "text/html": [
       "<div>\n",
       "<style scoped>\n",
       "    .dataframe tbody tr th:only-of-type {\n",
       "        vertical-align: middle;\n",
       "    }\n",
       "\n",
       "    .dataframe tbody tr th {\n",
       "        vertical-align: top;\n",
       "    }\n",
       "\n",
       "    .dataframe thead th {\n",
       "        text-align: right;\n",
       "    }\n",
       "</style>\n",
       "<table border=\"1\" class=\"dataframe\">\n",
       "  <thead>\n",
       "    <tr style=\"text-align: right;\">\n",
       "      <th></th>\n",
       "      <th>TITLE</th>\n",
       "      <th>RESTAURANT_ID</th>\n",
       "      <th>CUISINES</th>\n",
       "      <th>TIME</th>\n",
       "      <th>CITY</th>\n",
       "      <th>LOCALITY</th>\n",
       "      <th>RATING</th>\n",
       "      <th>VOTES</th>\n",
       "    </tr>\n",
       "  </thead>\n",
       "  <tbody>\n",
       "    <tr>\n",
       "      <th>0</th>\n",
       "      <td>CASUAL DINING</td>\n",
       "      <td>4085</td>\n",
       "      <td>North Indian, Chinese, Mughlai, Kebab</td>\n",
       "      <td>12noon – 12midnight (Mon-Sun)</td>\n",
       "      <td>Noida</td>\n",
       "      <td>Sector 18</td>\n",
       "      <td>4.3</td>\n",
       "      <td>564 votes</td>\n",
       "    </tr>\n",
       "    <tr>\n",
       "      <th>1</th>\n",
       "      <td>QUICK BITES</td>\n",
       "      <td>12680</td>\n",
       "      <td>South Indian, Fast Food, Pizza, North Indian</td>\n",
       "      <td>7am – 12:30AM (Mon-Sun)</td>\n",
       "      <td>Mumbai</td>\n",
       "      <td>Grant Road</td>\n",
       "      <td>4.2</td>\n",
       "      <td>61 votes</td>\n",
       "    </tr>\n",
       "    <tr>\n",
       "      <th>2</th>\n",
       "      <td>CASUAL DINING</td>\n",
       "      <td>1411</td>\n",
       "      <td>North Indian, Seafood, Biryani, Chinese</td>\n",
       "      <td>11am – 11:30pm (Mon-Sun)</td>\n",
       "      <td>Mumbai</td>\n",
       "      <td>Marine Lines</td>\n",
       "      <td>3.8</td>\n",
       "      <td>350 votes</td>\n",
       "    </tr>\n",
       "    <tr>\n",
       "      <th>3</th>\n",
       "      <td>None</td>\n",
       "      <td>204</td>\n",
       "      <td>Biryani</td>\n",
       "      <td>9am – 10pm (Mon, Wed, Thu, Fri, Sat, Sun), 10:...</td>\n",
       "      <td>Faridabad</td>\n",
       "      <td>NIT</td>\n",
       "      <td>3.8</td>\n",
       "      <td>1445 votes</td>\n",
       "    </tr>\n",
       "    <tr>\n",
       "      <th>4</th>\n",
       "      <td>QUICK BITES</td>\n",
       "      <td>13453</td>\n",
       "      <td>South Indian, Kerala</td>\n",
       "      <td>11am – 10pm (Mon-Sun)</td>\n",
       "      <td>Kochi</td>\n",
       "      <td>Kaloor</td>\n",
       "      <td>3.6</td>\n",
       "      <td>23 votes</td>\n",
       "    </tr>\n",
       "    <tr>\n",
       "      <th>...</th>\n",
       "      <td>...</td>\n",
       "      <td>...</td>\n",
       "      <td>...</td>\n",
       "      <td>...</td>\n",
       "      <td>...</td>\n",
       "      <td>...</td>\n",
       "      <td>...</td>\n",
       "      <td>...</td>\n",
       "    </tr>\n",
       "    <tr>\n",
       "      <th>4226</th>\n",
       "      <td>CASUAL DINING</td>\n",
       "      <td>9057</td>\n",
       "      <td>North Indian, Mughlai, Chinese</td>\n",
       "      <td>11:30am – 11:30pm (Mon-Sun)</td>\n",
       "      <td>New Delhi</td>\n",
       "      <td>Punjabi Bagh</td>\n",
       "      <td>3.9</td>\n",
       "      <td>287 votes</td>\n",
       "    </tr>\n",
       "    <tr>\n",
       "      <th>4227</th>\n",
       "      <td>None</td>\n",
       "      <td>1247</td>\n",
       "      <td>Biryani, North Indian, Sandwich, Salad, Wraps</td>\n",
       "      <td>11am – 1am (Mon-Sun)</td>\n",
       "      <td>Bangalore</td>\n",
       "      <td>HSR Layout</td>\n",
       "      <td>4.3</td>\n",
       "      <td>469 votes</td>\n",
       "    </tr>\n",
       "    <tr>\n",
       "      <th>4228</th>\n",
       "      <td>QUICK BITES</td>\n",
       "      <td>8617</td>\n",
       "      <td>Continental, North Indian</td>\n",
       "      <td>9:30am – 10:30pm (Mon-Sun)</td>\n",
       "      <td>Faridabad</td>\n",
       "      <td>Sector 86</td>\n",
       "      <td>3.7</td>\n",
       "      <td>53 votes</td>\n",
       "    </tr>\n",
       "    <tr>\n",
       "      <th>4229</th>\n",
       "      <td>QUICK BITES</td>\n",
       "      <td>6485</td>\n",
       "      <td>Rolls, Beverages</td>\n",
       "      <td>11am – 11:30pm (Mon, Tue, Wed, Thu, Sat, Sun),...</td>\n",
       "      <td>Kochi</td>\n",
       "      <td>Kochi</td>\n",
       "      <td>-</td>\n",
       "      <td>6 votes</td>\n",
       "    </tr>\n",
       "    <tr>\n",
       "      <th>4230</th>\n",
       "      <td>QUICK BITES</td>\n",
       "      <td>2421</td>\n",
       "      <td>Mughlai</td>\n",
       "      <td>5pm – 1am (Mon-Sun)</td>\n",
       "      <td>Bandra West</td>\n",
       "      <td>Perry Cross Road</td>\n",
       "      <td>3.7</td>\n",
       "      <td>63 votes</td>\n",
       "    </tr>\n",
       "  </tbody>\n",
       "</table>\n",
       "<p>4231 rows × 8 columns</p>\n",
       "</div>"
      ],
      "text/plain": [
       "              TITLE  RESTAURANT_ID  \\\n",
       "0     CASUAL DINING           4085   \n",
       "1       QUICK BITES          12680   \n",
       "2     CASUAL DINING           1411   \n",
       "3              None            204   \n",
       "4       QUICK BITES          13453   \n",
       "...             ...            ...   \n",
       "4226  CASUAL DINING           9057   \n",
       "4227           None           1247   \n",
       "4228    QUICK BITES           8617   \n",
       "4229    QUICK BITES           6485   \n",
       "4230    QUICK BITES           2421   \n",
       "\n",
       "                                           CUISINES  \\\n",
       "0             North Indian, Chinese, Mughlai, Kebab   \n",
       "1      South Indian, Fast Food, Pizza, North Indian   \n",
       "2           North Indian, Seafood, Biryani, Chinese   \n",
       "3                                           Biryani   \n",
       "4                              South Indian, Kerala   \n",
       "...                                             ...   \n",
       "4226                 North Indian, Mughlai, Chinese   \n",
       "4227  Biryani, North Indian, Sandwich, Salad, Wraps   \n",
       "4228                      Continental, North Indian   \n",
       "4229                               Rolls, Beverages   \n",
       "4230                                        Mughlai   \n",
       "\n",
       "                                                   TIME         CITY  \\\n",
       "0                         12noon – 12midnight (Mon-Sun)        Noida   \n",
       "1                               7am – 12:30AM (Mon-Sun)       Mumbai   \n",
       "2                              11am – 11:30pm (Mon-Sun)       Mumbai   \n",
       "3     9am – 10pm (Mon, Wed, Thu, Fri, Sat, Sun), 10:...    Faridabad   \n",
       "4                                 11am – 10pm (Mon-Sun)        Kochi   \n",
       "...                                                 ...          ...   \n",
       "4226                        11:30am – 11:30pm (Mon-Sun)    New Delhi   \n",
       "4227                               11am – 1am (Mon-Sun)    Bangalore   \n",
       "4228                         9:30am – 10:30pm (Mon-Sun)    Faridabad   \n",
       "4229  11am – 11:30pm (Mon, Tue, Wed, Thu, Sat, Sun),...        Kochi   \n",
       "4230                                5pm – 1am (Mon-Sun)  Bandra West   \n",
       "\n",
       "              LOCALITY RATING       VOTES  \n",
       "0            Sector 18    4.3   564 votes  \n",
       "1           Grant Road    4.2    61 votes  \n",
       "2         Marine Lines    3.8   350 votes  \n",
       "3                  NIT    3.8  1445 votes  \n",
       "4               Kaloor    3.6    23 votes  \n",
       "...                ...    ...         ...  \n",
       "4226      Punjabi Bagh    3.9   287 votes  \n",
       "4227        HSR Layout    4.3   469 votes  \n",
       "4228         Sector 86    3.7    53 votes  \n",
       "4229             Kochi      -     6 votes  \n",
       "4230  Perry Cross Road    3.7    63 votes  \n",
       "\n",
       "[4231 rows x 8 columns]"
      ]
     },
     "execution_count": 8,
     "metadata": {},
     "output_type": "execute_result"
    }
   ],
   "source": [
    "#imputing the missing value  with mode of the corresponding column\n",
    "from sklearn.impute import SimpleImputer\n",
    "imp=SimpleImputer(strategy='most_frequent')\n",
    "test_data['CITY']=imp.fit_transform(test_data['CITY'].values.reshape(-1,1))\n",
    "test_data['LOCALITY']=imp.fit_transform(test_data['LOCALITY'].values.reshape(-1,1))\n",
    "test_data['RATING']=imp.fit_transform(test_data['RATING'].values.reshape(-1,1))\n",
    "test_data['VOTES']=imp.fit_transform(test_data['VOTES'].values.reshape(-1,1))\n",
    "test_data"
   ]
  },
  {
   "cell_type": "code",
   "execution_count": 9,
   "metadata": {},
   "outputs": [
    {
     "data": {
      "text/plain": [
       "TITLE            0\n",
       "RESTAURANT_ID    0\n",
       "CUISINES         0\n",
       "TIME             0\n",
       "CITY             0\n",
       "LOCALITY         0\n",
       "RATING           0\n",
       "VOTES            0\n",
       "dtype: int64"
      ]
     },
     "execution_count": 9,
     "metadata": {},
     "output_type": "execute_result"
    }
   ],
   "source": [
    "test_data.isnull().sum()"
   ]
  },
  {
   "cell_type": "code",
   "execution_count": 10,
   "metadata": {},
   "outputs": [
    {
     "name": "stdout",
     "output_type": "stream",
     "text": [
      "TITLE:['CASUAL DINING' 'QUICK BITES' 'None' 'FOOD TRUCK,DESSERT PARLOR'\n",
      " 'DESSERT PARLOR,QUICK BITES' 'CASUAL DINING,BAR' 'LOUNGE' 'BEVERAGE SHOP'\n",
      " 'CASUAL DINING,PUB' 'DESSERT PARLOR' 'PUB' 'CAFÉ' 'BAKERY' 'LOUNGE,BAR'\n",
      " 'BAKERY,QUICK BITES' 'SWEET SHOP' 'SWEET SHOP,QUICK BITES'\n",
      " 'BEVERAGE SHOP,QUICK BITES' 'CAFÉ,QUICK BITES' 'DHABA'\n",
      " 'QUICK BITES,DESSERT PARLOR' 'FINE DINING' 'IRANI CAFE,BAKERY'\n",
      " 'PUB,CASUAL DINING' 'BAKERY,CASUAL DINING' 'BAR' 'FOOD COURT'\n",
      " 'QUICK BITES,SWEET SHOP' 'CAFÉ,BAR' 'BAR,PUB' 'BAKERY,DESSERT PARLOR'\n",
      " 'KIOSK' 'CAFÉ,BAKERY' 'CASUAL DINING,BAKERY' 'BAKERY,CAFÉ'\n",
      " 'CASUAL DINING,CAFÉ' 'QUICK BITES,CAFÉ' 'MESS' 'BAR,CASUAL DINING'\n",
      " 'BEVERAGE SHOP,CAFÉ' 'BEVERAGE SHOP,DESSERT PARLOR' 'PUB,FINE DINING'\n",
      " 'CASUAL DINING,FOOD COURT' 'CAFÉ,CASUAL DINING' 'LOUNGE,CASUAL DINING'\n",
      " 'DESSERT PARLOR,CAFÉ' 'FINE DINING,BAR' 'CASUAL DINING,SWEET SHOP'\n",
      " 'LOUNGE,FINE DINING' 'MICROBREWERY,PUB' 'FOOD TRUCK'\n",
      " 'CASUAL DINING,MICROBREWERY' 'CLUB' 'CAFÉ,FOOD COURT'\n",
      " 'CAFÉ,DESSERT PARLOR' 'MICROBREWERY,CASUAL DINING'\n",
      " 'DESSERT PARLOR,BAKERY' 'QUICK BITES,BAKERY' 'QUICK BITES,BEVERAGE SHOP'\n",
      " 'FINE DINING,MICROBREWERY' 'CASUAL DINING,LOUNGE' 'CLUB,FINE DINING'\n",
      " 'PUB,MICROBREWERY' 'SWEET SHOP,DESSERT PARLOR'\n",
      " 'COCKTAIL BAR,CASUAL DINING' 'DESSERT PARLOR,BEVERAGE SHOP'\n",
      " 'FOOD COURT,QUICK BITES' 'LOUNGE,CLUB' 'MICROBREWERY'\n",
      " 'DESSERT PARLOR,FOOD COURT' 'PUB,BAR' 'BAKERY,BEVERAGE SHOP'\n",
      " 'QUICK BITES,MEAT SHOP' 'CAFÉ,LOUNGE' 'FINE DINING,LOUNGE'\n",
      " 'CONFECTIONERY' 'PAAN SHOP' 'CLUB,CASUAL DINING' 'FINE DINING,CAFÉ'\n",
      " 'PUB,LOUNGE' 'PUB,CAFÉ' 'BAR,LOUNGE' 'QUICK BITES,CASUAL DINING'\n",
      " 'CASUAL DINING,IRANI CAFE' 'CLUB,BAR' 'BHOJANALYA']\n",
      "QUICK BITES                 1416\n",
      "CASUAL DINING               1258\n",
      "None                         284\n",
      "CAFÉ                         223\n",
      "DESSERT PARLOR               126\n",
      "                            ... \n",
      "BAKERY,BEVERAGE SHOP           1\n",
      "BHOJANALYA                     1\n",
      "CASUAL DINING,FOOD COURT       1\n",
      "QUICK BITES,CAFÉ               1\n",
      "BEVERAGE SHOP,CAFÉ             1\n",
      "Name: TITLE, Length: 86, dtype: int64\n",
      "**********************************\n",
      "\n",
      "\n",
      "CUISINES:['North Indian, Chinese, Mughlai, Kebab'\n",
      " 'South Indian, Fast Food, Pizza, North Indian'\n",
      " 'North Indian, Seafood, Biryani, Chinese' ...\n",
      " 'North Indian, Chinese, Kebab, Juices' 'Sindhi, Street Food'\n",
      " 'Rolls, Beverages']\n",
      "North Indian, Chinese                             213\n",
      "North Indian                                      190\n",
      "South Indian                                      174\n",
      "Fast Food                                          78\n",
      "Chinese                                            59\n",
      "                                                 ... \n",
      "Cafe, Tea                                           1\n",
      "Andhra, Biryani                                     1\n",
      "Pizza, North Indian                                 1\n",
      "South Indian, North Indian, Chinese, Malaysian      1\n",
      "Biryani, Hyderabadi, Chinese                        1\n",
      "Name: CUISINES, Length: 1727, dtype: int64\n",
      "**********************************\n",
      "\n",
      "\n",
      "TIME:['12noon – 12midnight (Mon-Sun)' '7am – 12:30AM (Mon-Sun)'\n",
      " '11am – 11:30pm (Mon-Sun)' ...\n",
      " '12noon – 4pm, 7pm – 10:30pm (Mon-Sat),12noon –...'\n",
      " '6am – 12:30AM (Mon, Tue, Wed, Thu, Sat, Sun), 6am...'\n",
      " '11am – 11:30pm (Mon, Tue, Wed, Thu, Sat, Sun), 3pm...']\n",
      "11am – 11pm (Mon-Sun)                                  447\n",
      "12noon – 12midnight (Mon-Sun)                          146\n",
      "12noon – 11pm (Mon-Sun)                                134\n",
      "11am – 12midnight (Mon-Sun)                            109\n",
      "10am – 11pm (Mon-Sun)                                   74\n",
      "                                                      ... \n",
      "7am – 5pm, 7pm – 1am (Mon-Sun)                           1\n",
      "12noon – 11:30pm (Mon, Sun), 12noon – 1am (Tue-Sat)      1\n",
      "12noon – 5am (Mon, Thu, Fri, Sat), 12noon – 3am...       1\n",
      "11:59am – 1am (Mon-Sun)                                  1\n",
      "12:30pm – 2:30pm, 7:30pm – 11:30pm (Mon-Sun)             1\n",
      "Name: TIME, Length: 1183, dtype: int64\n",
      "**********************************\n",
      "\n",
      "\n",
      "CITY:['Noida' 'Mumbai' 'Faridabad' 'Kochi' 'Hyderabad' 'Navi Mumbai' 'Chennai'\n",
      " 'New Delhi' 'Bangalore' 'Vasai Mumbai' 'Gurgaon' 'Palarivattom' 'Delhi'\n",
      " 'Ernakulam' 'Thane West' 'Ghaziabad' 'Chennai.' 'Thane' 'Telangana'\n",
      " 'Bandra West' 'Potheri' 'Panathur Main Road' 'Secunderabad' 'JP Nagar'\n",
      " 'Near Andheri West Station'\n",
      " 'opposite to western side of ITPL Service gate' 'Kalkaji' 'Bengaluru'\n",
      " 'APR Chambers' 'Tamil Nadu 600102' 'Andheri West' 'India'\n",
      " 'Serilingampally' 'Maharashtra.' 'Gandhinagar Rd'\n",
      " 'Near Andheri East Station' 'HSR Layout' 'Greater Noida' 'Uttar Pradesh'\n",
      " 'Dwarka' 'Velachery' 'Anna Nagar West' 'Indiranagar' 'Whitefield'\n",
      " 'Kochi Ravipuram' 'Kerala 682036' 'Madhapur' 'Hyderabad.'\n",
      " 'Mira Road Thane Mumbai' 'India Gate New Delhi' 'Bangalore - 560095'\n",
      " '1st Stage' 'Sholinganallur. Chennai' 'Chennai (Above Bombay Brasserie)'\n",
      " 'Powai' 'Marathahalli' 'Kaloor' 'Chennai 37' 'kochi' 'Gurugram' '682024'\n",
      " 'Tripunithura' 'Kakkanad' 'Girgaum' 'Greater Kailash 1 (GK 1) New Delhi'\n",
      " 'Delhi NCR' 'Kurla (W)' 'Secunderabad.' 'Mumbai 400015'\n",
      " 'Thane West Thane West' 'Banjara Hills' 'Kochi Panampilly Nagar' 'Marad'\n",
      " 'Maharashtra 400092' 'Near Sector 34' 'Bengalore' 'Mehdipatnam Hyderabad'\n",
      " 'Nallagandla' 'Vandalur' 'Mulund West' 'Chennai 40' 'Maharashtra'\n",
      " 'Banglore' 'Secunderbad' 'MM Nagar' 'Mumbai 400070' 'Dilsukhnagar'\n",
      " 'Chittethukkara' 'BTM' 'Dombivli' 'Sahakara Nagar'\n",
      " 'Mohammad Ali Road Mumbai' 'Chennai 600040' 'Tavarekere Main Road'\n",
      " 'Community Centre' 'Kerala 682022' 'Delh.' 'Sector-6 Noida 201301'\n",
      " 'Kaaraikudi Complex' 'Thiruvanmiyur (Opp Eurokids LB Road)'\n",
      " 'Virar Mumbai' 'Bangalore.' 'Tolichowki'\n",
      " 'Kochi International Airport VIP Road' 'Hyderaba' 'Kerala 682305'\n",
      " 'Navi Mumbai.' 'Alwarpet' 'Kerala 682015' 'Nungambakkam' 'Gachibowli'\n",
      " 'Mumbai Veera Desai Area' 'Kerala 682018' 'Kerala 682028' 'Suraram'\n",
      " 'Chennai Velachery' 'Forum Sujana Mall Opposite to Malaysian township'\n",
      " 'Old Hafeezpet' 'Yousufguda' 'Chennai-600008' 'Mumbai Ulhasnagar'\n",
      " 'Jogeshwari West Mumbai' 'Chepauk' 'Chowpatty' 'Church Street'\n",
      " 'Balavinayagar Nagar Chennai' 'T-Nagar Chennai' 'RA Puram'\n",
      " 'Hyderabad.Star hypermarket opposite side Service road'\n",
      " 'Chennai Injambakkam' 'Mumbai Mumbra' 'Chennai Teynampet' 'Habsiguda'\n",
      " 'Kurla Mumbai' 'Telangana 500027' 'Chenna' 'Kerala 682021'\n",
      " 'Kandivali West' 'chennai-119' 'Kerala' 'Noida Extention'\n",
      " 'Shihab Thangal Road' 'GST Road' 'New Delhi 110011' 'Miumbai'\n",
      " 'Borivali (W) Mumbai: 400 092.' 'Vanasthalipuram' 'KK Road'\n",
      " 'Chennai - 600018' 'Karnataka' 'Opposite Ellora Building']\n",
      "Bangalore              721\n",
      "Chennai                681\n",
      "Hyderabad              639\n",
      "Mumbai                 589\n",
      "Kochi                  472\n",
      "                      ... \n",
      "Girgaum                  1\n",
      "Virar Mumbai             1\n",
      "KK Road                  1\n",
      "Shihab Thangal Road      1\n",
      "Kerala 682305            1\n",
      "Name: CITY, Length: 151, dtype: int64\n",
      "**********************************\n",
      "\n",
      "\n",
      "LOCALITY:['Sector 18' 'Grant Road' 'Marine Lines' 'NIT' 'Kaloor' 'Banjara Hills'\n",
      " 'Kharghar' 'Navalur' 'IP Extension' 'Palarivattom' 'Electronic City'\n",
      " 'West Mambalam' 'Worli' 'Ulsoor' 'Abids' 'MG Road' 'Dahisar West'\n",
      " 'Vijay Nagar' 'Fort' 'Anna Salai' 'East' 'DLF Phase 4' 'Banaswadi'\n",
      " 'Jubilee Hills' 'Sector 15' 'BTM' 'Elamkulam' 'Bandra West' 'Aluva'\n",
      " 'Indiranagar' 'Marol' 'Whitefield' 'Fort Kochi' 'Film Nagar' 'Edappally'\n",
      " 'Bandra Kurla Complex' 'Marathahalli' 'Dombivali East'\n",
      " 'N.W.A Punjabi Bagh' 'Kodambakkam' 'Anna Nagar West' 'Sarjapur Road'\n",
      " 'Tripunithura' 'Matunga East' 'Kathrikadavu' 'Mylapore' 'Kakkanad'\n",
      " 'Malakpet' 'Kandivali West' 'Sector 31' 'Kalyan East' 'Necklace Road'\n",
      " 'Sector 49' 'Miyapur' 'Ashok Nagar' 'Aerocity' 'Purasavakkam'\n",
      " 'Srinagar Colony' 'Madhapur' 'Kalyan' 'Subhash Nagar' 'Pallimukku'\n",
      " 'Vikas Marg' '35/581&582 Janatha Junction' 'Krishna Nagar' 'Chanakyapuri'\n",
      " 'Thevera' 'Vasant Vihar' 'Indirapuram' 'Sushant Lok' 'Ghatkopar East'\n",
      " 'Anna nagar' 'Bannerghatta Road' 'Parel' 'Colaba'\n",
      " 'Opposite New Panjabi Hotel Old Airport Road' 'Jama Masjid' 'Egmore'\n",
      " 'Old Railway Road' 'Kurla' 'Andheri West' 'Thane West' 'Secunderabad'\n",
      " 'Gachibowli' 'Kilpauk' 'Kolathur' 'Koramangala 5th Block' 'Washermenpet'\n",
      " 'Maduravoyal' 'Thousand Lights' 'Ambattur' 'Guduvancherry' 'Thopumpady'\n",
      " 'Azad Nagar' 'Thiruvanmiyur' 'Palam Vihar' 'Shalimar Bagh'\n",
      " 'Chandrayanagutta' 'Chembur' 'Vasant Kunj' 'Velachery' 'Marine Drive'\n",
      " 'Breach Candy' 'Sector 22' 'Kalamassery' 'Linking Road'\n",
      " 'Koramangala 4th Block' 'Kandivali East' 'Mulund West' 'Rajouri Garden'\n",
      " 'Suraram' 'Chengalpattu' 'Near Rammurthy Nagar' 'Goregaon East'\n",
      " 'Anna Nagar East' 'Pitampura' 'Anna Nagar' 'Porur' 'Mehdipatnam'\n",
      " 'Ernakulam' 'Basavanagudi' 'Koramangala 7th Block' 'Goregaon West'\n",
      " 'Powai' 'Mohammad Ali Road' 'Vile Parle East' 'Jeevan Bhima Nagar'\n",
      " 'Anna Street' 'kadubeesanahalli' 'Elphinstone' 'Mattancherry' 'Attapur'\n",
      " 'Karkhana' 'Injambakkam' 'Chennai' 'Telangana S R Nagar'\n",
      " 'New Perungalathur' 'Nungambakkam' 'RA Puram' 'Bhayandar' 'Lodhi Colony'\n",
      " 'Old Airport Road' 'Royapettah' 'Kirti Nagar' 'Vashi' 'Sion' 'K.K. Nagar'\n",
      " 'Dadar East' 'Kompally' 'Phase 5' 'Vasai' 'Akkarai' 'Race Course Road'\n",
      " 'Opposite National Shopping Centre' 'Vyttila' 'Residency Road'\n",
      " 'Hyderabad' 'Munirka' 'Mayur Vihar Phase 2' 'Mayur Vihar Phase 1'\n",
      " 'Ghansoli' 'Kukatpally' 'Uttam Nagar' 'Sector 55' 'Tolichowki' 'Alwarpet'\n",
      " 'Kelambakkam' 'Mira Road' 'Karkardooma' 'Malleshwaram' 'Near Sector 110'\n",
      " 'Malad West' 'Chandivali' 'Padur' 'Kothaguda' 'Greater Kailash 1 (GK1)'\n",
      " 'Karapakkam' 'Kalyan Nagar' 'Mahim' 'Near Deshbandhu College'\n",
      " 'Telangana 500001' 'Jayanagar' 'Greater Kailash (GK) 1' 'Near Sohna Road'\n",
      " 'Hitech City' 'Trimulgherry' 'Juhu' 'Bommanahalli' 'Guindy' 'Surya Nagar'\n",
      " 'Vanasthalipuram' 'Kondapur' 'Koramangala' 'Plot 22 Sector 135'\n",
      " 'Chanda Nagar' 'Ghatkopar West' 'Saidapet' 'T. Nagar' 'Indira Nagar'\n",
      " 'Triplicane' 'Satyaniketan' 'Greater Noida' 'Brookefield'\n",
      " 'House 3-5-909/B/1' 'Parrys' 'Chowpatty' 'West Mogappair' 'Shamirpet'\n",
      " 'Sainikpuri' 'Vadapalani' 'Delhi University-GTB Nagar' 'Perumbavoor'\n",
      " 'Mahakali' 'Jeedimetla' 'Medavakkam' 'Malviya Nagar' 'Golf Course Road'\n",
      " 'Navallur' 'Daryaganj' 'L B Nagar' 'Hennur' 'DLF Cyber City' 'Moti Nagar'\n",
      " 'Angamali' '7 Bungalows' 'Sadashiv Nagar' 'Vypin' 'Bellandur'\n",
      " 'Lower Parel' 'Willingdon Island' 'Kacheripady' 'Lajpat Nagar 2'\n",
      " 'Koramangala 6th Block' 'Lingampally' 'Kamla Nagar' 'Sector 62'\n",
      " 'Kumaraswamy Layout' 'Dahisar East' 'Saket' 'Anand Vihar' 'Sector 29'\n",
      " 'Amberpet' 'Telangana 500081' 'Habsiguda' 'Sector 72' 'CBD-Belapur'\n",
      " 'Kalbadevi' 'Gachibowli-Kondapur Road' 'DLF Phase 3' 'Yeshwantpur'\n",
      " 'Sainik Farms' 'Thane' 'New Friends Colony' 'Yelahanka' 'Majiwada'\n",
      " 'Adambakkam' 'S P Road' 'Vasai West' 'Near New BEL Road' 'JP Nagar'\n",
      " 'Himayath Nagar' 'Selaiyur' 'Kaggadasapura' 'Mahakavi vailopilly road'\n",
      " 'Mogappair' 'Potheri' 'HSR Layout' 'Dwarka' 'Adyar' 'Thuraipakkam'\n",
      " 'Kadavanthra' 'Pallavaram' '38/72 B1' 'HSR' 'Ameerpet' 'Near Sector 45'\n",
      " 'Paradise Circle' 'Church Street' 'Sector 132' 'Byculla' 'Sector 50'\n",
      " 'Paschim Vihar' 'Tambaram' 'Panampilly Nagar' 'Borivali West'\n",
      " 'Chittoor Road' 'Chromepet' 'Safdarjung' 'Gopalapuram' 'Domlur'\n",
      " 'Besant Nagar' 'ECIL' 'Sector 14' 'Kopar Khairane' 'Connaught Place'\n",
      " 'Santacruz West' 'St. Thomas Mount' 'Somajiguda' 'Model Town 1'\n",
      " 'Defence Colony' 'Old Nagardas Road' 'Perambur' 'Prabhadevi' 'Panjagutta'\n",
      " 'Padmarao Nagar' 'Seawoods' 'GST Road' 'Frazer Town' 'SDA' 'Sector 1'\n",
      " 'Shamshabad' 'Lajpat Nagar 1' 'Gaur City 1' 'Telangana 500047' 'Sector 7'\n",
      " 'Mahabalipuram' 'Sholinganallur' 'S D Road' 'Banashankari' 'Choolaimedu'\n",
      " 'West Patel Nagar' 'East Patel Nagar' 'Elamakkara' 'South Extension 2'\n",
      " 'Malkajgiri' 'Majestic' '16th cross' 'Airoli' 'Semmancheri' 'Noida'\n",
      " 'Sector 12' 'Mahipalpur' 'Hebbal'\n",
      " 'Near Cochin International Airport Nedumbassery' 'Rajarajeshwari Nagar'\n",
      " 'Royapuram' 'Jose Junction' 'Ravipuram' 'Madipakkam' 'Lakdikapul'\n",
      " 'S R Nagar' 'Kadavanthara' 'Koramangala 1st Block' 'Tarnaka'\n",
      " 'Rajajinagar' 'Borivali East' 'Janakpuri' 'A S Rao Nagar' 'Jangpura'\n",
      " 'Nedumbassery' 'Sector 4' 'Sushant Lok 1' 'Kanchipuram District'\n",
      " 'Near Sector 72' 'Nagarbhavi' 'Manikonda' '7th main HAL 2nd stage'\n",
      " 'Paharganj' 'Dadar West' 'ITPL Main Road' 'Raj Nagar' 'Koyambedu'\n",
      " 'Hauz Khas Village' 'Mumbai Central' 'Khairatabad' 'Andheri Lokhandwala'\n",
      " 'Begumpet' 'Sector 38' 'Palam' 'Perungudi' 'Panch Pakhadi' 'Dilsukhnagar'\n",
      " 'Nagole' 'Veera Desai Area' 'Manpada' 'Chetpet' 'Kochi' 'Neredmet'\n",
      " 'Rohini' 'Nallakunta' 'Naupada' 'Dwaraka Nagar Colony' 'Sector 63'\n",
      " 'Virar' 'Vennala' '4th phase' 'Andheri East' 'Kothapet' 'Majnu ka Tila'\n",
      " 'Nagawara' 'Kalkaji' 'Vasanth Nagar'\n",
      " 'Wallace garden 3rd street Nungambakkam' 'Shahdara' 'Mahalaxmi' 'Kanakia'\n",
      " 'Musheerabad' 'Chullickal' 'Ramapuram' 'Nampally' 'Netaji Subhash Place'\n",
      " 'Pandara Road' 'Chakala' 'Gandipet' 'Narayanguda' 'George Town' 'Uppal'\n",
      " 'Malad East' 'Vile Parle West' 'Utsav Chowk Kharghar' 'Marad' 'Khar'\n",
      " 'Jogeshwari' 'Sarojini Nagar' 'Muttukadu' 'Jalahalli'\n",
      " 'East Coast Road (ECR)' 'Sector 19' 'Girgaum' 'Hauz Khas' 'Tardeo'\n",
      " 'Crossing Republik' 'Marredpally' 'Hafeezpet' 'Neelangarai'\n",
      " 'East Krishna Nagar' 'Near Charminar' 'Falaknuma' 'Karol Bagh'\n",
      " 'Pali Hill' 'Nalasopara' 'Laxmi Nagar' 'Punjabi Bagh' 'Geeta Colony'\n",
      " 'Sector 83' 'Kammanahalli' 'PG Road' 'Egatoor' 'South City 2'\n",
      " 'Lavelle Road' 'Maruthi Nagar Main Road' 'CBD Belapur' 'Nerul'\n",
      " 'Tilak Nagar' 'New Panvel' 'Charminar' 'Hiranandani Gardens' 'Munnekolal'\n",
      " 'Badkal Lake' 'Mayur Vihar' 'Opposite 10th Avenue Gaur City 2'\n",
      " 'HBR Layout' 'Avadi' 'Juhu Road' 'Near PVR Plaza' 'Patparganj' 'Janpath'\n",
      " 'kakkanad' 'Peenya' 'Sarita Vihar' 'Adikmet' 'Moosapet' 'Thippasandra'\n",
      " 'Old Madras Road' 'Churchgate' 'Khel Gaon Marg' 'Richmond Road'\n",
      " 'Seshadripuram' 'Mandi House' 'CV Raman Nagar' 'Gamma 1' 'Near Sector 50'\n",
      " 'Vaishali' 'Vivek Vihar' 'Puthiya Road' 'Sector 10'\n",
      " 'Chandras Complex Near Flyover Bridge Annojiguda' 'Chowpatty Bridge'\n",
      " 'Greater Kailash 1 (GK 1)' 'Charni Road' 'GK 1' 'Saroor Nagar'\n",
      " 'Dadar Shivaji Park' 'R-5' 'Sakinaka' 'Oshiwara' 'Vikaspuri'\n",
      " 'Cunningham Road' 'Opp. Kalpana Talkies' 'DLF Phase 2' 'Nanganallur'\n",
      " 'Rajendra Place' 'Secunderabad Division' 'Sohna Road' 'Sewree (W)'\n",
      " 'Masab Tank' 'Nacharam' 'Santacruz East' 'Taramani' 'Versova'\n",
      " 'Green Valley' 'Govind Puram' 'Near Cross Point Mall'\n",
      " 'T D East Sannidhi Road' 'Maradu Junction' 'Nizampet' 'Mulund East'\n",
      " 'Block A Kalkaji' 'Brigade Road' 'Jaipuria Sunrise Plaza'\n",
      " 'Kanakapura Road' 'Mumbai' 'Sector 32' 'Reclamation'\n",
      " 'Koramangala 3rd Block' 'Valanjambalam' 'New BEL Road' 'Rajaji Nagar'\n",
      " 'DLF Phase 1' 'Castle Mill' 'Kerala' 'C-7 Ramprastha' 'Pillar 76'\n",
      " 'Near Andheri West Station' 'Golf Course Extension Road'\n",
      " 'Manjeera Diamond Entrance Road' 'BTM 2nd Stage' 'Valasaravakkam'\n",
      " 'Mayapuri Phase 2' 'M.G. Road' 'Gaddanaram' 'Lajpat Nagar 4'\n",
      " 'Near Sarjapur Road' 'Preet Vihar' 'Near Panch Rasta' 'SR Nagar'\n",
      " 'Amar Colony' 'St.Francis Xavier Church Road' 'Ashok Vihar Phase 1'\n",
      " 'Kamothe' 'Shenoy Nagar' 'East of Kailash' 'Anna nagar East'\n",
      " 'RDC Raj Nagar' 'N Block Connaught Place' 'Nehru Place' 'Turbe' 'Kovalam'\n",
      " 'Sector 6' 'Ignou Main Road Sainik Farms' 'Mira Road East' 'Kacheguda'\n",
      " 'Hill Road' 'Sector 110' 'Opposite kanti Park Borivali West'\n",
      " 'Near Pallimukku' 'Mysore Road' 'Saligramam' 'Koramangala 8th Block'\n",
      " 'Vikhroli East' 'Bandra East' 'Ambernath' 'Kengeri' 'Koti' 'RT Nagar'\n",
      " 'Sector 37' 'Vandalur' 'Koramangala 2nd Block' 'Greater Kailash 2 (GK2)'\n",
      " 'Prashant Vihar' 'Chittaranjan Park' 'Vazhakkala' 'Near Sector 125'\n",
      " 'Mahesh Nagar Radhika circle A S Rao Nagar' 'Kanakapura Main Road'\n",
      " 'Sunder Nagar' 'Telangana 500082'\n",
      " 'No 1 Sri Vari Nagar Fortune Select Grand Hotel - GST Road SP Koil'\n",
      " 'Vijaya Nagar' 'Mallapur' 'Basheer Bagh' 'Gaur City 2' 'Kurla west'\n",
      " 'lane besides to King’s Burger. Next to nellore mess' 'Janak Puri'\n",
      " 'Alandur' 'Medchal Road' 'Telangana' 'Ernakulam South' 'Sector 30'\n",
      " 'Pallikaranai' 'Chandni Chowk' 'Aminijikarai' 'Seaport - Airport Road'\n",
      " 'Langer Houz' 'Sector 135' 'Yapral' 'Ekkaduthangal' 'Bannergatta Road'\n",
      " '2nd Stage' 'Sector 16' 'Bowenpally' 'Near Sector 132' 'Cuffe Parade'\n",
      " 'Bangalore' 'Pandav Nagar' 'Near Kodihalli Masjid' 'Panchsheel Park'\n",
      " 'Poonamalle' 'Sector 75' 'Dombivli East' 'Jasola'\n",
      " 'Off Kodigehalli Main Road' 'Patka Manzil Bhindi Bazar' 'Edakochi'\n",
      " 'Pragati Maidan' 'Dombivali West' 'Arumbakkam' 'Jail Road' 'Makana Tower'\n",
      " 'Teynampet' 'Model Town 2' 'Near Tripunithura' 'PVR Anupam Complex'\n",
      " 'Vikhroli' 'Indranagar' 'Bhandup' '5th Block Jayanagar' 'Rajinder Nagar'\n",
      " 'Greater Kailash (GK) 3' 'Near Pitampura' 'ITO' 'Kasarvadavli'\n",
      " 'Basaveshwara Nagar' 'Geetanjali Enclave' 'Sahakara Nagar'\n",
      " 'Off Brigade Road' 'Mayapuri Phase 1' 'Moosarambagh' 'Chunabhatti East'\n",
      " 'Thaikkavu Aluva 6' 'Kuzhikattumoola' 'Barakhamba Road'\n",
      " 'Vengalarao S R Nagar' 'T.Nagar' 'Rammurthy Nagar' 'Mukherjee Nagar'\n",
      " 'B-28' 'Lado Sarai' 'Dr. Radhakrishnan Salai' 'Nandanam' 'Andheri'\n",
      " 'New Ashok Nagar Main Matrket Mayur Vihar Phase 1' 'Gole Market'\n",
      " 'Sanpada' 'Alwal' 'Alaknanda' 'Naraina' 'Sector 11'\n",
      " 'Near Andheri East Station' 'Sector 41' '17 Malaviya Avenue'\n",
      " 'Tirupati Nagar' 'Near Center State Mall Sector 18'\n",
      " 'Opposite DLF City Court DLF Phase 2' 'Market Lane Borivali West'\n",
      " 'Sikanderpur' 'Sheikpet' 'Kerala 682034' 'Courtyard by Marriott'\n",
      " 'Sector 19 Ulwe' 'Ulwe' '(ground floor of Sunrise Chambers)' 'Vasundhara'\n",
      " 'Infantry Road' 'Near Andheri Lokhandwala' 'Gujranwala Town'\n",
      " 'Near Sector 64' 'Satya Niketan' 'Ramanthapur' 'Nariman Point'\n",
      " 'T.T.K Road' 'Chennai Opposite the MRF Building' 'Jayanagar 4 th Block'\n",
      " 'Near Vinayak Properties' 'Okhla Phase 2' 'Thrikkakara P.O'\n",
      " 'Railway Station Road' 'Athulya Infopark' 'Wilson Garden' 'Virar West'\n",
      " 'Kumbalangi' 'Mogappair East' 'A Block Preet Vihar' 'Sanjay Nagar'\n",
      " 'Suraram Main Road' 'Anna Nagar Chennai' 'Ernakulam Circle'\n",
      " 'Virugambakkam' 'Shop No - VG 16' '80Feet Main Road HBR Layout'\n",
      " 'Tamil Nadu 600006' '8 Block Subhash Nagar'\n",
      " 'Infopark - Smart City Short Road' 'KR Puram' 'Khan Market' 'Mehrauli'\n",
      " 'Beside ESSR Petrol pump' 'Srinagar Colony Road' 'Chinchpokli'\n",
      " 'Sector 28' 'Dilshad Garden' 'Outer Circle Connaught Place'\n",
      " 'Ernakulam Aluva' 'Adchini' 'Near Saroor Nagar' 'Sector 26' 'Ulhasnagar'\n",
      " 'S Block DLF Phase 3' 'Sowcarpet' 'Sector 8' 'New link Rd Oshiwara'\n",
      " 'Andheri west' 'CNK Salai' 'Green Park' 'Sector 54' 'Hiranandani Estate'\n",
      " 'Opposite Stella Petrol Pump Vasai' 'Thoraipakkam' 'Sector 25'\n",
      " 'Sector 15 Part 1' 'Sector 27' 'Opposite Opera House' 'Sector 44'\n",
      " 'MRC Nagar' 'Shakarpur' 'Ghaziabad' 'Chittethukara'\n",
      " 'Ernakulam Thopumpady' 'Yousufguda' 'Cherlapalli' '33' 'Marve'\n",
      " 'Kotturpuram' 'Bangalore Road' 'Near Mahindra World City'\n",
      " 'A yyavoo Colony' 'Kalwa' 'Malleswaram' 'Habibullah Road'\n",
      " '7th Sector HSR' 'Jubilee hills' 'Sector 56' 'Govindaswamy Nagar'\n",
      " 'International Airport' 'Ghansi Bazaar' 'Kondapur X Roads Kondapur'\n",
      " 'Mumbra' 'Sector 21' 'West Jogeshwar'\n",
      " 'Near Pallathu Raman Road Veli Fort Fort Kochi' 'Near Sector 31'\n",
      " 'Edappally Toll' 'LBS BKC Junction' 'Opposite Private Bus Stand'\n",
      " 'Bhayandar East' '4 Bungalows' 'Near Sector 34'\n",
      " 'Greater Kailash 2 (GK 2)' 'St. Marks Road' 'New Delhi' 'Vepery'\n",
      " 'Tughlakabad Institutional Area' 'Kaushambi' 'Maharashtra 400013'\n",
      " 'Near Jalahalli' 'Near Kundanahalli Signal' 'Adayar' 'Mahavir Nagar'\n",
      " 'P.O Kakkanad' 'Venkatagiri Jubilee Hills' 'J.N Road Anna Nagar West'\n",
      " 'Sector 53' 'Sikandarpur' 'Banjara hills' 'international Airport'\n",
      " 'sholinganallur' 'Erragadda' 'North Railway station' 'Chander Nagar'\n",
      " 'Cherry County' 'Near Apollo H' '7th Phase' 'PWD Quarters' 'Poonithura'\n",
      " 'Mazgaon' 'Near Karol Bagh' 'Tagore Garden' 'Near Passport Office'\n",
      " 'Sector 45' 'Jogeshwari West' 'North Kalamassery' 'Thrikkakara Circle'\n",
      " 'Lajpat Nagar 3' 'Guduvanchery' 'Old Bowenpally' 'Thiruvallur'\n",
      " 'Near Aster Medcity' 'Aurangzeb Road' 'Nehru Nagar' 'phase 3'\n",
      " 'Kacharakkanahalli'\n",
      " 'Beside Aditya Hospital Dwarakanagar colony H.S Darga Banjara Hills'\n",
      " 'Mumbai CST Area' 'Chawri Bazar' 'Sector 23' 'Chandavarkar Road'\n",
      " 'Pillar 178 East Patel Nagar' 'Near Vikaspuri' 'BN Reddy Nagar'\n",
      " 'Kadavanthra Part 1' '20/718 (Old No 12/275) Railway Station Road Aluva'\n",
      " '5th Phase' 'Kailash Colony' 'Zakir Nagar' 'Near Express Garden'\n",
      " 'Shahpur Jat' 'Thane west' 'Bengaluru' 'Ashok Vihar Phase 2'\n",
      " 'Off Carter Road' 'SRM Back Gate' 'Sector 86' 'Perry Cross Road']\n",
      "Kakkanad                  84\n",
      "Kukatpally                54\n",
      "Whitefield                53\n",
      "Madhapur                  52\n",
      "Gachibowli                50\n",
      "                          ..\n",
      "Seaport - Airport Road     1\n",
      "5th Block Jayanagar        1\n",
      "Near Sector 34             1\n",
      "Gaddanaram                 1\n",
      "Sarojini Nagar             1\n",
      "Name: LOCALITY, Length: 834, dtype: int64\n",
      "**********************************\n",
      "\n",
      "\n",
      "RATING:['4.3' '4.2' '3.8' '3.6' '3.7' 'NEW' '4.0' '3.4' '3.2' '4.1' '3.0' '-'\n",
      " '3.5' '4.5' '3.9' '3.3' '2.9' '3.1' '2.5' '2.8' '4.6' '4.4' '2.7' '4.8'\n",
      " '2.6' '4.9' '2.1' '4.7' '2.3' '2.4' '2.2']\n",
      "3.8    416\n",
      "3.9    405\n",
      "4.0    399\n",
      "3.7    351\n",
      "3.6    310\n",
      "4.1    281\n",
      "4.2    245\n",
      "NEW    223\n",
      "3.5    217\n",
      "3.4    202\n",
      "4.3    184\n",
      "-      177\n",
      "4.4    122\n",
      "3.3    120\n",
      "3.2     83\n",
      "3.1     77\n",
      "4.5     75\n",
      "3.0     59\n",
      "2.9     56\n",
      "2.8     45\n",
      "4.6     43\n",
      "2.7     40\n",
      "2.6     24\n",
      "4.7     21\n",
      "4.8     17\n",
      "2.5     16\n",
      "2.4      9\n",
      "4.9      6\n",
      "2.3      5\n",
      "2.2      2\n",
      "2.1      1\n",
      "Name: RATING, dtype: int64\n",
      "**********************************\n",
      "\n",
      "\n",
      "VOTES:['564 votes' '61 votes' '350 votes' ... '1697 votes' '749 votes'\n",
      " '1239 votes']\n",
      "6 votes       432\n",
      "22 votes       26\n",
      "58 votes       26\n",
      "4 votes        24\n",
      "9 votes        24\n",
      "             ... \n",
      "1420 votes      1\n",
      "2084 votes      1\n",
      "834 votes       1\n",
      "2077 votes      1\n",
      "904 votes       1\n",
      "Name: VOTES, Length: 1136, dtype: int64\n",
      "**********************************\n",
      "\n",
      "\n"
     ]
    },
    {
     "ename": "KeyError",
     "evalue": "'COST'",
     "output_type": "error",
     "traceback": [
      "\u001b[1;31m---------------------------------------------------------------------------\u001b[0m",
      "\u001b[1;31mKeyError\u001b[0m                                  Traceback (most recent call last)",
      "\u001b[1;32m~\\anaconda3\\lib\\site-packages\\pandas\\core\\indexes\\base.py\u001b[0m in \u001b[0;36mget_loc\u001b[1;34m(self, key, method, tolerance)\u001b[0m\n\u001b[0;32m   2645\u001b[0m             \u001b[1;32mtry\u001b[0m\u001b[1;33m:\u001b[0m\u001b[1;33m\u001b[0m\u001b[1;33m\u001b[0m\u001b[0m\n\u001b[1;32m-> 2646\u001b[1;33m                 \u001b[1;32mreturn\u001b[0m \u001b[0mself\u001b[0m\u001b[1;33m.\u001b[0m\u001b[0m_engine\u001b[0m\u001b[1;33m.\u001b[0m\u001b[0mget_loc\u001b[0m\u001b[1;33m(\u001b[0m\u001b[0mkey\u001b[0m\u001b[1;33m)\u001b[0m\u001b[1;33m\u001b[0m\u001b[1;33m\u001b[0m\u001b[0m\n\u001b[0m\u001b[0;32m   2647\u001b[0m             \u001b[1;32mexcept\u001b[0m \u001b[0mKeyError\u001b[0m\u001b[1;33m:\u001b[0m\u001b[1;33m\u001b[0m\u001b[1;33m\u001b[0m\u001b[0m\n",
      "\u001b[1;32mpandas\\_libs\\index.pyx\u001b[0m in \u001b[0;36mpandas._libs.index.IndexEngine.get_loc\u001b[1;34m()\u001b[0m\n",
      "\u001b[1;32mpandas\\_libs\\index.pyx\u001b[0m in \u001b[0;36mpandas._libs.index.IndexEngine.get_loc\u001b[1;34m()\u001b[0m\n",
      "\u001b[1;32mpandas\\_libs\\hashtable_class_helper.pxi\u001b[0m in \u001b[0;36mpandas._libs.hashtable.PyObjectHashTable.get_item\u001b[1;34m()\u001b[0m\n",
      "\u001b[1;32mpandas\\_libs\\hashtable_class_helper.pxi\u001b[0m in \u001b[0;36mpandas._libs.hashtable.PyObjectHashTable.get_item\u001b[1;34m()\u001b[0m\n",
      "\u001b[1;31mKeyError\u001b[0m: 'COST'",
      "\nDuring handling of the above exception, another exception occurred:\n",
      "\u001b[1;31mKeyError\u001b[0m                                  Traceback (most recent call last)",
      "\u001b[1;32m<ipython-input-10-0d9fe3d8fbc0>\u001b[0m in \u001b[0;36m<module>\u001b[1;34m\u001b[0m\n\u001b[0;32m      1\u001b[0m \u001b[1;31m#checking unique values for categorical columns and their value_counts\u001b[0m\u001b[1;33m\u001b[0m\u001b[1;33m\u001b[0m\u001b[1;33m\u001b[0m\u001b[0m\n\u001b[0;32m      2\u001b[0m \u001b[1;32mfor\u001b[0m \u001b[0mcolumn\u001b[0m \u001b[1;32min\u001b[0m \u001b[0mtrain_data\u001b[0m\u001b[1;33m.\u001b[0m\u001b[0mcolumns\u001b[0m\u001b[1;33m:\u001b[0m\u001b[1;33m\u001b[0m\u001b[1;33m\u001b[0m\u001b[0m\n\u001b[1;32m----> 3\u001b[1;33m     \u001b[1;32mif\u001b[0m \u001b[0mtest_data\u001b[0m\u001b[1;33m[\u001b[0m\u001b[0mcolumn\u001b[0m\u001b[1;33m]\u001b[0m\u001b[1;33m.\u001b[0m\u001b[0mdtype\u001b[0m\u001b[1;33m==\u001b[0m\u001b[0mobject\u001b[0m\u001b[1;33m:\u001b[0m\u001b[1;33m\u001b[0m\u001b[1;33m\u001b[0m\u001b[0m\n\u001b[0m\u001b[0;32m      4\u001b[0m         \u001b[0mprint\u001b[0m\u001b[1;33m(\u001b[0m\u001b[0mstr\u001b[0m\u001b[1;33m(\u001b[0m\u001b[0mcolumn\u001b[0m\u001b[1;33m)\u001b[0m \u001b[1;33m+\u001b[0m \u001b[1;34m':'\u001b[0m \u001b[1;33m+\u001b[0m \u001b[0mstr\u001b[0m\u001b[1;33m(\u001b[0m\u001b[0mtest_data\u001b[0m\u001b[1;33m[\u001b[0m\u001b[0mcolumn\u001b[0m\u001b[1;33m]\u001b[0m\u001b[1;33m.\u001b[0m\u001b[0munique\u001b[0m\u001b[1;33m(\u001b[0m\u001b[1;33m)\u001b[0m\u001b[1;33m)\u001b[0m\u001b[1;33m)\u001b[0m\u001b[1;33m\u001b[0m\u001b[1;33m\u001b[0m\u001b[0m\n\u001b[0;32m      5\u001b[0m         \u001b[0mprint\u001b[0m\u001b[1;33m(\u001b[0m\u001b[0mtest_data\u001b[0m\u001b[1;33m[\u001b[0m\u001b[0mcolumn\u001b[0m\u001b[1;33m]\u001b[0m\u001b[1;33m.\u001b[0m\u001b[0mvalue_counts\u001b[0m\u001b[1;33m(\u001b[0m\u001b[1;33m)\u001b[0m\u001b[1;33m)\u001b[0m\u001b[1;33m\u001b[0m\u001b[1;33m\u001b[0m\u001b[0m\n",
      "\u001b[1;32m~\\anaconda3\\lib\\site-packages\\pandas\\core\\frame.py\u001b[0m in \u001b[0;36m__getitem__\u001b[1;34m(self, key)\u001b[0m\n\u001b[0;32m   2798\u001b[0m             \u001b[1;32mif\u001b[0m \u001b[0mself\u001b[0m\u001b[1;33m.\u001b[0m\u001b[0mcolumns\u001b[0m\u001b[1;33m.\u001b[0m\u001b[0mnlevels\u001b[0m \u001b[1;33m>\u001b[0m \u001b[1;36m1\u001b[0m\u001b[1;33m:\u001b[0m\u001b[1;33m\u001b[0m\u001b[1;33m\u001b[0m\u001b[0m\n\u001b[0;32m   2799\u001b[0m                 \u001b[1;32mreturn\u001b[0m \u001b[0mself\u001b[0m\u001b[1;33m.\u001b[0m\u001b[0m_getitem_multilevel\u001b[0m\u001b[1;33m(\u001b[0m\u001b[0mkey\u001b[0m\u001b[1;33m)\u001b[0m\u001b[1;33m\u001b[0m\u001b[1;33m\u001b[0m\u001b[0m\n\u001b[1;32m-> 2800\u001b[1;33m             \u001b[0mindexer\u001b[0m \u001b[1;33m=\u001b[0m \u001b[0mself\u001b[0m\u001b[1;33m.\u001b[0m\u001b[0mcolumns\u001b[0m\u001b[1;33m.\u001b[0m\u001b[0mget_loc\u001b[0m\u001b[1;33m(\u001b[0m\u001b[0mkey\u001b[0m\u001b[1;33m)\u001b[0m\u001b[1;33m\u001b[0m\u001b[1;33m\u001b[0m\u001b[0m\n\u001b[0m\u001b[0;32m   2801\u001b[0m             \u001b[1;32mif\u001b[0m \u001b[0mis_integer\u001b[0m\u001b[1;33m(\u001b[0m\u001b[0mindexer\u001b[0m\u001b[1;33m)\u001b[0m\u001b[1;33m:\u001b[0m\u001b[1;33m\u001b[0m\u001b[1;33m\u001b[0m\u001b[0m\n\u001b[0;32m   2802\u001b[0m                 \u001b[0mindexer\u001b[0m \u001b[1;33m=\u001b[0m \u001b[1;33m[\u001b[0m\u001b[0mindexer\u001b[0m\u001b[1;33m]\u001b[0m\u001b[1;33m\u001b[0m\u001b[1;33m\u001b[0m\u001b[0m\n",
      "\u001b[1;32m~\\anaconda3\\lib\\site-packages\\pandas\\core\\indexes\\base.py\u001b[0m in \u001b[0;36mget_loc\u001b[1;34m(self, key, method, tolerance)\u001b[0m\n\u001b[0;32m   2646\u001b[0m                 \u001b[1;32mreturn\u001b[0m \u001b[0mself\u001b[0m\u001b[1;33m.\u001b[0m\u001b[0m_engine\u001b[0m\u001b[1;33m.\u001b[0m\u001b[0mget_loc\u001b[0m\u001b[1;33m(\u001b[0m\u001b[0mkey\u001b[0m\u001b[1;33m)\u001b[0m\u001b[1;33m\u001b[0m\u001b[1;33m\u001b[0m\u001b[0m\n\u001b[0;32m   2647\u001b[0m             \u001b[1;32mexcept\u001b[0m \u001b[0mKeyError\u001b[0m\u001b[1;33m:\u001b[0m\u001b[1;33m\u001b[0m\u001b[1;33m\u001b[0m\u001b[0m\n\u001b[1;32m-> 2648\u001b[1;33m                 \u001b[1;32mreturn\u001b[0m \u001b[0mself\u001b[0m\u001b[1;33m.\u001b[0m\u001b[0m_engine\u001b[0m\u001b[1;33m.\u001b[0m\u001b[0mget_loc\u001b[0m\u001b[1;33m(\u001b[0m\u001b[0mself\u001b[0m\u001b[1;33m.\u001b[0m\u001b[0m_maybe_cast_indexer\u001b[0m\u001b[1;33m(\u001b[0m\u001b[0mkey\u001b[0m\u001b[1;33m)\u001b[0m\u001b[1;33m)\u001b[0m\u001b[1;33m\u001b[0m\u001b[1;33m\u001b[0m\u001b[0m\n\u001b[0m\u001b[0;32m   2649\u001b[0m         \u001b[0mindexer\u001b[0m \u001b[1;33m=\u001b[0m \u001b[0mself\u001b[0m\u001b[1;33m.\u001b[0m\u001b[0mget_indexer\u001b[0m\u001b[1;33m(\u001b[0m\u001b[1;33m[\u001b[0m\u001b[0mkey\u001b[0m\u001b[1;33m]\u001b[0m\u001b[1;33m,\u001b[0m \u001b[0mmethod\u001b[0m\u001b[1;33m=\u001b[0m\u001b[0mmethod\u001b[0m\u001b[1;33m,\u001b[0m \u001b[0mtolerance\u001b[0m\u001b[1;33m=\u001b[0m\u001b[0mtolerance\u001b[0m\u001b[1;33m)\u001b[0m\u001b[1;33m\u001b[0m\u001b[1;33m\u001b[0m\u001b[0m\n\u001b[0;32m   2650\u001b[0m         \u001b[1;32mif\u001b[0m \u001b[0mindexer\u001b[0m\u001b[1;33m.\u001b[0m\u001b[0mndim\u001b[0m \u001b[1;33m>\u001b[0m \u001b[1;36m1\u001b[0m \u001b[1;32mor\u001b[0m \u001b[0mindexer\u001b[0m\u001b[1;33m.\u001b[0m\u001b[0msize\u001b[0m \u001b[1;33m>\u001b[0m \u001b[1;36m1\u001b[0m\u001b[1;33m:\u001b[0m\u001b[1;33m\u001b[0m\u001b[1;33m\u001b[0m\u001b[0m\n",
      "\u001b[1;32mpandas\\_libs\\index.pyx\u001b[0m in \u001b[0;36mpandas._libs.index.IndexEngine.get_loc\u001b[1;34m()\u001b[0m\n",
      "\u001b[1;32mpandas\\_libs\\index.pyx\u001b[0m in \u001b[0;36mpandas._libs.index.IndexEngine.get_loc\u001b[1;34m()\u001b[0m\n",
      "\u001b[1;32mpandas\\_libs\\hashtable_class_helper.pxi\u001b[0m in \u001b[0;36mpandas._libs.hashtable.PyObjectHashTable.get_item\u001b[1;34m()\u001b[0m\n",
      "\u001b[1;32mpandas\\_libs\\hashtable_class_helper.pxi\u001b[0m in \u001b[0;36mpandas._libs.hashtable.PyObjectHashTable.get_item\u001b[1;34m()\u001b[0m\n",
      "\u001b[1;31mKeyError\u001b[0m: 'COST'"
     ]
    }
   ],
   "source": [
    "#checking unique values for categorical columns and their value_counts\n",
    "for column in train_data.columns:\n",
    "    if test_data[column].dtype==object:\n",
    "        print(str(column) + ':' + str(test_data[column].unique()))\n",
    "        print(test_data[column].value_counts())\n",
    "        print('**********************************')\n",
    "        print('\\n')"
   ]
  },
  {
   "cell_type": "code",
   "execution_count": 11,
   "metadata": {},
   "outputs": [],
   "source": [
    "#Encoding the attributes\n",
    "from sklearn.preprocessing import LabelEncoder\n",
    "le=LabelEncoder() \n",
    "list1=['TITLE','CUISINES','TIME','CITY','LOCALITY','RATING','VOTES']\n",
    "for val in list1:\n",
    "    test_data[val]=le.fit_transform(test_data[val].astype(str))"
   ]
  },
  {
   "cell_type": "code",
   "execution_count": 12,
   "metadata": {},
   "outputs": [],
   "source": [
    "#dropping the columns 'RESTAURANT_ID','TIME','VOTES'\n",
    "test_data.drop(['RESTAURANT_ID','TIME','VOTES'],axis=1,inplace=True)"
   ]
  },
  {
   "cell_type": "code",
   "execution_count": 13,
   "metadata": {},
   "outputs": [
    {
     "data": {
      "text/html": [
       "<div>\n",
       "<style scoped>\n",
       "    .dataframe tbody tr th:only-of-type {\n",
       "        vertical-align: middle;\n",
       "    }\n",
       "\n",
       "    .dataframe tbody tr th {\n",
       "        vertical-align: top;\n",
       "    }\n",
       "\n",
       "    .dataframe thead th {\n",
       "        text-align: right;\n",
       "    }\n",
       "</style>\n",
       "<table border=\"1\" class=\"dataframe\">\n",
       "  <thead>\n",
       "    <tr style=\"text-align: right;\">\n",
       "      <th></th>\n",
       "      <th>TITLE</th>\n",
       "      <th>CUISINES</th>\n",
       "      <th>CITY</th>\n",
       "      <th>LOCALITY</th>\n",
       "      <th>RATING</th>\n",
       "    </tr>\n",
       "  </thead>\n",
       "  <tbody>\n",
       "    <tr>\n",
       "      <th>0</th>\n",
       "      <td>23</td>\n",
       "      <td>1293</td>\n",
       "      <td>110</td>\n",
       "      <td>662</td>\n",
       "      <td>23</td>\n",
       "    </tr>\n",
       "    <tr>\n",
       "      <th>1</th>\n",
       "      <td>75</td>\n",
       "      <td>1632</td>\n",
       "      <td>96</td>\n",
       "      <td>221</td>\n",
       "      <td>22</td>\n",
       "    </tr>\n",
       "    <tr>\n",
       "      <th>2</th>\n",
       "      <td>23</td>\n",
       "      <td>1455</td>\n",
       "      <td>96</td>\n",
       "      <td>411</td>\n",
       "      <td>18</td>\n",
       "    </tr>\n",
       "    <tr>\n",
       "      <th>3</th>\n",
       "      <td>66</td>\n",
       "      <td>208</td>\n",
       "      <td>41</td>\n",
       "      <td>456</td>\n",
       "      <td>18</td>\n",
       "    </tr>\n",
       "    <tr>\n",
       "      <th>4</th>\n",
       "      <td>75</td>\n",
       "      <td>1637</td>\n",
       "      <td>78</td>\n",
       "      <td>300</td>\n",
       "      <td>16</td>\n",
       "    </tr>\n",
       "  </tbody>\n",
       "</table>\n",
       "</div>"
      ],
      "text/plain": [
       "   TITLE  CUISINES  CITY  LOCALITY  RATING\n",
       "0     23      1293   110       662      23\n",
       "1     75      1632    96       221      22\n",
       "2     23      1455    96       411      18\n",
       "3     66       208    41       456      18\n",
       "4     75      1637    78       300      16"
      ]
     },
     "execution_count": 13,
     "metadata": {},
     "output_type": "execute_result"
    }
   ],
   "source": [
    "test_data.head()"
   ]
  },
  {
   "cell_type": "markdown",
   "metadata": {},
   "source": [
    "# Model Training"
   ]
  },
  {
   "cell_type": "code",
   "execution_count": 38,
   "metadata": {},
   "outputs": [
    {
     "data": {
      "text/html": [
       "<div>\n",
       "<style scoped>\n",
       "    .dataframe tbody tr th:only-of-type {\n",
       "        vertical-align: middle;\n",
       "    }\n",
       "\n",
       "    .dataframe tbody tr th {\n",
       "        vertical-align: top;\n",
       "    }\n",
       "\n",
       "    .dataframe thead th {\n",
       "        text-align: right;\n",
       "    }\n",
       "</style>\n",
       "<table border=\"1\" class=\"dataframe\">\n",
       "  <thead>\n",
       "    <tr style=\"text-align: right;\">\n",
       "      <th></th>\n",
       "      <th>TITLE</th>\n",
       "      <th>CUISINES</th>\n",
       "      <th>CITY</th>\n",
       "      <th>LOCALITY</th>\n",
       "      <th>RATING</th>\n",
       "    </tr>\n",
       "  </thead>\n",
       "  <tbody>\n",
       "    <tr>\n",
       "      <th>0</th>\n",
       "      <td>31</td>\n",
       "      <td>2627</td>\n",
       "      <td>320</td>\n",
       "      <td>285</td>\n",
       "      <td>17</td>\n",
       "    </tr>\n",
       "    <tr>\n",
       "      <th>1</th>\n",
       "      <td>33</td>\n",
       "      <td>289</td>\n",
       "      <td>67</td>\n",
       "      <td>1046</td>\n",
       "      <td>23</td>\n",
       "    </tr>\n",
       "    <tr>\n",
       "      <th>2</th>\n",
       "      <td>31</td>\n",
       "      <td>2976</td>\n",
       "      <td>67</td>\n",
       "      <td>1101</td>\n",
       "      <td>19</td>\n",
       "    </tr>\n",
       "    <tr>\n",
       "      <th>3</th>\n",
       "      <td>95</td>\n",
       "      <td>4130</td>\n",
       "      <td>222</td>\n",
       "      <td>136</td>\n",
       "      <td>22</td>\n",
       "    </tr>\n",
       "    <tr>\n",
       "      <th>4</th>\n",
       "      <td>50</td>\n",
       "      <td>1766</td>\n",
       "      <td>222</td>\n",
       "      <td>620</td>\n",
       "      <td>19</td>\n",
       "    </tr>\n",
       "  </tbody>\n",
       "</table>\n",
       "</div>"
      ],
      "text/plain": [
       "   TITLE  CUISINES  CITY  LOCALITY  RATING\n",
       "0     31      2627   320       285      17\n",
       "1     33       289    67      1046      23\n",
       "2     31      2976    67      1101      19\n",
       "3     95      4130   222       136      22\n",
       "4     50      1766   222       620      19"
      ]
     },
     "execution_count": 38,
     "metadata": {},
     "output_type": "execute_result"
    }
   ],
   "source": [
    "#Splitting data into input and output variable\n",
    "x=df.drop(['COST'],axis=1)\n",
    "x.head()"
   ]
  },
  {
   "cell_type": "code",
   "execution_count": 39,
   "metadata": {},
   "outputs": [],
   "source": [
    "#scaling the input data\n",
    "from sklearn.preprocessing import StandardScaler\n",
    "sc=StandardScaler()\n",
    "x=sc.fit_transform(x)"
   ]
  },
  {
   "cell_type": "code",
   "execution_count": 40,
   "metadata": {},
   "outputs": [],
   "source": [
    "x=pd.DataFrame(x)"
   ]
  },
  {
   "cell_type": "code",
   "execution_count": 41,
   "metadata": {},
   "outputs": [],
   "source": [
    "x.columns=['TITLE','CUISINES','CITY','LOCALITY','RATING']"
   ]
  },
  {
   "cell_type": "code",
   "execution_count": 42,
   "metadata": {},
   "outputs": [
    {
     "data": {
      "text/html": [
       "<div>\n",
       "<style scoped>\n",
       "    .dataframe tbody tr th:only-of-type {\n",
       "        vertical-align: middle;\n",
       "    }\n",
       "\n",
       "    .dataframe tbody tr th {\n",
       "        vertical-align: top;\n",
       "    }\n",
       "\n",
       "    .dataframe thead th {\n",
       "        text-align: right;\n",
       "    }\n",
       "</style>\n",
       "<table border=\"1\" class=\"dataframe\">\n",
       "  <thead>\n",
       "    <tr style=\"text-align: right;\">\n",
       "      <th></th>\n",
       "      <th>TITLE</th>\n",
       "      <th>CUISINES</th>\n",
       "      <th>CITY</th>\n",
       "      <th>LOCALITY</th>\n",
       "      <th>RATING</th>\n",
       "    </tr>\n",
       "  </thead>\n",
       "  <tbody>\n",
       "    <tr>\n",
       "      <th>0</th>\n",
       "      <td>-0.872329</td>\n",
       "      <td>0.325520</td>\n",
       "      <td>2.100234</td>\n",
       "      <td>-0.917653</td>\n",
       "      <td>-0.500500</td>\n",
       "    </tr>\n",
       "    <tr>\n",
       "      <th>1</th>\n",
       "      <td>-0.811513</td>\n",
       "      <td>-1.609257</td>\n",
       "      <td>-0.869811</td>\n",
       "      <td>0.988827</td>\n",
       "      <td>0.699618</td>\n",
       "    </tr>\n",
       "    <tr>\n",
       "      <th>2</th>\n",
       "      <td>-0.872329</td>\n",
       "      <td>0.614330</td>\n",
       "      <td>-0.869811</td>\n",
       "      <td>1.126615</td>\n",
       "      <td>-0.100461</td>\n",
       "    </tr>\n",
       "    <tr>\n",
       "      <th>3</th>\n",
       "      <td>1.073787</td>\n",
       "      <td>1.569305</td>\n",
       "      <td>0.949782</td>\n",
       "      <td>-1.290933</td>\n",
       "      <td>0.499598</td>\n",
       "    </tr>\n",
       "    <tr>\n",
       "      <th>4</th>\n",
       "      <td>-0.294576</td>\n",
       "      <td>-0.386988</td>\n",
       "      <td>0.949782</td>\n",
       "      <td>-0.078401</td>\n",
       "      <td>-0.100461</td>\n",
       "    </tr>\n",
       "    <tr>\n",
       "      <th>...</th>\n",
       "      <td>...</td>\n",
       "      <td>...</td>\n",
       "      <td>...</td>\n",
       "      <td>...</td>\n",
       "      <td>...</td>\n",
       "    </tr>\n",
       "    <tr>\n",
       "      <th>11967</th>\n",
       "      <td>1.073787</td>\n",
       "      <td>0.579573</td>\n",
       "      <td>-0.118495</td>\n",
       "      <td>-0.774855</td>\n",
       "      <td>-0.100461</td>\n",
       "    </tr>\n",
       "    <tr>\n",
       "      <th>11968</th>\n",
       "      <td>-0.811513</td>\n",
       "      <td>-0.075007</td>\n",
       "      <td>0.949782</td>\n",
       "      <td>-1.298448</td>\n",
       "      <td>0.899638</td>\n",
       "    </tr>\n",
       "    <tr>\n",
       "      <th>11969</th>\n",
       "      <td>0.343993</td>\n",
       "      <td>-0.120521</td>\n",
       "      <td>1.149350</td>\n",
       "      <td>1.730376</td>\n",
       "      <td>0.299579</td>\n",
       "    </tr>\n",
       "    <tr>\n",
       "      <th>11970</th>\n",
       "      <td>-0.872329</td>\n",
       "      <td>1.052923</td>\n",
       "      <td>-0.869811</td>\n",
       "      <td>-0.050843</td>\n",
       "      <td>-0.700520</td>\n",
       "    </tr>\n",
       "    <tr>\n",
       "      <th>11971</th>\n",
       "      <td>-0.872329</td>\n",
       "      <td>0.589504</td>\n",
       "      <td>-0.118495</td>\n",
       "      <td>1.707829</td>\n",
       "      <td>-0.900540</td>\n",
       "    </tr>\n",
       "  </tbody>\n",
       "</table>\n",
       "<p>11972 rows × 5 columns</p>\n",
       "</div>"
      ],
      "text/plain": [
       "          TITLE  CUISINES      CITY  LOCALITY    RATING\n",
       "0     -0.872329  0.325520  2.100234 -0.917653 -0.500500\n",
       "1     -0.811513 -1.609257 -0.869811  0.988827  0.699618\n",
       "2     -0.872329  0.614330 -0.869811  1.126615 -0.100461\n",
       "3      1.073787  1.569305  0.949782 -1.290933  0.499598\n",
       "4     -0.294576 -0.386988  0.949782 -0.078401 -0.100461\n",
       "...         ...       ...       ...       ...       ...\n",
       "11967  1.073787  0.579573 -0.118495 -0.774855 -0.100461\n",
       "11968 -0.811513 -0.075007  0.949782 -1.298448  0.899638\n",
       "11969  0.343993 -0.120521  1.149350  1.730376  0.299579\n",
       "11970 -0.872329  1.052923 -0.869811 -0.050843 -0.700520\n",
       "11971 -0.872329  0.589504 -0.118495  1.707829 -0.900540\n",
       "\n",
       "[11972 rows x 5 columns]"
      ]
     },
     "execution_count": 42,
     "metadata": {},
     "output_type": "execute_result"
    }
   ],
   "source": [
    "x"
   ]
  },
  {
   "cell_type": "code",
   "execution_count": 43,
   "metadata": {},
   "outputs": [
    {
     "data": {
      "text/plain": [
       "array([7.09090982, 7.31388683, 6.68586095, ..., 7.17088848, 5.99396143,\n",
       "       6.39859493])"
      ]
     },
     "execution_count": 43,
     "metadata": {},
     "output_type": "execute_result"
    }
   ],
   "source": [
    "#target column\n",
    "y=df['COST'].values\n",
    "y"
   ]
  },
  {
   "cell_type": "code",
   "execution_count": 44,
   "metadata": {},
   "outputs": [
    {
     "data": {
      "text/plain": [
       "(11972, 5)"
      ]
     },
     "execution_count": 44,
     "metadata": {},
     "output_type": "execute_result"
    }
   ],
   "source": [
    "#Checking the shape of input and output variable\n",
    "x.shape"
   ]
  },
  {
   "cell_type": "code",
   "execution_count": 45,
   "metadata": {},
   "outputs": [
    {
     "data": {
      "text/plain": [
       "(11972,)"
      ]
     },
     "execution_count": 45,
     "metadata": {},
     "output_type": "execute_result"
    }
   ],
   "source": [
    "y.shape"
   ]
  },
  {
   "cell_type": "code",
   "execution_count": 46,
   "metadata": {},
   "outputs": [
    {
     "data": {
      "text/plain": [
       "(11972, 1)"
      ]
     },
     "execution_count": 46,
     "metadata": {},
     "output_type": "execute_result"
    }
   ],
   "source": [
    "y=y.reshape(-1,1)\n",
    "y.shape"
   ]
  },
  {
   "cell_type": "code",
   "execution_count": 47,
   "metadata": {},
   "outputs": [
    {
     "data": {
      "text/plain": [
       "array([[7.09090982],\n",
       "       [7.31388683],\n",
       "       [6.68586095],\n",
       "       ...,\n",
       "       [7.17088848],\n",
       "       [5.99396143],\n",
       "       [6.39859493]])"
      ]
     },
     "execution_count": 47,
     "metadata": {},
     "output_type": "execute_result"
    }
   ],
   "source": [
    "y"
   ]
  },
  {
   "cell_type": "code",
   "execution_count": 48,
   "metadata": {},
   "outputs": [],
   "source": [
    "#Importing all the libraries,metrices required for ML \n",
    "from sklearn.linear_model import LinearRegression,Lasso,Ridge,ElasticNet\n",
    "from sklearn.svm import SVR\n",
    "from sklearn.tree import DecisionTreeRegressor\n",
    "from sklearn.neighbors import KNeighborsRegressor\n",
    "\n",
    "from sklearn.ensemble import RandomForestRegressor\n",
    "from sklearn.ensemble import AdaBoostRegressor\n",
    "from sklearn.ensemble import GradientBoostingRegressor\n",
    "from sklearn.metrics import mean_squared_error,mean_absolute_error,r2_score\n",
    "from sklearn.model_selection import train_test_split,GridSearchCV,cross_val_score\n",
    "\n",
    "import warnings\n",
    "warnings.filterwarnings('ignore')"
   ]
  },
  {
   "cell_type": "code",
   "execution_count": 49,
   "metadata": {},
   "outputs": [],
   "source": [
    "#splitting the data into training and testing\n",
    "x_train,x_test,y_train,y_test=train_test_split(x,y,test_size=.20,random_state=42) "
   ]
  },
  {
   "cell_type": "code",
   "execution_count": 50,
   "metadata": {},
   "outputs": [
    {
     "name": "stdout",
     "output_type": "stream",
     "text": [
      "(9577, 5) (2395, 5)\n"
     ]
    }
   ],
   "source": [
    "#checking the shape of training and testing data\n",
    "print(x_train.shape,x_test.shape)"
   ]
  },
  {
   "cell_type": "code",
   "execution_count": 51,
   "metadata": {},
   "outputs": [
    {
     "name": "stdout",
     "output_type": "stream",
     "text": [
      "(9577, 1) (2395, 1)\n"
     ]
    }
   ],
   "source": [
    "print(y_train.shape,y_test.shape)"
   ]
  },
  {
   "cell_type": "code",
   "execution_count": 52,
   "metadata": {},
   "outputs": [
    {
     "name": "stdout",
     "output_type": "stream",
     "text": [
      "Score of LinearRegression() is: 0.21885859664796714\n",
      "Mean Absolute Error: 0.4524017395376396\n",
      "Mean Squared Error: 0.33758267585734353\n",
      "RMSE: 0.5810186536225352\n",
      "r2_score: 0.24119938352825243\n",
      "****************************************\n",
      "\n",
      "\n",
      "Score of Lasso() is: 0.0\n",
      "Mean Absolute Error: 0.534894401617402\n",
      "Mean Squared Error: 0.44522486179345333\n",
      "RMSE: 0.6672517229602734\n",
      "r2_score: -0.0007530710497267723\n",
      "****************************************\n",
      "\n",
      "\n",
      "Score of Ridge() is: 0.218858594110662\n",
      "Mean Absolute Error: 0.4524030578848666\n",
      "Mean Squared Error: 0.33758340008442983\n",
      "RMSE: 0.5810192768613016\n",
      "r2_score: 0.2411977556486281\n",
      "****************************************\n",
      "\n",
      "\n",
      "Score of ElasticNet() is: 0.0\n",
      "Mean Absolute Error: 0.534894401617402\n",
      "Mean Squared Error: 0.44522486179345333\n",
      "RMSE: 0.6672517229602734\n",
      "r2_score: -0.0007530710497267723\n",
      "****************************************\n",
      "\n",
      "\n",
      "Score of SVR() is: 0.4272427477692682\n",
      "Mean Absolute Error: 0.388691956119899\n",
      "Mean Squared Error: 0.26440873425467776\n",
      "RMSE: 0.5142068982954991\n",
      "r2_score: 0.4056759279977147\n",
      "****************************************\n",
      "\n",
      "\n",
      "Score of DecisionTreeRegressor() is: 0.9984202388605687\n",
      "Mean Absolute Error: 0.39803048640455385\n",
      "Mean Squared Error: 0.2721197119512209\n",
      "RMSE: 0.5216509483852406\n",
      "r2_score: 0.38834359714016375\n",
      "****************************************\n",
      "\n",
      "\n",
      "Score of KNeighborsRegressor() is: 0.6150160874545518\n",
      "Mean Absolute Error: 0.3919461766094763\n",
      "Mean Squared Error: 0.26813052649729774\n",
      "RMSE: 0.5178132158387788\n",
      "r2_score: 0.3973102787803561\n",
      "****************************************\n",
      "\n",
      "\n",
      "Score of RandomForestRegressor() is: 0.9522939067577316\n",
      "Mean Absolute Error: 0.3076079883790993\n",
      "Mean Squared Error: 0.15687540547759524\n",
      "RMSE: 0.39607499981391814\n",
      "r2_score: 0.647383699168385\n",
      "****************************************\n",
      "\n",
      "\n",
      "Score of AdaBoostRegressor() is: 0.3643453950535456\n",
      "Mean Absolute Error: 0.4191094503221226\n",
      "Mean Squared Error: 0.2843917639503813\n",
      "RMSE: 0.5332839430832146\n",
      "r2_score: 0.36075912291118606\n",
      "****************************************\n",
      "\n",
      "\n",
      "Score of GradientBoostingRegressor() is: 0.6574388640323363\n",
      "Mean Absolute Error: 0.3141283649615787\n",
      "Mean Squared Error: 0.16468470481679462\n",
      "RMSE: 0.40581363310859164\n",
      "r2_score: 0.6298303660841333\n",
      "****************************************\n",
      "\n",
      "\n"
     ]
    }
   ],
   "source": [
    "#All algorithms using loop\n",
    "model=[LinearRegression(),Lasso(),Ridge(),ElasticNet(),SVR(),DecisionTreeRegressor(),KNeighborsRegressor(),RandomForestRegressor(),AdaBoostRegressor(), GradientBoostingRegressor()]\n",
    "\n",
    "for m in model:\n",
    "    m.fit(x_train,y_train)\n",
    "    Score=m.score(x_train,y_train)\n",
    "    predm=m.predict(x_test)\n",
    "    print('Score of',m,'is:',Score)\n",
    "    print('Mean Absolute Error:',mean_absolute_error(y_test,predm))\n",
    "    print('Mean Squared Error:',mean_squared_error(y_test,predm))\n",
    "    print('RMSE:',np.sqrt(mean_squared_error(y_test,predm)))\n",
    "    print('r2_score:',r2_score(y_test,predm))\n",
    "    print('****************************************')\n",
    "    print('\\n')"
   ]
  },
  {
   "cell_type": "markdown",
   "metadata": {},
   "source": [
    "GradientBoostingRegressor and RandomForestRegressor are working well. \n"
   ]
  },
  {
   "cell_type": "code",
   "execution_count": 54,
   "metadata": {},
   "outputs": [
    {
     "data": {
      "text/plain": [
       "{'learning_rate': 0.1, 'n_estimators': 500}"
      ]
     },
     "execution_count": 54,
     "metadata": {},
     "output_type": "execute_result"
    }
   ],
   "source": [
    "#Using GridSearchCV for hyper parameter tuning of GradientBoostingRegressor\n",
    "gbr=GradientBoostingRegressor()\n",
    "parameters={'learning_rate':[0.001,0.01,0.1,1],'n_estimators':[50,100,150,200,250,300,350,400,450,500]}\n",
    "clf=GridSearchCV(gbr,parameters,cv=5)\n",
    "clf.fit(x,y)\n",
    "clf.best_params_"
   ]
  },
  {
   "cell_type": "markdown",
   "metadata": {},
   "source": [
    "Using the best params:'learning_rate': 0.1, 'n_estimators': 500 in GradientBoostingRegressor"
   ]
  },
  {
   "cell_type": "code",
   "execution_count": 55,
   "metadata": {},
   "outputs": [
    {
     "name": "stdout",
     "output_type": "stream",
     "text": [
      "Score of GradientBoostingRegressor() is: 0.7533675528504278\n",
      "Mean Absolute Error: 0.29246629933494783\n",
      "Mean Squared Error: 0.1422314125232387\n",
      "RMSE: 0.377135801168808\n",
      "r2_score: 0.6802996977549634\n"
     ]
    }
   ],
   "source": [
    "gbr=GradientBoostingRegressor(learning_rate=0.1,n_estimators=500)\n",
    "gbr.fit(x_train,y_train)\n",
    "Sc=gbr.score(x_train,y_train)\n",
    "predm=gbr.predict(x_test)\n",
    "print('Score of',gbr,'is:',Sc)\n",
    "print('Mean Absolute Error:',mean_absolute_error(y_test,predm))\n",
    "print('Mean Squared Error:',mean_squared_error(y_test,predm))\n",
    "print('RMSE:',np.sqrt(mean_squared_error(y_test,predm)))\n",
    "print('r2_score:',r2_score(y_test,predm))"
   ]
  },
  {
   "cell_type": "code",
   "execution_count": 56,
   "metadata": {},
   "outputs": [
    {
     "data": {
      "text/plain": [
       "{'n_estimators': 400}"
      ]
     },
     "execution_count": 56,
     "metadata": {},
     "output_type": "execute_result"
    }
   ],
   "source": [
    "#Using GridSearchCV for hyper parameter tuning of RandomForestRegressor\n",
    "rfr=RandomForestRegressor()\n",
    "\n",
    "parameters={'n_estimators':[150,100,150,200,250,300,350,400,450,500]} #Searching best parameters\n",
    "clf=GridSearchCV(rfr,parameters,cv=5)\n",
    "clf.fit(x,y)\n",
    "clf.best_params_"
   ]
  },
  {
   "cell_type": "code",
   "execution_count": 58,
   "metadata": {},
   "outputs": [
    {
     "name": "stdout",
     "output_type": "stream",
     "text": [
      "Score of RandomForestRegressor(n_estimators=400) is: 0.9538643071390568\n",
      "Mean Absolute Error: 0.30746925622707827\n",
      "Mean Squared Error: 0.156877483723886\n",
      "RMSE: 0.39607762335669255\n",
      "r2_score: 0.6473790277954758\n"
     ]
    }
   ],
   "source": [
    "#Using the best params: 'n_estimators': 400 in RandomForestRegressor\n",
    "rfr=RandomForestRegressor(n_estimators=400)\n",
    "rfr.fit(x_train,y_train)\n",
    "Scr=rfr.score(x_train,y_train)\n",
    "predm=rfr.predict(x_test)\n",
    "print('Score of',rfr,'is:',Scr)\n",
    "print('Mean Absolute Error:',mean_absolute_error(y_test,predm))\n",
    "print('Mean Squared Error:',mean_squared_error(y_test,predm))\n",
    "print('RMSE:',np.sqrt(mean_squared_error(y_test,predm)))\n",
    "print('r2_score:',r2_score(y_test,predm))"
   ]
  },
  {
   "cell_type": "code",
   "execution_count": 59,
   "metadata": {},
   "outputs": [
    {
     "name": "stdout",
     "output_type": "stream",
     "text": [
      "Mean r2_score for GradientBoostingRegressor: 0.6967720099261456\n",
      "Standard deviation in r2_score for GradientBoostingRegressor: 0.014375290199872728\n",
      "\n",
      "\n",
      "Mean r2_score for RandomForestRegressor: 0.661793449704107\n",
      "Standard deviation in r2_score for RandomForestRegressor: 0.020693574486864666\n"
     ]
    }
   ],
   "source": [
    "#checking cross_val_score for GradientBoostingRegressor and RandomForestRegressor\n",
    "from sklearn.model_selection import cross_val_score\n",
    "print(\"Mean r2_score for GradientBoostingRegressor:\",cross_val_score(gbr,x,y,cv=10,scoring=\"r2\").mean())\n",
    "print(\"Standard deviation in r2_score for GradientBoostingRegressor:\",cross_val_score(gbr,x,y,cv=10,scoring=\"r2\").std())\n",
    "print('\\n')\n",
    "print(\"Mean r2_score for RandomForestRegressor:\",cross_val_score(rfr,x,y,cv=10,scoring=\"r2\").mean())\n",
    "print(\"Standard deviation in r2_score for RandomForestRegressor:\",cross_val_score(rfr,x,y,cv=10,scoring=\"r2\").std())"
   ]
  },
  {
   "cell_type": "markdown",
   "metadata": {},
   "source": [
    "We are choosing RandomForestRegressor as our final model since it's giving us best score."
   ]
  },
  {
   "cell_type": "code",
   "execution_count": 60,
   "metadata": {},
   "outputs": [
    {
     "data": {
      "text/plain": [
       "['Food_dataset.obj']"
      ]
     },
     "execution_count": 60,
     "metadata": {},
     "output_type": "execute_result"
    }
   ],
   "source": [
    "#Saving the best model\n",
    "import joblib\n",
    "joblib.dump(rfr,'Food_dataset.obj')"
   ]
  },
  {
   "cell_type": "code",
   "execution_count": null,
   "metadata": {},
   "outputs": [],
   "source": []
  },
  {
   "cell_type": "code",
   "execution_count": null,
   "metadata": {},
   "outputs": [],
   "source": []
  },
  {
   "cell_type": "code",
   "execution_count": null,
   "metadata": {},
   "outputs": [],
   "source": []
  },
  {
   "cell_type": "code",
   "execution_count": null,
   "metadata": {},
   "outputs": [],
   "source": []
  },
  {
   "cell_type": "code",
   "execution_count": null,
   "metadata": {},
   "outputs": [],
   "source": []
  },
  {
   "cell_type": "code",
   "execution_count": null,
   "metadata": {},
   "outputs": [],
   "source": []
  },
  {
   "cell_type": "code",
   "execution_count": null,
   "metadata": {},
   "outputs": [],
   "source": []
  },
  {
   "cell_type": "raw",
   "metadata": {},
   "source": []
  }
 ],
 "metadata": {
  "kernelspec": {
   "display_name": "Python 3",
   "language": "python",
   "name": "python3"
  },
  "language_info": {
   "codemirror_mode": {
    "name": "ipython",
    "version": 3
   },
   "file_extension": ".py",
   "mimetype": "text/x-python",
   "name": "python",
   "nbconvert_exporter": "python",
   "pygments_lexer": "ipython3",
   "version": "3.8.3"
  }
 },
 "nbformat": 4,
 "nbformat_minor": 4
}
